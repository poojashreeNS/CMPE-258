{
  "nbformat": 4,
  "nbformat_minor": 0,
  "metadata": {
    "colab": {
      "name": "DL-Assignment-2-Tensorflow.ipynb",
      "provenance": []
    },
    "kernelspec": {
      "name": "python3",
      "display_name": "Python 3"
    },
    "language_info": {
      "name": "python"
    }
  },
  "cells": [
    {
      "cell_type": "code",
      "execution_count": 1,
      "metadata": {
        "id": "LAa_8E5BDFWT"
      },
      "outputs": [],
      "source": [
        "import tensorflow as tf\n",
        "import numpy as np"
      ]
    },
    {
      "cell_type": "markdown",
      "source": [
        "# **Basic : Rank and shapes**"
      ],
      "metadata": {
        "id": "gjvhTBXGQ-QW"
      }
    },
    {
      "cell_type": "markdown",
      "source": [
        "Rank-0 Tensor : A scalar contains a single value, and no \"axes\"."
      ],
      "metadata": {
        "id": "dx4oXgIgEhop"
      }
    },
    {
      "cell_type": "code",
      "source": [
        "rank_0_tensor = tf.constant(4)\n",
        "print(rank_0_tensor)"
      ],
      "metadata": {
        "colab": {
          "base_uri": "https://localhost:8080/"
        },
        "id": "9opc3u81DLnQ",
        "outputId": "8faa5390-270c-4db9-8d61-85790bd49746"
      },
      "execution_count": 2,
      "outputs": [
        {
          "output_type": "stream",
          "name": "stdout",
          "text": [
            "tf.Tensor(4, shape=(), dtype=int32)\n"
          ]
        }
      ]
    },
    {
      "cell_type": "markdown",
      "source": [
        "Rank-1 Tensor : List of values"
      ],
      "metadata": {
        "id": "k7gj3wTsMc7s"
      }
    },
    {
      "cell_type": "code",
      "source": [
        "rank_1_tensor = tf.constant([2.0, 3.0, 4.0])\n",
        "print(rank_1_tensor)"
      ],
      "metadata": {
        "colab": {
          "base_uri": "https://localhost:8080/"
        },
        "id": "L-0mqy33Mcnw",
        "outputId": "20c919e2-0f1f-4aac-f729-f976754e4c4e"
      },
      "execution_count": 3,
      "outputs": [
        {
          "output_type": "stream",
          "name": "stdout",
          "text": [
            "tf.Tensor([2. 3. 4.], shape=(3,), dtype=float32)\n"
          ]
        }
      ]
    },
    {
      "cell_type": "markdown",
      "source": [
        "Rank-2 Tensor has 2 axes, known as matrix"
      ],
      "metadata": {
        "id": "AVkBkWmNMvg6"
      }
    },
    {
      "cell_type": "code",
      "source": [
        "rank_2_tensor = tf.constant([[1, 2],\n",
        "                             [3, 4],\n",
        "                             [5, 6]], dtype=tf.float16)\n",
        "print(rank_2_tensor)"
      ],
      "metadata": {
        "colab": {
          "base_uri": "https://localhost:8080/"
        },
        "id": "5dc_F1FYM6kn",
        "outputId": "df6fafca-e733-4999-bcd2-04559cd6f548"
      },
      "execution_count": 4,
      "outputs": [
        {
          "output_type": "stream",
          "name": "stdout",
          "text": [
            "tf.Tensor(\n",
            "[[1. 2.]\n",
            " [3. 4.]\n",
            " [5. 6.]], shape=(3, 2), dtype=float16)\n"
          ]
        }
      ]
    },
    {
      "cell_type": "markdown",
      "source": [
        "Tensor can have n axes, axes are known as dimensions"
      ],
      "metadata": {
        "id": "l0Te1q_CM7zQ"
      }
    },
    {
      "cell_type": "code",
      "source": [
        "rank_3_tensor = tf.constant([\n",
        "  [[0, 1, 2, 3, 4],\n",
        "   [5, 6, 7, 8, 9]],\n",
        "  [[10, 11, 12, 13, 14],\n",
        "   [15, 16, 17, 18, 19]],\n",
        "  [[20, 21, 22, 23, 24],\n",
        "   [25, 26, 27, 28, 29]],])\n",
        "\n",
        "print(rank_3_tensor)"
      ],
      "metadata": {
        "colab": {
          "base_uri": "https://localhost:8080/"
        },
        "id": "315yxkPkNLWh",
        "outputId": "f24fdebc-550a-42d3-daff-9297178344f0"
      },
      "execution_count": 5,
      "outputs": [
        {
          "output_type": "stream",
          "name": "stdout",
          "text": [
            "tf.Tensor(\n",
            "[[[ 0  1  2  3  4]\n",
            "  [ 5  6  7  8  9]]\n",
            "\n",
            " [[10 11 12 13 14]\n",
            "  [15 16 17 18 19]]\n",
            "\n",
            " [[20 21 22 23 24]\n",
            "  [25 26 27 28 29]]], shape=(3, 2, 5), dtype=int32)\n"
          ]
        }
      ]
    },
    {
      "cell_type": "markdown",
      "source": [
        "Basic math on tensors, including addition, element-wise multiplication, and matrix multiplication."
      ],
      "metadata": {
        "id": "tHLCjS5aNN0-"
      }
    },
    {
      "cell_type": "code",
      "source": [
        "a = tf.constant([[1, 2],\n",
        "                 [3, 4]])\n",
        "b = tf.constant([[1, 1],\n",
        "                 [1, 1]]) # Could have also said `tf.ones([2,2])`\n",
        "\n",
        "print(tf.add(a, b), \"\\n\")\n",
        "print(tf.multiply(a, b), \"\\n\")\n",
        "print(tf.matmul(a, b), \"\\n\")"
      ],
      "metadata": {
        "colab": {
          "base_uri": "https://localhost:8080/"
        },
        "id": "M78uOQ3nPZPx",
        "outputId": "303ed77e-b8ac-4559-eac3-e8fdc5af624e"
      },
      "execution_count": 6,
      "outputs": [
        {
          "output_type": "stream",
          "name": "stdout",
          "text": [
            "tf.Tensor(\n",
            "[[2 3]\n",
            " [4 5]], shape=(2, 2), dtype=int32) \n",
            "\n",
            "tf.Tensor(\n",
            "[[1 2]\n",
            " [3 4]], shape=(2, 2), dtype=int32) \n",
            "\n",
            "tf.Tensor(\n",
            "[[3 3]\n",
            " [7 7]], shape=(2, 2), dtype=int32) \n",
            "\n"
          ]
        }
      ]
    },
    {
      "cell_type": "code",
      "source": [
        "print(a + b, \"\\n\") # element-wise addition\n",
        "print(a * b, \"\\n\") # element-wise multiplication\n",
        "print(a @ b, \"\\n\") # matrix multiplication"
      ],
      "metadata": {
        "colab": {
          "base_uri": "https://localhost:8080/"
        },
        "id": "oL9hcHD8PftE",
        "outputId": "1b2a75f7-e57f-48ef-b365-4462bf6f7e42"
      },
      "execution_count": 7,
      "outputs": [
        {
          "output_type": "stream",
          "name": "stdout",
          "text": [
            "tf.Tensor(\n",
            "[[2 3]\n",
            " [4 5]], shape=(2, 2), dtype=int32) \n",
            "\n",
            "tf.Tensor(\n",
            "[[1 2]\n",
            " [3 4]], shape=(2, 2), dtype=int32) \n",
            "\n",
            "tf.Tensor(\n",
            "[[3 3]\n",
            " [7 7]], shape=(2, 2), dtype=int32) \n",
            "\n"
          ]
        }
      ]
    },
    {
      "cell_type": "markdown",
      "source": [
        "Tensors for different operations"
      ],
      "metadata": {
        "id": "4irkt7hiPcWH"
      }
    },
    {
      "cell_type": "code",
      "source": [
        "c = tf.constant([[4.0, 5.0], [10.0, 1.0]])\n",
        "\n",
        "# Find the largest value\n",
        "print(tf.reduce_max(c))\n",
        "# Find the index of the largest value\n",
        "print(tf.argmax(c))\n",
        "# Compute the softmax\n",
        "print(tf.nn.softmax(c))"
      ],
      "metadata": {
        "colab": {
          "base_uri": "https://localhost:8080/"
        },
        "id": "HpbBP_9JPoqh",
        "outputId": "acb1fc6f-edec-4e8b-f856-93e22e370ecf"
      },
      "execution_count": 8,
      "outputs": [
        {
          "output_type": "stream",
          "name": "stdout",
          "text": [
            "tf.Tensor(10.0, shape=(), dtype=float32)\n",
            "tf.Tensor([1 0], shape=(2,), dtype=int64)\n",
            "tf.Tensor(\n",
            "[[2.6894143e-01 7.3105860e-01]\n",
            " [9.9987662e-01 1.2339458e-04]], shape=(2, 2), dtype=float32)\n"
          ]
        }
      ]
    },
    {
      "cell_type": "markdown",
      "source": [
        "**Shape:** The length (number of elements) of each of the axes of a tensor.\n",
        "\n",
        "\n",
        "**Rank:** Number of tensor axes. A scalar has rank 0, a vector has rank 1, a matrix is rank 2.\n",
        "\n",
        "\n",
        "**Axis or Dimension:** A particular dimension of a tensor.\n",
        "\n",
        "\n",
        "**Size:** The total number of items in the tensor, the product shape vector."
      ],
      "metadata": {
        "id": "I48fwsNCPqQV"
      }
    },
    {
      "cell_type": "markdown",
      "source": [
        "Tensors and tf.TensorShape objects have convenient properties for accessing these:"
      ],
      "metadata": {
        "id": "2ykirfWmQFfv"
      }
    },
    {
      "cell_type": "code",
      "source": [
        "rank_4_tensor = tf.zeros([3, 2, 4, 5])"
      ],
      "metadata": {
        "id": "pbW67BTlPw7-"
      },
      "execution_count": 9,
      "outputs": []
    },
    {
      "cell_type": "markdown",
      "source": [
        "![image.png](data:image/png;base64,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)"
      ],
      "metadata": {
        "id": "dcH6bxxVQKnp"
      }
    },
    {
      "cell_type": "code",
      "source": [
        "print(\"Type of every element:\", rank_4_tensor.dtype)\n",
        "print(\"Number of axes:\", rank_4_tensor.ndim)\n",
        "print(\"Shape of tensor:\", rank_4_tensor.shape)\n",
        "print(\"Elements along axis 0 of tensor:\", rank_4_tensor.shape[0])\n",
        "print(\"Elements along the last axis of tensor:\", rank_4_tensor.shape[-1])\n",
        "print(\"Total number of elements (3*2*4*5): \", tf.size(rank_4_tensor).numpy())"
      ],
      "metadata": {
        "colab": {
          "base_uri": "https://localhost:8080/"
        },
        "id": "FNk1LousQWil",
        "outputId": "4226e3ec-3eae-4d6b-80ad-b38b7fa1431d"
      },
      "execution_count": 10,
      "outputs": [
        {
          "output_type": "stream",
          "name": "stdout",
          "text": [
            "Type of every element: <dtype: 'float32'>\n",
            "Number of axes: 4\n",
            "Shape of tensor: (3, 2, 4, 5)\n",
            "Elements along axis 0 of tensor: 3\n",
            "Elements along the last axis of tensor: 5\n",
            "Total number of elements (3*2*4*5):  120\n"
          ]
        }
      ]
    },
    {
      "cell_type": "markdown",
      "source": [
        "In the above example\n",
        "\n",
        "\n",
        "3 : Batch\n",
        "\n",
        "2 : Width\n",
        "\n",
        "4 : Height\n",
        "\n",
        "5 : Features"
      ],
      "metadata": {
        "id": "i8Ng4YddQffb"
      }
    },
    {
      "cell_type": "markdown",
      "source": [
        "## Indexing"
      ],
      "metadata": {
        "id": "-6Oimb6XQ59v"
      }
    },
    {
      "cell_type": "markdown",
      "source": [
        "TensorFlow follows standard Python indexing rules.\n",
        "\n",
        "indexes start at 0\n",
        "\n",
        "negative indices count backwards from the end\n",
        "\n",
        "colons, :, are used for slices: start:stop:step"
      ],
      "metadata": {
        "id": "3pTqpcRLRrc9"
      }
    },
    {
      "cell_type": "code",
      "source": [
        "rank_1_tensor = tf.constant([0, 1, 1, 2, 3, 5, 8, 13, 21, 34])\n",
        "print(rank_1_tensor.numpy())"
      ],
      "metadata": {
        "colab": {
          "base_uri": "https://localhost:8080/"
        },
        "id": "mEPXadXhQwyO",
        "outputId": "5acc7481-1097-4e5a-a164-aa58fe863bf5"
      },
      "execution_count": 11,
      "outputs": [
        {
          "output_type": "stream",
          "name": "stdout",
          "text": [
            "[ 0  1  1  2  3  5  8 13 21 34]\n"
          ]
        }
      ]
    },
    {
      "cell_type": "markdown",
      "source": [
        "Indexing with a scalar removes the axis"
      ],
      "metadata": {
        "id": "BGQtpL82SdFS"
      }
    },
    {
      "cell_type": "code",
      "source": [
        "print(\"First:\", rank_1_tensor[0].numpy())\n",
        "print(\"Second:\", rank_1_tensor[1].numpy())\n",
        "print(\"Last:\", rank_1_tensor[-1].numpy())"
      ],
      "metadata": {
        "colab": {
          "base_uri": "https://localhost:8080/"
        },
        "id": "nYzFjhPrST66",
        "outputId": "0983e192-d42d-446b-8f48-24586aab18e1"
      },
      "execution_count": 12,
      "outputs": [
        {
          "output_type": "stream",
          "name": "stdout",
          "text": [
            "First: 0\n",
            "Second: 1\n",
            "Last: 34\n"
          ]
        }
      ]
    },
    {
      "cell_type": "markdown",
      "source": [
        "Indexing with a `:` slice keeps the axis:"
      ],
      "metadata": {
        "id": "o5NVoQ7ESiCq"
      }
    },
    {
      "cell_type": "code",
      "source": [
        "print(\"Everything:\", rank_1_tensor[:].numpy())\n",
        "print(\"Before 4:\", rank_1_tensor[:4].numpy())\n",
        "print(\"From 4 to the end:\", rank_1_tensor[4:].numpy())\n",
        "print(\"From 2, before 7:\", rank_1_tensor[2:7].numpy())\n",
        "print(\"Every other item:\", rank_1_tensor[::2].numpy())\n",
        "print(\"Reversed:\", rank_1_tensor[::-1].numpy())"
      ],
      "metadata": {
        "colab": {
          "base_uri": "https://localhost:8080/"
        },
        "id": "sz9kvoNbSlSD",
        "outputId": "c4735660-7a90-445d-b5d2-cdd150356d14"
      },
      "execution_count": 13,
      "outputs": [
        {
          "output_type": "stream",
          "name": "stdout",
          "text": [
            "Everything: [ 0  1  1  2  3  5  8 13 21 34]\n",
            "Before 4: [0 1 1 2]\n",
            "From 4 to the end: [ 3  5  8 13 21 34]\n",
            "From 2, before 7: [1 2 3 5 8]\n",
            "Every other item: [ 0  1  3  8 21]\n",
            "Reversed: [34 21 13  8  5  3  2  1  1  0]\n"
          ]
        }
      ]
    },
    {
      "cell_type": "markdown",
      "metadata": {
        "id": "elDSxXi7X-Bh"
      },
      "source": [
        "### Multi-axis indexing"
      ]
    },
    {
      "cell_type": "markdown",
      "metadata": {
        "id": "Cgk0uRUYZiai"
      },
      "source": [
        "Higher rank tensors are indexed by passing multiple indices.\n",
        "\n",
        "The exact same rules as in the single-axis case apply to each axis independently."
      ]
    },
    {
      "cell_type": "code",
      "execution_count": 14,
      "metadata": {
        "id": "Tc5X_WlsZXmd",
        "colab": {
          "base_uri": "https://localhost:8080/"
        },
        "outputId": "e7182f67-ef2e-4b52-d123-e000f0c800dc"
      },
      "outputs": [
        {
          "output_type": "stream",
          "name": "stdout",
          "text": [
            "[[1. 2.]\n",
            " [3. 4.]\n",
            " [5. 6.]]\n"
          ]
        }
      ],
      "source": [
        "print(rank_2_tensor.numpy())"
      ]
    },
    {
      "cell_type": "markdown",
      "metadata": {
        "id": "w07U9vq5ipQk"
      },
      "source": [
        "Passing an integer for each index, the result is a scalar."
      ]
    },
    {
      "cell_type": "code",
      "execution_count": 15,
      "metadata": {
        "id": "PvILXc1PjqTM",
        "colab": {
          "base_uri": "https://localhost:8080/"
        },
        "outputId": "140b7682-6896-4b56-83c3-8bf295b93dcd"
      },
      "outputs": [
        {
          "output_type": "stream",
          "name": "stdout",
          "text": [
            "4.0\n"
          ]
        }
      ],
      "source": [
        "# Pull out a single value from a 2-rank tensor\n",
        "print(rank_2_tensor[1, 1].numpy())"
      ]
    },
    {
      "cell_type": "markdown",
      "metadata": {
        "id": "3RLCzAOHjfEH"
      },
      "source": [
        "You can index using any combination of integers and slices:"
      ]
    },
    {
      "cell_type": "code",
      "execution_count": 16,
      "metadata": {
        "id": "YTqNqsfJkJP_",
        "colab": {
          "base_uri": "https://localhost:8080/"
        },
        "outputId": "2d6fbc4b-c3d7-4817-dd0f-09d87da3b931"
      },
      "outputs": [
        {
          "output_type": "stream",
          "name": "stdout",
          "text": [
            "Second row: [3. 4.]\n",
            "Second column: [2. 4. 6.]\n",
            "Last row: [5. 6.]\n",
            "First item in last column: 2.0\n",
            "Skip the first row:\n",
            "[[3. 4.]\n",
            " [5. 6.]] \n",
            "\n"
          ]
        }
      ],
      "source": [
        "# Get row and column tensors\n",
        "print(\"Second row:\", rank_2_tensor[1, :].numpy())\n",
        "print(\"Second column:\", rank_2_tensor[:, 1].numpy())\n",
        "print(\"Last row:\", rank_2_tensor[-1, :].numpy())\n",
        "print(\"First item in last column:\", rank_2_tensor[0, -1].numpy())\n",
        "print(\"Skip the first row:\")\n",
        "print(rank_2_tensor[1:, :].numpy(), \"\\n\")"
      ]
    },
    {
      "cell_type": "markdown",
      "metadata": {
        "id": "P45TwSUVSK6G"
      },
      "source": [
        "Here is an example with a 3-axis tensor:"
      ]
    },
    {
      "cell_type": "code",
      "execution_count": 17,
      "metadata": {
        "id": "GuLoMoCVSLxK",
        "colab": {
          "base_uri": "https://localhost:8080/"
        },
        "outputId": "94adaf77-303f-4931-fbe5-c58448de5cd5"
      },
      "outputs": [
        {
          "output_type": "stream",
          "name": "stdout",
          "text": [
            "tf.Tensor(\n",
            "[[ 4  9]\n",
            " [14 19]\n",
            " [24 29]], shape=(3, 2), dtype=int32)\n"
          ]
        }
      ],
      "source": [
        "print(rank_3_tensor[:, :, 4])"
      ]
    },
    {
      "cell_type": "markdown",
      "metadata": {
        "id": "fpr7R0t4SVb0"
      },
      "source": [
        "## Manipulating Shapes\n",
        "\n",
        "Reshaping a tensor is of great utility. \n"
      ]
    },
    {
      "cell_type": "code",
      "execution_count": 18,
      "metadata": {
        "id": "EMeTtga5Wq8j",
        "colab": {
          "base_uri": "https://localhost:8080/"
        },
        "outputId": "4f018788-185c-4a23-8076-749861fc44ef"
      },
      "outputs": [
        {
          "output_type": "stream",
          "name": "stdout",
          "text": [
            "(3, 1)\n"
          ]
        }
      ],
      "source": [
        "# Shape returns a `TensorShape` object that shows the size along each axis\n",
        "x = tf.constant([[1], [2], [3]])\n",
        "print(x.shape)"
      ]
    },
    {
      "cell_type": "code",
      "execution_count": 19,
      "metadata": {
        "id": "38jc2RXziT3W",
        "colab": {
          "base_uri": "https://localhost:8080/"
        },
        "outputId": "4896d87e-2c6d-4608-dadb-cb65bd775cff"
      },
      "outputs": [
        {
          "output_type": "stream",
          "name": "stdout",
          "text": [
            "[3, 1]\n"
          ]
        }
      ],
      "source": [
        "# You can convert this object into a Python list, too\n",
        "print(x.shape.as_list())"
      ]
    },
    {
      "cell_type": "markdown",
      "metadata": {
        "id": "J_xRlHZMKYnF"
      },
      "source": [
        "You can reshape a tensor into a new shape. The `tf.reshape` operation is fast and cheap as the underlying data does not need to be duplicated."
      ]
    },
    {
      "cell_type": "code",
      "execution_count": 20,
      "metadata": {
        "id": "pa9JCgMLWy87"
      },
      "outputs": [],
      "source": [
        "# You can reshape a tensor to a new shape.\n",
        "# Note that you're passing in a list\n",
        "reshaped = tf.reshape(x, [1, 3])"
      ]
    },
    {
      "cell_type": "code",
      "execution_count": 21,
      "metadata": {
        "id": "Mcq7iXOkW3LK",
        "colab": {
          "base_uri": "https://localhost:8080/"
        },
        "outputId": "d50e20b4-9334-4cc0-dc76-e0c34f3bf8e0"
      },
      "outputs": [
        {
          "output_type": "stream",
          "name": "stdout",
          "text": [
            "(3, 1)\n",
            "(1, 3)\n"
          ]
        }
      ],
      "source": [
        "print(x.shape)\n",
        "print(reshaped.shape)"
      ]
    },
    {
      "cell_type": "markdown",
      "metadata": {
        "id": "gIB2tOkoVr6E"
      },
      "source": [
        "The data maintains its layout in memory and a new tensor is created, with the requested shape, pointing to the same data. TensorFlow uses C-style \"row-major\" memory ordering, where incrementing the rightmost index corresponds to a single step in memory."
      ]
    },
    {
      "cell_type": "code",
      "execution_count": 22,
      "metadata": {
        "id": "7kMfM0RpUgI8",
        "colab": {
          "base_uri": "https://localhost:8080/"
        },
        "outputId": "e2790d9e-88de-4b3f-8394-ac06839664e0"
      },
      "outputs": [
        {
          "output_type": "stream",
          "name": "stdout",
          "text": [
            "tf.Tensor(\n",
            "[[[ 0  1  2  3  4]\n",
            "  [ 5  6  7  8  9]]\n",
            "\n",
            " [[10 11 12 13 14]\n",
            "  [15 16 17 18 19]]\n",
            "\n",
            " [[20 21 22 23 24]\n",
            "  [25 26 27 28 29]]], shape=(3, 2, 5), dtype=int32)\n"
          ]
        }
      ],
      "source": [
        "print(rank_3_tensor)"
      ]
    },
    {
      "cell_type": "markdown",
      "metadata": {
        "id": "TcDtfQkJWzIx"
      },
      "source": [
        "If you flatten a tensor you can see what order it is laid out in memory."
      ]
    },
    {
      "cell_type": "code",
      "execution_count": 23,
      "metadata": {
        "id": "COnHEPuaWDQp",
        "colab": {
          "base_uri": "https://localhost:8080/"
        },
        "outputId": "eb8383d8-d8a5-4907-c149-b7478b4421d1"
      },
      "outputs": [
        {
          "output_type": "stream",
          "name": "stdout",
          "text": [
            "tf.Tensor(\n",
            "[ 0  1  2  3  4  5  6  7  8  9 10 11 12 13 14 15 16 17 18 19 20 21 22 23\n",
            " 24 25 26 27 28 29], shape=(30,), dtype=int32)\n"
          ]
        }
      ],
      "source": [
        "# A `-1` passed in the `shape` argument says \"Whatever fits\".\n",
        "print(tf.reshape(rank_3_tensor, [-1]))"
      ]
    },
    {
      "cell_type": "markdown",
      "metadata": {
        "id": "jJZRira2W--c"
      },
      "source": [
        "Typically the only reasonable use of `tf.reshape` is to combine or split adjacent axes (or add/remove `1`s).\n",
        "\n",
        "For this 3x2x5 tensor, reshaping to (3x2)x5 or 3x(2x5) are both reasonable things to do, as the slices do not mix:"
      ]
    },
    {
      "cell_type": "code",
      "execution_count": 24,
      "metadata": {
        "id": "zP2Iqc7zWu_J",
        "colab": {
          "base_uri": "https://localhost:8080/"
        },
        "outputId": "935a9dbe-31fc-406b-bdb7-49178888af5b"
      },
      "outputs": [
        {
          "output_type": "stream",
          "name": "stdout",
          "text": [
            "tf.Tensor(\n",
            "[[ 0  1  2  3  4]\n",
            " [ 5  6  7  8  9]\n",
            " [10 11 12 13 14]\n",
            " [15 16 17 18 19]\n",
            " [20 21 22 23 24]\n",
            " [25 26 27 28 29]], shape=(6, 5), dtype=int32) \n",
            "\n",
            "tf.Tensor(\n",
            "[[ 0  1  2  3  4  5  6  7  8  9]\n",
            " [10 11 12 13 14 15 16 17 18 19]\n",
            " [20 21 22 23 24 25 26 27 28 29]], shape=(3, 10), dtype=int32)\n"
          ]
        }
      ],
      "source": [
        "print(tf.reshape(rank_3_tensor, [3*2, 5]), \"\\n\")\n",
        "print(tf.reshape(rank_3_tensor, [3, -1]))"
      ]
    },
    {
      "cell_type": "markdown",
      "metadata": {
        "id": "nOcRxDC3jNIU"
      },
      "source": [
        "Reshaping will \"work\" for any new shape with the same total number of elements, but it will not do anything useful if we do not respect the order of the axes.\n",
        "\n",
        "Swapping axes in `tf.reshape` does not work; we need `tf.transpose` for that. \n"
      ]
    },
    {
      "cell_type": "markdown",
      "source": [
        "# **Broadcasting**"
      ],
      "metadata": {
        "id": "NFrdGa6cczHv"
      }
    },
    {
      "cell_type": "markdown",
      "source": [
        "In short, under certain conditions, smaller tensors are \"stretched\" automatically to fit larger tensors when running combined operations on them.\n",
        "\n",
        "The simplest and most common case is when you attempt to multiply or add a tensor to a scalar. In that case, the scalar is broadcast to be the same shape as the other argument."
      ],
      "metadata": {
        "id": "vslntSH3c3GL"
      }
    },
    {
      "cell_type": "code",
      "source": [
        "x = tf.constant([1, 2, 3])\n",
        "\n",
        "y = tf.constant(2)\n",
        "z = tf.constant([2, 2, 2])\n",
        "# All of these are the same computation\n",
        "print(tf.multiply(x, 2))\n",
        "print(x * y)\n",
        "print(x * z)"
      ],
      "metadata": {
        "colab": {
          "base_uri": "https://localhost:8080/"
        },
        "id": "jU_oPizec18F",
        "outputId": "b7a812ac-997c-4fb4-f578-0bb9f9e24c77"
      },
      "execution_count": 25,
      "outputs": [
        {
          "output_type": "stream",
          "name": "stdout",
          "text": [
            "tf.Tensor([2 4 6], shape=(3,), dtype=int32)\n",
            "tf.Tensor([2 4 6], shape=(3,), dtype=int32)\n",
            "tf.Tensor([2 4 6], shape=(3,), dtype=int32)\n"
          ]
        }
      ]
    },
    {
      "cell_type": "markdown",
      "metadata": {
        "id": "o0SBoR6voWcb"
      },
      "source": [
        "Likewise, axes with length 1 can be stretched out to match the other arguments.  Both arguments can be stretched in the same computation.\n",
        "\n",
        "In this case a 3x1 matrix is element-wise multiplied by a 1x4 matrix to produce a 3x4 matrix. Note how the leading 1 is optional: The shape of y is `[4]`."
      ]
    },
    {
      "cell_type": "code",
      "source": [
        "# These are the same computations\n",
        "x = tf.reshape(x,[3,1])\n",
        "y = tf.range(1, 5)\n",
        "print(x, \"\\n\")\n",
        "print(y, \"\\n\")\n",
        "print(tf.multiply(x, y))"
      ],
      "metadata": {
        "colab": {
          "base_uri": "https://localhost:8080/"
        },
        "id": "NFF2-e6Ye0o-",
        "outputId": "3de6935f-b654-4c19-802d-9175fa9d3e38"
      },
      "execution_count": 26,
      "outputs": [
        {
          "output_type": "stream",
          "name": "stdout",
          "text": [
            "tf.Tensor(\n",
            "[[1]\n",
            " [2]\n",
            " [3]], shape=(3, 1), dtype=int32) \n",
            "\n",
            "tf.Tensor([1 2 3 4], shape=(4,), dtype=int32) \n",
            "\n",
            "tf.Tensor(\n",
            "[[ 1  2  3  4]\n",
            " [ 2  4  6  8]\n",
            " [ 3  6  9 12]], shape=(3, 4), dtype=int32)\n"
          ]
        }
      ]
    },
    {
      "cell_type": "code",
      "source": [
        "print(tf.broadcast_to(tf.constant([1, 2, 3]), [3, 3]))"
      ],
      "metadata": {
        "colab": {
          "base_uri": "https://localhost:8080/"
        },
        "id": "lHdP5sgUfCS8",
        "outputId": "c193d36b-c335-43df-cd46-9cbd0a3f2c6e"
      },
      "execution_count": 27,
      "outputs": [
        {
          "output_type": "stream",
          "name": "stdout",
          "text": [
            "tf.Tensor(\n",
            "[[1 2 3]\n",
            " [1 2 3]\n",
            " [1 2 3]], shape=(3, 3), dtype=int32)\n"
          ]
        }
      ]
    },
    {
      "cell_type": "markdown",
      "metadata": {
        "id": "05bBVBVYV0y6"
      },
      "source": [
        "# **Ragged Tensors**\n",
        "\n",
        "A tensor with variable numbers of elements along some axis is called \"ragged\". Use `tf.ragged.RaggedTensor` for ragged data.\n",
        "\n",
        "For example, This cannot be represented as a regular tensor:"
      ]
    },
    {
      "cell_type": "code",
      "execution_count": 28,
      "metadata": {
        "id": "VsbTjoFfNVBF"
      },
      "outputs": [],
      "source": [
        "ragged_list = [\n",
        "    [0, 1, 2, 3],\n",
        "    [4, 5],\n",
        "    [6, 7, 8],\n",
        "    [9]]"
      ]
    },
    {
      "cell_type": "code",
      "execution_count": 29,
      "metadata": {
        "id": "p4xKTo57tutG",
        "colab": {
          "base_uri": "https://localhost:8080/"
        },
        "outputId": "d3b85a52-6c74-4724-d5b0-5885e3c062c1"
      },
      "outputs": [
        {
          "output_type": "stream",
          "name": "stdout",
          "text": [
            "ValueError: Can't convert non-rectangular Python sequence to Tensor.\n"
          ]
        }
      ],
      "source": [
        "try:\n",
        "  tensor = tf.constant(ragged_list)\n",
        "except Exception as e:\n",
        "  print(f\"{type(e).__name__}: {e}\")"
      ]
    },
    {
      "cell_type": "markdown",
      "metadata": {
        "id": "0cm9KuEeMLGI"
      },
      "source": [
        "Instead create a `tf.RaggedTensor` using `tf.ragged.constant`:"
      ]
    },
    {
      "cell_type": "code",
      "execution_count": 30,
      "metadata": {
        "id": "XhF3QV3jiqTj",
        "colab": {
          "base_uri": "https://localhost:8080/"
        },
        "outputId": "498e6c67-a7fb-4abc-a9c5-c04adf0d3c2b"
      },
      "outputs": [
        {
          "output_type": "stream",
          "name": "stdout",
          "text": [
            "<tf.RaggedTensor [[0, 1, 2, 3], [4, 5], [6, 7, 8], [9]]>\n"
          ]
        }
      ],
      "source": [
        "ragged_tensor = tf.ragged.constant(ragged_list)\n",
        "print(ragged_tensor)"
      ]
    },
    {
      "cell_type": "markdown",
      "metadata": {
        "id": "sFgHduHVNoIE"
      },
      "source": [
        "The shape of a `tf.RaggedTensor` will contain some axes with unknown lengths:"
      ]
    },
    {
      "cell_type": "code",
      "execution_count": 31,
      "metadata": {
        "id": "Eo_3wJUWNgqB",
        "colab": {
          "base_uri": "https://localhost:8080/"
        },
        "outputId": "102b39b1-fc97-4919-e2c1-fd375260b061"
      },
      "outputs": [
        {
          "output_type": "stream",
          "name": "stdout",
          "text": [
            "(4, None)\n"
          ]
        }
      ],
      "source": [
        "print(ragged_tensor.shape)"
      ]
    },
    {
      "cell_type": "markdown",
      "metadata": {
        "id": "V9njclVkkN7G"
      },
      "source": [
        "# **String tensors**\n",
        "\n",
        "`tf.string` is a `dtype`, which is to say you can represent data as strings (variable-length byte arrays) in tensors.\n",
        "\n",
        "The strings are atomic and cannot be indexed the way Python strings are. The length of the string is not one of the axes of the tensor. See `tf.strings` for functions to manipulate them."
      ]
    },
    {
      "cell_type": "markdown",
      "metadata": {
        "id": "5P_8spEGQ0wp"
      },
      "source": [
        "Here is a scalar string tensor:"
      ]
    },
    {
      "cell_type": "code",
      "execution_count": 32,
      "metadata": {
        "id": "sBosmM8MkIh4",
        "colab": {
          "base_uri": "https://localhost:8080/"
        },
        "outputId": "bf93deac-3a73-4808-b271-602fb8a5eca1"
      },
      "outputs": [
        {
          "output_type": "stream",
          "name": "stdout",
          "text": [
            "tf.Tensor(b'Gray wolf', shape=(), dtype=string)\n"
          ]
        }
      ],
      "source": [
        "# Tensors can be strings, too here is a scalar string.\n",
        "scalar_string_tensor = tf.constant(\"Gray wolf\")\n",
        "print(scalar_string_tensor)"
      ]
    },
    {
      "cell_type": "markdown",
      "metadata": {
        "id": "CMFBSl1FQ3vE"
      },
      "source": [
        "And a vector of strings:"
      ]
    },
    {
      "cell_type": "code",
      "execution_count": 33,
      "metadata": {
        "id": "41Dv2kL9QrtO",
        "colab": {
          "base_uri": "https://localhost:8080/"
        },
        "outputId": "690677b5-f369-498e-ec09-ab90cc9284f9"
      },
      "outputs": [
        {
          "output_type": "stream",
          "name": "stdout",
          "text": [
            "tf.Tensor([b'Gray wolf' b'Quick brown fox' b'Lazy dog'], shape=(3,), dtype=string)\n"
          ]
        }
      ],
      "source": [
        "# If you have three string tensors of different lengths, this is OK.\n",
        "tensor_of_strings = tf.constant([\"Gray wolf\",\n",
        "                                 \"Quick brown fox\",\n",
        "                                 \"Lazy dog\"])\n",
        "# Note that the shape is (3,). The string length is not included.\n",
        "print(tensor_of_strings)"
      ]
    },
    {
      "cell_type": "markdown",
      "metadata": {
        "id": "76gQ9qrgSMzS"
      },
      "source": [
        "In the above printout the `b` prefix indicates that `tf.string` dtype is not a unicode string, but a byte-string. See the [Unicode Tutorial](https://www.tensorflow.org/tutorials/load_data/unicode) for more about working with unicode text in TensorFlow."
      ]
    },
    {
      "cell_type": "markdown",
      "metadata": {
        "id": "ClSBPK-lZBQp"
      },
      "source": [
        "If you pass unicode characters they are utf-8 encoded."
      ]
    },
    {
      "cell_type": "code",
      "execution_count": 34,
      "metadata": {
        "id": "GTgL53jxSMd9",
        "colab": {
          "base_uri": "https://localhost:8080/"
        },
        "outputId": "0037895b-0d3e-4bd9-e774-d9a384068deb"
      },
      "outputs": [
        {
          "output_type": "execute_result",
          "data": {
            "text/plain": [
              "<tf.Tensor: shape=(), dtype=string, numpy=b'\\xf0\\x9f\\xa5\\xb3\\xf0\\x9f\\x91\\x8d'>"
            ]
          },
          "metadata": {},
          "execution_count": 34
        }
      ],
      "source": [
        "tf.constant(\"🥳👍\")"
      ]
    },
    {
      "cell_type": "markdown",
      "metadata": {
        "id": "Ir9cY42MMAei"
      },
      "source": [
        "Some basic functions with strings can be found in `tf.strings`, including `tf.strings.split`."
      ]
    },
    {
      "cell_type": "code",
      "execution_count": 35,
      "metadata": {
        "id": "8k2K0VTFyj8e",
        "colab": {
          "base_uri": "https://localhost:8080/"
        },
        "outputId": "e7037c6b-ad06-46c6-8fc3-d495e6e2e532"
      },
      "outputs": [
        {
          "output_type": "stream",
          "name": "stdout",
          "text": [
            "tf.Tensor([b'Gray' b'wolf'], shape=(2,), dtype=string)\n"
          ]
        }
      ],
      "source": [
        "# You can use split to split a string into a set of tensors\n",
        "print(tf.strings.split(scalar_string_tensor, sep=\" \"))"
      ]
    },
    {
      "cell_type": "code",
      "execution_count": 36,
      "metadata": {
        "id": "zgGAn1dfR-04",
        "colab": {
          "base_uri": "https://localhost:8080/"
        },
        "outputId": "db043b7f-4ee4-4fc2-f4a0-ea1ef9e1bd15"
      },
      "outputs": [
        {
          "output_type": "stream",
          "name": "stdout",
          "text": [
            "<tf.RaggedTensor [[b'Gray', b'wolf'], [b'Quick', b'brown', b'fox'], [b'Lazy', b'dog']]>\n"
          ]
        }
      ],
      "source": [
        "# ...but it turns into a `RaggedTensor` if you split up a tensor of strings,\n",
        "# as each string might be split into a different number of parts.\n",
        "print(tf.strings.split(tensor_of_strings))"
      ]
    },
    {
      "cell_type": "markdown",
      "metadata": {
        "id": "st9OxrUxWSKY"
      },
      "source": [
        "And `tf.string.to_number`:"
      ]
    },
    {
      "cell_type": "code",
      "execution_count": 37,
      "metadata": {
        "id": "3nRtx3X9WRfN",
        "colab": {
          "base_uri": "https://localhost:8080/"
        },
        "outputId": "58c8a3c5-22ce-47f7-8372-d4627c612b15"
      },
      "outputs": [
        {
          "output_type": "stream",
          "name": "stdout",
          "text": [
            "tf.Tensor([  1.  10. 100.], shape=(3,), dtype=float32)\n"
          ]
        }
      ],
      "source": [
        "text = tf.constant(\"1 10 100\")\n",
        "print(tf.strings.to_number(tf.strings.split(text, \" \")))"
      ]
    },
    {
      "cell_type": "markdown",
      "metadata": {
        "id": "r2EZtBbJBns4"
      },
      "source": [
        "Although you can't use `tf.cast` to turn a string tensor into numbers, you can convert it into bytes, and then into numbers."
      ]
    },
    {
      "cell_type": "code",
      "execution_count": 38,
      "metadata": {
        "id": "fo8BjmH7gyTj",
        "colab": {
          "base_uri": "https://localhost:8080/"
        },
        "outputId": "f8a7b8dd-2b4b-4762-89a9-26ef4e120f3b"
      },
      "outputs": [
        {
          "output_type": "stream",
          "name": "stdout",
          "text": [
            "Byte strings: tf.Tensor([b'D' b'u' b'c' b'k'], shape=(4,), dtype=string)\n",
            "Bytes: tf.Tensor([ 68 117  99 107], shape=(4,), dtype=uint8)\n"
          ]
        }
      ],
      "source": [
        "byte_strings = tf.strings.bytes_split(tf.constant(\"Duck\"))\n",
        "byte_ints = tf.io.decode_raw(tf.constant(\"Duck\"), tf.uint8)\n",
        "print(\"Byte strings:\", byte_strings)\n",
        "print(\"Bytes:\", byte_ints)"
      ]
    },
    {
      "cell_type": "code",
      "execution_count": 39,
      "metadata": {
        "id": "uSQnZ7d1jCSQ",
        "colab": {
          "base_uri": "https://localhost:8080/"
        },
        "outputId": "90d5f3d4-2119-4a81-e020-4b5302c831f2"
      },
      "outputs": [
        {
          "output_type": "stream",
          "name": "stdout",
          "text": [
            "\n",
            "Unicode bytes: tf.Tensor(b'\\xe3\\x82\\xa2\\xe3\\x83\\x92\\xe3\\x83\\xab \\xf0\\x9f\\xa6\\x86', shape=(), dtype=string)\n",
            "\n",
            "Unicode chars: tf.Tensor([b'\\xe3\\x82\\xa2' b'\\xe3\\x83\\x92' b'\\xe3\\x83\\xab' b' ' b'\\xf0\\x9f\\xa6\\x86'], shape=(5,), dtype=string)\n",
            "\n",
            "Unicode values: tf.Tensor([ 12450  12498  12523     32 129414], shape=(5,), dtype=int32)\n"
          ]
        }
      ],
      "source": [
        "# Or split it up as unicode and then decode it\n",
        "unicode_bytes = tf.constant(\"アヒル 🦆\")\n",
        "unicode_char_bytes = tf.strings.unicode_split(unicode_bytes, \"UTF-8\")\n",
        "unicode_values = tf.strings.unicode_decode(unicode_bytes, \"UTF-8\")\n",
        "\n",
        "print(\"\\nUnicode bytes:\", unicode_bytes)\n",
        "print(\"\\nUnicode chars:\", unicode_char_bytes)\n",
        "print(\"\\nUnicode values:\", unicode_values)"
      ]
    },
    {
      "cell_type": "markdown",
      "metadata": {
        "id": "fE7nKJ2YW3aY"
      },
      "source": [
        "The `tf.string` dtype is used for all raw bytes data in TensorFlow. The `tf.io` module contains functions for converting data to and from bytes, including decoding images and parsing csv."
      ]
    },
    {
      "cell_type": "markdown",
      "metadata": {
        "id": "ua8BnAzxkRKV"
      },
      "source": [
        "## Sparse tensors\n",
        "\n",
        "Sometimes, your data is sparse, like a very wide embedding space.  TensorFlow supports `tf.sparse.SparseTensor` and related operations to store sparse data efficiently."
      ]
    },
    {
      "cell_type": "code",
      "execution_count": 40,
      "metadata": {
        "id": "B9nbO1E2kSUN",
        "colab": {
          "base_uri": "https://localhost:8080/"
        },
        "outputId": "612865a7-ca13-43e0-ae52-a0fc52448148"
      },
      "outputs": [
        {
          "output_type": "stream",
          "name": "stdout",
          "text": [
            "SparseTensor(indices=tf.Tensor(\n",
            "[[0 0]\n",
            " [1 2]], shape=(2, 2), dtype=int64), values=tf.Tensor([1 2], shape=(2,), dtype=int32), dense_shape=tf.Tensor([3 4], shape=(2,), dtype=int64)) \n",
            "\n",
            "tf.Tensor(\n",
            "[[1 0 0 0]\n",
            " [0 0 2 0]\n",
            " [0 0 0 0]], shape=(3, 4), dtype=int32)\n"
          ]
        }
      ],
      "source": [
        "# Sparse tensors store values by index in a memory-efficient manner\n",
        "sparse_tensor = tf.sparse.SparseTensor(indices=[[0, 0], [1, 2]],\n",
        "                                       values=[1, 2],\n",
        "                                       dense_shape=[3, 4])\n",
        "print(sparse_tensor, \"\\n\")\n",
        "\n",
        "# You can convert sparse tensors to dense\n",
        "print(tf.sparse.to_dense(sparse_tensor))"
      ]
    },
    {
      "cell_type": "markdown",
      "source": [
        "# **NumPy Compatibility**\n",
        "\n",
        "\n",
        "Converting between a TensorFlow tf.Tensors and a NumPy ndarray is easy:\n",
        "\n",
        "TensorFlow operations automatically convert NumPy ndarrays to Tensors.\n",
        "\n",
        "NumPy operations automatically convert Tensors to NumPy ndarrays.\n",
        "\n",
        "Tensors are explicitly converted to NumPy ndarrays using their .numpy() method.These conversions are typically cheap since the array and tf.Tensor share the underlying memory representation, if possible. However, sharing the underlying representation isn't always possible since the tf.Tensor may be hosted in GPU memory while NumPy arrays are always backed by host memory, and the conversion involves a copy from GPU to host memory."
      ],
      "metadata": {
        "id": "pScOSHAokuPA"
      }
    },
    {
      "cell_type": "code",
      "source": [
        "import numpy as np\n",
        "\n",
        "ndarray = np.ones([3, 3])\n",
        "\n",
        "print(\"TensorFlow operations convert numpy arrays to Tensors automatically\")\n",
        "tensor = tf.multiply(ndarray, 42)\n",
        "print(tensor)\n",
        "\n",
        "\n",
        "print(\"And NumPy operations convert Tensors to numpy arrays automatically\")\n",
        "print(np.add(tensor, 1))\n",
        "\n",
        "print(\"The .numpy() method explicitly converts a Tensor to a numpy array\")\n",
        "print(tensor.numpy())"
      ],
      "metadata": {
        "colab": {
          "base_uri": "https://localhost:8080/"
        },
        "id": "6nKCJoZGk5wl",
        "outputId": "e404a54d-f972-4a0e-e7f4-46d8f19d7926"
      },
      "execution_count": 41,
      "outputs": [
        {
          "output_type": "stream",
          "name": "stdout",
          "text": [
            "TensorFlow operations convert numpy arrays to Tensors automatically\n",
            "tf.Tensor(\n",
            "[[42. 42. 42.]\n",
            " [42. 42. 42.]\n",
            " [42. 42. 42.]], shape=(3, 3), dtype=float64)\n",
            "And NumPy operations convert Tensors to numpy arrays automatically\n",
            "[[43. 43. 43.]\n",
            " [43. 43. 43.]\n",
            " [43. 43. 43.]]\n",
            "The .numpy() method explicitly converts a Tensor to a numpy array\n",
            "[[42. 42. 42.]\n",
            " [42. 42. 42.]\n",
            " [42. 42. 42.]]\n"
          ]
        }
      ]
    },
    {
      "cell_type": "markdown",
      "source": [
        "# **EINSUM Practice**"
      ],
      "metadata": {
        "id": "tayjiXhFlfz7"
      }
    },
    {
      "cell_type": "markdown",
      "source": [
        "### **Matrix Multiplication**"
      ],
      "metadata": {
        "id": "_KRhmQ5cGihl"
      }
    },
    {
      "cell_type": "code",
      "source": [
        "m0 = tf.random.normal(shape=[2, 3])\n",
        "m1 = tf.random.normal(shape=[3, 5])\n",
        "e = tf.einsum('ij,jk->ik', m0, m1)\n",
        "# output[i,k] = sum_j m0[i,j] * m1[j, k]\n",
        "\n",
        "print(e.shape)\n",
        "\n",
        "e = tf.einsum('ij,jk', m0, m1)  # output[i,k] = sum_j m0[i,j] * m1[j, k]\n",
        "print(e.shape)"
      ],
      "metadata": {
        "colab": {
          "base_uri": "https://localhost:8080/"
        },
        "id": "R1rNBzIKli-Z",
        "outputId": "dbef615d-8bff-47d4-ab3c-5fdb521c69c0"
      },
      "execution_count": 42,
      "outputs": [
        {
          "output_type": "stream",
          "name": "stdout",
          "text": [
            "(2, 5)\n",
            "(2, 5)\n"
          ]
        }
      ]
    },
    {
      "cell_type": "markdown",
      "source": [
        "### **Dot Product**"
      ],
      "metadata": {
        "id": "JCONjSaFHLNe"
      }
    },
    {
      "cell_type": "code",
      "source": [
        "u = tf.random.normal(shape=[5])\n",
        "v = tf.random.normal(shape=[5])\n",
        "e = tf.einsum('i,i->', u, v)  # output = sum_i u[i]*v[i]\n",
        "print(e.shape)"
      ],
      "metadata": {
        "colab": {
          "base_uri": "https://localhost:8080/"
        },
        "id": "S7G_aT6BNVBj",
        "outputId": "b39fbb43-ecf0-46b8-e1a6-67e72922df5e"
      },
      "execution_count": 43,
      "outputs": [
        {
          "output_type": "stream",
          "name": "stdout",
          "text": [
            "()\n"
          ]
        }
      ]
    },
    {
      "cell_type": "markdown",
      "source": [
        "### **Outer Product**"
      ],
      "metadata": {
        "id": "PUQTpTpsPu3T"
      }
    },
    {
      "cell_type": "code",
      "source": [
        "u = tf.random.normal(shape=[3])\n",
        "v = tf.random.normal(shape=[5])\n",
        "e = tf.einsum('i,j->ij', u, v)  # output[i,j] = u[i]*v[j]\n",
        "print(e.shape)"
      ],
      "metadata": {
        "colab": {
          "base_uri": "https://localhost:8080/"
        },
        "id": "ImRt36GFPyZb",
        "outputId": "782a986f-e837-432b-ccf5-81bc88b400d9"
      },
      "execution_count": 44,
      "outputs": [
        {
          "output_type": "stream",
          "name": "stdout",
          "text": [
            "(3, 5)\n"
          ]
        }
      ]
    },
    {
      "cell_type": "markdown",
      "source": [
        "### **Transpose**"
      ],
      "metadata": {
        "id": "qDC3iUUQPzYE"
      }
    },
    {
      "cell_type": "code",
      "source": [
        "m = tf.ones(2,3)\n",
        "e = tf.einsum('ij->ji', m0)  # output[j,i] = m0[i,j]\n",
        "print(e.shape)"
      ],
      "metadata": {
        "colab": {
          "base_uri": "https://localhost:8080/"
        },
        "id": "swJGOvv0P-QQ",
        "outputId": "0f31524d-1de9-43ed-f29e-b4a5bc85c27a"
      },
      "execution_count": 45,
      "outputs": [
        {
          "output_type": "stream",
          "name": "stdout",
          "text": [
            "(3, 2)\n"
          ]
        }
      ]
    },
    {
      "cell_type": "markdown",
      "source": [
        "### **Diag**"
      ],
      "metadata": {
        "id": "sDL7OMOBQBUC"
      }
    },
    {
      "cell_type": "code",
      "source": [
        "m = tf.reshape(tf.range(9), [3,3])\n",
        "diag = tf.einsum('ii->i', m)\n",
        "print(diag.shape)"
      ],
      "metadata": {
        "colab": {
          "base_uri": "https://localhost:8080/"
        },
        "id": "IP9lOLG4QGsS",
        "outputId": "22ce7139-4a98-4630-8462-c88d170521d4"
      },
      "execution_count": 46,
      "outputs": [
        {
          "output_type": "stream",
          "name": "stdout",
          "text": [
            "(3,)\n"
          ]
        }
      ]
    },
    {
      "cell_type": "markdown",
      "source": [
        "### **Trace**"
      ],
      "metadata": {
        "id": "yJPiRt7_QH3T"
      }
    },
    {
      "cell_type": "code",
      "source": [
        "# Repeated indices are summed.\n",
        "trace = tf.einsum('ii', m)  # output[j,i] = trace(m) = sum_i m[i, i]\n",
        "assert trace == sum(diag)\n",
        "print(trace.shape)"
      ],
      "metadata": {
        "colab": {
          "base_uri": "https://localhost:8080/"
        },
        "id": "dG3c2q3hQRx8",
        "outputId": "0ef2ea7f-cf40-4618-b749-5223de82fd16"
      },
      "execution_count": 47,
      "outputs": [
        {
          "output_type": "stream",
          "name": "stdout",
          "text": [
            "()\n"
          ]
        }
      ]
    },
    {
      "cell_type": "markdown",
      "source": [
        "### **Batch Matrix Multiplication**"
      ],
      "metadata": {
        "id": "Hym7RQaIQXvK"
      }
    },
    {
      "cell_type": "code",
      "source": [
        "s = tf.random.normal(shape=[7,5,3])\n",
        "t = tf.random.normal(shape=[7,3,2])\n",
        "e = tf.einsum('bij,bjk->bik', s, t)\n",
        "# output[a,i,k] = sum_j s[a,i,j] * t[a, j, k]\n",
        "print(e.shape)"
      ],
      "metadata": {
        "colab": {
          "base_uri": "https://localhost:8080/"
        },
        "id": "O73KagvMQiA2",
        "outputId": "c9f49dd6-5599-497b-e07a-03080f0a8530"
      },
      "execution_count": 48,
      "outputs": [
        {
          "output_type": "stream",
          "name": "stdout",
          "text": [
            "(7, 5, 2)\n"
          ]
        }
      ]
    },
    {
      "cell_type": "markdown",
      "source": [
        "# **Tensorflow 2 + Keras Practice**\n",
        "\n",
        "\n"
      ],
      "metadata": {
        "id": "rxROXqd7duH_"
      }
    },
    {
      "cell_type": "markdown",
      "metadata": {
        "id": "04QgGZc9bF5D"
      },
      "source": [
        "This short introduction uses [Keras](https://www.tensorflow.org/guide/keras/overview) to:\n",
        "\n",
        "1. Load a prebuilt dataset.\n",
        "1. Build a neural network machine learning model that classifies images.\n",
        "2. Train this neural network.\n",
        "3. Evaluate the accuracy of the model."
      ]
    },
    {
      "cell_type": "markdown",
      "source": [
        "**Import Tensorflow**"
      ],
      "metadata": {
        "id": "_o0WLp1_eUFX"
      }
    },
    {
      "cell_type": "code",
      "source": [
        "import tensorflow as tf\n",
        "print(\"TensorFlow version:\", tf.__version__)"
      ],
      "metadata": {
        "colab": {
          "base_uri": "https://localhost:8080/"
        },
        "id": "76EJ7I8WePBL",
        "outputId": "a0a522d2-c861-414d-df94-7969cf9b446c"
      },
      "execution_count": 49,
      "outputs": [
        {
          "output_type": "stream",
          "name": "stdout",
          "text": [
            "TensorFlow version: 2.8.0\n"
          ]
        }
      ]
    },
    {
      "cell_type": "markdown",
      "source": [
        "**Load Dataset**"
      ],
      "metadata": {
        "id": "_V3UJmjoeeZ6"
      }
    },
    {
      "cell_type": "code",
      "source": [
        "mnist = tf.keras.datasets.mnist\n",
        "\n",
        "(x_train, y_train), (x_test, y_test) = mnist.load_data()\n",
        "x_train, x_test = x_train / 255.0, x_test / 255.0"
      ],
      "metadata": {
        "colab": {
          "base_uri": "https://localhost:8080/"
        },
        "id": "zZeiUtYRekNc",
        "outputId": "1dc271e0-301f-4a6b-f4f8-9062ce980e21"
      },
      "execution_count": 50,
      "outputs": [
        {
          "output_type": "stream",
          "name": "stdout",
          "text": [
            "Downloading data from https://storage.googleapis.com/tensorflow/tf-keras-datasets/mnist.npz\n",
            "11493376/11490434 [==============================] - 0s 0us/step\n",
            "11501568/11490434 [==============================] - 0s 0us/step\n"
          ]
        }
      ]
    },
    {
      "cell_type": "markdown",
      "source": [
        "**Building Model**"
      ],
      "metadata": {
        "id": "cFY3MQUTelOt"
      }
    },
    {
      "cell_type": "code",
      "execution_count": 51,
      "metadata": {
        "id": "h3IKyzTCDNGo"
      },
      "outputs": [],
      "source": [
        "model = tf.keras.models.Sequential([\n",
        "  tf.keras.layers.Flatten(input_shape=(28, 28)),\n",
        "  tf.keras.layers.Dense(128, activation='relu'),\n",
        "  tf.keras.layers.Dropout(0.2),\n",
        "  tf.keras.layers.Dense(10)\n",
        "])"
      ]
    },
    {
      "cell_type": "markdown",
      "source": [
        "Output of this model is termed as logits"
      ],
      "metadata": {
        "id": "NY3Y1iRZeyTr"
      }
    },
    {
      "cell_type": "code",
      "source": [
        "predictions = model(x_train[:1]).numpy()\n",
        "predictions"
      ],
      "metadata": {
        "colab": {
          "base_uri": "https://localhost:8080/"
        },
        "id": "fVpCzIAMfsJl",
        "outputId": "cbd1ffaa-41a3-4e7c-c279-e36862e9ed48"
      },
      "execution_count": 52,
      "outputs": [
        {
          "output_type": "execute_result",
          "data": {
            "text/plain": [
              "array([[-0.17572522,  0.15321976,  0.82272583,  1.2141653 , -0.09046598,\n",
              "        -0.09584264,  0.38446903,  1.113056  , -0.3709675 , -0.28177285]],\n",
              "      dtype=float32)"
            ]
          },
          "metadata": {},
          "execution_count": 52
        }
      ]
    },
    {
      "cell_type": "markdown",
      "source": [
        "Activation function (softmax) is used to converts these logits to probabilities for each class"
      ],
      "metadata": {
        "id": "vqNWRvVVftF6"
      }
    },
    {
      "cell_type": "code",
      "source": [
        "tf.nn.softmax(predictions).numpy()"
      ],
      "metadata": {
        "colab": {
          "base_uri": "https://localhost:8080/"
        },
        "id": "iP_5bN2Gf8v_",
        "outputId": "2d2a6b3c-d105-4d6f-d31b-d324efd5e123"
      },
      "execution_count": 53,
      "outputs": [
        {
          "output_type": "execute_result",
          "data": {
            "text/plain": [
              "array([[0.05437284, 0.07555113, 0.14757194, 0.21827489, 0.05921198,\n",
              "        0.05889448, 0.09520752, 0.19728431, 0.04472902, 0.04890194]],\n",
              "      dtype=float32)"
            ]
          },
          "metadata": {},
          "execution_count": 53
        }
      ]
    },
    {
      "cell_type": "markdown",
      "source": [
        "*losses.SparseCategoricalCrossentropy* is used to define loss function for training which takes a vector of logits and a True index and returns a scalar loss for each example."
      ],
      "metadata": {
        "id": "xyLSBv6eg2l5"
      }
    },
    {
      "cell_type": "code",
      "source": [
        "loss_fn = tf.keras.losses.SparseCategoricalCrossentropy(from_logits=True)"
      ],
      "metadata": {
        "id": "jEiQ0zmNhNDS"
      },
      "execution_count": 54,
      "outputs": []
    },
    {
      "cell_type": "markdown",
      "source": [
        "This loss is equal to the negative log probability of the true class: The loss is zero if the model is sure of the correct class."
      ],
      "metadata": {
        "id": "5YP9O2cLhPuZ"
      }
    },
    {
      "cell_type": "code",
      "source": [
        "loss_fn(y_train[:1], predictions).numpy()"
      ],
      "metadata": {
        "colab": {
          "base_uri": "https://localhost:8080/"
        },
        "id": "Di7uvdxjhf5z",
        "outputId": "c2fb6a7b-b1dc-4898-add3-5999c9b57885"
      },
      "execution_count": 55,
      "outputs": [
        {
          "output_type": "execute_result",
          "data": {
            "text/plain": [
              "2.832008"
            ]
          },
          "metadata": {},
          "execution_count": 55
        }
      ]
    },
    {
      "cell_type": "markdown",
      "source": [
        "Configure and compile the model using Keras Model.compile. Set the optimizer class to adam, set the loss to the loss_fn function you defined earlier, and specify a metric to be evaluated for the model by setting the metrics parameter to accuracy."
      ],
      "metadata": {
        "id": "ansi7HpLhi9j"
      }
    },
    {
      "cell_type": "code",
      "source": [
        "model.compile(optimizer='adam',\n",
        "              loss=loss_fn,\n",
        "              metrics=['accuracy'])"
      ],
      "metadata": {
        "id": "5lbSuPXCh2um"
      },
      "execution_count": 56,
      "outputs": []
    },
    {
      "cell_type": "markdown",
      "source": [
        "**Train and Evaluate the model**"
      ],
      "metadata": {
        "id": "T8nUkWqBh_oh"
      }
    },
    {
      "cell_type": "markdown",
      "source": [
        "Model.fit method to adjust your model parameters and minimize the loss"
      ],
      "metadata": {
        "id": "cbRjFOEiiFvT"
      }
    },
    {
      "cell_type": "code",
      "source": [
        "model.fit(x_train, y_train, epochs=5)"
      ],
      "metadata": {
        "colab": {
          "base_uri": "https://localhost:8080/"
        },
        "id": "mGgCtydqiEPh",
        "outputId": "781aa92d-42dc-4f17-e0f1-a08eff3d2b29"
      },
      "execution_count": 57,
      "outputs": [
        {
          "output_type": "stream",
          "name": "stdout",
          "text": [
            "Epoch 1/5\n",
            "1875/1875 [==============================] - 7s 3ms/step - loss: 0.2920 - accuracy: 0.9155\n",
            "Epoch 2/5\n",
            "1875/1875 [==============================] - 5s 3ms/step - loss: 0.1419 - accuracy: 0.9581\n",
            "Epoch 3/5\n",
            "1875/1875 [==============================] - 5s 3ms/step - loss: 0.1077 - accuracy: 0.9675\n",
            "Epoch 4/5\n",
            "1875/1875 [==============================] - 5s 3ms/step - loss: 0.0858 - accuracy: 0.9736\n",
            "Epoch 5/5\n",
            "1875/1875 [==============================] - 5s 3ms/step - loss: 0.0735 - accuracy: 0.9777\n"
          ]
        },
        {
          "output_type": "execute_result",
          "data": {
            "text/plain": [
              "<keras.callbacks.History at 0x7f53ef2bced0>"
            ]
          },
          "metadata": {},
          "execution_count": 57
        }
      ]
    },
    {
      "cell_type": "markdown",
      "source": [
        "Model.evaluate method checks the models performance, usually on a Validation-set"
      ],
      "metadata": {
        "id": "UHy9prVWiMTB"
      }
    },
    {
      "cell_type": "code",
      "source": [
        "model.evaluate(x_test,  y_test, verbose=2)"
      ],
      "metadata": {
        "colab": {
          "base_uri": "https://localhost:8080/"
        },
        "id": "rrzhQ6noiRC-",
        "outputId": "2e5bc80d-8d8d-46a2-def8-ad5e43df2f0f"
      },
      "execution_count": 58,
      "outputs": [
        {
          "output_type": "stream",
          "name": "stdout",
          "text": [
            "313/313 - 1s - loss: 0.0813 - accuracy: 0.9745 - 530ms/epoch - 2ms/step\n"
          ]
        },
        {
          "output_type": "execute_result",
          "data": {
            "text/plain": [
              "[0.08127441257238388, 0.9745000004768372]"
            ]
          },
          "metadata": {},
          "execution_count": 58
        }
      ]
    },
    {
      "cell_type": "markdown",
      "source": [
        "To return a probability, you can wrap the trained model, and attach the softmax to it"
      ],
      "metadata": {
        "id": "g9E-uqVBidZV"
      }
    },
    {
      "cell_type": "code",
      "source": [
        "probability_model = tf.keras.Sequential([\n",
        "  model,\n",
        "  tf.keras.layers.Softmax()\n",
        "])"
      ],
      "metadata": {
        "id": "1jDh2rcaif_I"
      },
      "execution_count": 59,
      "outputs": []
    },
    {
      "cell_type": "code",
      "source": [
        "probability_model(x_test[:5])"
      ],
      "metadata": {
        "colab": {
          "base_uri": "https://localhost:8080/"
        },
        "id": "YUh8zsUZiiZo",
        "outputId": "36288dbf-0af2-42f0-e2f6-1c42c45a6484"
      },
      "execution_count": 60,
      "outputs": [
        {
          "output_type": "execute_result",
          "data": {
            "text/plain": [
              "<tf.Tensor: shape=(5, 10), dtype=float32, numpy=\n",
              "array([[1.7902385e-08, 2.3895227e-10, 3.9407432e-08, 5.9413578e-06,\n",
              "        2.6123353e-11, 9.5096482e-08, 1.0986291e-13, 9.9998975e-01,\n",
              "        7.8521111e-08, 4.1364583e-06],\n",
              "       [7.5625920e-08, 7.1845989e-06, 9.9998081e-01, 1.1160054e-05,\n",
              "        8.0214384e-17, 6.6173715e-07, 1.1860684e-09, 1.9441336e-10,\n",
              "        1.7863334e-07, 3.0385270e-13],\n",
              "       [1.3794462e-06, 9.9653876e-01, 7.8247790e-04, 4.1983440e-05,\n",
              "        1.1354442e-04, 2.0550857e-05, 1.9611149e-05, 1.7993782e-03,\n",
              "        6.7658594e-04, 5.7487396e-06],\n",
              "       [9.9979931e-01, 1.9777313e-09, 3.0281908e-05, 5.9654974e-07,\n",
              "        1.5488034e-07, 4.0057221e-05, 6.5518740e-05, 1.2037468e-05,\n",
              "        3.1373382e-08, 5.2036467e-05],\n",
              "       [6.8139043e-06, 1.3982081e-08, 3.2163591e-06, 8.9756940e-09,\n",
              "        9.8294479e-01, 5.6781825e-08, 1.7907105e-05, 5.5620068e-05,\n",
              "        1.3069077e-06, 1.6970357e-02]], dtype=float32)>"
            ]
          },
          "metadata": {},
          "execution_count": 60
        }
      ]
    },
    {
      "cell_type": "markdown",
      "source": [
        "References:\n",
        "\n",
        "1. https://colab.research.google.com/github/tensorflow/docs/blob/master/site/en/tutorials/quickstart/beginner.ipynb#scrollTo=cnqOZtUp1YR_\n",
        "\n",
        "2. https://www.tensorflow.org/guide/tensor\n",
        "\n",
        "3. https://colab.sandbox.google.com/github/tensorflow/docs/blob/master/site/en/guide/tensor.ipynb\n",
        "\n",
        "\n"
      ],
      "metadata": {
        "id": "0R5PcSfnik53"
      }
    }
  ]
}