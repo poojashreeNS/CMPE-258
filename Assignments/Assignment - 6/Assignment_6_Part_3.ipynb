{
  "nbformat": 4,
  "nbformat_minor": 0,
  "metadata": {
    "colab": {
      "name": "Assignment-6_Part-3.ipynb",
      "provenance": [],
      "collapsed_sections": []
    },
    "kernelspec": {
      "name": "python3",
      "display_name": "Python 3"
    },
    "language_info": {
      "name": "python"
    }
  },
  "cells": [
    {
      "cell_type": "code",
      "execution_count": null,
      "metadata": {
        "id": "LSea-4umzK5i"
      },
      "outputs": [],
      "source": [
        "import pana=das as pd"
      ]
    }
  ]
}