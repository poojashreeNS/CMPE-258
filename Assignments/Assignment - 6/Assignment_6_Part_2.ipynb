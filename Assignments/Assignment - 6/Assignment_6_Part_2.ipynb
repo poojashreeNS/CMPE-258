{
  "nbformat": 4,
  "nbformat_minor": 0,
  "metadata": {
    "colab": {
      "name": "Assignment-6_Part-2.ipynb",
      "provenance": [],
      "collapsed_sections": []
    },
    "kernelspec": {
      "name": "python3",
      "display_name": "Python 3"
    },
    "language_info": {
      "name": "python"
    }
  },
  "cells": [
    {
      "cell_type": "code",
      "execution_count": null,
      "metadata": {
        "id": "680MgIr0zDXX"
      },
      "outputs": [],
      "source": [
        "import pandas as pd"
      ]
    }
  ]
}