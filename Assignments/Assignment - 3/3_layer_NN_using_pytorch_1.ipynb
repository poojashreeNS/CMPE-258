{
  "nbformat": 4,
  "nbformat_minor": 0,
  "metadata": {
    "colab": {
      "name": "3-layer NN using pytorch - 1.ipynb",
      "provenance": []
    },
    "kernelspec": {
      "name": "python3",
      "display_name": "Python 3"
    },
    "language_info": {
      "name": "python"
    }
  },
  "cells": [
    {
      "cell_type": "code",
      "execution_count": 1,
      "metadata": {
        "colab": {
          "base_uri": "https://localhost:8080/"
        },
        "id": "_vck76a98UFo",
        "outputId": "0578e76a-946d-446d-b073-2a1d1500ec8d"
      },
      "outputs": [
        {
          "output_type": "stream",
          "name": "stdout",
          "text": [
            "Sequential(\n",
            "  (fc1): Linear(in_features=16, out_features=12, bias=True)\n",
            "  (relu1): ReLU()\n",
            "  (fc2): Linear(in_features=12, out_features=10, bias=True)\n",
            "  (relu2): ReLU()\n",
            "  (fc3): Linear(in_features=10, out_features=1, bias=True)\n",
            "  (sigmoid): Sigmoid()\n",
            ")\n"
          ]
        }
      ],
      "source": [
        "from torch import nn\n",
        "from collections import OrderedDict\n",
        "\n",
        "# define model architecture\n",
        "model = nn.Sequential(OrderedDict([\n",
        "    ('fc1', nn.Linear(16, 12)),\n",
        "    ('relu1', nn.ReLU()),\n",
        "    ('fc2', nn.Linear(12, 10)),\n",
        "    ('relu2', nn.ReLU()),\n",
        "    ('fc3', nn.Linear(10, 1)),\n",
        "    ('sigmoid', nn.Sigmoid())\n",
        "]))\n",
        "\n",
        "# print model architecture\n",
        "print(model)"
      ]
    },
    {
      "cell_type": "code",
      "source": [
        "print(model.fc2, model.fc2.weight)"
      ],
      "metadata": {
        "colab": {
          "base_uri": "https://localhost:8080/"
        },
        "id": "vWE2I4HeN1de",
        "outputId": "2f1d7998-6db6-4e35-d089-32fb9418197e"
      },
      "execution_count": 2,
      "outputs": [
        {
          "output_type": "stream",
          "name": "stdout",
          "text": [
            "Linear(in_features=12, out_features=10, bias=True) Parameter containing:\n",
            "tensor([[-0.1109, -0.0718,  0.2036, -0.0064,  0.0531,  0.0477,  0.1196, -0.2274,\n",
            "          0.2325, -0.2859, -0.2692, -0.0970],\n",
            "        [ 0.0355,  0.2722,  0.2701,  0.2666, -0.0546, -0.0552, -0.2611,  0.1007,\n",
            "          0.0030,  0.2576, -0.2553, -0.2384],\n",
            "        [ 0.0064,  0.2538,  0.2145,  0.1192, -0.0553, -0.0466, -0.1776, -0.1896,\n",
            "         -0.2237, -0.1837, -0.2849, -0.2144],\n",
            "        [ 0.2619, -0.0454, -0.0210, -0.1286,  0.0189,  0.2660,  0.0093, -0.0753,\n",
            "          0.1065,  0.0543,  0.1921,  0.1014],\n",
            "        [ 0.0037,  0.2640,  0.2611,  0.1468,  0.2738,  0.0751,  0.1667,  0.0858,\n",
            "          0.0796,  0.2303, -0.0390,  0.1699],\n",
            "        [-0.0861, -0.1259, -0.1061, -0.0995,  0.2319, -0.2205, -0.1996, -0.1612,\n",
            "         -0.0497, -0.2317,  0.2552,  0.2879],\n",
            "        [-0.0044, -0.2744, -0.2184, -0.2344,  0.2332, -0.2723,  0.0944,  0.1727,\n",
            "          0.2005,  0.1641,  0.0273, -0.1906],\n",
            "        [ 0.1157, -0.0657,  0.2292,  0.1928, -0.1001, -0.1038, -0.1018,  0.2535,\n",
            "          0.0550, -0.0908,  0.0162, -0.0047],\n",
            "        [-0.2387, -0.0603, -0.1952, -0.0881,  0.1180,  0.2631, -0.0283, -0.0533,\n",
            "         -0.0087,  0.2765, -0.1196, -0.0711],\n",
            "        [-0.1720,  0.0997, -0.2314,  0.2868,  0.0770, -0.0105,  0.2291, -0.1298,\n",
            "          0.0349, -0.2820, -0.1853, -0.0578]], requires_grad=True)\n"
          ]
        }
      ]
    },
    {
      "cell_type": "markdown",
      "source": [
        "**Building NN using low level API pytorch**"
      ],
      "metadata": {
        "id": "83mixM3rOK_s"
      }
    },
    {
      "cell_type": "code",
      "source": [
        "import torch\n",
        "import torch.nn.functional as F\n",
        "\n",
        "# generating some random features\n",
        "features = torch.randn(1, 16) \n",
        "\n",
        "# define the weights\n",
        "W1 = torch.randn((16, 12), requires_grad=True)\n",
        "W2 = torch.randn((12, 10), requires_grad=True)\n",
        "W3 = torch.randn((10, 1), requires_grad=True)\n",
        "\n",
        "# define the bias terms\n",
        "B1 = torch.randn((12), requires_grad=True)\n",
        "B2 = torch.randn((10), requires_grad=True)\n",
        "B3 = torch.randn((1), requires_grad=True)\n",
        "\n",
        "# calculate hidden and output layers\n",
        "h1 = F.relu((features @ W1) + B1)\n",
        "h2 = F.relu((h1 @ W2) + B2)\n",
        "output = torch.sigmoid((h2 @ W3) + B3)"
      ],
      "metadata": {
        "id": "r9SKZwDPOPcx"
      },
      "execution_count": 3,
      "outputs": []
    },
    {
      "cell_type": "code",
      "source": [
        "output"
      ],
      "metadata": {
        "colab": {
          "base_uri": "https://localhost:8080/"
        },
        "id": "lKl-aziQPgN6",
        "outputId": "de3407c2-45bb-4000-c251-2570bb800af4"
      },
      "execution_count": 4,
      "outputs": [
        {
          "output_type": "execute_result",
          "data": {
            "text/plain": [
              "tensor([[0.0007]], grad_fn=<SigmoidBackward0>)"
            ]
          },
          "metadata": {},
          "execution_count": 4
        }
      ]
    },
    {
      "cell_type": "markdown",
      "source": [
        "**NN from scratch using pytorch**"
      ],
      "metadata": {
        "id": "Qem1mSI7Pkfu"
      }
    },
    {
      "cell_type": "code",
      "source": [
        "import torch\n",
        "import torch.nn.functional as F\n",
        "from torch import nn\n",
        "\n",
        "# define the network class\n",
        "class MyNetwork(nn.Module):\n",
        "    def __init__(self):\n",
        "        # call constructor from superclass\n",
        "        super().__init__()\n",
        "        \n",
        "        # define network layers\n",
        "        self.fc1 = nn.Linear(16, 12)\n",
        "        self.fc2 = nn.Linear(12, 10)\n",
        "        self.fc3 = nn.Linear(10, 1)\n",
        "        \n",
        "    def forward(self, x):\n",
        "        # define forward pass\n",
        "        x = F.relu(self.fc1(x))\n",
        "        x = F.relu(self.fc2(x))\n",
        "        x = torch.sigmoid(self.fc3(x))\n",
        "        return x\n",
        "\n",
        "# instantiate the model\n",
        "model = MyNetwork()\n",
        "\n",
        "# print model architecture\n",
        "print(model)"
      ],
      "metadata": {
        "colab": {
          "base_uri": "https://localhost:8080/"
        },
        "id": "LZiN0VwnQGcw",
        "outputId": "af3ea0ea-cd69-47e6-fb3a-40e96ab43fe3"
      },
      "execution_count": 5,
      "outputs": [
        {
          "output_type": "stream",
          "name": "stdout",
          "text": [
            "MyNetwork(\n",
            "  (fc1): Linear(in_features=16, out_features=12, bias=True)\n",
            "  (fc2): Linear(in_features=12, out_features=10, bias=True)\n",
            "  (fc3): Linear(in_features=10, out_features=1, bias=True)\n",
            ")\n"
          ]
        }
      ]
    }
  ]
}