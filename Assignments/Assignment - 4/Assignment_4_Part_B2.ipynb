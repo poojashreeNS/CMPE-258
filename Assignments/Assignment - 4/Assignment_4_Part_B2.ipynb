{
  "nbformat": 4,
  "nbformat_minor": 0,
  "metadata": {
    "colab": {
      "name": "Assignment - 4 - Part - B2.ipynb",
      "provenance": []
    },
    "kernelspec": {
      "name": "python3",
      "display_name": "Python 3"
    },
    "language_info": {
      "name": "python"
    },
    "widgets": {
      "application/vnd.jupyter.widget-state+json": {
        "93879b84f71d4f24acbfea64079396b4": {
          "model_module": "@jupyter-widgets/controls",
          "model_name": "VBoxModel",
          "model_module_version": "1.5.0",
          "state": {
            "_dom_classes": [],
            "_model_module": "@jupyter-widgets/controls",
            "_model_module_version": "1.5.0",
            "_model_name": "VBoxModel",
            "_view_count": null,
            "_view_module": "@jupyter-widgets/controls",
            "_view_module_version": "1.5.0",
            "_view_name": "VBoxView",
            "box_style": "",
            "children": [
              "IPY_MODEL_4244626e67cc4d41ab50e57e9766ec97",
              "IPY_MODEL_f7f3de20e1884e5eb452122ddacc80f0"
            ],
            "layout": "IPY_MODEL_445a53b89c6a4590844da0165feb1102"
          }
        },
        "4244626e67cc4d41ab50e57e9766ec97": {
          "model_module": "@jupyter-widgets/controls",
          "model_name": "LabelModel",
          "model_module_version": "1.5.0",
          "state": {
            "_dom_classes": [],
            "_model_module": "@jupyter-widgets/controls",
            "_model_module_version": "1.5.0",
            "_model_name": "LabelModel",
            "_view_count": null,
            "_view_module": "@jupyter-widgets/controls",
            "_view_module_version": "1.5.0",
            "_view_name": "LabelView",
            "description": "",
            "description_tooltip": null,
            "layout": "IPY_MODEL_a06093afa24b4cd2a6119e39777946e0",
            "placeholder": "​",
            "style": "IPY_MODEL_6dee299e7b2c48c59e950ec4433abe68",
            "value": "0.008 MB of 0.008 MB uploaded (0.000 MB deduped)\r"
          }
        },
        "f7f3de20e1884e5eb452122ddacc80f0": {
          "model_module": "@jupyter-widgets/controls",
          "model_name": "FloatProgressModel",
          "model_module_version": "1.5.0",
          "state": {
            "_dom_classes": [],
            "_model_module": "@jupyter-widgets/controls",
            "_model_module_version": "1.5.0",
            "_model_name": "FloatProgressModel",
            "_view_count": null,
            "_view_module": "@jupyter-widgets/controls",
            "_view_module_version": "1.5.0",
            "_view_name": "ProgressView",
            "bar_style": "",
            "description": "",
            "description_tooltip": null,
            "layout": "IPY_MODEL_8d7b7106953a40cab9d7e6900a72c784",
            "max": 1,
            "min": 0,
            "orientation": "horizontal",
            "style": "IPY_MODEL_518186593ef043d5b51015f81097e7b3",
            "value": 1
          }
        },
        "445a53b89c6a4590844da0165feb1102": {
          "model_module": "@jupyter-widgets/base",
          "model_name": "LayoutModel",
          "model_module_version": "1.2.0",
          "state": {
            "_model_module": "@jupyter-widgets/base",
            "_model_module_version": "1.2.0",
            "_model_name": "LayoutModel",
            "_view_count": null,
            "_view_module": "@jupyter-widgets/base",
            "_view_module_version": "1.2.0",
            "_view_name": "LayoutView",
            "align_content": null,
            "align_items": null,
            "align_self": null,
            "border": null,
            "bottom": null,
            "display": null,
            "flex": null,
            "flex_flow": null,
            "grid_area": null,
            "grid_auto_columns": null,
            "grid_auto_flow": null,
            "grid_auto_rows": null,
            "grid_column": null,
            "grid_gap": null,
            "grid_row": null,
            "grid_template_areas": null,
            "grid_template_columns": null,
            "grid_template_rows": null,
            "height": null,
            "justify_content": null,
            "justify_items": null,
            "left": null,
            "margin": null,
            "max_height": null,
            "max_width": null,
            "min_height": null,
            "min_width": null,
            "object_fit": null,
            "object_position": null,
            "order": null,
            "overflow": null,
            "overflow_x": null,
            "overflow_y": null,
            "padding": null,
            "right": null,
            "top": null,
            "visibility": null,
            "width": null
          }
        },
        "a06093afa24b4cd2a6119e39777946e0": {
          "model_module": "@jupyter-widgets/base",
          "model_name": "LayoutModel",
          "model_module_version": "1.2.0",
          "state": {
            "_model_module": "@jupyter-widgets/base",
            "_model_module_version": "1.2.0",
            "_model_name": "LayoutModel",
            "_view_count": null,
            "_view_module": "@jupyter-widgets/base",
            "_view_module_version": "1.2.0",
            "_view_name": "LayoutView",
            "align_content": null,
            "align_items": null,
            "align_self": null,
            "border": null,
            "bottom": null,
            "display": null,
            "flex": null,
            "flex_flow": null,
            "grid_area": null,
            "grid_auto_columns": null,
            "grid_auto_flow": null,
            "grid_auto_rows": null,
            "grid_column": null,
            "grid_gap": null,
            "grid_row": null,
            "grid_template_areas": null,
            "grid_template_columns": null,
            "grid_template_rows": null,
            "height": null,
            "justify_content": null,
            "justify_items": null,
            "left": null,
            "margin": null,
            "max_height": null,
            "max_width": null,
            "min_height": null,
            "min_width": null,
            "object_fit": null,
            "object_position": null,
            "order": null,
            "overflow": null,
            "overflow_x": null,
            "overflow_y": null,
            "padding": null,
            "right": null,
            "top": null,
            "visibility": null,
            "width": null
          }
        },
        "6dee299e7b2c48c59e950ec4433abe68": {
          "model_module": "@jupyter-widgets/controls",
          "model_name": "DescriptionStyleModel",
          "model_module_version": "1.5.0",
          "state": {
            "_model_module": "@jupyter-widgets/controls",
            "_model_module_version": "1.5.0",
            "_model_name": "DescriptionStyleModel",
            "_view_count": null,
            "_view_module": "@jupyter-widgets/base",
            "_view_module_version": "1.2.0",
            "_view_name": "StyleView",
            "description_width": ""
          }
        },
        "8d7b7106953a40cab9d7e6900a72c784": {
          "model_module": "@jupyter-widgets/base",
          "model_name": "LayoutModel",
          "model_module_version": "1.2.0",
          "state": {
            "_model_module": "@jupyter-widgets/base",
            "_model_module_version": "1.2.0",
            "_model_name": "LayoutModel",
            "_view_count": null,
            "_view_module": "@jupyter-widgets/base",
            "_view_module_version": "1.2.0",
            "_view_name": "LayoutView",
            "align_content": null,
            "align_items": null,
            "align_self": null,
            "border": null,
            "bottom": null,
            "display": null,
            "flex": null,
            "flex_flow": null,
            "grid_area": null,
            "grid_auto_columns": null,
            "grid_auto_flow": null,
            "grid_auto_rows": null,
            "grid_column": null,
            "grid_gap": null,
            "grid_row": null,
            "grid_template_areas": null,
            "grid_template_columns": null,
            "grid_template_rows": null,
            "height": null,
            "justify_content": null,
            "justify_items": null,
            "left": null,
            "margin": null,
            "max_height": null,
            "max_width": null,
            "min_height": null,
            "min_width": null,
            "object_fit": null,
            "object_position": null,
            "order": null,
            "overflow": null,
            "overflow_x": null,
            "overflow_y": null,
            "padding": null,
            "right": null,
            "top": null,
            "visibility": null,
            "width": null
          }
        },
        "518186593ef043d5b51015f81097e7b3": {
          "model_module": "@jupyter-widgets/controls",
          "model_name": "ProgressStyleModel",
          "model_module_version": "1.5.0",
          "state": {
            "_model_module": "@jupyter-widgets/controls",
            "_model_module_version": "1.5.0",
            "_model_name": "ProgressStyleModel",
            "_view_count": null,
            "_view_module": "@jupyter-widgets/base",
            "_view_module_version": "1.2.0",
            "_view_name": "StyleView",
            "bar_color": null,
            "description_width": ""
          }
        },
        "7b24ab00c532482991ff12c2521f2abd": {
          "model_module": "@jupyter-widgets/controls",
          "model_name": "VBoxModel",
          "model_module_version": "1.5.0",
          "state": {
            "_dom_classes": [],
            "_model_module": "@jupyter-widgets/controls",
            "_model_module_version": "1.5.0",
            "_model_name": "VBoxModel",
            "_view_count": null,
            "_view_module": "@jupyter-widgets/controls",
            "_view_module_version": "1.5.0",
            "_view_name": "VBoxView",
            "box_style": "",
            "children": [
              "IPY_MODEL_3686424b29014174b0c54f18a7c894cd",
              "IPY_MODEL_ca773c71e59042debdb761a0003f010b"
            ],
            "layout": "IPY_MODEL_8c0307c1f3f14f92b18b5b5515815bc7"
          }
        },
        "3686424b29014174b0c54f18a7c894cd": {
          "model_module": "@jupyter-widgets/controls",
          "model_name": "LabelModel",
          "model_module_version": "1.5.0",
          "state": {
            "_dom_classes": [],
            "_model_module": "@jupyter-widgets/controls",
            "_model_module_version": "1.5.0",
            "_model_name": "LabelModel",
            "_view_count": null,
            "_view_module": "@jupyter-widgets/controls",
            "_view_module_version": "1.5.0",
            "_view_name": "LabelView",
            "description": "",
            "description_tooltip": null,
            "layout": "IPY_MODEL_4f99636c29ee4fc998886612e83fca8c",
            "placeholder": "​",
            "style": "IPY_MODEL_14657bf966c34c23b2f6ce9a38a2e44d",
            "value": "0.008 MB of 0.008 MB uploaded (0.000 MB deduped)\r"
          }
        },
        "ca773c71e59042debdb761a0003f010b": {
          "model_module": "@jupyter-widgets/controls",
          "model_name": "FloatProgressModel",
          "model_module_version": "1.5.0",
          "state": {
            "_dom_classes": [],
            "_model_module": "@jupyter-widgets/controls",
            "_model_module_version": "1.5.0",
            "_model_name": "FloatProgressModel",
            "_view_count": null,
            "_view_module": "@jupyter-widgets/controls",
            "_view_module_version": "1.5.0",
            "_view_name": "ProgressView",
            "bar_style": "",
            "description": "",
            "description_tooltip": null,
            "layout": "IPY_MODEL_a4c9217af31c46da8aa25b0b1b0dcfcd",
            "max": 1,
            "min": 0,
            "orientation": "horizontal",
            "style": "IPY_MODEL_ec0adc3f088647fdbdde76f8fb2abdc2",
            "value": 1
          }
        },
        "8c0307c1f3f14f92b18b5b5515815bc7": {
          "model_module": "@jupyter-widgets/base",
          "model_name": "LayoutModel",
          "model_module_version": "1.2.0",
          "state": {
            "_model_module": "@jupyter-widgets/base",
            "_model_module_version": "1.2.0",
            "_model_name": "LayoutModel",
            "_view_count": null,
            "_view_module": "@jupyter-widgets/base",
            "_view_module_version": "1.2.0",
            "_view_name": "LayoutView",
            "align_content": null,
            "align_items": null,
            "align_self": null,
            "border": null,
            "bottom": null,
            "display": null,
            "flex": null,
            "flex_flow": null,
            "grid_area": null,
            "grid_auto_columns": null,
            "grid_auto_flow": null,
            "grid_auto_rows": null,
            "grid_column": null,
            "grid_gap": null,
            "grid_row": null,
            "grid_template_areas": null,
            "grid_template_columns": null,
            "grid_template_rows": null,
            "height": null,
            "justify_content": null,
            "justify_items": null,
            "left": null,
            "margin": null,
            "max_height": null,
            "max_width": null,
            "min_height": null,
            "min_width": null,
            "object_fit": null,
            "object_position": null,
            "order": null,
            "overflow": null,
            "overflow_x": null,
            "overflow_y": null,
            "padding": null,
            "right": null,
            "top": null,
            "visibility": null,
            "width": null
          }
        },
        "4f99636c29ee4fc998886612e83fca8c": {
          "model_module": "@jupyter-widgets/base",
          "model_name": "LayoutModel",
          "model_module_version": "1.2.0",
          "state": {
            "_model_module": "@jupyter-widgets/base",
            "_model_module_version": "1.2.0",
            "_model_name": "LayoutModel",
            "_view_count": null,
            "_view_module": "@jupyter-widgets/base",
            "_view_module_version": "1.2.0",
            "_view_name": "LayoutView",
            "align_content": null,
            "align_items": null,
            "align_self": null,
            "border": null,
            "bottom": null,
            "display": null,
            "flex": null,
            "flex_flow": null,
            "grid_area": null,
            "grid_auto_columns": null,
            "grid_auto_flow": null,
            "grid_auto_rows": null,
            "grid_column": null,
            "grid_gap": null,
            "grid_row": null,
            "grid_template_areas": null,
            "grid_template_columns": null,
            "grid_template_rows": null,
            "height": null,
            "justify_content": null,
            "justify_items": null,
            "left": null,
            "margin": null,
            "max_height": null,
            "max_width": null,
            "min_height": null,
            "min_width": null,
            "object_fit": null,
            "object_position": null,
            "order": null,
            "overflow": null,
            "overflow_x": null,
            "overflow_y": null,
            "padding": null,
            "right": null,
            "top": null,
            "visibility": null,
            "width": null
          }
        },
        "14657bf966c34c23b2f6ce9a38a2e44d": {
          "model_module": "@jupyter-widgets/controls",
          "model_name": "DescriptionStyleModel",
          "model_module_version": "1.5.0",
          "state": {
            "_model_module": "@jupyter-widgets/controls",
            "_model_module_version": "1.5.0",
            "_model_name": "DescriptionStyleModel",
            "_view_count": null,
            "_view_module": "@jupyter-widgets/base",
            "_view_module_version": "1.2.0",
            "_view_name": "StyleView",
            "description_width": ""
          }
        },
        "a4c9217af31c46da8aa25b0b1b0dcfcd": {
          "model_module": "@jupyter-widgets/base",
          "model_name": "LayoutModel",
          "model_module_version": "1.2.0",
          "state": {
            "_model_module": "@jupyter-widgets/base",
            "_model_module_version": "1.2.0",
            "_model_name": "LayoutModel",
            "_view_count": null,
            "_view_module": "@jupyter-widgets/base",
            "_view_module_version": "1.2.0",
            "_view_name": "LayoutView",
            "align_content": null,
            "align_items": null,
            "align_self": null,
            "border": null,
            "bottom": null,
            "display": null,
            "flex": null,
            "flex_flow": null,
            "grid_area": null,
            "grid_auto_columns": null,
            "grid_auto_flow": null,
            "grid_auto_rows": null,
            "grid_column": null,
            "grid_gap": null,
            "grid_row": null,
            "grid_template_areas": null,
            "grid_template_columns": null,
            "grid_template_rows": null,
            "height": null,
            "justify_content": null,
            "justify_items": null,
            "left": null,
            "margin": null,
            "max_height": null,
            "max_width": null,
            "min_height": null,
            "min_width": null,
            "object_fit": null,
            "object_position": null,
            "order": null,
            "overflow": null,
            "overflow_x": null,
            "overflow_y": null,
            "padding": null,
            "right": null,
            "top": null,
            "visibility": null,
            "width": null
          }
        },
        "ec0adc3f088647fdbdde76f8fb2abdc2": {
          "model_module": "@jupyter-widgets/controls",
          "model_name": "ProgressStyleModel",
          "model_module_version": "1.5.0",
          "state": {
            "_model_module": "@jupyter-widgets/controls",
            "_model_module_version": "1.5.0",
            "_model_name": "ProgressStyleModel",
            "_view_count": null,
            "_view_module": "@jupyter-widgets/base",
            "_view_module_version": "1.2.0",
            "_view_name": "StyleView",
            "bar_color": null,
            "description_width": ""
          }
        },
        "96fd3f6e7dc34b9983218016231eec83": {
          "model_module": "@jupyter-widgets/controls",
          "model_name": "VBoxModel",
          "model_module_version": "1.5.0",
          "state": {
            "_dom_classes": [],
            "_model_module": "@jupyter-widgets/controls",
            "_model_module_version": "1.5.0",
            "_model_name": "VBoxModel",
            "_view_count": null,
            "_view_module": "@jupyter-widgets/controls",
            "_view_module_version": "1.5.0",
            "_view_name": "VBoxView",
            "box_style": "",
            "children": [
              "IPY_MODEL_434e089dccef4ddaa1eabbb3c6b3c802",
              "IPY_MODEL_445a8fbb99eb49158750137987604aeb"
            ],
            "layout": "IPY_MODEL_41ae90b98d1f4cb19d8c7200cc4b4f79"
          }
        },
        "434e089dccef4ddaa1eabbb3c6b3c802": {
          "model_module": "@jupyter-widgets/controls",
          "model_name": "LabelModel",
          "model_module_version": "1.5.0",
          "state": {
            "_dom_classes": [],
            "_model_module": "@jupyter-widgets/controls",
            "_model_module_version": "1.5.0",
            "_model_name": "LabelModel",
            "_view_count": null,
            "_view_module": "@jupyter-widgets/controls",
            "_view_module_version": "1.5.0",
            "_view_name": "LabelView",
            "description": "",
            "description_tooltip": null,
            "layout": "IPY_MODEL_1b4acf7a788c4c6fbc7a6359cb0c760a",
            "placeholder": "​",
            "style": "IPY_MODEL_f7ec8c3710e1442697cea693be40f119",
            "value": "0.008 MB of 0.008 MB uploaded (0.000 MB deduped)\r"
          }
        },
        "445a8fbb99eb49158750137987604aeb": {
          "model_module": "@jupyter-widgets/controls",
          "model_name": "FloatProgressModel",
          "model_module_version": "1.5.0",
          "state": {
            "_dom_classes": [],
            "_model_module": "@jupyter-widgets/controls",
            "_model_module_version": "1.5.0",
            "_model_name": "FloatProgressModel",
            "_view_count": null,
            "_view_module": "@jupyter-widgets/controls",
            "_view_module_version": "1.5.0",
            "_view_name": "ProgressView",
            "bar_style": "",
            "description": "",
            "description_tooltip": null,
            "layout": "IPY_MODEL_d0acc74f6dff48c6af49df3b6119182e",
            "max": 1,
            "min": 0,
            "orientation": "horizontal",
            "style": "IPY_MODEL_30b4bebc158d494c9ac31a908cb656d9",
            "value": 1
          }
        },
        "41ae90b98d1f4cb19d8c7200cc4b4f79": {
          "model_module": "@jupyter-widgets/base",
          "model_name": "LayoutModel",
          "model_module_version": "1.2.0",
          "state": {
            "_model_module": "@jupyter-widgets/base",
            "_model_module_version": "1.2.0",
            "_model_name": "LayoutModel",
            "_view_count": null,
            "_view_module": "@jupyter-widgets/base",
            "_view_module_version": "1.2.0",
            "_view_name": "LayoutView",
            "align_content": null,
            "align_items": null,
            "align_self": null,
            "border": null,
            "bottom": null,
            "display": null,
            "flex": null,
            "flex_flow": null,
            "grid_area": null,
            "grid_auto_columns": null,
            "grid_auto_flow": null,
            "grid_auto_rows": null,
            "grid_column": null,
            "grid_gap": null,
            "grid_row": null,
            "grid_template_areas": null,
            "grid_template_columns": null,
            "grid_template_rows": null,
            "height": null,
            "justify_content": null,
            "justify_items": null,
            "left": null,
            "margin": null,
            "max_height": null,
            "max_width": null,
            "min_height": null,
            "min_width": null,
            "object_fit": null,
            "object_position": null,
            "order": null,
            "overflow": null,
            "overflow_x": null,
            "overflow_y": null,
            "padding": null,
            "right": null,
            "top": null,
            "visibility": null,
            "width": null
          }
        },
        "1b4acf7a788c4c6fbc7a6359cb0c760a": {
          "model_module": "@jupyter-widgets/base",
          "model_name": "LayoutModel",
          "model_module_version": "1.2.0",
          "state": {
            "_model_module": "@jupyter-widgets/base",
            "_model_module_version": "1.2.0",
            "_model_name": "LayoutModel",
            "_view_count": null,
            "_view_module": "@jupyter-widgets/base",
            "_view_module_version": "1.2.0",
            "_view_name": "LayoutView",
            "align_content": null,
            "align_items": null,
            "align_self": null,
            "border": null,
            "bottom": null,
            "display": null,
            "flex": null,
            "flex_flow": null,
            "grid_area": null,
            "grid_auto_columns": null,
            "grid_auto_flow": null,
            "grid_auto_rows": null,
            "grid_column": null,
            "grid_gap": null,
            "grid_row": null,
            "grid_template_areas": null,
            "grid_template_columns": null,
            "grid_template_rows": null,
            "height": null,
            "justify_content": null,
            "justify_items": null,
            "left": null,
            "margin": null,
            "max_height": null,
            "max_width": null,
            "min_height": null,
            "min_width": null,
            "object_fit": null,
            "object_position": null,
            "order": null,
            "overflow": null,
            "overflow_x": null,
            "overflow_y": null,
            "padding": null,
            "right": null,
            "top": null,
            "visibility": null,
            "width": null
          }
        },
        "f7ec8c3710e1442697cea693be40f119": {
          "model_module": "@jupyter-widgets/controls",
          "model_name": "DescriptionStyleModel",
          "model_module_version": "1.5.0",
          "state": {
            "_model_module": "@jupyter-widgets/controls",
            "_model_module_version": "1.5.0",
            "_model_name": "DescriptionStyleModel",
            "_view_count": null,
            "_view_module": "@jupyter-widgets/base",
            "_view_module_version": "1.2.0",
            "_view_name": "StyleView",
            "description_width": ""
          }
        },
        "d0acc74f6dff48c6af49df3b6119182e": {
          "model_module": "@jupyter-widgets/base",
          "model_name": "LayoutModel",
          "model_module_version": "1.2.0",
          "state": {
            "_model_module": "@jupyter-widgets/base",
            "_model_module_version": "1.2.0",
            "_model_name": "LayoutModel",
            "_view_count": null,
            "_view_module": "@jupyter-widgets/base",
            "_view_module_version": "1.2.0",
            "_view_name": "LayoutView",
            "align_content": null,
            "align_items": null,
            "align_self": null,
            "border": null,
            "bottom": null,
            "display": null,
            "flex": null,
            "flex_flow": null,
            "grid_area": null,
            "grid_auto_columns": null,
            "grid_auto_flow": null,
            "grid_auto_rows": null,
            "grid_column": null,
            "grid_gap": null,
            "grid_row": null,
            "grid_template_areas": null,
            "grid_template_columns": null,
            "grid_template_rows": null,
            "height": null,
            "justify_content": null,
            "justify_items": null,
            "left": null,
            "margin": null,
            "max_height": null,
            "max_width": null,
            "min_height": null,
            "min_width": null,
            "object_fit": null,
            "object_position": null,
            "order": null,
            "overflow": null,
            "overflow_x": null,
            "overflow_y": null,
            "padding": null,
            "right": null,
            "top": null,
            "visibility": null,
            "width": null
          }
        },
        "30b4bebc158d494c9ac31a908cb656d9": {
          "model_module": "@jupyter-widgets/controls",
          "model_name": "ProgressStyleModel",
          "model_module_version": "1.5.0",
          "state": {
            "_model_module": "@jupyter-widgets/controls",
            "_model_module_version": "1.5.0",
            "_model_name": "ProgressStyleModel",
            "_view_count": null,
            "_view_module": "@jupyter-widgets/base",
            "_view_module_version": "1.2.0",
            "_view_name": "StyleView",
            "bar_color": null,
            "description_width": ""
          }
        },
        "c9330390606b4ca58f78e6d5a6628926": {
          "model_module": "@jupyter-widgets/controls",
          "model_name": "VBoxModel",
          "model_module_version": "1.5.0",
          "state": {
            "_dom_classes": [],
            "_model_module": "@jupyter-widgets/controls",
            "_model_module_version": "1.5.0",
            "_model_name": "VBoxModel",
            "_view_count": null,
            "_view_module": "@jupyter-widgets/controls",
            "_view_module_version": "1.5.0",
            "_view_name": "VBoxView",
            "box_style": "",
            "children": [
              "IPY_MODEL_334c749946e441bd8834ebb9064859bf",
              "IPY_MODEL_90cb1010ef014c1a8dbe7c4d8f81f468"
            ],
            "layout": "IPY_MODEL_4e6d66ca518a4d04a5e1a24e52026419"
          }
        },
        "334c749946e441bd8834ebb9064859bf": {
          "model_module": "@jupyter-widgets/controls",
          "model_name": "LabelModel",
          "model_module_version": "1.5.0",
          "state": {
            "_dom_classes": [],
            "_model_module": "@jupyter-widgets/controls",
            "_model_module_version": "1.5.0",
            "_model_name": "LabelModel",
            "_view_count": null,
            "_view_module": "@jupyter-widgets/controls",
            "_view_module_version": "1.5.0",
            "_view_name": "LabelView",
            "description": "",
            "description_tooltip": null,
            "layout": "IPY_MODEL_4a095556cef94f8fbd6db3ddee9c1854",
            "placeholder": "​",
            "style": "IPY_MODEL_0c07a3fcb4384f91929504334a5934b4",
            "value": "0.008 MB of 0.008 MB uploaded (0.000 MB deduped)\r"
          }
        },
        "90cb1010ef014c1a8dbe7c4d8f81f468": {
          "model_module": "@jupyter-widgets/controls",
          "model_name": "FloatProgressModel",
          "model_module_version": "1.5.0",
          "state": {
            "_dom_classes": [],
            "_model_module": "@jupyter-widgets/controls",
            "_model_module_version": "1.5.0",
            "_model_name": "FloatProgressModel",
            "_view_count": null,
            "_view_module": "@jupyter-widgets/controls",
            "_view_module_version": "1.5.0",
            "_view_name": "ProgressView",
            "bar_style": "",
            "description": "",
            "description_tooltip": null,
            "layout": "IPY_MODEL_16d01121de824d48a5e0c6440476d62d",
            "max": 1,
            "min": 0,
            "orientation": "horizontal",
            "style": "IPY_MODEL_d5e40e717c3040399aebf6351e7218ee",
            "value": 1
          }
        },
        "4e6d66ca518a4d04a5e1a24e52026419": {
          "model_module": "@jupyter-widgets/base",
          "model_name": "LayoutModel",
          "model_module_version": "1.2.0",
          "state": {
            "_model_module": "@jupyter-widgets/base",
            "_model_module_version": "1.2.0",
            "_model_name": "LayoutModel",
            "_view_count": null,
            "_view_module": "@jupyter-widgets/base",
            "_view_module_version": "1.2.0",
            "_view_name": "LayoutView",
            "align_content": null,
            "align_items": null,
            "align_self": null,
            "border": null,
            "bottom": null,
            "display": null,
            "flex": null,
            "flex_flow": null,
            "grid_area": null,
            "grid_auto_columns": null,
            "grid_auto_flow": null,
            "grid_auto_rows": null,
            "grid_column": null,
            "grid_gap": null,
            "grid_row": null,
            "grid_template_areas": null,
            "grid_template_columns": null,
            "grid_template_rows": null,
            "height": null,
            "justify_content": null,
            "justify_items": null,
            "left": null,
            "margin": null,
            "max_height": null,
            "max_width": null,
            "min_height": null,
            "min_width": null,
            "object_fit": null,
            "object_position": null,
            "order": null,
            "overflow": null,
            "overflow_x": null,
            "overflow_y": null,
            "padding": null,
            "right": null,
            "top": null,
            "visibility": null,
            "width": null
          }
        },
        "4a095556cef94f8fbd6db3ddee9c1854": {
          "model_module": "@jupyter-widgets/base",
          "model_name": "LayoutModel",
          "model_module_version": "1.2.0",
          "state": {
            "_model_module": "@jupyter-widgets/base",
            "_model_module_version": "1.2.0",
            "_model_name": "LayoutModel",
            "_view_count": null,
            "_view_module": "@jupyter-widgets/base",
            "_view_module_version": "1.2.0",
            "_view_name": "LayoutView",
            "align_content": null,
            "align_items": null,
            "align_self": null,
            "border": null,
            "bottom": null,
            "display": null,
            "flex": null,
            "flex_flow": null,
            "grid_area": null,
            "grid_auto_columns": null,
            "grid_auto_flow": null,
            "grid_auto_rows": null,
            "grid_column": null,
            "grid_gap": null,
            "grid_row": null,
            "grid_template_areas": null,
            "grid_template_columns": null,
            "grid_template_rows": null,
            "height": null,
            "justify_content": null,
            "justify_items": null,
            "left": null,
            "margin": null,
            "max_height": null,
            "max_width": null,
            "min_height": null,
            "min_width": null,
            "object_fit": null,
            "object_position": null,
            "order": null,
            "overflow": null,
            "overflow_x": null,
            "overflow_y": null,
            "padding": null,
            "right": null,
            "top": null,
            "visibility": null,
            "width": null
          }
        },
        "0c07a3fcb4384f91929504334a5934b4": {
          "model_module": "@jupyter-widgets/controls",
          "model_name": "DescriptionStyleModel",
          "model_module_version": "1.5.0",
          "state": {
            "_model_module": "@jupyter-widgets/controls",
            "_model_module_version": "1.5.0",
            "_model_name": "DescriptionStyleModel",
            "_view_count": null,
            "_view_module": "@jupyter-widgets/base",
            "_view_module_version": "1.2.0",
            "_view_name": "StyleView",
            "description_width": ""
          }
        },
        "16d01121de824d48a5e0c6440476d62d": {
          "model_module": "@jupyter-widgets/base",
          "model_name": "LayoutModel",
          "model_module_version": "1.2.0",
          "state": {
            "_model_module": "@jupyter-widgets/base",
            "_model_module_version": "1.2.0",
            "_model_name": "LayoutModel",
            "_view_count": null,
            "_view_module": "@jupyter-widgets/base",
            "_view_module_version": "1.2.0",
            "_view_name": "LayoutView",
            "align_content": null,
            "align_items": null,
            "align_self": null,
            "border": null,
            "bottom": null,
            "display": null,
            "flex": null,
            "flex_flow": null,
            "grid_area": null,
            "grid_auto_columns": null,
            "grid_auto_flow": null,
            "grid_auto_rows": null,
            "grid_column": null,
            "grid_gap": null,
            "grid_row": null,
            "grid_template_areas": null,
            "grid_template_columns": null,
            "grid_template_rows": null,
            "height": null,
            "justify_content": null,
            "justify_items": null,
            "left": null,
            "margin": null,
            "max_height": null,
            "max_width": null,
            "min_height": null,
            "min_width": null,
            "object_fit": null,
            "object_position": null,
            "order": null,
            "overflow": null,
            "overflow_x": null,
            "overflow_y": null,
            "padding": null,
            "right": null,
            "top": null,
            "visibility": null,
            "width": null
          }
        },
        "d5e40e717c3040399aebf6351e7218ee": {
          "model_module": "@jupyter-widgets/controls",
          "model_name": "ProgressStyleModel",
          "model_module_version": "1.5.0",
          "state": {
            "_model_module": "@jupyter-widgets/controls",
            "_model_module_version": "1.5.0",
            "_model_name": "ProgressStyleModel",
            "_view_count": null,
            "_view_module": "@jupyter-widgets/base",
            "_view_module_version": "1.2.0",
            "_view_name": "StyleView",
            "bar_color": null,
            "description_width": ""
          }
        },
        "54df52b28126419bacebffc410d13487": {
          "model_module": "@jupyter-widgets/controls",
          "model_name": "VBoxModel",
          "model_module_version": "1.5.0",
          "state": {
            "_dom_classes": [],
            "_model_module": "@jupyter-widgets/controls",
            "_model_module_version": "1.5.0",
            "_model_name": "VBoxModel",
            "_view_count": null,
            "_view_module": "@jupyter-widgets/controls",
            "_view_module_version": "1.5.0",
            "_view_name": "VBoxView",
            "box_style": "",
            "children": [
              "IPY_MODEL_46c5ced9b15c404e852f3be33d6f8820",
              "IPY_MODEL_b48b3486f0624c109b561044fd0005b9"
            ],
            "layout": "IPY_MODEL_4dce609c039d46c5854321aff7c6a6bb"
          }
        },
        "46c5ced9b15c404e852f3be33d6f8820": {
          "model_module": "@jupyter-widgets/controls",
          "model_name": "LabelModel",
          "model_module_version": "1.5.0",
          "state": {
            "_dom_classes": [],
            "_model_module": "@jupyter-widgets/controls",
            "_model_module_version": "1.5.0",
            "_model_name": "LabelModel",
            "_view_count": null,
            "_view_module": "@jupyter-widgets/controls",
            "_view_module_version": "1.5.0",
            "_view_name": "LabelView",
            "description": "",
            "description_tooltip": null,
            "layout": "IPY_MODEL_46724d5d80f8468aa0ca9e595eb0d243",
            "placeholder": "​",
            "style": "IPY_MODEL_fdcb0051349448dbba62277d5156791b",
            "value": "0.008 MB of 0.008 MB uploaded (0.000 MB deduped)\r"
          }
        },
        "b48b3486f0624c109b561044fd0005b9": {
          "model_module": "@jupyter-widgets/controls",
          "model_name": "FloatProgressModel",
          "model_module_version": "1.5.0",
          "state": {
            "_dom_classes": [],
            "_model_module": "@jupyter-widgets/controls",
            "_model_module_version": "1.5.0",
            "_model_name": "FloatProgressModel",
            "_view_count": null,
            "_view_module": "@jupyter-widgets/controls",
            "_view_module_version": "1.5.0",
            "_view_name": "ProgressView",
            "bar_style": "",
            "description": "",
            "description_tooltip": null,
            "layout": "IPY_MODEL_9db125dfd8b64f77b8d11d4d8b4fb961",
            "max": 1,
            "min": 0,
            "orientation": "horizontal",
            "style": "IPY_MODEL_74fbde19659141aea05d894f56ed8ff4",
            "value": 1
          }
        },
        "4dce609c039d46c5854321aff7c6a6bb": {
          "model_module": "@jupyter-widgets/base",
          "model_name": "LayoutModel",
          "model_module_version": "1.2.0",
          "state": {
            "_model_module": "@jupyter-widgets/base",
            "_model_module_version": "1.2.0",
            "_model_name": "LayoutModel",
            "_view_count": null,
            "_view_module": "@jupyter-widgets/base",
            "_view_module_version": "1.2.0",
            "_view_name": "LayoutView",
            "align_content": null,
            "align_items": null,
            "align_self": null,
            "border": null,
            "bottom": null,
            "display": null,
            "flex": null,
            "flex_flow": null,
            "grid_area": null,
            "grid_auto_columns": null,
            "grid_auto_flow": null,
            "grid_auto_rows": null,
            "grid_column": null,
            "grid_gap": null,
            "grid_row": null,
            "grid_template_areas": null,
            "grid_template_columns": null,
            "grid_template_rows": null,
            "height": null,
            "justify_content": null,
            "justify_items": null,
            "left": null,
            "margin": null,
            "max_height": null,
            "max_width": null,
            "min_height": null,
            "min_width": null,
            "object_fit": null,
            "object_position": null,
            "order": null,
            "overflow": null,
            "overflow_x": null,
            "overflow_y": null,
            "padding": null,
            "right": null,
            "top": null,
            "visibility": null,
            "width": null
          }
        },
        "46724d5d80f8468aa0ca9e595eb0d243": {
          "model_module": "@jupyter-widgets/base",
          "model_name": "LayoutModel",
          "model_module_version": "1.2.0",
          "state": {
            "_model_module": "@jupyter-widgets/base",
            "_model_module_version": "1.2.0",
            "_model_name": "LayoutModel",
            "_view_count": null,
            "_view_module": "@jupyter-widgets/base",
            "_view_module_version": "1.2.0",
            "_view_name": "LayoutView",
            "align_content": null,
            "align_items": null,
            "align_self": null,
            "border": null,
            "bottom": null,
            "display": null,
            "flex": null,
            "flex_flow": null,
            "grid_area": null,
            "grid_auto_columns": null,
            "grid_auto_flow": null,
            "grid_auto_rows": null,
            "grid_column": null,
            "grid_gap": null,
            "grid_row": null,
            "grid_template_areas": null,
            "grid_template_columns": null,
            "grid_template_rows": null,
            "height": null,
            "justify_content": null,
            "justify_items": null,
            "left": null,
            "margin": null,
            "max_height": null,
            "max_width": null,
            "min_height": null,
            "min_width": null,
            "object_fit": null,
            "object_position": null,
            "order": null,
            "overflow": null,
            "overflow_x": null,
            "overflow_y": null,
            "padding": null,
            "right": null,
            "top": null,
            "visibility": null,
            "width": null
          }
        },
        "fdcb0051349448dbba62277d5156791b": {
          "model_module": "@jupyter-widgets/controls",
          "model_name": "DescriptionStyleModel",
          "model_module_version": "1.5.0",
          "state": {
            "_model_module": "@jupyter-widgets/controls",
            "_model_module_version": "1.5.0",
            "_model_name": "DescriptionStyleModel",
            "_view_count": null,
            "_view_module": "@jupyter-widgets/base",
            "_view_module_version": "1.2.0",
            "_view_name": "StyleView",
            "description_width": ""
          }
        },
        "9db125dfd8b64f77b8d11d4d8b4fb961": {
          "model_module": "@jupyter-widgets/base",
          "model_name": "LayoutModel",
          "model_module_version": "1.2.0",
          "state": {
            "_model_module": "@jupyter-widgets/base",
            "_model_module_version": "1.2.0",
            "_model_name": "LayoutModel",
            "_view_count": null,
            "_view_module": "@jupyter-widgets/base",
            "_view_module_version": "1.2.0",
            "_view_name": "LayoutView",
            "align_content": null,
            "align_items": null,
            "align_self": null,
            "border": null,
            "bottom": null,
            "display": null,
            "flex": null,
            "flex_flow": null,
            "grid_area": null,
            "grid_auto_columns": null,
            "grid_auto_flow": null,
            "grid_auto_rows": null,
            "grid_column": null,
            "grid_gap": null,
            "grid_row": null,
            "grid_template_areas": null,
            "grid_template_columns": null,
            "grid_template_rows": null,
            "height": null,
            "justify_content": null,
            "justify_items": null,
            "left": null,
            "margin": null,
            "max_height": null,
            "max_width": null,
            "min_height": null,
            "min_width": null,
            "object_fit": null,
            "object_position": null,
            "order": null,
            "overflow": null,
            "overflow_x": null,
            "overflow_y": null,
            "padding": null,
            "right": null,
            "top": null,
            "visibility": null,
            "width": null
          }
        },
        "74fbde19659141aea05d894f56ed8ff4": {
          "model_module": "@jupyter-widgets/controls",
          "model_name": "ProgressStyleModel",
          "model_module_version": "1.5.0",
          "state": {
            "_model_module": "@jupyter-widgets/controls",
            "_model_module_version": "1.5.0",
            "_model_name": "ProgressStyleModel",
            "_view_count": null,
            "_view_module": "@jupyter-widgets/base",
            "_view_module_version": "1.2.0",
            "_view_name": "StyleView",
            "bar_color": null,
            "description_width": ""
          }
        }
      }
    }
  },
  "cells": [
    {
      "cell_type": "markdown",
      "source": [
        "**Install W&B, fetching dataset**"
      ],
      "metadata": {
        "id": "d7eS_sCj47DO"
      }
    },
    {
      "cell_type": "code",
      "source": [
        "%%capture\n",
        "!pip install wandb --upgrade\n",
        "\n",
        "# workaround to fetch MNIST data\n",
        "!wget www.di.ens.fr/~lelarge/MNIST.tar.gz\n",
        "!tar -zxvf MNIST.tar.gz"
      ],
      "metadata": {
        "id": "Sa9TtkDt44jd"
      },
      "execution_count": 1,
      "outputs": []
    },
    {
      "cell_type": "markdown",
      "source": [
        "**W&B login**"
      ],
      "metadata": {
        "id": "tN4eCt1u5GYM"
      }
    },
    {
      "cell_type": "code",
      "source": [
        "import wandb\n",
        "\n",
        "wandb.login()"
      ],
      "metadata": {
        "colab": {
          "base_uri": "https://localhost:8080/",
          "height": 69
        },
        "id": "-OQ1_JfW5AFH",
        "outputId": "3c9fde00-feb9-4a34-b3e9-ac1b7af68526"
      },
      "execution_count": 2,
      "outputs": [
        {
          "output_type": "display_data",
          "data": {
            "text/plain": [
              "<IPython.core.display.Javascript object>"
            ],
            "application/javascript": [
              "\n",
              "        window._wandbApiKey = new Promise((resolve, reject) => {\n",
              "            function loadScript(url) {\n",
              "            return new Promise(function(resolve, reject) {\n",
              "                let newScript = document.createElement(\"script\");\n",
              "                newScript.onerror = reject;\n",
              "                newScript.onload = resolve;\n",
              "                document.body.appendChild(newScript);\n",
              "                newScript.src = url;\n",
              "            });\n",
              "            }\n",
              "            loadScript(\"https://cdn.jsdelivr.net/npm/postmate/build/postmate.min.js\").then(() => {\n",
              "            const iframe = document.createElement('iframe')\n",
              "            iframe.style.cssText = \"width:0;height:0;border:none\"\n",
              "            document.body.appendChild(iframe)\n",
              "            const handshake = new Postmate({\n",
              "                container: iframe,\n",
              "                url: 'https://wandb.ai/authorize'\n",
              "            });\n",
              "            const timeout = setTimeout(() => reject(\"Couldn't auto authenticate\"), 5000)\n",
              "            handshake.then(function(child) {\n",
              "                child.on('authorize', data => {\n",
              "                    clearTimeout(timeout)\n",
              "                    resolve(data)\n",
              "                });\n",
              "            });\n",
              "            })\n",
              "        });\n",
              "    "
            ]
          },
          "metadata": {}
        },
        {
          "output_type": "stream",
          "name": "stderr",
          "text": [
            "\u001b[34m\u001b[1mwandb\u001b[0m: Appending key for api.wandb.ai to your netrc file: /root/.netrc\n"
          ]
        },
        {
          "output_type": "execute_result",
          "data": {
            "text/plain": [
              "True"
            ]
          },
          "metadata": {},
          "execution_count": 2
        }
      ]
    },
    {
      "cell_type": "code",
      "source": [
        "sweep_config = {\n",
        "    'method': 'random'\n",
        "    }"
      ],
      "metadata": {
        "id": "r3jTmbp66rAo"
      },
      "execution_count": 3,
      "outputs": []
    },
    {
      "cell_type": "code",
      "source": [
        "metric = {\n",
        "    'name': 'loss',\n",
        "    'goal': 'minimize'   \n",
        "    }\n",
        "\n",
        "sweep_config['metric'] = metric"
      ],
      "metadata": {
        "id": "2AWAMDJ56rwy"
      },
      "execution_count": 4,
      "outputs": []
    },
    {
      "cell_type": "code",
      "source": [
        "parameters_dict = {\n",
        "    'optimizer': {\n",
        "        'values': ['adam', 'sgd']\n",
        "        },\n",
        "    'fc_layer_size': {\n",
        "        'values': [128, 256, 512]\n",
        "        },\n",
        "    'dropout': {\n",
        "          'values': [0.3, 0.4, 0.5]\n",
        "        },\n",
        "    }\n",
        "\n",
        "sweep_config['parameters'] = parameters_dict"
      ],
      "metadata": {
        "id": "k5EBsGGM6tUG"
      },
      "execution_count": 5,
      "outputs": []
    },
    {
      "cell_type": "code",
      "source": [
        "parameters_dict.update({\n",
        "    'epochs': {\n",
        "        'value': 1}\n",
        "    })"
      ],
      "metadata": {
        "id": "NuGEr1vC6woN"
      },
      "execution_count": 6,
      "outputs": []
    },
    {
      "cell_type": "code",
      "source": [
        "import math\n",
        "\n",
        "parameters_dict.update({\n",
        "    'learning_rate': {\n",
        "        # a flat distribution between 0 and 0.1\n",
        "        'distribution': 'uniform',\n",
        "        'min': 0,\n",
        "        'max': 0.1\n",
        "      },\n",
        "    'batch_size': {\n",
        "        # integers between 32 and 256\n",
        "        # with evenly-distributed logarithms \n",
        "        'distribution': 'q_log_uniform',\n",
        "        'q': 1,\n",
        "        'min': math.log(32),\n",
        "        'max': math.log(256),\n",
        "      }\n",
        "    })"
      ],
      "metadata": {
        "id": "lyam3-8n6yxD"
      },
      "execution_count": 7,
      "outputs": []
    },
    {
      "cell_type": "code",
      "source": [
        "import pprint\n",
        "\n",
        "pprint.pprint(sweep_config)"
      ],
      "metadata": {
        "colab": {
          "base_uri": "https://localhost:8080/"
        },
        "id": "g4-DTfSy60za",
        "outputId": "74f81401-6e2f-4179-edb0-dd43df3ced08"
      },
      "execution_count": 8,
      "outputs": [
        {
          "output_type": "stream",
          "name": "stdout",
          "text": [
            "{'method': 'random',\n",
            " 'metric': {'goal': 'minimize', 'name': 'loss'},\n",
            " 'parameters': {'batch_size': {'distribution': 'q_log_uniform',\n",
            "                               'max': 5.545177444479562,\n",
            "                               'min': 3.4657359027997265,\n",
            "                               'q': 1},\n",
            "                'dropout': {'values': [0.3, 0.4, 0.5]},\n",
            "                'epochs': {'value': 1},\n",
            "                'fc_layer_size': {'values': [128, 256, 512]},\n",
            "                'learning_rate': {'distribution': 'uniform',\n",
            "                                  'max': 0.1,\n",
            "                                  'min': 0},\n",
            "                'optimizer': {'values': ['adam', 'sgd']}}}\n"
          ]
        }
      ]
    },
    {
      "cell_type": "markdown",
      "source": [
        "**Initialize the Sweep**"
      ],
      "metadata": {
        "id": "wQb8Lqq4617s"
      }
    },
    {
      "cell_type": "code",
      "source": [
        "sweep_id = wandb.sweep(sweep_config, project=\"pytorch-sweeps\")"
      ],
      "metadata": {
        "colab": {
          "base_uri": "https://localhost:8080/"
        },
        "id": "QSbt91ac64ip",
        "outputId": "9c60056e-dd4e-49d7-bae3-49cd3a3e5aeb"
      },
      "execution_count": 9,
      "outputs": [
        {
          "output_type": "stream",
          "name": "stdout",
          "text": [
            "Create sweep with ID: wv795kai\n",
            "Sweep URL: https://wandb.ai/nsp_team/pytorch-sweeps-demo/sweeps/wv795kai\n"
          ]
        }
      ]
    },
    {
      "cell_type": "markdown",
      "source": [
        "**Running sweep agent**"
      ],
      "metadata": {
        "id": "JJUbl4yj69zS"
      }
    },
    {
      "cell_type": "code",
      "source": [
        "import torch\n",
        "import torch.optim as optim\n",
        "import torch.nn.functional as F\n",
        "import torch.nn as nn\n",
        "from torchvision import datasets, transforms\n",
        "\n",
        "device = torch.device(\"cuda\" if torch.cuda.is_available() else \"cpu\")\n",
        "\n",
        "def train(config=None):\n",
        "    # Initialize a new wandb run\n",
        "    with wandb.init(config=config):\n",
        "        # If called by wandb.agent, as below,\n",
        "        # this config will be set by Sweep Controller\n",
        "        config = wandb.config\n",
        "\n",
        "        loader = build_dataset(config.batch_size)\n",
        "        network = build_network(config.fc_layer_size, config.dropout)\n",
        "        optimizer = build_optimizer(network, config.optimizer, config.learning_rate)\n",
        "\n",
        "        for epoch in range(config.epochs):\n",
        "            avg_loss = train_epoch(network, loader, optimizer)\n",
        "            wandb.log({\"loss\": avg_loss, \"epoch\": epoch})           "
      ],
      "metadata": {
        "id": "sNeNJ1Qv7EJI"
      },
      "execution_count": 10,
      "outputs": []
    },
    {
      "cell_type": "code",
      "execution_count": 11,
      "metadata": {
        "id": "MpecFf8H6O2h"
      },
      "outputs": [],
      "source": [
        "def build_dataset(batch_size):\n",
        "   \n",
        "    transform = transforms.Compose(\n",
        "        [transforms.ToTensor(),\n",
        "         transforms.Normalize((0.1307,), (0.3081,))])\n",
        "    # download MNIST training dataset\n",
        "    dataset = datasets.MNIST(\".\", train=True, download=True,\n",
        "                             transform=transform)\n",
        "    sub_dataset = torch.utils.data.Subset(\n",
        "        dataset, indices=range(0, len(dataset), 5))\n",
        "    loader = torch.utils.data.DataLoader(sub_dataset, batch_size=batch_size)\n",
        "\n",
        "    return loader\n",
        "\n",
        "\n",
        "def build_network(fc_layer_size, dropout):\n",
        "    network = nn.Sequential(  # fully-connected, single hidden layer\n",
        "        nn.Flatten(),\n",
        "        nn.Linear(784, fc_layer_size), nn.ReLU(),\n",
        "        nn.Dropout(dropout),\n",
        "        nn.Linear(fc_layer_size, 10),\n",
        "        nn.LogSoftmax(dim=1))\n",
        "\n",
        "    return network.to(device)\n",
        "        \n",
        "\n",
        "def build_optimizer(network, optimizer, learning_rate):\n",
        "    if optimizer == \"sgd\":\n",
        "        optimizer = optim.SGD(network.parameters(),\n",
        "                              lr=learning_rate, momentum=0.9)\n",
        "    elif optimizer == \"adam\":\n",
        "        optimizer = optim.Adam(network.parameters(),\n",
        "                               lr=learning_rate)\n",
        "    return optimizer\n",
        "\n",
        "\n",
        "def train_epoch(network, loader, optimizer):\n",
        "    cumu_loss = 0\n",
        "    for _, (data, target) in enumerate(loader):\n",
        "        data, target = data.to(device), target.to(device)\n",
        "        optimizer.zero_grad()\n",
        "\n",
        "        # ➡ Forward pass\n",
        "        loss = F.nll_loss(network(data), target)\n",
        "        cumu_loss += loss.item()\n",
        "\n",
        "        # ⬅ Backward pass + weight update\n",
        "        loss.backward()\n",
        "        optimizer.step()\n",
        "\n",
        "        wandb.log({\"batch loss\": loss.item()})\n",
        "\n",
        "    return cumu_loss / len(loader)"
      ]
    },
    {
      "cell_type": "code",
      "source": [
        "wandb.agent(sweep_id, train, count=5)"
      ],
      "metadata": {
        "colab": {
          "base_uri": "https://localhost:8080/",
          "height": 1000,
          "referenced_widgets": [
            "93879b84f71d4f24acbfea64079396b4",
            "4244626e67cc4d41ab50e57e9766ec97",
            "f7f3de20e1884e5eb452122ddacc80f0",
            "445a53b89c6a4590844da0165feb1102",
            "a06093afa24b4cd2a6119e39777946e0",
            "6dee299e7b2c48c59e950ec4433abe68",
            "8d7b7106953a40cab9d7e6900a72c784",
            "518186593ef043d5b51015f81097e7b3",
            "7b24ab00c532482991ff12c2521f2abd",
            "3686424b29014174b0c54f18a7c894cd",
            "ca773c71e59042debdb761a0003f010b",
            "8c0307c1f3f14f92b18b5b5515815bc7",
            "4f99636c29ee4fc998886612e83fca8c",
            "14657bf966c34c23b2f6ce9a38a2e44d",
            "a4c9217af31c46da8aa25b0b1b0dcfcd",
            "ec0adc3f088647fdbdde76f8fb2abdc2",
            "96fd3f6e7dc34b9983218016231eec83",
            "434e089dccef4ddaa1eabbb3c6b3c802",
            "445a8fbb99eb49158750137987604aeb",
            "41ae90b98d1f4cb19d8c7200cc4b4f79",
            "1b4acf7a788c4c6fbc7a6359cb0c760a",
            "f7ec8c3710e1442697cea693be40f119",
            "d0acc74f6dff48c6af49df3b6119182e",
            "30b4bebc158d494c9ac31a908cb656d9",
            "c9330390606b4ca58f78e6d5a6628926",
            "334c749946e441bd8834ebb9064859bf",
            "90cb1010ef014c1a8dbe7c4d8f81f468",
            "4e6d66ca518a4d04a5e1a24e52026419",
            "4a095556cef94f8fbd6db3ddee9c1854",
            "0c07a3fcb4384f91929504334a5934b4",
            "16d01121de824d48a5e0c6440476d62d",
            "d5e40e717c3040399aebf6351e7218ee",
            "54df52b28126419bacebffc410d13487",
            "46c5ced9b15c404e852f3be33d6f8820",
            "b48b3486f0624c109b561044fd0005b9",
            "4dce609c039d46c5854321aff7c6a6bb",
            "46724d5d80f8468aa0ca9e595eb0d243",
            "fdcb0051349448dbba62277d5156791b",
            "9db125dfd8b64f77b8d11d4d8b4fb961",
            "74fbde19659141aea05d894f56ed8ff4"
          ]
        },
        "id": "ox9GFN1X7S3H",
        "outputId": "94cdccc3-99e5-4ff9-eed1-0658c3e7289f"
      },
      "execution_count": 12,
      "outputs": [
        {
          "output_type": "stream",
          "name": "stderr",
          "text": [
            "\u001b[34m\u001b[1mwandb\u001b[0m: Agent Starting Run: yckrk9hh with config:\n",
            "\u001b[34m\u001b[1mwandb\u001b[0m: \tbatch_size: 36\n",
            "\u001b[34m\u001b[1mwandb\u001b[0m: \tdropout: 0.4\n",
            "\u001b[34m\u001b[1mwandb\u001b[0m: \tepochs: 1\n",
            "\u001b[34m\u001b[1mwandb\u001b[0m: \tfc_layer_size: 256\n",
            "\u001b[34m\u001b[1mwandb\u001b[0m: \tlearning_rate: 0.04656181376209363\n",
            "\u001b[34m\u001b[1mwandb\u001b[0m: \toptimizer: adam\n",
            "\u001b[34m\u001b[1mwandb\u001b[0m: Currently logged in as: \u001b[33mnsp_team\u001b[0m (use `wandb login --relogin` to force relogin)\n"
          ]
        },
        {
          "output_type": "display_data",
          "data": {
            "text/plain": [
              "<IPython.core.display.HTML object>"
            ],
            "text/html": [
              "Tracking run with wandb version 0.12.11"
            ]
          },
          "metadata": {}
        },
        {
          "output_type": "display_data",
          "data": {
            "text/plain": [
              "<IPython.core.display.HTML object>"
            ],
            "text/html": [
              "Run data is saved locally in <code>/content/wandb/run-20220328_190818-yckrk9hh</code>"
            ]
          },
          "metadata": {}
        },
        {
          "output_type": "display_data",
          "data": {
            "text/plain": [
              "<IPython.core.display.HTML object>"
            ],
            "text/html": [
              "Syncing run <strong><a href=\"https://wandb.ai/nsp_team/pytorch-sweeps-demo/runs/yckrk9hh\" target=\"_blank\">crisp-sweep-1</a></strong> to <a href=\"https://wandb.ai/nsp_team/pytorch-sweeps-demo\" target=\"_blank\">Weights & Biases</a> (<a href=\"https://wandb.me/run\" target=\"_blank\">docs</a>)<br/>Sweep page:  <a href=\"https://wandb.ai/nsp_team/pytorch-sweeps-demo/sweeps/wv795kai\" target=\"_blank\">https://wandb.ai/nsp_team/pytorch-sweeps-demo/sweeps/wv795kai</a>"
            ]
          },
          "metadata": {}
        },
        {
          "output_type": "stream",
          "name": "stdout",
          "text": [
            "\n"
          ]
        },
        {
          "output_type": "display_data",
          "data": {
            "text/plain": [
              "<IPython.core.display.HTML object>"
            ],
            "text/html": [
              "Waiting for W&B process to finish... <strong style=\"color:green\">(success).</strong>"
            ]
          },
          "metadata": {}
        },
        {
          "output_type": "display_data",
          "data": {
            "text/plain": [
              "VBox(children=(Label(value='0.001 MB of 0.001 MB uploaded (0.000 MB deduped)\\r'), FloatProgress(value=1.0, max…"
            ],
            "application/vnd.jupyter.widget-view+json": {
              "version_major": 2,
              "version_minor": 0,
              "model_id": "93879b84f71d4f24acbfea64079396b4"
            }
          },
          "metadata": {}
        },
        {
          "output_type": "display_data",
          "data": {
            "text/plain": [
              "<IPython.core.display.HTML object>"
            ],
            "text/html": [
              "<style>\n",
              "    table.wandb td:nth-child(1) { padding: 0 10px; text-align: right }\n",
              "    .wandb-row { display: flex; flex-direction: row; flex-wrap: wrap; width: 100% }\n",
              "    .wandb-col { display: flex; flex-direction: column; flex-basis: 100%; flex: 1; padding: 10px; }\n",
              "    </style>\n",
              "<div class=\"wandb-row\"><div class=\"wandb-col\"><h3>Run history:</h3><br/><table class=\"wandb\"><tr><td>batch loss</td><td>█▁▁▁▁▁▁▁▁▁▁▁▁▁▁▁▁▁▁▁▁▁▁▁▁▁▁▁▁▁▁▁▁▁▁▁▁▁▁▁</td></tr><tr><td>epoch</td><td>▁</td></tr><tr><td>loss</td><td>▁</td></tr></table><br/></div><div class=\"wandb-col\"><h3>Run summary:</h3><br/><table class=\"wandb\"><tr><td>batch loss</td><td>1.65317</td></tr><tr><td>epoch</td><td>0</td></tr><tr><td>loss</td><td>2.48699</td></tr></table><br/></div></div>"
            ]
          },
          "metadata": {}
        },
        {
          "output_type": "display_data",
          "data": {
            "text/plain": [
              "<IPython.core.display.HTML object>"
            ],
            "text/html": [
              "Synced <strong style=\"color:#cdcd00\">crisp-sweep-1</strong>: <a href=\"https://wandb.ai/nsp_team/pytorch-sweeps-demo/runs/yckrk9hh\" target=\"_blank\">https://wandb.ai/nsp_team/pytorch-sweeps-demo/runs/yckrk9hh</a><br/>Synced 4 W&B file(s), 0 media file(s), 0 artifact file(s) and 0 other file(s)"
            ]
          },
          "metadata": {}
        },
        {
          "output_type": "display_data",
          "data": {
            "text/plain": [
              "<IPython.core.display.HTML object>"
            ],
            "text/html": [
              "Find logs at: <code>./wandb/run-20220328_190818-yckrk9hh/logs</code>"
            ]
          },
          "metadata": {}
        },
        {
          "output_type": "stream",
          "name": "stderr",
          "text": [
            "\u001b[34m\u001b[1mwandb\u001b[0m: Agent Starting Run: ue35o2ap with config:\n",
            "\u001b[34m\u001b[1mwandb\u001b[0m: \tbatch_size: 147\n",
            "\u001b[34m\u001b[1mwandb\u001b[0m: \tdropout: 0.4\n",
            "\u001b[34m\u001b[1mwandb\u001b[0m: \tepochs: 1\n",
            "\u001b[34m\u001b[1mwandb\u001b[0m: \tfc_layer_size: 512\n",
            "\u001b[34m\u001b[1mwandb\u001b[0m: \tlearning_rate: 0.09668133350447876\n",
            "\u001b[34m\u001b[1mwandb\u001b[0m: \toptimizer: adam\n"
          ]
        },
        {
          "output_type": "display_data",
          "data": {
            "text/plain": [
              "<IPython.core.display.HTML object>"
            ],
            "text/html": [
              "Tracking run with wandb version 0.12.11"
            ]
          },
          "metadata": {}
        },
        {
          "output_type": "display_data",
          "data": {
            "text/plain": [
              "<IPython.core.display.HTML object>"
            ],
            "text/html": [
              "Run data is saved locally in <code>/content/wandb/run-20220328_190833-ue35o2ap</code>"
            ]
          },
          "metadata": {}
        },
        {
          "output_type": "display_data",
          "data": {
            "text/plain": [
              "<IPython.core.display.HTML object>"
            ],
            "text/html": [
              "Syncing run <strong><a href=\"https://wandb.ai/nsp_team/pytorch-sweeps-demo/runs/ue35o2ap\" target=\"_blank\">trim-sweep-2</a></strong> to <a href=\"https://wandb.ai/nsp_team/pytorch-sweeps-demo\" target=\"_blank\">Weights & Biases</a> (<a href=\"https://wandb.me/run\" target=\"_blank\">docs</a>)<br/>Sweep page:  <a href=\"https://wandb.ai/nsp_team/pytorch-sweeps-demo/sweeps/wv795kai\" target=\"_blank\">https://wandb.ai/nsp_team/pytorch-sweeps-demo/sweeps/wv795kai</a>"
            ]
          },
          "metadata": {}
        },
        {
          "output_type": "stream",
          "name": "stdout",
          "text": [
            "\n"
          ]
        },
        {
          "output_type": "display_data",
          "data": {
            "text/plain": [
              "<IPython.core.display.HTML object>"
            ],
            "text/html": [
              "Waiting for W&B process to finish... <strong style=\"color:green\">(success).</strong>"
            ]
          },
          "metadata": {}
        },
        {
          "output_type": "display_data",
          "data": {
            "text/plain": [
              "VBox(children=(Label(value='0.001 MB of 0.001 MB uploaded (0.000 MB deduped)\\r'), FloatProgress(value=1.0, max…"
            ],
            "application/vnd.jupyter.widget-view+json": {
              "version_major": 2,
              "version_minor": 0,
              "model_id": "7b24ab00c532482991ff12c2521f2abd"
            }
          },
          "metadata": {}
        },
        {
          "output_type": "display_data",
          "data": {
            "text/plain": [
              "<IPython.core.display.HTML object>"
            ],
            "text/html": [
              "<style>\n",
              "    table.wandb td:nth-child(1) { padding: 0 10px; text-align: right }\n",
              "    .wandb-row { display: flex; flex-direction: row; flex-wrap: wrap; width: 100% }\n",
              "    .wandb-col { display: flex; flex-direction: column; flex-basis: 100%; flex: 1; padding: 10px; }\n",
              "    </style>\n",
              "<div class=\"wandb-row\"><div class=\"wandb-col\"><h3>Run history:</h3><br/><table class=\"wandb\"><tr><td>batch loss</td><td>▁██▃▁▁▁▁▁▁▁▁▁▁▁▁▁▁▁▁▁▁▁▁▁▁▁▁▁▁▁▁▁▁▁▁▁▁▁▁</td></tr><tr><td>epoch</td><td>▁</td></tr><tr><td>loss</td><td>▁</td></tr></table><br/></div><div class=\"wandb-col\"><h3>Run summary:</h3><br/><table class=\"wandb\"><tr><td>batch loss</td><td>1.40475</td></tr><tr><td>epoch</td><td>0</td></tr><tr><td>loss</td><td>14.68168</td></tr></table><br/></div></div>"
            ]
          },
          "metadata": {}
        },
        {
          "output_type": "display_data",
          "data": {
            "text/plain": [
              "<IPython.core.display.HTML object>"
            ],
            "text/html": [
              "Synced <strong style=\"color:#cdcd00\">trim-sweep-2</strong>: <a href=\"https://wandb.ai/nsp_team/pytorch-sweeps-demo/runs/ue35o2ap\" target=\"_blank\">https://wandb.ai/nsp_team/pytorch-sweeps-demo/runs/ue35o2ap</a><br/>Synced 4 W&B file(s), 0 media file(s), 0 artifact file(s) and 0 other file(s)"
            ]
          },
          "metadata": {}
        },
        {
          "output_type": "display_data",
          "data": {
            "text/plain": [
              "<IPython.core.display.HTML object>"
            ],
            "text/html": [
              "Find logs at: <code>./wandb/run-20220328_190833-ue35o2ap/logs</code>"
            ]
          },
          "metadata": {}
        },
        {
          "output_type": "stream",
          "name": "stderr",
          "text": [
            "\u001b[34m\u001b[1mwandb\u001b[0m: Agent Starting Run: i8yhicg2 with config:\n",
            "\u001b[34m\u001b[1mwandb\u001b[0m: \tbatch_size: 166\n",
            "\u001b[34m\u001b[1mwandb\u001b[0m: \tdropout: 0.4\n",
            "\u001b[34m\u001b[1mwandb\u001b[0m: \tepochs: 1\n",
            "\u001b[34m\u001b[1mwandb\u001b[0m: \tfc_layer_size: 256\n",
            "\u001b[34m\u001b[1mwandb\u001b[0m: \tlearning_rate: 0.022960793011946617\n",
            "\u001b[34m\u001b[1mwandb\u001b[0m: \toptimizer: adam\n"
          ]
        },
        {
          "output_type": "display_data",
          "data": {
            "text/plain": [
              "<IPython.core.display.HTML object>"
            ],
            "text/html": [
              "Tracking run with wandb version 0.12.11"
            ]
          },
          "metadata": {}
        },
        {
          "output_type": "display_data",
          "data": {
            "text/plain": [
              "<IPython.core.display.HTML object>"
            ],
            "text/html": [
              "Run data is saved locally in <code>/content/wandb/run-20220328_190849-i8yhicg2</code>"
            ]
          },
          "metadata": {}
        },
        {
          "output_type": "display_data",
          "data": {
            "text/plain": [
              "<IPython.core.display.HTML object>"
            ],
            "text/html": [
              "Syncing run <strong><a href=\"https://wandb.ai/nsp_team/pytorch-sweeps-demo/runs/i8yhicg2\" target=\"_blank\">dazzling-sweep-3</a></strong> to <a href=\"https://wandb.ai/nsp_team/pytorch-sweeps-demo\" target=\"_blank\">Weights & Biases</a> (<a href=\"https://wandb.me/run\" target=\"_blank\">docs</a>)<br/>Sweep page:  <a href=\"https://wandb.ai/nsp_team/pytorch-sweeps-demo/sweeps/wv795kai\" target=\"_blank\">https://wandb.ai/nsp_team/pytorch-sweeps-demo/sweeps/wv795kai</a>"
            ]
          },
          "metadata": {}
        },
        {
          "output_type": "stream",
          "name": "stdout",
          "text": [
            "\n"
          ]
        },
        {
          "output_type": "display_data",
          "data": {
            "text/plain": [
              "<IPython.core.display.HTML object>"
            ],
            "text/html": [
              "Waiting for W&B process to finish... <strong style=\"color:green\">(success).</strong>"
            ]
          },
          "metadata": {}
        },
        {
          "output_type": "display_data",
          "data": {
            "text/plain": [
              "VBox(children=(Label(value='0.001 MB of 0.001 MB uploaded (0.000 MB deduped)\\r'), FloatProgress(value=1.0, max…"
            ],
            "application/vnd.jupyter.widget-view+json": {
              "version_major": 2,
              "version_minor": 0,
              "model_id": "96fd3f6e7dc34b9983218016231eec83"
            }
          },
          "metadata": {}
        },
        {
          "output_type": "display_data",
          "data": {
            "text/plain": [
              "<IPython.core.display.HTML object>"
            ],
            "text/html": [
              "<style>\n",
              "    table.wandb td:nth-child(1) { padding: 0 10px; text-align: right }\n",
              "    .wandb-row { display: flex; flex-direction: row; flex-wrap: wrap; width: 100% }\n",
              "    .wandb-col { display: flex; flex-direction: column; flex-basis: 100%; flex: 1; padding: 10px; }\n",
              "    </style>\n",
              "<div class=\"wandb-row\"><div class=\"wandb-col\"><h3>Run history:</h3><br/><table class=\"wandb\"><tr><td>batch loss</td><td>▃██▄▃▂▂▂▂▂▁▂▂▂▁▁▂▁▁▁▁▁▁▁▁▁▁▁▁▁▁▂▁▁▁▁▁▁▁▁</td></tr><tr><td>epoch</td><td>▁</td></tr><tr><td>loss</td><td>▁</td></tr></table><br/></div><div class=\"wandb-col\"><h3>Run summary:</h3><br/><table class=\"wandb\"><tr><td>batch loss</td><td>0.3133</td></tr><tr><td>epoch</td><td>0</td></tr><tr><td>loss</td><td>1.27264</td></tr></table><br/></div></div>"
            ]
          },
          "metadata": {}
        },
        {
          "output_type": "display_data",
          "data": {
            "text/plain": [
              "<IPython.core.display.HTML object>"
            ],
            "text/html": [
              "Synced <strong style=\"color:#cdcd00\">dazzling-sweep-3</strong>: <a href=\"https://wandb.ai/nsp_team/pytorch-sweeps-demo/runs/i8yhicg2\" target=\"_blank\">https://wandb.ai/nsp_team/pytorch-sweeps-demo/runs/i8yhicg2</a><br/>Synced 4 W&B file(s), 0 media file(s), 0 artifact file(s) and 0 other file(s)"
            ]
          },
          "metadata": {}
        },
        {
          "output_type": "display_data",
          "data": {
            "text/plain": [
              "<IPython.core.display.HTML object>"
            ],
            "text/html": [
              "Find logs at: <code>./wandb/run-20220328_190849-i8yhicg2/logs</code>"
            ]
          },
          "metadata": {}
        },
        {
          "output_type": "stream",
          "name": "stderr",
          "text": [
            "\u001b[34m\u001b[1mwandb\u001b[0m: Agent Starting Run: lc2g8kdz with config:\n",
            "\u001b[34m\u001b[1mwandb\u001b[0m: \tbatch_size: 51\n",
            "\u001b[34m\u001b[1mwandb\u001b[0m: \tdropout: 0.3\n",
            "\u001b[34m\u001b[1mwandb\u001b[0m: \tepochs: 1\n",
            "\u001b[34m\u001b[1mwandb\u001b[0m: \tfc_layer_size: 256\n",
            "\u001b[34m\u001b[1mwandb\u001b[0m: \tlearning_rate: 0.06848139363265486\n",
            "\u001b[34m\u001b[1mwandb\u001b[0m: \toptimizer: adam\n"
          ]
        },
        {
          "output_type": "display_data",
          "data": {
            "text/plain": [
              "<IPython.core.display.HTML object>"
            ],
            "text/html": [
              "Tracking run with wandb version 0.12.11"
            ]
          },
          "metadata": {}
        },
        {
          "output_type": "display_data",
          "data": {
            "text/plain": [
              "<IPython.core.display.HTML object>"
            ],
            "text/html": [
              "Run data is saved locally in <code>/content/wandb/run-20220328_190904-lc2g8kdz</code>"
            ]
          },
          "metadata": {}
        },
        {
          "output_type": "display_data",
          "data": {
            "text/plain": [
              "<IPython.core.display.HTML object>"
            ],
            "text/html": [
              "Syncing run <strong><a href=\"https://wandb.ai/nsp_team/pytorch-sweeps-demo/runs/lc2g8kdz\" target=\"_blank\">sage-sweep-4</a></strong> to <a href=\"https://wandb.ai/nsp_team/pytorch-sweeps-demo\" target=\"_blank\">Weights & Biases</a> (<a href=\"https://wandb.me/run\" target=\"_blank\">docs</a>)<br/>Sweep page:  <a href=\"https://wandb.ai/nsp_team/pytorch-sweeps-demo/sweeps/wv795kai\" target=\"_blank\">https://wandb.ai/nsp_team/pytorch-sweeps-demo/sweeps/wv795kai</a>"
            ]
          },
          "metadata": {}
        },
        {
          "output_type": "stream",
          "name": "stdout",
          "text": [
            "\n"
          ]
        },
        {
          "output_type": "display_data",
          "data": {
            "text/plain": [
              "<IPython.core.display.HTML object>"
            ],
            "text/html": [
              "Waiting for W&B process to finish... <strong style=\"color:green\">(success).</strong>"
            ]
          },
          "metadata": {}
        },
        {
          "output_type": "display_data",
          "data": {
            "text/plain": [
              "VBox(children=(Label(value='0.001 MB of 0.001 MB uploaded (0.000 MB deduped)\\r'), FloatProgress(value=1.0, max…"
            ],
            "application/vnd.jupyter.widget-view+json": {
              "version_major": 2,
              "version_minor": 0,
              "model_id": "c9330390606b4ca58f78e6d5a6628926"
            }
          },
          "metadata": {}
        },
        {
          "output_type": "display_data",
          "data": {
            "text/plain": [
              "<IPython.core.display.HTML object>"
            ],
            "text/html": [
              "<style>\n",
              "    table.wandb td:nth-child(1) { padding: 0 10px; text-align: right }\n",
              "    .wandb-row { display: flex; flex-direction: row; flex-wrap: wrap; width: 100% }\n",
              "    .wandb-col { display: flex; flex-direction: column; flex-basis: 100%; flex: 1; padding: 10px; }\n",
              "    </style>\n",
              "<div class=\"wandb-row\"><div class=\"wandb-col\"><h3>Run history:</h3><br/><table class=\"wandb\"><tr><td>batch loss</td><td>█▃▂▁▁▁▁▁▁▁▁▁▁▁▁▁▁▁▁▁▁▁▁▁▁▁▁▁▁▁▁▁▁▁▁▁▁▁▁▁</td></tr><tr><td>epoch</td><td>▁</td></tr><tr><td>loss</td><td>▁</td></tr></table><br/></div><div class=\"wandb-col\"><h3>Run summary:</h3><br/><table class=\"wandb\"><tr><td>batch loss</td><td>1.12794</td></tr><tr><td>epoch</td><td>0</td></tr><tr><td>loss</td><td>3.2117</td></tr></table><br/></div></div>"
            ]
          },
          "metadata": {}
        },
        {
          "output_type": "display_data",
          "data": {
            "text/plain": [
              "<IPython.core.display.HTML object>"
            ],
            "text/html": [
              "Synced <strong style=\"color:#cdcd00\">sage-sweep-4</strong>: <a href=\"https://wandb.ai/nsp_team/pytorch-sweeps-demo/runs/lc2g8kdz\" target=\"_blank\">https://wandb.ai/nsp_team/pytorch-sweeps-demo/runs/lc2g8kdz</a><br/>Synced 4 W&B file(s), 0 media file(s), 0 artifact file(s) and 0 other file(s)"
            ]
          },
          "metadata": {}
        },
        {
          "output_type": "display_data",
          "data": {
            "text/plain": [
              "<IPython.core.display.HTML object>"
            ],
            "text/html": [
              "Find logs at: <code>./wandb/run-20220328_190904-lc2g8kdz/logs</code>"
            ]
          },
          "metadata": {}
        },
        {
          "output_type": "stream",
          "name": "stderr",
          "text": [
            "\u001b[34m\u001b[1mwandb\u001b[0m: Agent Starting Run: w04wrue2 with config:\n",
            "\u001b[34m\u001b[1mwandb\u001b[0m: \tbatch_size: 128\n",
            "\u001b[34m\u001b[1mwandb\u001b[0m: \tdropout: 0.4\n",
            "\u001b[34m\u001b[1mwandb\u001b[0m: \tepochs: 1\n",
            "\u001b[34m\u001b[1mwandb\u001b[0m: \tfc_layer_size: 512\n",
            "\u001b[34m\u001b[1mwandb\u001b[0m: \tlearning_rate: 0.019651831714580105\n",
            "\u001b[34m\u001b[1mwandb\u001b[0m: \toptimizer: sgd\n"
          ]
        },
        {
          "output_type": "display_data",
          "data": {
            "text/plain": [
              "<IPython.core.display.HTML object>"
            ],
            "text/html": [
              "Tracking run with wandb version 0.12.11"
            ]
          },
          "metadata": {}
        },
        {
          "output_type": "display_data",
          "data": {
            "text/plain": [
              "<IPython.core.display.HTML object>"
            ],
            "text/html": [
              "Run data is saved locally in <code>/content/wandb/run-20220328_190920-w04wrue2</code>"
            ]
          },
          "metadata": {}
        },
        {
          "output_type": "display_data",
          "data": {
            "text/plain": [
              "<IPython.core.display.HTML object>"
            ],
            "text/html": [
              "Syncing run <strong><a href=\"https://wandb.ai/nsp_team/pytorch-sweeps-demo/runs/w04wrue2\" target=\"_blank\">frosty-sweep-5</a></strong> to <a href=\"https://wandb.ai/nsp_team/pytorch-sweeps-demo\" target=\"_blank\">Weights & Biases</a> (<a href=\"https://wandb.me/run\" target=\"_blank\">docs</a>)<br/>Sweep page:  <a href=\"https://wandb.ai/nsp_team/pytorch-sweeps-demo/sweeps/wv795kai\" target=\"_blank\">https://wandb.ai/nsp_team/pytorch-sweeps-demo/sweeps/wv795kai</a>"
            ]
          },
          "metadata": {}
        },
        {
          "output_type": "stream",
          "name": "stdout",
          "text": [
            "\n"
          ]
        },
        {
          "output_type": "display_data",
          "data": {
            "text/plain": [
              "<IPython.core.display.HTML object>"
            ],
            "text/html": [
              "Waiting for W&B process to finish... <strong style=\"color:green\">(success).</strong>"
            ]
          },
          "metadata": {}
        },
        {
          "output_type": "display_data",
          "data": {
            "text/plain": [
              "VBox(children=(Label(value='0.001 MB of 0.001 MB uploaded (0.000 MB deduped)\\r'), FloatProgress(value=1.0, max…"
            ],
            "application/vnd.jupyter.widget-view+json": {
              "version_major": 2,
              "version_minor": 0,
              "model_id": "54df52b28126419bacebffc410d13487"
            }
          },
          "metadata": {}
        },
        {
          "output_type": "display_data",
          "data": {
            "text/plain": [
              "<IPython.core.display.HTML object>"
            ],
            "text/html": [
              "<style>\n",
              "    table.wandb td:nth-child(1) { padding: 0 10px; text-align: right }\n",
              "    .wandb-row { display: flex; flex-direction: row; flex-wrap: wrap; width: 100% }\n",
              "    .wandb-col { display: flex; flex-direction: column; flex-basis: 100%; flex: 1; padding: 10px; }\n",
              "    </style>\n",
              "<div class=\"wandb-row\"><div class=\"wandb-col\"><h3>Run history:</h3><br/><table class=\"wandb\"><tr><td>batch loss</td><td>██▇▅▄▄▂▂▂▂▂▂▂▂▂▂▂▂▂▂▂▂▁▂▁▂▂▂▁▁▁▂▂▂▂▁▁▁▁▁</td></tr><tr><td>epoch</td><td>▁</td></tr><tr><td>loss</td><td>▁</td></tr></table><br/></div><div class=\"wandb-col\"><h3>Run summary:</h3><br/><table class=\"wandb\"><tr><td>batch loss</td><td>0.35761</td></tr><tr><td>epoch</td><td>0</td></tr><tr><td>loss</td><td>0.60952</td></tr></table><br/></div></div>"
            ]
          },
          "metadata": {}
        },
        {
          "output_type": "display_data",
          "data": {
            "text/plain": [
              "<IPython.core.display.HTML object>"
            ],
            "text/html": [
              "Synced <strong style=\"color:#cdcd00\">frosty-sweep-5</strong>: <a href=\"https://wandb.ai/nsp_team/pytorch-sweeps-demo/runs/w04wrue2\" target=\"_blank\">https://wandb.ai/nsp_team/pytorch-sweeps-demo/runs/w04wrue2</a><br/>Synced 4 W&B file(s), 0 media file(s), 0 artifact file(s) and 0 other file(s)"
            ]
          },
          "metadata": {}
        },
        {
          "output_type": "display_data",
          "data": {
            "text/plain": [
              "<IPython.core.display.HTML object>"
            ],
            "text/html": [
              "Find logs at: <code>./wandb/run-20220328_190920-w04wrue2/logs</code>"
            ]
          },
          "metadata": {}
        }
      ]
    },
    {
      "cell_type": "markdown",
      "source": [
        "![Screenshot 2022-03-28 121245.png](data:image/png;base64,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)"
      ],
      "metadata": {
        "id": "Bl5fWXzi8iV0"
      }
    }
  ]
}