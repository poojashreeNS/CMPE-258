{
  "nbformat": 4,
  "nbformat_minor": 0,
  "metadata": {
    "colab": {
      "name": "Assignment - 4 - Part - B1.ipynb",
      "provenance": []
    },
    "kernelspec": {
      "name": "python3",
      "display_name": "Python 3"
    },
    "language_info": {
      "name": "python"
    },
    "widgets": {
      "application/vnd.jupyter.widget-state+json": {
        "57964a9a3aee4e00a38148db4ea1637e": {
          "model_module": "@jupyter-widgets/controls",
          "model_name": "VBoxModel",
          "model_module_version": "1.5.0",
          "state": {
            "_dom_classes": [],
            "_model_module": "@jupyter-widgets/controls",
            "_model_module_version": "1.5.0",
            "_model_name": "VBoxModel",
            "_view_count": null,
            "_view_module": "@jupyter-widgets/controls",
            "_view_module_version": "1.5.0",
            "_view_name": "VBoxView",
            "box_style": "",
            "children": [
              "IPY_MODEL_3e4880a3467d4b2eb719dbed1863194e",
              "IPY_MODEL_06c432aa590145e5bcc41681bad84009"
            ],
            "layout": "IPY_MODEL_cdc14de1ce3e4678b6243abc1194c07b"
          }
        },
        "3e4880a3467d4b2eb719dbed1863194e": {
          "model_module": "@jupyter-widgets/controls",
          "model_name": "LabelModel",
          "model_module_version": "1.5.0",
          "state": {
            "_dom_classes": [],
            "_model_module": "@jupyter-widgets/controls",
            "_model_module_version": "1.5.0",
            "_model_name": "LabelModel",
            "_view_count": null,
            "_view_module": "@jupyter-widgets/controls",
            "_view_module_version": "1.5.0",
            "_view_name": "LabelView",
            "description": "",
            "description_tooltip": null,
            "layout": "IPY_MODEL_b3aa6d86fe9a44fabe65f8541cacb415",
            "placeholder": "​",
            "style": "IPY_MODEL_0fbb059c641e42328ba7b843799db835",
            "value": "2.385 MB of 2.385 MB uploaded (0.000 MB deduped)\r"
          }
        },
        "06c432aa590145e5bcc41681bad84009": {
          "model_module": "@jupyter-widgets/controls",
          "model_name": "FloatProgressModel",
          "model_module_version": "1.5.0",
          "state": {
            "_dom_classes": [],
            "_model_module": "@jupyter-widgets/controls",
            "_model_module_version": "1.5.0",
            "_model_name": "FloatProgressModel",
            "_view_count": null,
            "_view_module": "@jupyter-widgets/controls",
            "_view_module_version": "1.5.0",
            "_view_name": "ProgressView",
            "bar_style": "",
            "description": "",
            "description_tooltip": null,
            "layout": "IPY_MODEL_db0120ca19e0438e8b5b9ea60236be90",
            "max": 1,
            "min": 0,
            "orientation": "horizontal",
            "style": "IPY_MODEL_14c6faeb6616414d89c0886fa76f8535",
            "value": 1
          }
        },
        "cdc14de1ce3e4678b6243abc1194c07b": {
          "model_module": "@jupyter-widgets/base",
          "model_name": "LayoutModel",
          "model_module_version": "1.2.0",
          "state": {
            "_model_module": "@jupyter-widgets/base",
            "_model_module_version": "1.2.0",
            "_model_name": "LayoutModel",
            "_view_count": null,
            "_view_module": "@jupyter-widgets/base",
            "_view_module_version": "1.2.0",
            "_view_name": "LayoutView",
            "align_content": null,
            "align_items": null,
            "align_self": null,
            "border": null,
            "bottom": null,
            "display": null,
            "flex": null,
            "flex_flow": null,
            "grid_area": null,
            "grid_auto_columns": null,
            "grid_auto_flow": null,
            "grid_auto_rows": null,
            "grid_column": null,
            "grid_gap": null,
            "grid_row": null,
            "grid_template_areas": null,
            "grid_template_columns": null,
            "grid_template_rows": null,
            "height": null,
            "justify_content": null,
            "justify_items": null,
            "left": null,
            "margin": null,
            "max_height": null,
            "max_width": null,
            "min_height": null,
            "min_width": null,
            "object_fit": null,
            "object_position": null,
            "order": null,
            "overflow": null,
            "overflow_x": null,
            "overflow_y": null,
            "padding": null,
            "right": null,
            "top": null,
            "visibility": null,
            "width": null
          }
        },
        "b3aa6d86fe9a44fabe65f8541cacb415": {
          "model_module": "@jupyter-widgets/base",
          "model_name": "LayoutModel",
          "model_module_version": "1.2.0",
          "state": {
            "_model_module": "@jupyter-widgets/base",
            "_model_module_version": "1.2.0",
            "_model_name": "LayoutModel",
            "_view_count": null,
            "_view_module": "@jupyter-widgets/base",
            "_view_module_version": "1.2.0",
            "_view_name": "LayoutView",
            "align_content": null,
            "align_items": null,
            "align_self": null,
            "border": null,
            "bottom": null,
            "display": null,
            "flex": null,
            "flex_flow": null,
            "grid_area": null,
            "grid_auto_columns": null,
            "grid_auto_flow": null,
            "grid_auto_rows": null,
            "grid_column": null,
            "grid_gap": null,
            "grid_row": null,
            "grid_template_areas": null,
            "grid_template_columns": null,
            "grid_template_rows": null,
            "height": null,
            "justify_content": null,
            "justify_items": null,
            "left": null,
            "margin": null,
            "max_height": null,
            "max_width": null,
            "min_height": null,
            "min_width": null,
            "object_fit": null,
            "object_position": null,
            "order": null,
            "overflow": null,
            "overflow_x": null,
            "overflow_y": null,
            "padding": null,
            "right": null,
            "top": null,
            "visibility": null,
            "width": null
          }
        },
        "0fbb059c641e42328ba7b843799db835": {
          "model_module": "@jupyter-widgets/controls",
          "model_name": "DescriptionStyleModel",
          "model_module_version": "1.5.0",
          "state": {
            "_model_module": "@jupyter-widgets/controls",
            "_model_module_version": "1.5.0",
            "_model_name": "DescriptionStyleModel",
            "_view_count": null,
            "_view_module": "@jupyter-widgets/base",
            "_view_module_version": "1.2.0",
            "_view_name": "StyleView",
            "description_width": ""
          }
        },
        "db0120ca19e0438e8b5b9ea60236be90": {
          "model_module": "@jupyter-widgets/base",
          "model_name": "LayoutModel",
          "model_module_version": "1.2.0",
          "state": {
            "_model_module": "@jupyter-widgets/base",
            "_model_module_version": "1.2.0",
            "_model_name": "LayoutModel",
            "_view_count": null,
            "_view_module": "@jupyter-widgets/base",
            "_view_module_version": "1.2.0",
            "_view_name": "LayoutView",
            "align_content": null,
            "align_items": null,
            "align_self": null,
            "border": null,
            "bottom": null,
            "display": null,
            "flex": null,
            "flex_flow": null,
            "grid_area": null,
            "grid_auto_columns": null,
            "grid_auto_flow": null,
            "grid_auto_rows": null,
            "grid_column": null,
            "grid_gap": null,
            "grid_row": null,
            "grid_template_areas": null,
            "grid_template_columns": null,
            "grid_template_rows": null,
            "height": null,
            "justify_content": null,
            "justify_items": null,
            "left": null,
            "margin": null,
            "max_height": null,
            "max_width": null,
            "min_height": null,
            "min_width": null,
            "object_fit": null,
            "object_position": null,
            "order": null,
            "overflow": null,
            "overflow_x": null,
            "overflow_y": null,
            "padding": null,
            "right": null,
            "top": null,
            "visibility": null,
            "width": null
          }
        },
        "14c6faeb6616414d89c0886fa76f8535": {
          "model_module": "@jupyter-widgets/controls",
          "model_name": "ProgressStyleModel",
          "model_module_version": "1.5.0",
          "state": {
            "_model_module": "@jupyter-widgets/controls",
            "_model_module_version": "1.5.0",
            "_model_name": "ProgressStyleModel",
            "_view_count": null,
            "_view_module": "@jupyter-widgets/base",
            "_view_module_version": "1.2.0",
            "_view_name": "StyleView",
            "bar_color": null,
            "description_width": ""
          }
        },
        "307d3063ef46442a8145965771a39247": {
          "model_module": "@jupyter-widgets/controls",
          "model_name": "VBoxModel",
          "model_module_version": "1.5.0",
          "state": {
            "_dom_classes": [],
            "_model_module": "@jupyter-widgets/controls",
            "_model_module_version": "1.5.0",
            "_model_name": "VBoxModel",
            "_view_count": null,
            "_view_module": "@jupyter-widgets/controls",
            "_view_module_version": "1.5.0",
            "_view_name": "VBoxView",
            "box_style": "",
            "children": [
              "IPY_MODEL_b2618864061a42d5a81e8248f530f488",
              "IPY_MODEL_a13278fed4a249a58750e23e22fc9347"
            ],
            "layout": "IPY_MODEL_d1c7dd28a250457298376ac9566e51ae"
          }
        },
        "b2618864061a42d5a81e8248f530f488": {
          "model_module": "@jupyter-widgets/controls",
          "model_name": "LabelModel",
          "model_module_version": "1.5.0",
          "state": {
            "_dom_classes": [],
            "_model_module": "@jupyter-widgets/controls",
            "_model_module_version": "1.5.0",
            "_model_name": "LabelModel",
            "_view_count": null,
            "_view_module": "@jupyter-widgets/controls",
            "_view_module_version": "1.5.0",
            "_view_name": "LabelView",
            "description": "",
            "description_tooltip": null,
            "layout": "IPY_MODEL_ecaa2fc401b8431bb20abbabe211f041",
            "placeholder": "​",
            "style": "IPY_MODEL_2e75b860ed714887a02b67d6d8e7585f",
            "value": "2.006 MB of 2.006 MB uploaded (0.000 MB deduped)\r"
          }
        },
        "a13278fed4a249a58750e23e22fc9347": {
          "model_module": "@jupyter-widgets/controls",
          "model_name": "FloatProgressModel",
          "model_module_version": "1.5.0",
          "state": {
            "_dom_classes": [],
            "_model_module": "@jupyter-widgets/controls",
            "_model_module_version": "1.5.0",
            "_model_name": "FloatProgressModel",
            "_view_count": null,
            "_view_module": "@jupyter-widgets/controls",
            "_view_module_version": "1.5.0",
            "_view_name": "ProgressView",
            "bar_style": "",
            "description": "",
            "description_tooltip": null,
            "layout": "IPY_MODEL_5de396b7436a4f6ab6cb316f9ee43bc6",
            "max": 1,
            "min": 0,
            "orientation": "horizontal",
            "style": "IPY_MODEL_fb8ed4a1031848f2bdfe44fc0dc750bb",
            "value": 1
          }
        },
        "d1c7dd28a250457298376ac9566e51ae": {
          "model_module": "@jupyter-widgets/base",
          "model_name": "LayoutModel",
          "model_module_version": "1.2.0",
          "state": {
            "_model_module": "@jupyter-widgets/base",
            "_model_module_version": "1.2.0",
            "_model_name": "LayoutModel",
            "_view_count": null,
            "_view_module": "@jupyter-widgets/base",
            "_view_module_version": "1.2.0",
            "_view_name": "LayoutView",
            "align_content": null,
            "align_items": null,
            "align_self": null,
            "border": null,
            "bottom": null,
            "display": null,
            "flex": null,
            "flex_flow": null,
            "grid_area": null,
            "grid_auto_columns": null,
            "grid_auto_flow": null,
            "grid_auto_rows": null,
            "grid_column": null,
            "grid_gap": null,
            "grid_row": null,
            "grid_template_areas": null,
            "grid_template_columns": null,
            "grid_template_rows": null,
            "height": null,
            "justify_content": null,
            "justify_items": null,
            "left": null,
            "margin": null,
            "max_height": null,
            "max_width": null,
            "min_height": null,
            "min_width": null,
            "object_fit": null,
            "object_position": null,
            "order": null,
            "overflow": null,
            "overflow_x": null,
            "overflow_y": null,
            "padding": null,
            "right": null,
            "top": null,
            "visibility": null,
            "width": null
          }
        },
        "ecaa2fc401b8431bb20abbabe211f041": {
          "model_module": "@jupyter-widgets/base",
          "model_name": "LayoutModel",
          "model_module_version": "1.2.0",
          "state": {
            "_model_module": "@jupyter-widgets/base",
            "_model_module_version": "1.2.0",
            "_model_name": "LayoutModel",
            "_view_count": null,
            "_view_module": "@jupyter-widgets/base",
            "_view_module_version": "1.2.0",
            "_view_name": "LayoutView",
            "align_content": null,
            "align_items": null,
            "align_self": null,
            "border": null,
            "bottom": null,
            "display": null,
            "flex": null,
            "flex_flow": null,
            "grid_area": null,
            "grid_auto_columns": null,
            "grid_auto_flow": null,
            "grid_auto_rows": null,
            "grid_column": null,
            "grid_gap": null,
            "grid_row": null,
            "grid_template_areas": null,
            "grid_template_columns": null,
            "grid_template_rows": null,
            "height": null,
            "justify_content": null,
            "justify_items": null,
            "left": null,
            "margin": null,
            "max_height": null,
            "max_width": null,
            "min_height": null,
            "min_width": null,
            "object_fit": null,
            "object_position": null,
            "order": null,
            "overflow": null,
            "overflow_x": null,
            "overflow_y": null,
            "padding": null,
            "right": null,
            "top": null,
            "visibility": null,
            "width": null
          }
        },
        "2e75b860ed714887a02b67d6d8e7585f": {
          "model_module": "@jupyter-widgets/controls",
          "model_name": "DescriptionStyleModel",
          "model_module_version": "1.5.0",
          "state": {
            "_model_module": "@jupyter-widgets/controls",
            "_model_module_version": "1.5.0",
            "_model_name": "DescriptionStyleModel",
            "_view_count": null,
            "_view_module": "@jupyter-widgets/base",
            "_view_module_version": "1.2.0",
            "_view_name": "StyleView",
            "description_width": ""
          }
        },
        "5de396b7436a4f6ab6cb316f9ee43bc6": {
          "model_module": "@jupyter-widgets/base",
          "model_name": "LayoutModel",
          "model_module_version": "1.2.0",
          "state": {
            "_model_module": "@jupyter-widgets/base",
            "_model_module_version": "1.2.0",
            "_model_name": "LayoutModel",
            "_view_count": null,
            "_view_module": "@jupyter-widgets/base",
            "_view_module_version": "1.2.0",
            "_view_name": "LayoutView",
            "align_content": null,
            "align_items": null,
            "align_self": null,
            "border": null,
            "bottom": null,
            "display": null,
            "flex": null,
            "flex_flow": null,
            "grid_area": null,
            "grid_auto_columns": null,
            "grid_auto_flow": null,
            "grid_auto_rows": null,
            "grid_column": null,
            "grid_gap": null,
            "grid_row": null,
            "grid_template_areas": null,
            "grid_template_columns": null,
            "grid_template_rows": null,
            "height": null,
            "justify_content": null,
            "justify_items": null,
            "left": null,
            "margin": null,
            "max_height": null,
            "max_width": null,
            "min_height": null,
            "min_width": null,
            "object_fit": null,
            "object_position": null,
            "order": null,
            "overflow": null,
            "overflow_x": null,
            "overflow_y": null,
            "padding": null,
            "right": null,
            "top": null,
            "visibility": null,
            "width": null
          }
        },
        "fb8ed4a1031848f2bdfe44fc0dc750bb": {
          "model_module": "@jupyter-widgets/controls",
          "model_name": "ProgressStyleModel",
          "model_module_version": "1.5.0",
          "state": {
            "_model_module": "@jupyter-widgets/controls",
            "_model_module_version": "1.5.0",
            "_model_name": "ProgressStyleModel",
            "_view_count": null,
            "_view_module": "@jupyter-widgets/base",
            "_view_module_version": "1.2.0",
            "_view_name": "StyleView",
            "bar_color": null,
            "description_width": ""
          }
        },
        "ec981378815d4444a26b8bf440fbd92a": {
          "model_module": "@jupyter-widgets/controls",
          "model_name": "VBoxModel",
          "model_module_version": "1.5.0",
          "state": {
            "_dom_classes": [],
            "_model_module": "@jupyter-widgets/controls",
            "_model_module_version": "1.5.0",
            "_model_name": "VBoxModel",
            "_view_count": null,
            "_view_module": "@jupyter-widgets/controls",
            "_view_module_version": "1.5.0",
            "_view_name": "VBoxView",
            "box_style": "",
            "children": [
              "IPY_MODEL_00ce4f17b5854a7fb92d66778b82f1b7",
              "IPY_MODEL_bdd2bdcd8c1442dcb00a6fbfdca9bb95"
            ],
            "layout": "IPY_MODEL_aa5e756bf90448c5bf00e16e378233c8"
          }
        },
        "00ce4f17b5854a7fb92d66778b82f1b7": {
          "model_module": "@jupyter-widgets/controls",
          "model_name": "LabelModel",
          "model_module_version": "1.5.0",
          "state": {
            "_dom_classes": [],
            "_model_module": "@jupyter-widgets/controls",
            "_model_module_version": "1.5.0",
            "_model_name": "LabelModel",
            "_view_count": null,
            "_view_module": "@jupyter-widgets/controls",
            "_view_module_version": "1.5.0",
            "_view_name": "LabelView",
            "description": "",
            "description_tooltip": null,
            "layout": "IPY_MODEL_d5081a1b668e4fe1bb933c56a03ff57b",
            "placeholder": "​",
            "style": "IPY_MODEL_e03db52e37424d9db59c46f66aa83a4a",
            "value": "2.006 MB of 2.006 MB uploaded (0.000 MB deduped)\r"
          }
        },
        "bdd2bdcd8c1442dcb00a6fbfdca9bb95": {
          "model_module": "@jupyter-widgets/controls",
          "model_name": "FloatProgressModel",
          "model_module_version": "1.5.0",
          "state": {
            "_dom_classes": [],
            "_model_module": "@jupyter-widgets/controls",
            "_model_module_version": "1.5.0",
            "_model_name": "FloatProgressModel",
            "_view_count": null,
            "_view_module": "@jupyter-widgets/controls",
            "_view_module_version": "1.5.0",
            "_view_name": "ProgressView",
            "bar_style": "",
            "description": "",
            "description_tooltip": null,
            "layout": "IPY_MODEL_e523ba0407474ffea042941724087b8e",
            "max": 1,
            "min": 0,
            "orientation": "horizontal",
            "style": "IPY_MODEL_df2c3a7e0a2047039ca86fd072b1a522",
            "value": 1
          }
        },
        "aa5e756bf90448c5bf00e16e378233c8": {
          "model_module": "@jupyter-widgets/base",
          "model_name": "LayoutModel",
          "model_module_version": "1.2.0",
          "state": {
            "_model_module": "@jupyter-widgets/base",
            "_model_module_version": "1.2.0",
            "_model_name": "LayoutModel",
            "_view_count": null,
            "_view_module": "@jupyter-widgets/base",
            "_view_module_version": "1.2.0",
            "_view_name": "LayoutView",
            "align_content": null,
            "align_items": null,
            "align_self": null,
            "border": null,
            "bottom": null,
            "display": null,
            "flex": null,
            "flex_flow": null,
            "grid_area": null,
            "grid_auto_columns": null,
            "grid_auto_flow": null,
            "grid_auto_rows": null,
            "grid_column": null,
            "grid_gap": null,
            "grid_row": null,
            "grid_template_areas": null,
            "grid_template_columns": null,
            "grid_template_rows": null,
            "height": null,
            "justify_content": null,
            "justify_items": null,
            "left": null,
            "margin": null,
            "max_height": null,
            "max_width": null,
            "min_height": null,
            "min_width": null,
            "object_fit": null,
            "object_position": null,
            "order": null,
            "overflow": null,
            "overflow_x": null,
            "overflow_y": null,
            "padding": null,
            "right": null,
            "top": null,
            "visibility": null,
            "width": null
          }
        },
        "d5081a1b668e4fe1bb933c56a03ff57b": {
          "model_module": "@jupyter-widgets/base",
          "model_name": "LayoutModel",
          "model_module_version": "1.2.0",
          "state": {
            "_model_module": "@jupyter-widgets/base",
            "_model_module_version": "1.2.0",
            "_model_name": "LayoutModel",
            "_view_count": null,
            "_view_module": "@jupyter-widgets/base",
            "_view_module_version": "1.2.0",
            "_view_name": "LayoutView",
            "align_content": null,
            "align_items": null,
            "align_self": null,
            "border": null,
            "bottom": null,
            "display": null,
            "flex": null,
            "flex_flow": null,
            "grid_area": null,
            "grid_auto_columns": null,
            "grid_auto_flow": null,
            "grid_auto_rows": null,
            "grid_column": null,
            "grid_gap": null,
            "grid_row": null,
            "grid_template_areas": null,
            "grid_template_columns": null,
            "grid_template_rows": null,
            "height": null,
            "justify_content": null,
            "justify_items": null,
            "left": null,
            "margin": null,
            "max_height": null,
            "max_width": null,
            "min_height": null,
            "min_width": null,
            "object_fit": null,
            "object_position": null,
            "order": null,
            "overflow": null,
            "overflow_x": null,
            "overflow_y": null,
            "padding": null,
            "right": null,
            "top": null,
            "visibility": null,
            "width": null
          }
        },
        "e03db52e37424d9db59c46f66aa83a4a": {
          "model_module": "@jupyter-widgets/controls",
          "model_name": "DescriptionStyleModel",
          "model_module_version": "1.5.0",
          "state": {
            "_model_module": "@jupyter-widgets/controls",
            "_model_module_version": "1.5.0",
            "_model_name": "DescriptionStyleModel",
            "_view_count": null,
            "_view_module": "@jupyter-widgets/base",
            "_view_module_version": "1.2.0",
            "_view_name": "StyleView",
            "description_width": ""
          }
        },
        "e523ba0407474ffea042941724087b8e": {
          "model_module": "@jupyter-widgets/base",
          "model_name": "LayoutModel",
          "model_module_version": "1.2.0",
          "state": {
            "_model_module": "@jupyter-widgets/base",
            "_model_module_version": "1.2.0",
            "_model_name": "LayoutModel",
            "_view_count": null,
            "_view_module": "@jupyter-widgets/base",
            "_view_module_version": "1.2.0",
            "_view_name": "LayoutView",
            "align_content": null,
            "align_items": null,
            "align_self": null,
            "border": null,
            "bottom": null,
            "display": null,
            "flex": null,
            "flex_flow": null,
            "grid_area": null,
            "grid_auto_columns": null,
            "grid_auto_flow": null,
            "grid_auto_rows": null,
            "grid_column": null,
            "grid_gap": null,
            "grid_row": null,
            "grid_template_areas": null,
            "grid_template_columns": null,
            "grid_template_rows": null,
            "height": null,
            "justify_content": null,
            "justify_items": null,
            "left": null,
            "margin": null,
            "max_height": null,
            "max_width": null,
            "min_height": null,
            "min_width": null,
            "object_fit": null,
            "object_position": null,
            "order": null,
            "overflow": null,
            "overflow_x": null,
            "overflow_y": null,
            "padding": null,
            "right": null,
            "top": null,
            "visibility": null,
            "width": null
          }
        },
        "df2c3a7e0a2047039ca86fd072b1a522": {
          "model_module": "@jupyter-widgets/controls",
          "model_name": "ProgressStyleModel",
          "model_module_version": "1.5.0",
          "state": {
            "_model_module": "@jupyter-widgets/controls",
            "_model_module_version": "1.5.0",
            "_model_name": "ProgressStyleModel",
            "_view_count": null,
            "_view_module": "@jupyter-widgets/base",
            "_view_module_version": "1.2.0",
            "_view_name": "StyleView",
            "bar_color": null,
            "description_width": ""
          }
        },
        "29c2987cbc414895b4993ffc6604531d": {
          "model_module": "@jupyter-widgets/controls",
          "model_name": "VBoxModel",
          "model_module_version": "1.5.0",
          "state": {
            "_dom_classes": [],
            "_model_module": "@jupyter-widgets/controls",
            "_model_module_version": "1.5.0",
            "_model_name": "VBoxModel",
            "_view_count": null,
            "_view_module": "@jupyter-widgets/controls",
            "_view_module_version": "1.5.0",
            "_view_name": "VBoxView",
            "box_style": "",
            "children": [
              "IPY_MODEL_7e4c4d953b8c431da8a2ef7c0b8db8f0",
              "IPY_MODEL_66a052eea4d9447ba520aff90a0a2146"
            ],
            "layout": "IPY_MODEL_01b00d7916f140d8b13fa4fd2e0b9a44"
          }
        },
        "7e4c4d953b8c431da8a2ef7c0b8db8f0": {
          "model_module": "@jupyter-widgets/controls",
          "model_name": "LabelModel",
          "model_module_version": "1.5.0",
          "state": {
            "_dom_classes": [],
            "_model_module": "@jupyter-widgets/controls",
            "_model_module_version": "1.5.0",
            "_model_name": "LabelModel",
            "_view_count": null,
            "_view_module": "@jupyter-widgets/controls",
            "_view_module_version": "1.5.0",
            "_view_name": "LabelView",
            "description": "",
            "description_tooltip": null,
            "layout": "IPY_MODEL_aa777012dce8475e8b597a6cf07a1119",
            "placeholder": "​",
            "style": "IPY_MODEL_d6747fd9223248488599b71dce8402bd",
            "value": "2.004 MB of 2.004 MB uploaded (0.000 MB deduped)\r"
          }
        },
        "66a052eea4d9447ba520aff90a0a2146": {
          "model_module": "@jupyter-widgets/controls",
          "model_name": "FloatProgressModel",
          "model_module_version": "1.5.0",
          "state": {
            "_dom_classes": [],
            "_model_module": "@jupyter-widgets/controls",
            "_model_module_version": "1.5.0",
            "_model_name": "FloatProgressModel",
            "_view_count": null,
            "_view_module": "@jupyter-widgets/controls",
            "_view_module_version": "1.5.0",
            "_view_name": "ProgressView",
            "bar_style": "",
            "description": "",
            "description_tooltip": null,
            "layout": "IPY_MODEL_2080944ecad848e185b559625588b5de",
            "max": 1,
            "min": 0,
            "orientation": "horizontal",
            "style": "IPY_MODEL_1a12f87f99a946b1bdcb8a4c840f0337",
            "value": 1
          }
        },
        "01b00d7916f140d8b13fa4fd2e0b9a44": {
          "model_module": "@jupyter-widgets/base",
          "model_name": "LayoutModel",
          "model_module_version": "1.2.0",
          "state": {
            "_model_module": "@jupyter-widgets/base",
            "_model_module_version": "1.2.0",
            "_model_name": "LayoutModel",
            "_view_count": null,
            "_view_module": "@jupyter-widgets/base",
            "_view_module_version": "1.2.0",
            "_view_name": "LayoutView",
            "align_content": null,
            "align_items": null,
            "align_self": null,
            "border": null,
            "bottom": null,
            "display": null,
            "flex": null,
            "flex_flow": null,
            "grid_area": null,
            "grid_auto_columns": null,
            "grid_auto_flow": null,
            "grid_auto_rows": null,
            "grid_column": null,
            "grid_gap": null,
            "grid_row": null,
            "grid_template_areas": null,
            "grid_template_columns": null,
            "grid_template_rows": null,
            "height": null,
            "justify_content": null,
            "justify_items": null,
            "left": null,
            "margin": null,
            "max_height": null,
            "max_width": null,
            "min_height": null,
            "min_width": null,
            "object_fit": null,
            "object_position": null,
            "order": null,
            "overflow": null,
            "overflow_x": null,
            "overflow_y": null,
            "padding": null,
            "right": null,
            "top": null,
            "visibility": null,
            "width": null
          }
        },
        "aa777012dce8475e8b597a6cf07a1119": {
          "model_module": "@jupyter-widgets/base",
          "model_name": "LayoutModel",
          "model_module_version": "1.2.0",
          "state": {
            "_model_module": "@jupyter-widgets/base",
            "_model_module_version": "1.2.0",
            "_model_name": "LayoutModel",
            "_view_count": null,
            "_view_module": "@jupyter-widgets/base",
            "_view_module_version": "1.2.0",
            "_view_name": "LayoutView",
            "align_content": null,
            "align_items": null,
            "align_self": null,
            "border": null,
            "bottom": null,
            "display": null,
            "flex": null,
            "flex_flow": null,
            "grid_area": null,
            "grid_auto_columns": null,
            "grid_auto_flow": null,
            "grid_auto_rows": null,
            "grid_column": null,
            "grid_gap": null,
            "grid_row": null,
            "grid_template_areas": null,
            "grid_template_columns": null,
            "grid_template_rows": null,
            "height": null,
            "justify_content": null,
            "justify_items": null,
            "left": null,
            "margin": null,
            "max_height": null,
            "max_width": null,
            "min_height": null,
            "min_width": null,
            "object_fit": null,
            "object_position": null,
            "order": null,
            "overflow": null,
            "overflow_x": null,
            "overflow_y": null,
            "padding": null,
            "right": null,
            "top": null,
            "visibility": null,
            "width": null
          }
        },
        "d6747fd9223248488599b71dce8402bd": {
          "model_module": "@jupyter-widgets/controls",
          "model_name": "DescriptionStyleModel",
          "model_module_version": "1.5.0",
          "state": {
            "_model_module": "@jupyter-widgets/controls",
            "_model_module_version": "1.5.0",
            "_model_name": "DescriptionStyleModel",
            "_view_count": null,
            "_view_module": "@jupyter-widgets/base",
            "_view_module_version": "1.2.0",
            "_view_name": "StyleView",
            "description_width": ""
          }
        },
        "2080944ecad848e185b559625588b5de": {
          "model_module": "@jupyter-widgets/base",
          "model_name": "LayoutModel",
          "model_module_version": "1.2.0",
          "state": {
            "_model_module": "@jupyter-widgets/base",
            "_model_module_version": "1.2.0",
            "_model_name": "LayoutModel",
            "_view_count": null,
            "_view_module": "@jupyter-widgets/base",
            "_view_module_version": "1.2.0",
            "_view_name": "LayoutView",
            "align_content": null,
            "align_items": null,
            "align_self": null,
            "border": null,
            "bottom": null,
            "display": null,
            "flex": null,
            "flex_flow": null,
            "grid_area": null,
            "grid_auto_columns": null,
            "grid_auto_flow": null,
            "grid_auto_rows": null,
            "grid_column": null,
            "grid_gap": null,
            "grid_row": null,
            "grid_template_areas": null,
            "grid_template_columns": null,
            "grid_template_rows": null,
            "height": null,
            "justify_content": null,
            "justify_items": null,
            "left": null,
            "margin": null,
            "max_height": null,
            "max_width": null,
            "min_height": null,
            "min_width": null,
            "object_fit": null,
            "object_position": null,
            "order": null,
            "overflow": null,
            "overflow_x": null,
            "overflow_y": null,
            "padding": null,
            "right": null,
            "top": null,
            "visibility": null,
            "width": null
          }
        },
        "1a12f87f99a946b1bdcb8a4c840f0337": {
          "model_module": "@jupyter-widgets/controls",
          "model_name": "ProgressStyleModel",
          "model_module_version": "1.5.0",
          "state": {
            "_model_module": "@jupyter-widgets/controls",
            "_model_module_version": "1.5.0",
            "_model_name": "ProgressStyleModel",
            "_view_count": null,
            "_view_module": "@jupyter-widgets/base",
            "_view_module_version": "1.2.0",
            "_view_name": "StyleView",
            "bar_color": null,
            "description_width": ""
          }
        },
        "0db9666f8a3843719bf59882cfc41df8": {
          "model_module": "@jupyter-widgets/controls",
          "model_name": "VBoxModel",
          "model_module_version": "1.5.0",
          "state": {
            "_dom_classes": [],
            "_model_module": "@jupyter-widgets/controls",
            "_model_module_version": "1.5.0",
            "_model_name": "VBoxModel",
            "_view_count": null,
            "_view_module": "@jupyter-widgets/controls",
            "_view_module_version": "1.5.0",
            "_view_name": "VBoxView",
            "box_style": "",
            "children": [
              "IPY_MODEL_e5a30c5126704290ab2528ff9ef1790a",
              "IPY_MODEL_ec8f62e484e94e69861df91221a1270e"
            ],
            "layout": "IPY_MODEL_0feb525bb75e482ea5da22ce7d158eb3"
          }
        },
        "e5a30c5126704290ab2528ff9ef1790a": {
          "model_module": "@jupyter-widgets/controls",
          "model_name": "LabelModel",
          "model_module_version": "1.5.0",
          "state": {
            "_dom_classes": [],
            "_model_module": "@jupyter-widgets/controls",
            "_model_module_version": "1.5.0",
            "_model_name": "LabelModel",
            "_view_count": null,
            "_view_module": "@jupyter-widgets/controls",
            "_view_module_version": "1.5.0",
            "_view_name": "LabelView",
            "description": "",
            "description_tooltip": null,
            "layout": "IPY_MODEL_05fa9ee5c1e24f2ab8fa7fbd3fa248ac",
            "placeholder": "​",
            "style": "IPY_MODEL_4ef3e1fd099b4688aa5e1b9de478ae32",
            "value": "2.005 MB of 2.005 MB uploaded (0.000 MB deduped)\r"
          }
        },
        "ec8f62e484e94e69861df91221a1270e": {
          "model_module": "@jupyter-widgets/controls",
          "model_name": "FloatProgressModel",
          "model_module_version": "1.5.0",
          "state": {
            "_dom_classes": [],
            "_model_module": "@jupyter-widgets/controls",
            "_model_module_version": "1.5.0",
            "_model_name": "FloatProgressModel",
            "_view_count": null,
            "_view_module": "@jupyter-widgets/controls",
            "_view_module_version": "1.5.0",
            "_view_name": "ProgressView",
            "bar_style": "",
            "description": "",
            "description_tooltip": null,
            "layout": "IPY_MODEL_f694b90c061341f39155fdde09ce4426",
            "max": 1,
            "min": 0,
            "orientation": "horizontal",
            "style": "IPY_MODEL_75fd67867fc049db8f0301b64b13cc50",
            "value": 1
          }
        },
        "0feb525bb75e482ea5da22ce7d158eb3": {
          "model_module": "@jupyter-widgets/base",
          "model_name": "LayoutModel",
          "model_module_version": "1.2.0",
          "state": {
            "_model_module": "@jupyter-widgets/base",
            "_model_module_version": "1.2.0",
            "_model_name": "LayoutModel",
            "_view_count": null,
            "_view_module": "@jupyter-widgets/base",
            "_view_module_version": "1.2.0",
            "_view_name": "LayoutView",
            "align_content": null,
            "align_items": null,
            "align_self": null,
            "border": null,
            "bottom": null,
            "display": null,
            "flex": null,
            "flex_flow": null,
            "grid_area": null,
            "grid_auto_columns": null,
            "grid_auto_flow": null,
            "grid_auto_rows": null,
            "grid_column": null,
            "grid_gap": null,
            "grid_row": null,
            "grid_template_areas": null,
            "grid_template_columns": null,
            "grid_template_rows": null,
            "height": null,
            "justify_content": null,
            "justify_items": null,
            "left": null,
            "margin": null,
            "max_height": null,
            "max_width": null,
            "min_height": null,
            "min_width": null,
            "object_fit": null,
            "object_position": null,
            "order": null,
            "overflow": null,
            "overflow_x": null,
            "overflow_y": null,
            "padding": null,
            "right": null,
            "top": null,
            "visibility": null,
            "width": null
          }
        },
        "05fa9ee5c1e24f2ab8fa7fbd3fa248ac": {
          "model_module": "@jupyter-widgets/base",
          "model_name": "LayoutModel",
          "model_module_version": "1.2.0",
          "state": {
            "_model_module": "@jupyter-widgets/base",
            "_model_module_version": "1.2.0",
            "_model_name": "LayoutModel",
            "_view_count": null,
            "_view_module": "@jupyter-widgets/base",
            "_view_module_version": "1.2.0",
            "_view_name": "LayoutView",
            "align_content": null,
            "align_items": null,
            "align_self": null,
            "border": null,
            "bottom": null,
            "display": null,
            "flex": null,
            "flex_flow": null,
            "grid_area": null,
            "grid_auto_columns": null,
            "grid_auto_flow": null,
            "grid_auto_rows": null,
            "grid_column": null,
            "grid_gap": null,
            "grid_row": null,
            "grid_template_areas": null,
            "grid_template_columns": null,
            "grid_template_rows": null,
            "height": null,
            "justify_content": null,
            "justify_items": null,
            "left": null,
            "margin": null,
            "max_height": null,
            "max_width": null,
            "min_height": null,
            "min_width": null,
            "object_fit": null,
            "object_position": null,
            "order": null,
            "overflow": null,
            "overflow_x": null,
            "overflow_y": null,
            "padding": null,
            "right": null,
            "top": null,
            "visibility": null,
            "width": null
          }
        },
        "4ef3e1fd099b4688aa5e1b9de478ae32": {
          "model_module": "@jupyter-widgets/controls",
          "model_name": "DescriptionStyleModel",
          "model_module_version": "1.5.0",
          "state": {
            "_model_module": "@jupyter-widgets/controls",
            "_model_module_version": "1.5.0",
            "_model_name": "DescriptionStyleModel",
            "_view_count": null,
            "_view_module": "@jupyter-widgets/base",
            "_view_module_version": "1.2.0",
            "_view_name": "StyleView",
            "description_width": ""
          }
        },
        "f694b90c061341f39155fdde09ce4426": {
          "model_module": "@jupyter-widgets/base",
          "model_name": "LayoutModel",
          "model_module_version": "1.2.0",
          "state": {
            "_model_module": "@jupyter-widgets/base",
            "_model_module_version": "1.2.0",
            "_model_name": "LayoutModel",
            "_view_count": null,
            "_view_module": "@jupyter-widgets/base",
            "_view_module_version": "1.2.0",
            "_view_name": "LayoutView",
            "align_content": null,
            "align_items": null,
            "align_self": null,
            "border": null,
            "bottom": null,
            "display": null,
            "flex": null,
            "flex_flow": null,
            "grid_area": null,
            "grid_auto_columns": null,
            "grid_auto_flow": null,
            "grid_auto_rows": null,
            "grid_column": null,
            "grid_gap": null,
            "grid_row": null,
            "grid_template_areas": null,
            "grid_template_columns": null,
            "grid_template_rows": null,
            "height": null,
            "justify_content": null,
            "justify_items": null,
            "left": null,
            "margin": null,
            "max_height": null,
            "max_width": null,
            "min_height": null,
            "min_width": null,
            "object_fit": null,
            "object_position": null,
            "order": null,
            "overflow": null,
            "overflow_x": null,
            "overflow_y": null,
            "padding": null,
            "right": null,
            "top": null,
            "visibility": null,
            "width": null
          }
        },
        "75fd67867fc049db8f0301b64b13cc50": {
          "model_module": "@jupyter-widgets/controls",
          "model_name": "ProgressStyleModel",
          "model_module_version": "1.5.0",
          "state": {
            "_model_module": "@jupyter-widgets/controls",
            "_model_module_version": "1.5.0",
            "_model_name": "ProgressStyleModel",
            "_view_count": null,
            "_view_module": "@jupyter-widgets/base",
            "_view_module_version": "1.2.0",
            "_view_name": "StyleView",
            "bar_color": null,
            "description_width": ""
          }
        },
        "d00dcf8514e94caa86f44369df4b6f32": {
          "model_module": "@jupyter-widgets/controls",
          "model_name": "VBoxModel",
          "model_module_version": "1.5.0",
          "state": {
            "_dom_classes": [],
            "_model_module": "@jupyter-widgets/controls",
            "_model_module_version": "1.5.0",
            "_model_name": "VBoxModel",
            "_view_count": null,
            "_view_module": "@jupyter-widgets/controls",
            "_view_module_version": "1.5.0",
            "_view_name": "VBoxView",
            "box_style": "",
            "children": [
              "IPY_MODEL_0defb8f62304449d98b9d2c44ccb1476",
              "IPY_MODEL_4eef79960fe8489894e515695f9f8a90"
            ],
            "layout": "IPY_MODEL_2eb8049b63c649a2b15af7ffd910d0be"
          }
        },
        "0defb8f62304449d98b9d2c44ccb1476": {
          "model_module": "@jupyter-widgets/controls",
          "model_name": "LabelModel",
          "model_module_version": "1.5.0",
          "state": {
            "_dom_classes": [],
            "_model_module": "@jupyter-widgets/controls",
            "_model_module_version": "1.5.0",
            "_model_name": "LabelModel",
            "_view_count": null,
            "_view_module": "@jupyter-widgets/controls",
            "_view_module_version": "1.5.0",
            "_view_name": "LabelView",
            "description": "",
            "description_tooltip": null,
            "layout": "IPY_MODEL_76286787438c4ee48b9b7a643fd5dbe0",
            "placeholder": "​",
            "style": "IPY_MODEL_2c7ea1eca73d4ae7ba7352aa3b15a925",
            "value": "2.005 MB of 2.005 MB uploaded (0.000 MB deduped)\r"
          }
        },
        "4eef79960fe8489894e515695f9f8a90": {
          "model_module": "@jupyter-widgets/controls",
          "model_name": "FloatProgressModel",
          "model_module_version": "1.5.0",
          "state": {
            "_dom_classes": [],
            "_model_module": "@jupyter-widgets/controls",
            "_model_module_version": "1.5.0",
            "_model_name": "FloatProgressModel",
            "_view_count": null,
            "_view_module": "@jupyter-widgets/controls",
            "_view_module_version": "1.5.0",
            "_view_name": "ProgressView",
            "bar_style": "",
            "description": "",
            "description_tooltip": null,
            "layout": "IPY_MODEL_6effd96e8ecd466599fa8324b2520daf",
            "max": 1,
            "min": 0,
            "orientation": "horizontal",
            "style": "IPY_MODEL_cc198906e4e54c88b3ecc569af248451",
            "value": 1
          }
        },
        "2eb8049b63c649a2b15af7ffd910d0be": {
          "model_module": "@jupyter-widgets/base",
          "model_name": "LayoutModel",
          "model_module_version": "1.2.0",
          "state": {
            "_model_module": "@jupyter-widgets/base",
            "_model_module_version": "1.2.0",
            "_model_name": "LayoutModel",
            "_view_count": null,
            "_view_module": "@jupyter-widgets/base",
            "_view_module_version": "1.2.0",
            "_view_name": "LayoutView",
            "align_content": null,
            "align_items": null,
            "align_self": null,
            "border": null,
            "bottom": null,
            "display": null,
            "flex": null,
            "flex_flow": null,
            "grid_area": null,
            "grid_auto_columns": null,
            "grid_auto_flow": null,
            "grid_auto_rows": null,
            "grid_column": null,
            "grid_gap": null,
            "grid_row": null,
            "grid_template_areas": null,
            "grid_template_columns": null,
            "grid_template_rows": null,
            "height": null,
            "justify_content": null,
            "justify_items": null,
            "left": null,
            "margin": null,
            "max_height": null,
            "max_width": null,
            "min_height": null,
            "min_width": null,
            "object_fit": null,
            "object_position": null,
            "order": null,
            "overflow": null,
            "overflow_x": null,
            "overflow_y": null,
            "padding": null,
            "right": null,
            "top": null,
            "visibility": null,
            "width": null
          }
        },
        "76286787438c4ee48b9b7a643fd5dbe0": {
          "model_module": "@jupyter-widgets/base",
          "model_name": "LayoutModel",
          "model_module_version": "1.2.0",
          "state": {
            "_model_module": "@jupyter-widgets/base",
            "_model_module_version": "1.2.0",
            "_model_name": "LayoutModel",
            "_view_count": null,
            "_view_module": "@jupyter-widgets/base",
            "_view_module_version": "1.2.0",
            "_view_name": "LayoutView",
            "align_content": null,
            "align_items": null,
            "align_self": null,
            "border": null,
            "bottom": null,
            "display": null,
            "flex": null,
            "flex_flow": null,
            "grid_area": null,
            "grid_auto_columns": null,
            "grid_auto_flow": null,
            "grid_auto_rows": null,
            "grid_column": null,
            "grid_gap": null,
            "grid_row": null,
            "grid_template_areas": null,
            "grid_template_columns": null,
            "grid_template_rows": null,
            "height": null,
            "justify_content": null,
            "justify_items": null,
            "left": null,
            "margin": null,
            "max_height": null,
            "max_width": null,
            "min_height": null,
            "min_width": null,
            "object_fit": null,
            "object_position": null,
            "order": null,
            "overflow": null,
            "overflow_x": null,
            "overflow_y": null,
            "padding": null,
            "right": null,
            "top": null,
            "visibility": null,
            "width": null
          }
        },
        "2c7ea1eca73d4ae7ba7352aa3b15a925": {
          "model_module": "@jupyter-widgets/controls",
          "model_name": "DescriptionStyleModel",
          "model_module_version": "1.5.0",
          "state": {
            "_model_module": "@jupyter-widgets/controls",
            "_model_module_version": "1.5.0",
            "_model_name": "DescriptionStyleModel",
            "_view_count": null,
            "_view_module": "@jupyter-widgets/base",
            "_view_module_version": "1.2.0",
            "_view_name": "StyleView",
            "description_width": ""
          }
        },
        "6effd96e8ecd466599fa8324b2520daf": {
          "model_module": "@jupyter-widgets/base",
          "model_name": "LayoutModel",
          "model_module_version": "1.2.0",
          "state": {
            "_model_module": "@jupyter-widgets/base",
            "_model_module_version": "1.2.0",
            "_model_name": "LayoutModel",
            "_view_count": null,
            "_view_module": "@jupyter-widgets/base",
            "_view_module_version": "1.2.0",
            "_view_name": "LayoutView",
            "align_content": null,
            "align_items": null,
            "align_self": null,
            "border": null,
            "bottom": null,
            "display": null,
            "flex": null,
            "flex_flow": null,
            "grid_area": null,
            "grid_auto_columns": null,
            "grid_auto_flow": null,
            "grid_auto_rows": null,
            "grid_column": null,
            "grid_gap": null,
            "grid_row": null,
            "grid_template_areas": null,
            "grid_template_columns": null,
            "grid_template_rows": null,
            "height": null,
            "justify_content": null,
            "justify_items": null,
            "left": null,
            "margin": null,
            "max_height": null,
            "max_width": null,
            "min_height": null,
            "min_width": null,
            "object_fit": null,
            "object_position": null,
            "order": null,
            "overflow": null,
            "overflow_x": null,
            "overflow_y": null,
            "padding": null,
            "right": null,
            "top": null,
            "visibility": null,
            "width": null
          }
        },
        "cc198906e4e54c88b3ecc569af248451": {
          "model_module": "@jupyter-widgets/controls",
          "model_name": "ProgressStyleModel",
          "model_module_version": "1.5.0",
          "state": {
            "_model_module": "@jupyter-widgets/controls",
            "_model_module_version": "1.5.0",
            "_model_name": "ProgressStyleModel",
            "_view_count": null,
            "_view_module": "@jupyter-widgets/base",
            "_view_module_version": "1.2.0",
            "_view_name": "StyleView",
            "bar_color": null,
            "description_width": ""
          }
        },
        "91fe6a0ccee442f3acab0f65bbdb918e": {
          "model_module": "@jupyter-widgets/controls",
          "model_name": "VBoxModel",
          "model_module_version": "1.5.0",
          "state": {
            "_dom_classes": [],
            "_model_module": "@jupyter-widgets/controls",
            "_model_module_version": "1.5.0",
            "_model_name": "VBoxModel",
            "_view_count": null,
            "_view_module": "@jupyter-widgets/controls",
            "_view_module_version": "1.5.0",
            "_view_name": "VBoxView",
            "box_style": "",
            "children": [
              "IPY_MODEL_3606a5e8b82d4273af4dd3f5ffcd03ed",
              "IPY_MODEL_4375cfe36a1c41959dd572c609586412"
            ],
            "layout": "IPY_MODEL_2f96cf68c24a467e9b9140510b89b5d8"
          }
        },
        "3606a5e8b82d4273af4dd3f5ffcd03ed": {
          "model_module": "@jupyter-widgets/controls",
          "model_name": "LabelModel",
          "model_module_version": "1.5.0",
          "state": {
            "_dom_classes": [],
            "_model_module": "@jupyter-widgets/controls",
            "_model_module_version": "1.5.0",
            "_model_name": "LabelModel",
            "_view_count": null,
            "_view_module": "@jupyter-widgets/controls",
            "_view_module_version": "1.5.0",
            "_view_name": "LabelView",
            "description": "",
            "description_tooltip": null,
            "layout": "IPY_MODEL_08ee175d2a7f40749891c94602f79c15",
            "placeholder": "​",
            "style": "IPY_MODEL_a8f88e123ca0451eaf12ad4c0e0be8f1",
            "value": "2.006 MB of 2.006 MB uploaded (0.000 MB deduped)\r"
          }
        },
        "4375cfe36a1c41959dd572c609586412": {
          "model_module": "@jupyter-widgets/controls",
          "model_name": "FloatProgressModel",
          "model_module_version": "1.5.0",
          "state": {
            "_dom_classes": [],
            "_model_module": "@jupyter-widgets/controls",
            "_model_module_version": "1.5.0",
            "_model_name": "FloatProgressModel",
            "_view_count": null,
            "_view_module": "@jupyter-widgets/controls",
            "_view_module_version": "1.5.0",
            "_view_name": "ProgressView",
            "bar_style": "",
            "description": "",
            "description_tooltip": null,
            "layout": "IPY_MODEL_fbaf068358cd49d4b804d9df7d352dbf",
            "max": 1,
            "min": 0,
            "orientation": "horizontal",
            "style": "IPY_MODEL_770b47d8d851471bb8b5854dcda878ef",
            "value": 1
          }
        },
        "2f96cf68c24a467e9b9140510b89b5d8": {
          "model_module": "@jupyter-widgets/base",
          "model_name": "LayoutModel",
          "model_module_version": "1.2.0",
          "state": {
            "_model_module": "@jupyter-widgets/base",
            "_model_module_version": "1.2.0",
            "_model_name": "LayoutModel",
            "_view_count": null,
            "_view_module": "@jupyter-widgets/base",
            "_view_module_version": "1.2.0",
            "_view_name": "LayoutView",
            "align_content": null,
            "align_items": null,
            "align_self": null,
            "border": null,
            "bottom": null,
            "display": null,
            "flex": null,
            "flex_flow": null,
            "grid_area": null,
            "grid_auto_columns": null,
            "grid_auto_flow": null,
            "grid_auto_rows": null,
            "grid_column": null,
            "grid_gap": null,
            "grid_row": null,
            "grid_template_areas": null,
            "grid_template_columns": null,
            "grid_template_rows": null,
            "height": null,
            "justify_content": null,
            "justify_items": null,
            "left": null,
            "margin": null,
            "max_height": null,
            "max_width": null,
            "min_height": null,
            "min_width": null,
            "object_fit": null,
            "object_position": null,
            "order": null,
            "overflow": null,
            "overflow_x": null,
            "overflow_y": null,
            "padding": null,
            "right": null,
            "top": null,
            "visibility": null,
            "width": null
          }
        },
        "08ee175d2a7f40749891c94602f79c15": {
          "model_module": "@jupyter-widgets/base",
          "model_name": "LayoutModel",
          "model_module_version": "1.2.0",
          "state": {
            "_model_module": "@jupyter-widgets/base",
            "_model_module_version": "1.2.0",
            "_model_name": "LayoutModel",
            "_view_count": null,
            "_view_module": "@jupyter-widgets/base",
            "_view_module_version": "1.2.0",
            "_view_name": "LayoutView",
            "align_content": null,
            "align_items": null,
            "align_self": null,
            "border": null,
            "bottom": null,
            "display": null,
            "flex": null,
            "flex_flow": null,
            "grid_area": null,
            "grid_auto_columns": null,
            "grid_auto_flow": null,
            "grid_auto_rows": null,
            "grid_column": null,
            "grid_gap": null,
            "grid_row": null,
            "grid_template_areas": null,
            "grid_template_columns": null,
            "grid_template_rows": null,
            "height": null,
            "justify_content": null,
            "justify_items": null,
            "left": null,
            "margin": null,
            "max_height": null,
            "max_width": null,
            "min_height": null,
            "min_width": null,
            "object_fit": null,
            "object_position": null,
            "order": null,
            "overflow": null,
            "overflow_x": null,
            "overflow_y": null,
            "padding": null,
            "right": null,
            "top": null,
            "visibility": null,
            "width": null
          }
        },
        "a8f88e123ca0451eaf12ad4c0e0be8f1": {
          "model_module": "@jupyter-widgets/controls",
          "model_name": "DescriptionStyleModel",
          "model_module_version": "1.5.0",
          "state": {
            "_model_module": "@jupyter-widgets/controls",
            "_model_module_version": "1.5.0",
            "_model_name": "DescriptionStyleModel",
            "_view_count": null,
            "_view_module": "@jupyter-widgets/base",
            "_view_module_version": "1.2.0",
            "_view_name": "StyleView",
            "description_width": ""
          }
        },
        "fbaf068358cd49d4b804d9df7d352dbf": {
          "model_module": "@jupyter-widgets/base",
          "model_name": "LayoutModel",
          "model_module_version": "1.2.0",
          "state": {
            "_model_module": "@jupyter-widgets/base",
            "_model_module_version": "1.2.0",
            "_model_name": "LayoutModel",
            "_view_count": null,
            "_view_module": "@jupyter-widgets/base",
            "_view_module_version": "1.2.0",
            "_view_name": "LayoutView",
            "align_content": null,
            "align_items": null,
            "align_self": null,
            "border": null,
            "bottom": null,
            "display": null,
            "flex": null,
            "flex_flow": null,
            "grid_area": null,
            "grid_auto_columns": null,
            "grid_auto_flow": null,
            "grid_auto_rows": null,
            "grid_column": null,
            "grid_gap": null,
            "grid_row": null,
            "grid_template_areas": null,
            "grid_template_columns": null,
            "grid_template_rows": null,
            "height": null,
            "justify_content": null,
            "justify_items": null,
            "left": null,
            "margin": null,
            "max_height": null,
            "max_width": null,
            "min_height": null,
            "min_width": null,
            "object_fit": null,
            "object_position": null,
            "order": null,
            "overflow": null,
            "overflow_x": null,
            "overflow_y": null,
            "padding": null,
            "right": null,
            "top": null,
            "visibility": null,
            "width": null
          }
        },
        "770b47d8d851471bb8b5854dcda878ef": {
          "model_module": "@jupyter-widgets/controls",
          "model_name": "ProgressStyleModel",
          "model_module_version": "1.5.0",
          "state": {
            "_model_module": "@jupyter-widgets/controls",
            "_model_module_version": "1.5.0",
            "_model_name": "ProgressStyleModel",
            "_view_count": null,
            "_view_module": "@jupyter-widgets/base",
            "_view_module_version": "1.2.0",
            "_view_name": "StyleView",
            "bar_color": null,
            "description_width": ""
          }
        },
        "b1a6a9f6c81a4c40b65fc0710f4d2bc1": {
          "model_module": "@jupyter-widgets/controls",
          "model_name": "VBoxModel",
          "model_module_version": "1.5.0",
          "state": {
            "_dom_classes": [],
            "_model_module": "@jupyter-widgets/controls",
            "_model_module_version": "1.5.0",
            "_model_name": "VBoxModel",
            "_view_count": null,
            "_view_module": "@jupyter-widgets/controls",
            "_view_module_version": "1.5.0",
            "_view_name": "VBoxView",
            "box_style": "",
            "children": [
              "IPY_MODEL_2808fdf71c01402188505a2aff1ca114",
              "IPY_MODEL_d10d70e8a29747d38b0f914b49454c1c"
            ],
            "layout": "IPY_MODEL_51a6846f518c42c8b45ba47248adfd47"
          }
        },
        "2808fdf71c01402188505a2aff1ca114": {
          "model_module": "@jupyter-widgets/controls",
          "model_name": "LabelModel",
          "model_module_version": "1.5.0",
          "state": {
            "_dom_classes": [],
            "_model_module": "@jupyter-widgets/controls",
            "_model_module_version": "1.5.0",
            "_model_name": "LabelModel",
            "_view_count": null,
            "_view_module": "@jupyter-widgets/controls",
            "_view_module_version": "1.5.0",
            "_view_name": "LabelView",
            "description": "",
            "description_tooltip": null,
            "layout": "IPY_MODEL_eb1d128c39aa474d9cce34f1376b0918",
            "placeholder": "​",
            "style": "IPY_MODEL_dfed15ae70b64a3c8807d42701c5a522",
            "value": "2.005 MB of 2.005 MB uploaded (0.000 MB deduped)\r"
          }
        },
        "d10d70e8a29747d38b0f914b49454c1c": {
          "model_module": "@jupyter-widgets/controls",
          "model_name": "FloatProgressModel",
          "model_module_version": "1.5.0",
          "state": {
            "_dom_classes": [],
            "_model_module": "@jupyter-widgets/controls",
            "_model_module_version": "1.5.0",
            "_model_name": "FloatProgressModel",
            "_view_count": null,
            "_view_module": "@jupyter-widgets/controls",
            "_view_module_version": "1.5.0",
            "_view_name": "ProgressView",
            "bar_style": "",
            "description": "",
            "description_tooltip": null,
            "layout": "IPY_MODEL_152e9a27861842be9646a72a9aacb153",
            "max": 1,
            "min": 0,
            "orientation": "horizontal",
            "style": "IPY_MODEL_fef720447d3a4e43afc2fbcf15a4ad6e",
            "value": 1
          }
        },
        "51a6846f518c42c8b45ba47248adfd47": {
          "model_module": "@jupyter-widgets/base",
          "model_name": "LayoutModel",
          "model_module_version": "1.2.0",
          "state": {
            "_model_module": "@jupyter-widgets/base",
            "_model_module_version": "1.2.0",
            "_model_name": "LayoutModel",
            "_view_count": null,
            "_view_module": "@jupyter-widgets/base",
            "_view_module_version": "1.2.0",
            "_view_name": "LayoutView",
            "align_content": null,
            "align_items": null,
            "align_self": null,
            "border": null,
            "bottom": null,
            "display": null,
            "flex": null,
            "flex_flow": null,
            "grid_area": null,
            "grid_auto_columns": null,
            "grid_auto_flow": null,
            "grid_auto_rows": null,
            "grid_column": null,
            "grid_gap": null,
            "grid_row": null,
            "grid_template_areas": null,
            "grid_template_columns": null,
            "grid_template_rows": null,
            "height": null,
            "justify_content": null,
            "justify_items": null,
            "left": null,
            "margin": null,
            "max_height": null,
            "max_width": null,
            "min_height": null,
            "min_width": null,
            "object_fit": null,
            "object_position": null,
            "order": null,
            "overflow": null,
            "overflow_x": null,
            "overflow_y": null,
            "padding": null,
            "right": null,
            "top": null,
            "visibility": null,
            "width": null
          }
        },
        "eb1d128c39aa474d9cce34f1376b0918": {
          "model_module": "@jupyter-widgets/base",
          "model_name": "LayoutModel",
          "model_module_version": "1.2.0",
          "state": {
            "_model_module": "@jupyter-widgets/base",
            "_model_module_version": "1.2.0",
            "_model_name": "LayoutModel",
            "_view_count": null,
            "_view_module": "@jupyter-widgets/base",
            "_view_module_version": "1.2.0",
            "_view_name": "LayoutView",
            "align_content": null,
            "align_items": null,
            "align_self": null,
            "border": null,
            "bottom": null,
            "display": null,
            "flex": null,
            "flex_flow": null,
            "grid_area": null,
            "grid_auto_columns": null,
            "grid_auto_flow": null,
            "grid_auto_rows": null,
            "grid_column": null,
            "grid_gap": null,
            "grid_row": null,
            "grid_template_areas": null,
            "grid_template_columns": null,
            "grid_template_rows": null,
            "height": null,
            "justify_content": null,
            "justify_items": null,
            "left": null,
            "margin": null,
            "max_height": null,
            "max_width": null,
            "min_height": null,
            "min_width": null,
            "object_fit": null,
            "object_position": null,
            "order": null,
            "overflow": null,
            "overflow_x": null,
            "overflow_y": null,
            "padding": null,
            "right": null,
            "top": null,
            "visibility": null,
            "width": null
          }
        },
        "dfed15ae70b64a3c8807d42701c5a522": {
          "model_module": "@jupyter-widgets/controls",
          "model_name": "DescriptionStyleModel",
          "model_module_version": "1.5.0",
          "state": {
            "_model_module": "@jupyter-widgets/controls",
            "_model_module_version": "1.5.0",
            "_model_name": "DescriptionStyleModel",
            "_view_count": null,
            "_view_module": "@jupyter-widgets/base",
            "_view_module_version": "1.2.0",
            "_view_name": "StyleView",
            "description_width": ""
          }
        },
        "152e9a27861842be9646a72a9aacb153": {
          "model_module": "@jupyter-widgets/base",
          "model_name": "LayoutModel",
          "model_module_version": "1.2.0",
          "state": {
            "_model_module": "@jupyter-widgets/base",
            "_model_module_version": "1.2.0",
            "_model_name": "LayoutModel",
            "_view_count": null,
            "_view_module": "@jupyter-widgets/base",
            "_view_module_version": "1.2.0",
            "_view_name": "LayoutView",
            "align_content": null,
            "align_items": null,
            "align_self": null,
            "border": null,
            "bottom": null,
            "display": null,
            "flex": null,
            "flex_flow": null,
            "grid_area": null,
            "grid_auto_columns": null,
            "grid_auto_flow": null,
            "grid_auto_rows": null,
            "grid_column": null,
            "grid_gap": null,
            "grid_row": null,
            "grid_template_areas": null,
            "grid_template_columns": null,
            "grid_template_rows": null,
            "height": null,
            "justify_content": null,
            "justify_items": null,
            "left": null,
            "margin": null,
            "max_height": null,
            "max_width": null,
            "min_height": null,
            "min_width": null,
            "object_fit": null,
            "object_position": null,
            "order": null,
            "overflow": null,
            "overflow_x": null,
            "overflow_y": null,
            "padding": null,
            "right": null,
            "top": null,
            "visibility": null,
            "width": null
          }
        },
        "fef720447d3a4e43afc2fbcf15a4ad6e": {
          "model_module": "@jupyter-widgets/controls",
          "model_name": "ProgressStyleModel",
          "model_module_version": "1.5.0",
          "state": {
            "_model_module": "@jupyter-widgets/controls",
            "_model_module_version": "1.5.0",
            "_model_name": "ProgressStyleModel",
            "_view_count": null,
            "_view_module": "@jupyter-widgets/base",
            "_view_module_version": "1.2.0",
            "_view_name": "StyleView",
            "bar_color": null,
            "description_width": ""
          }
        },
        "d8851de8dba94c09adb376159dd6df08": {
          "model_module": "@jupyter-widgets/controls",
          "model_name": "VBoxModel",
          "model_module_version": "1.5.0",
          "state": {
            "_dom_classes": [],
            "_model_module": "@jupyter-widgets/controls",
            "_model_module_version": "1.5.0",
            "_model_name": "VBoxModel",
            "_view_count": null,
            "_view_module": "@jupyter-widgets/controls",
            "_view_module_version": "1.5.0",
            "_view_name": "VBoxView",
            "box_style": "",
            "children": [
              "IPY_MODEL_88ff47594f08433c802d7302a900bf6e",
              "IPY_MODEL_f01d120f946543a1a86811b2c05abf20"
            ],
            "layout": "IPY_MODEL_ab55edd7ce8e4a5ca3c480a2c440e598"
          }
        },
        "88ff47594f08433c802d7302a900bf6e": {
          "model_module": "@jupyter-widgets/controls",
          "model_name": "LabelModel",
          "model_module_version": "1.5.0",
          "state": {
            "_dom_classes": [],
            "_model_module": "@jupyter-widgets/controls",
            "_model_module_version": "1.5.0",
            "_model_name": "LabelModel",
            "_view_count": null,
            "_view_module": "@jupyter-widgets/controls",
            "_view_module_version": "1.5.0",
            "_view_name": "LabelView",
            "description": "",
            "description_tooltip": null,
            "layout": "IPY_MODEL_81a090d59fd94dca9c780ef7ac336a8b",
            "placeholder": "​",
            "style": "IPY_MODEL_616e326ad9b34ed2bd30269be336778f",
            "value": "2.005 MB of 2.005 MB uploaded (0.000 MB deduped)\r"
          }
        },
        "f01d120f946543a1a86811b2c05abf20": {
          "model_module": "@jupyter-widgets/controls",
          "model_name": "FloatProgressModel",
          "model_module_version": "1.5.0",
          "state": {
            "_dom_classes": [],
            "_model_module": "@jupyter-widgets/controls",
            "_model_module_version": "1.5.0",
            "_model_name": "FloatProgressModel",
            "_view_count": null,
            "_view_module": "@jupyter-widgets/controls",
            "_view_module_version": "1.5.0",
            "_view_name": "ProgressView",
            "bar_style": "",
            "description": "",
            "description_tooltip": null,
            "layout": "IPY_MODEL_f6326dfa44124590828e33448e8af1a6",
            "max": 1,
            "min": 0,
            "orientation": "horizontal",
            "style": "IPY_MODEL_ff2eb1bd824c477aab8cbbfb54644852",
            "value": 1
          }
        },
        "ab55edd7ce8e4a5ca3c480a2c440e598": {
          "model_module": "@jupyter-widgets/base",
          "model_name": "LayoutModel",
          "model_module_version": "1.2.0",
          "state": {
            "_model_module": "@jupyter-widgets/base",
            "_model_module_version": "1.2.0",
            "_model_name": "LayoutModel",
            "_view_count": null,
            "_view_module": "@jupyter-widgets/base",
            "_view_module_version": "1.2.0",
            "_view_name": "LayoutView",
            "align_content": null,
            "align_items": null,
            "align_self": null,
            "border": null,
            "bottom": null,
            "display": null,
            "flex": null,
            "flex_flow": null,
            "grid_area": null,
            "grid_auto_columns": null,
            "grid_auto_flow": null,
            "grid_auto_rows": null,
            "grid_column": null,
            "grid_gap": null,
            "grid_row": null,
            "grid_template_areas": null,
            "grid_template_columns": null,
            "grid_template_rows": null,
            "height": null,
            "justify_content": null,
            "justify_items": null,
            "left": null,
            "margin": null,
            "max_height": null,
            "max_width": null,
            "min_height": null,
            "min_width": null,
            "object_fit": null,
            "object_position": null,
            "order": null,
            "overflow": null,
            "overflow_x": null,
            "overflow_y": null,
            "padding": null,
            "right": null,
            "top": null,
            "visibility": null,
            "width": null
          }
        },
        "81a090d59fd94dca9c780ef7ac336a8b": {
          "model_module": "@jupyter-widgets/base",
          "model_name": "LayoutModel",
          "model_module_version": "1.2.0",
          "state": {
            "_model_module": "@jupyter-widgets/base",
            "_model_module_version": "1.2.0",
            "_model_name": "LayoutModel",
            "_view_count": null,
            "_view_module": "@jupyter-widgets/base",
            "_view_module_version": "1.2.0",
            "_view_name": "LayoutView",
            "align_content": null,
            "align_items": null,
            "align_self": null,
            "border": null,
            "bottom": null,
            "display": null,
            "flex": null,
            "flex_flow": null,
            "grid_area": null,
            "grid_auto_columns": null,
            "grid_auto_flow": null,
            "grid_auto_rows": null,
            "grid_column": null,
            "grid_gap": null,
            "grid_row": null,
            "grid_template_areas": null,
            "grid_template_columns": null,
            "grid_template_rows": null,
            "height": null,
            "justify_content": null,
            "justify_items": null,
            "left": null,
            "margin": null,
            "max_height": null,
            "max_width": null,
            "min_height": null,
            "min_width": null,
            "object_fit": null,
            "object_position": null,
            "order": null,
            "overflow": null,
            "overflow_x": null,
            "overflow_y": null,
            "padding": null,
            "right": null,
            "top": null,
            "visibility": null,
            "width": null
          }
        },
        "616e326ad9b34ed2bd30269be336778f": {
          "model_module": "@jupyter-widgets/controls",
          "model_name": "DescriptionStyleModel",
          "model_module_version": "1.5.0",
          "state": {
            "_model_module": "@jupyter-widgets/controls",
            "_model_module_version": "1.5.0",
            "_model_name": "DescriptionStyleModel",
            "_view_count": null,
            "_view_module": "@jupyter-widgets/base",
            "_view_module_version": "1.2.0",
            "_view_name": "StyleView",
            "description_width": ""
          }
        },
        "f6326dfa44124590828e33448e8af1a6": {
          "model_module": "@jupyter-widgets/base",
          "model_name": "LayoutModel",
          "model_module_version": "1.2.0",
          "state": {
            "_model_module": "@jupyter-widgets/base",
            "_model_module_version": "1.2.0",
            "_model_name": "LayoutModel",
            "_view_count": null,
            "_view_module": "@jupyter-widgets/base",
            "_view_module_version": "1.2.0",
            "_view_name": "LayoutView",
            "align_content": null,
            "align_items": null,
            "align_self": null,
            "border": null,
            "bottom": null,
            "display": null,
            "flex": null,
            "flex_flow": null,
            "grid_area": null,
            "grid_auto_columns": null,
            "grid_auto_flow": null,
            "grid_auto_rows": null,
            "grid_column": null,
            "grid_gap": null,
            "grid_row": null,
            "grid_template_areas": null,
            "grid_template_columns": null,
            "grid_template_rows": null,
            "height": null,
            "justify_content": null,
            "justify_items": null,
            "left": null,
            "margin": null,
            "max_height": null,
            "max_width": null,
            "min_height": null,
            "min_width": null,
            "object_fit": null,
            "object_position": null,
            "order": null,
            "overflow": null,
            "overflow_x": null,
            "overflow_y": null,
            "padding": null,
            "right": null,
            "top": null,
            "visibility": null,
            "width": null
          }
        },
        "ff2eb1bd824c477aab8cbbfb54644852": {
          "model_module": "@jupyter-widgets/controls",
          "model_name": "ProgressStyleModel",
          "model_module_version": "1.5.0",
          "state": {
            "_model_module": "@jupyter-widgets/controls",
            "_model_module_version": "1.5.0",
            "_model_name": "ProgressStyleModel",
            "_view_count": null,
            "_view_module": "@jupyter-widgets/base",
            "_view_module_version": "1.2.0",
            "_view_name": "StyleView",
            "bar_color": null,
            "description_width": ""
          }
        },
        "3b10790d4ce140f4a049c7aa7ecda659": {
          "model_module": "@jupyter-widgets/controls",
          "model_name": "VBoxModel",
          "model_module_version": "1.5.0",
          "state": {
            "_dom_classes": [],
            "_model_module": "@jupyter-widgets/controls",
            "_model_module_version": "1.5.0",
            "_model_name": "VBoxModel",
            "_view_count": null,
            "_view_module": "@jupyter-widgets/controls",
            "_view_module_version": "1.5.0",
            "_view_name": "VBoxView",
            "box_style": "",
            "children": [
              "IPY_MODEL_1a0a327d7df14608bd1ecd9a9cd84d1a",
              "IPY_MODEL_9459f0f8d4e7413d8566cb3b757ec1dc"
            ],
            "layout": "IPY_MODEL_17088173c57d48298a020329d980f1ef"
          }
        },
        "1a0a327d7df14608bd1ecd9a9cd84d1a": {
          "model_module": "@jupyter-widgets/controls",
          "model_name": "LabelModel",
          "model_module_version": "1.5.0",
          "state": {
            "_dom_classes": [],
            "_model_module": "@jupyter-widgets/controls",
            "_model_module_version": "1.5.0",
            "_model_name": "LabelModel",
            "_view_count": null,
            "_view_module": "@jupyter-widgets/controls",
            "_view_module_version": "1.5.0",
            "_view_name": "LabelView",
            "description": "",
            "description_tooltip": null,
            "layout": "IPY_MODEL_fe4b7f6a31794e07b904ae9990a0866b",
            "placeholder": "​",
            "style": "IPY_MODEL_53daddff4495492392ad343f7d561226",
            "value": "2.005 MB of 2.005 MB uploaded (0.000 MB deduped)\r"
          }
        },
        "9459f0f8d4e7413d8566cb3b757ec1dc": {
          "model_module": "@jupyter-widgets/controls",
          "model_name": "FloatProgressModel",
          "model_module_version": "1.5.0",
          "state": {
            "_dom_classes": [],
            "_model_module": "@jupyter-widgets/controls",
            "_model_module_version": "1.5.0",
            "_model_name": "FloatProgressModel",
            "_view_count": null,
            "_view_module": "@jupyter-widgets/controls",
            "_view_module_version": "1.5.0",
            "_view_name": "ProgressView",
            "bar_style": "",
            "description": "",
            "description_tooltip": null,
            "layout": "IPY_MODEL_91d11f5717c047f6a4792c768de327e8",
            "max": 1,
            "min": 0,
            "orientation": "horizontal",
            "style": "IPY_MODEL_9918c128db1f477595b9b1211f452c49",
            "value": 1
          }
        },
        "17088173c57d48298a020329d980f1ef": {
          "model_module": "@jupyter-widgets/base",
          "model_name": "LayoutModel",
          "model_module_version": "1.2.0",
          "state": {
            "_model_module": "@jupyter-widgets/base",
            "_model_module_version": "1.2.0",
            "_model_name": "LayoutModel",
            "_view_count": null,
            "_view_module": "@jupyter-widgets/base",
            "_view_module_version": "1.2.0",
            "_view_name": "LayoutView",
            "align_content": null,
            "align_items": null,
            "align_self": null,
            "border": null,
            "bottom": null,
            "display": null,
            "flex": null,
            "flex_flow": null,
            "grid_area": null,
            "grid_auto_columns": null,
            "grid_auto_flow": null,
            "grid_auto_rows": null,
            "grid_column": null,
            "grid_gap": null,
            "grid_row": null,
            "grid_template_areas": null,
            "grid_template_columns": null,
            "grid_template_rows": null,
            "height": null,
            "justify_content": null,
            "justify_items": null,
            "left": null,
            "margin": null,
            "max_height": null,
            "max_width": null,
            "min_height": null,
            "min_width": null,
            "object_fit": null,
            "object_position": null,
            "order": null,
            "overflow": null,
            "overflow_x": null,
            "overflow_y": null,
            "padding": null,
            "right": null,
            "top": null,
            "visibility": null,
            "width": null
          }
        },
        "fe4b7f6a31794e07b904ae9990a0866b": {
          "model_module": "@jupyter-widgets/base",
          "model_name": "LayoutModel",
          "model_module_version": "1.2.0",
          "state": {
            "_model_module": "@jupyter-widgets/base",
            "_model_module_version": "1.2.0",
            "_model_name": "LayoutModel",
            "_view_count": null,
            "_view_module": "@jupyter-widgets/base",
            "_view_module_version": "1.2.0",
            "_view_name": "LayoutView",
            "align_content": null,
            "align_items": null,
            "align_self": null,
            "border": null,
            "bottom": null,
            "display": null,
            "flex": null,
            "flex_flow": null,
            "grid_area": null,
            "grid_auto_columns": null,
            "grid_auto_flow": null,
            "grid_auto_rows": null,
            "grid_column": null,
            "grid_gap": null,
            "grid_row": null,
            "grid_template_areas": null,
            "grid_template_columns": null,
            "grid_template_rows": null,
            "height": null,
            "justify_content": null,
            "justify_items": null,
            "left": null,
            "margin": null,
            "max_height": null,
            "max_width": null,
            "min_height": null,
            "min_width": null,
            "object_fit": null,
            "object_position": null,
            "order": null,
            "overflow": null,
            "overflow_x": null,
            "overflow_y": null,
            "padding": null,
            "right": null,
            "top": null,
            "visibility": null,
            "width": null
          }
        },
        "53daddff4495492392ad343f7d561226": {
          "model_module": "@jupyter-widgets/controls",
          "model_name": "DescriptionStyleModel",
          "model_module_version": "1.5.0",
          "state": {
            "_model_module": "@jupyter-widgets/controls",
            "_model_module_version": "1.5.0",
            "_model_name": "DescriptionStyleModel",
            "_view_count": null,
            "_view_module": "@jupyter-widgets/base",
            "_view_module_version": "1.2.0",
            "_view_name": "StyleView",
            "description_width": ""
          }
        },
        "91d11f5717c047f6a4792c768de327e8": {
          "model_module": "@jupyter-widgets/base",
          "model_name": "LayoutModel",
          "model_module_version": "1.2.0",
          "state": {
            "_model_module": "@jupyter-widgets/base",
            "_model_module_version": "1.2.0",
            "_model_name": "LayoutModel",
            "_view_count": null,
            "_view_module": "@jupyter-widgets/base",
            "_view_module_version": "1.2.0",
            "_view_name": "LayoutView",
            "align_content": null,
            "align_items": null,
            "align_self": null,
            "border": null,
            "bottom": null,
            "display": null,
            "flex": null,
            "flex_flow": null,
            "grid_area": null,
            "grid_auto_columns": null,
            "grid_auto_flow": null,
            "grid_auto_rows": null,
            "grid_column": null,
            "grid_gap": null,
            "grid_row": null,
            "grid_template_areas": null,
            "grid_template_columns": null,
            "grid_template_rows": null,
            "height": null,
            "justify_content": null,
            "justify_items": null,
            "left": null,
            "margin": null,
            "max_height": null,
            "max_width": null,
            "min_height": null,
            "min_width": null,
            "object_fit": null,
            "object_position": null,
            "order": null,
            "overflow": null,
            "overflow_x": null,
            "overflow_y": null,
            "padding": null,
            "right": null,
            "top": null,
            "visibility": null,
            "width": null
          }
        },
        "9918c128db1f477595b9b1211f452c49": {
          "model_module": "@jupyter-widgets/controls",
          "model_name": "ProgressStyleModel",
          "model_module_version": "1.5.0",
          "state": {
            "_model_module": "@jupyter-widgets/controls",
            "_model_module_version": "1.5.0",
            "_model_name": "ProgressStyleModel",
            "_view_count": null,
            "_view_module": "@jupyter-widgets/base",
            "_view_module_version": "1.2.0",
            "_view_name": "StyleView",
            "bar_color": null,
            "description_width": ""
          }
        },
        "c1a0c37de8b44e82b8b5259f68186907": {
          "model_module": "@jupyter-widgets/controls",
          "model_name": "VBoxModel",
          "model_module_version": "1.5.0",
          "state": {
            "_dom_classes": [],
            "_model_module": "@jupyter-widgets/controls",
            "_model_module_version": "1.5.0",
            "_model_name": "VBoxModel",
            "_view_count": null,
            "_view_module": "@jupyter-widgets/controls",
            "_view_module_version": "1.5.0",
            "_view_name": "VBoxView",
            "box_style": "",
            "children": [
              "IPY_MODEL_dabae5fbc1f8402293070197abffcb78",
              "IPY_MODEL_fda5683c2cce40619cd6df1a5f430d54"
            ],
            "layout": "IPY_MODEL_5e053ded9fab4be59846f44d62590606"
          }
        },
        "dabae5fbc1f8402293070197abffcb78": {
          "model_module": "@jupyter-widgets/controls",
          "model_name": "LabelModel",
          "model_module_version": "1.5.0",
          "state": {
            "_dom_classes": [],
            "_model_module": "@jupyter-widgets/controls",
            "_model_module_version": "1.5.0",
            "_model_name": "LabelModel",
            "_view_count": null,
            "_view_module": "@jupyter-widgets/controls",
            "_view_module_version": "1.5.0",
            "_view_name": "LabelView",
            "description": "",
            "description_tooltip": null,
            "layout": "IPY_MODEL_ab6b1ec9247b4befbf8b0b4d92956713",
            "placeholder": "​",
            "style": "IPY_MODEL_6a09befda714447f8b2b94ee6e98f3f3",
            "value": "2.006 MB of 2.006 MB uploaded (0.000 MB deduped)\r"
          }
        },
        "fda5683c2cce40619cd6df1a5f430d54": {
          "model_module": "@jupyter-widgets/controls",
          "model_name": "FloatProgressModel",
          "model_module_version": "1.5.0",
          "state": {
            "_dom_classes": [],
            "_model_module": "@jupyter-widgets/controls",
            "_model_module_version": "1.5.0",
            "_model_name": "FloatProgressModel",
            "_view_count": null,
            "_view_module": "@jupyter-widgets/controls",
            "_view_module_version": "1.5.0",
            "_view_name": "ProgressView",
            "bar_style": "",
            "description": "",
            "description_tooltip": null,
            "layout": "IPY_MODEL_c1900563903e4712bf903f03991fce84",
            "max": 1,
            "min": 0,
            "orientation": "horizontal",
            "style": "IPY_MODEL_e633951eb9954fba8c5e4ae3622c3c90",
            "value": 1
          }
        },
        "5e053ded9fab4be59846f44d62590606": {
          "model_module": "@jupyter-widgets/base",
          "model_name": "LayoutModel",
          "model_module_version": "1.2.0",
          "state": {
            "_model_module": "@jupyter-widgets/base",
            "_model_module_version": "1.2.0",
            "_model_name": "LayoutModel",
            "_view_count": null,
            "_view_module": "@jupyter-widgets/base",
            "_view_module_version": "1.2.0",
            "_view_name": "LayoutView",
            "align_content": null,
            "align_items": null,
            "align_self": null,
            "border": null,
            "bottom": null,
            "display": null,
            "flex": null,
            "flex_flow": null,
            "grid_area": null,
            "grid_auto_columns": null,
            "grid_auto_flow": null,
            "grid_auto_rows": null,
            "grid_column": null,
            "grid_gap": null,
            "grid_row": null,
            "grid_template_areas": null,
            "grid_template_columns": null,
            "grid_template_rows": null,
            "height": null,
            "justify_content": null,
            "justify_items": null,
            "left": null,
            "margin": null,
            "max_height": null,
            "max_width": null,
            "min_height": null,
            "min_width": null,
            "object_fit": null,
            "object_position": null,
            "order": null,
            "overflow": null,
            "overflow_x": null,
            "overflow_y": null,
            "padding": null,
            "right": null,
            "top": null,
            "visibility": null,
            "width": null
          }
        },
        "ab6b1ec9247b4befbf8b0b4d92956713": {
          "model_module": "@jupyter-widgets/base",
          "model_name": "LayoutModel",
          "model_module_version": "1.2.0",
          "state": {
            "_model_module": "@jupyter-widgets/base",
            "_model_module_version": "1.2.0",
            "_model_name": "LayoutModel",
            "_view_count": null,
            "_view_module": "@jupyter-widgets/base",
            "_view_module_version": "1.2.0",
            "_view_name": "LayoutView",
            "align_content": null,
            "align_items": null,
            "align_self": null,
            "border": null,
            "bottom": null,
            "display": null,
            "flex": null,
            "flex_flow": null,
            "grid_area": null,
            "grid_auto_columns": null,
            "grid_auto_flow": null,
            "grid_auto_rows": null,
            "grid_column": null,
            "grid_gap": null,
            "grid_row": null,
            "grid_template_areas": null,
            "grid_template_columns": null,
            "grid_template_rows": null,
            "height": null,
            "justify_content": null,
            "justify_items": null,
            "left": null,
            "margin": null,
            "max_height": null,
            "max_width": null,
            "min_height": null,
            "min_width": null,
            "object_fit": null,
            "object_position": null,
            "order": null,
            "overflow": null,
            "overflow_x": null,
            "overflow_y": null,
            "padding": null,
            "right": null,
            "top": null,
            "visibility": null,
            "width": null
          }
        },
        "6a09befda714447f8b2b94ee6e98f3f3": {
          "model_module": "@jupyter-widgets/controls",
          "model_name": "DescriptionStyleModel",
          "model_module_version": "1.5.0",
          "state": {
            "_model_module": "@jupyter-widgets/controls",
            "_model_module_version": "1.5.0",
            "_model_name": "DescriptionStyleModel",
            "_view_count": null,
            "_view_module": "@jupyter-widgets/base",
            "_view_module_version": "1.2.0",
            "_view_name": "StyleView",
            "description_width": ""
          }
        },
        "c1900563903e4712bf903f03991fce84": {
          "model_module": "@jupyter-widgets/base",
          "model_name": "LayoutModel",
          "model_module_version": "1.2.0",
          "state": {
            "_model_module": "@jupyter-widgets/base",
            "_model_module_version": "1.2.0",
            "_model_name": "LayoutModel",
            "_view_count": null,
            "_view_module": "@jupyter-widgets/base",
            "_view_module_version": "1.2.0",
            "_view_name": "LayoutView",
            "align_content": null,
            "align_items": null,
            "align_self": null,
            "border": null,
            "bottom": null,
            "display": null,
            "flex": null,
            "flex_flow": null,
            "grid_area": null,
            "grid_auto_columns": null,
            "grid_auto_flow": null,
            "grid_auto_rows": null,
            "grid_column": null,
            "grid_gap": null,
            "grid_row": null,
            "grid_template_areas": null,
            "grid_template_columns": null,
            "grid_template_rows": null,
            "height": null,
            "justify_content": null,
            "justify_items": null,
            "left": null,
            "margin": null,
            "max_height": null,
            "max_width": null,
            "min_height": null,
            "min_width": null,
            "object_fit": null,
            "object_position": null,
            "order": null,
            "overflow": null,
            "overflow_x": null,
            "overflow_y": null,
            "padding": null,
            "right": null,
            "top": null,
            "visibility": null,
            "width": null
          }
        },
        "e633951eb9954fba8c5e4ae3622c3c90": {
          "model_module": "@jupyter-widgets/controls",
          "model_name": "ProgressStyleModel",
          "model_module_version": "1.5.0",
          "state": {
            "_model_module": "@jupyter-widgets/controls",
            "_model_module_version": "1.5.0",
            "_model_name": "ProgressStyleModel",
            "_view_count": null,
            "_view_module": "@jupyter-widgets/base",
            "_view_module_version": "1.2.0",
            "_view_name": "StyleView",
            "bar_color": null,
            "description_width": ""
          }
        },
        "cb01be365bf7436b8f20debb779f099e": {
          "model_module": "@jupyter-widgets/controls",
          "model_name": "VBoxModel",
          "model_module_version": "1.5.0",
          "state": {
            "_dom_classes": [],
            "_model_module": "@jupyter-widgets/controls",
            "_model_module_version": "1.5.0",
            "_model_name": "VBoxModel",
            "_view_count": null,
            "_view_module": "@jupyter-widgets/controls",
            "_view_module_version": "1.5.0",
            "_view_name": "VBoxView",
            "box_style": "",
            "children": [
              "IPY_MODEL_bd7f2b06f783474983e33142cf121289",
              "IPY_MODEL_e656e9cfb05a44e6a8b631404016cd79"
            ],
            "layout": "IPY_MODEL_8a2c9b19f8bb4cc5a0cfa1646ea86135"
          }
        },
        "bd7f2b06f783474983e33142cf121289": {
          "model_module": "@jupyter-widgets/controls",
          "model_name": "LabelModel",
          "model_module_version": "1.5.0",
          "state": {
            "_dom_classes": [],
            "_model_module": "@jupyter-widgets/controls",
            "_model_module_version": "1.5.0",
            "_model_name": "LabelModel",
            "_view_count": null,
            "_view_module": "@jupyter-widgets/controls",
            "_view_module_version": "1.5.0",
            "_view_name": "LabelView",
            "description": "",
            "description_tooltip": null,
            "layout": "IPY_MODEL_f355ce3fb2404b3ea56eb836c119daab",
            "placeholder": "​",
            "style": "IPY_MODEL_8d48071b7e124624a97a31b0781a8f7e",
            "value": "2.005 MB of 2.005 MB uploaded (0.000 MB deduped)\r"
          }
        },
        "e656e9cfb05a44e6a8b631404016cd79": {
          "model_module": "@jupyter-widgets/controls",
          "model_name": "FloatProgressModel",
          "model_module_version": "1.5.0",
          "state": {
            "_dom_classes": [],
            "_model_module": "@jupyter-widgets/controls",
            "_model_module_version": "1.5.0",
            "_model_name": "FloatProgressModel",
            "_view_count": null,
            "_view_module": "@jupyter-widgets/controls",
            "_view_module_version": "1.5.0",
            "_view_name": "ProgressView",
            "bar_style": "",
            "description": "",
            "description_tooltip": null,
            "layout": "IPY_MODEL_fff535bc8d264c9ca080b2fe22c300f4",
            "max": 1,
            "min": 0,
            "orientation": "horizontal",
            "style": "IPY_MODEL_dfc9ed29ba574bde96b8ff256a4e80f3",
            "value": 1
          }
        },
        "8a2c9b19f8bb4cc5a0cfa1646ea86135": {
          "model_module": "@jupyter-widgets/base",
          "model_name": "LayoutModel",
          "model_module_version": "1.2.0",
          "state": {
            "_model_module": "@jupyter-widgets/base",
            "_model_module_version": "1.2.0",
            "_model_name": "LayoutModel",
            "_view_count": null,
            "_view_module": "@jupyter-widgets/base",
            "_view_module_version": "1.2.0",
            "_view_name": "LayoutView",
            "align_content": null,
            "align_items": null,
            "align_self": null,
            "border": null,
            "bottom": null,
            "display": null,
            "flex": null,
            "flex_flow": null,
            "grid_area": null,
            "grid_auto_columns": null,
            "grid_auto_flow": null,
            "grid_auto_rows": null,
            "grid_column": null,
            "grid_gap": null,
            "grid_row": null,
            "grid_template_areas": null,
            "grid_template_columns": null,
            "grid_template_rows": null,
            "height": null,
            "justify_content": null,
            "justify_items": null,
            "left": null,
            "margin": null,
            "max_height": null,
            "max_width": null,
            "min_height": null,
            "min_width": null,
            "object_fit": null,
            "object_position": null,
            "order": null,
            "overflow": null,
            "overflow_x": null,
            "overflow_y": null,
            "padding": null,
            "right": null,
            "top": null,
            "visibility": null,
            "width": null
          }
        },
        "f355ce3fb2404b3ea56eb836c119daab": {
          "model_module": "@jupyter-widgets/base",
          "model_name": "LayoutModel",
          "model_module_version": "1.2.0",
          "state": {
            "_model_module": "@jupyter-widgets/base",
            "_model_module_version": "1.2.0",
            "_model_name": "LayoutModel",
            "_view_count": null,
            "_view_module": "@jupyter-widgets/base",
            "_view_module_version": "1.2.0",
            "_view_name": "LayoutView",
            "align_content": null,
            "align_items": null,
            "align_self": null,
            "border": null,
            "bottom": null,
            "display": null,
            "flex": null,
            "flex_flow": null,
            "grid_area": null,
            "grid_auto_columns": null,
            "grid_auto_flow": null,
            "grid_auto_rows": null,
            "grid_column": null,
            "grid_gap": null,
            "grid_row": null,
            "grid_template_areas": null,
            "grid_template_columns": null,
            "grid_template_rows": null,
            "height": null,
            "justify_content": null,
            "justify_items": null,
            "left": null,
            "margin": null,
            "max_height": null,
            "max_width": null,
            "min_height": null,
            "min_width": null,
            "object_fit": null,
            "object_position": null,
            "order": null,
            "overflow": null,
            "overflow_x": null,
            "overflow_y": null,
            "padding": null,
            "right": null,
            "top": null,
            "visibility": null,
            "width": null
          }
        },
        "8d48071b7e124624a97a31b0781a8f7e": {
          "model_module": "@jupyter-widgets/controls",
          "model_name": "DescriptionStyleModel",
          "model_module_version": "1.5.0",
          "state": {
            "_model_module": "@jupyter-widgets/controls",
            "_model_module_version": "1.5.0",
            "_model_name": "DescriptionStyleModel",
            "_view_count": null,
            "_view_module": "@jupyter-widgets/base",
            "_view_module_version": "1.2.0",
            "_view_name": "StyleView",
            "description_width": ""
          }
        },
        "fff535bc8d264c9ca080b2fe22c300f4": {
          "model_module": "@jupyter-widgets/base",
          "model_name": "LayoutModel",
          "model_module_version": "1.2.0",
          "state": {
            "_model_module": "@jupyter-widgets/base",
            "_model_module_version": "1.2.0",
            "_model_name": "LayoutModel",
            "_view_count": null,
            "_view_module": "@jupyter-widgets/base",
            "_view_module_version": "1.2.0",
            "_view_name": "LayoutView",
            "align_content": null,
            "align_items": null,
            "align_self": null,
            "border": null,
            "bottom": null,
            "display": null,
            "flex": null,
            "flex_flow": null,
            "grid_area": null,
            "grid_auto_columns": null,
            "grid_auto_flow": null,
            "grid_auto_rows": null,
            "grid_column": null,
            "grid_gap": null,
            "grid_row": null,
            "grid_template_areas": null,
            "grid_template_columns": null,
            "grid_template_rows": null,
            "height": null,
            "justify_content": null,
            "justify_items": null,
            "left": null,
            "margin": null,
            "max_height": null,
            "max_width": null,
            "min_height": null,
            "min_width": null,
            "object_fit": null,
            "object_position": null,
            "order": null,
            "overflow": null,
            "overflow_x": null,
            "overflow_y": null,
            "padding": null,
            "right": null,
            "top": null,
            "visibility": null,
            "width": null
          }
        },
        "dfc9ed29ba574bde96b8ff256a4e80f3": {
          "model_module": "@jupyter-widgets/controls",
          "model_name": "ProgressStyleModel",
          "model_module_version": "1.5.0",
          "state": {
            "_model_module": "@jupyter-widgets/controls",
            "_model_module_version": "1.5.0",
            "_model_name": "ProgressStyleModel",
            "_view_count": null,
            "_view_module": "@jupyter-widgets/base",
            "_view_module_version": "1.2.0",
            "_view_name": "StyleView",
            "bar_color": null,
            "description_width": ""
          }
        },
        "033e3af8e15d408b8e7d35aba59a2895": {
          "model_module": "@jupyter-widgets/controls",
          "model_name": "VBoxModel",
          "model_module_version": "1.5.0",
          "state": {
            "_dom_classes": [],
            "_model_module": "@jupyter-widgets/controls",
            "_model_module_version": "1.5.0",
            "_model_name": "VBoxModel",
            "_view_count": null,
            "_view_module": "@jupyter-widgets/controls",
            "_view_module_version": "1.5.0",
            "_view_name": "VBoxView",
            "box_style": "",
            "children": [
              "IPY_MODEL_eb556b48f21b40929014ac198bb368d4",
              "IPY_MODEL_595b14064fb94777821db6a266e15c28"
            ],
            "layout": "IPY_MODEL_7e98da93498643a4b5b00c1b1f2b308d"
          }
        },
        "eb556b48f21b40929014ac198bb368d4": {
          "model_module": "@jupyter-widgets/controls",
          "model_name": "LabelModel",
          "model_module_version": "1.5.0",
          "state": {
            "_dom_classes": [],
            "_model_module": "@jupyter-widgets/controls",
            "_model_module_version": "1.5.0",
            "_model_name": "LabelModel",
            "_view_count": null,
            "_view_module": "@jupyter-widgets/controls",
            "_view_module_version": "1.5.0",
            "_view_name": "LabelView",
            "description": "",
            "description_tooltip": null,
            "layout": "IPY_MODEL_099f5890ff454abf834212848c52ad3e",
            "placeholder": "​",
            "style": "IPY_MODEL_13556acb1c6c40ffb600740d4201047d",
            "value": "2.004 MB of 2.004 MB uploaded (0.000 MB deduped)\r"
          }
        },
        "595b14064fb94777821db6a266e15c28": {
          "model_module": "@jupyter-widgets/controls",
          "model_name": "FloatProgressModel",
          "model_module_version": "1.5.0",
          "state": {
            "_dom_classes": [],
            "_model_module": "@jupyter-widgets/controls",
            "_model_module_version": "1.5.0",
            "_model_name": "FloatProgressModel",
            "_view_count": null,
            "_view_module": "@jupyter-widgets/controls",
            "_view_module_version": "1.5.0",
            "_view_name": "ProgressView",
            "bar_style": "",
            "description": "",
            "description_tooltip": null,
            "layout": "IPY_MODEL_c4d8cbcaddef49bdb902884b75692ef2",
            "max": 1,
            "min": 0,
            "orientation": "horizontal",
            "style": "IPY_MODEL_7309069957a1460eb582212d6c7e22ba",
            "value": 1
          }
        },
        "7e98da93498643a4b5b00c1b1f2b308d": {
          "model_module": "@jupyter-widgets/base",
          "model_name": "LayoutModel",
          "model_module_version": "1.2.0",
          "state": {
            "_model_module": "@jupyter-widgets/base",
            "_model_module_version": "1.2.0",
            "_model_name": "LayoutModel",
            "_view_count": null,
            "_view_module": "@jupyter-widgets/base",
            "_view_module_version": "1.2.0",
            "_view_name": "LayoutView",
            "align_content": null,
            "align_items": null,
            "align_self": null,
            "border": null,
            "bottom": null,
            "display": null,
            "flex": null,
            "flex_flow": null,
            "grid_area": null,
            "grid_auto_columns": null,
            "grid_auto_flow": null,
            "grid_auto_rows": null,
            "grid_column": null,
            "grid_gap": null,
            "grid_row": null,
            "grid_template_areas": null,
            "grid_template_columns": null,
            "grid_template_rows": null,
            "height": null,
            "justify_content": null,
            "justify_items": null,
            "left": null,
            "margin": null,
            "max_height": null,
            "max_width": null,
            "min_height": null,
            "min_width": null,
            "object_fit": null,
            "object_position": null,
            "order": null,
            "overflow": null,
            "overflow_x": null,
            "overflow_y": null,
            "padding": null,
            "right": null,
            "top": null,
            "visibility": null,
            "width": null
          }
        },
        "099f5890ff454abf834212848c52ad3e": {
          "model_module": "@jupyter-widgets/base",
          "model_name": "LayoutModel",
          "model_module_version": "1.2.0",
          "state": {
            "_model_module": "@jupyter-widgets/base",
            "_model_module_version": "1.2.0",
            "_model_name": "LayoutModel",
            "_view_count": null,
            "_view_module": "@jupyter-widgets/base",
            "_view_module_version": "1.2.0",
            "_view_name": "LayoutView",
            "align_content": null,
            "align_items": null,
            "align_self": null,
            "border": null,
            "bottom": null,
            "display": null,
            "flex": null,
            "flex_flow": null,
            "grid_area": null,
            "grid_auto_columns": null,
            "grid_auto_flow": null,
            "grid_auto_rows": null,
            "grid_column": null,
            "grid_gap": null,
            "grid_row": null,
            "grid_template_areas": null,
            "grid_template_columns": null,
            "grid_template_rows": null,
            "height": null,
            "justify_content": null,
            "justify_items": null,
            "left": null,
            "margin": null,
            "max_height": null,
            "max_width": null,
            "min_height": null,
            "min_width": null,
            "object_fit": null,
            "object_position": null,
            "order": null,
            "overflow": null,
            "overflow_x": null,
            "overflow_y": null,
            "padding": null,
            "right": null,
            "top": null,
            "visibility": null,
            "width": null
          }
        },
        "13556acb1c6c40ffb600740d4201047d": {
          "model_module": "@jupyter-widgets/controls",
          "model_name": "DescriptionStyleModel",
          "model_module_version": "1.5.0",
          "state": {
            "_model_module": "@jupyter-widgets/controls",
            "_model_module_version": "1.5.0",
            "_model_name": "DescriptionStyleModel",
            "_view_count": null,
            "_view_module": "@jupyter-widgets/base",
            "_view_module_version": "1.2.0",
            "_view_name": "StyleView",
            "description_width": ""
          }
        },
        "c4d8cbcaddef49bdb902884b75692ef2": {
          "model_module": "@jupyter-widgets/base",
          "model_name": "LayoutModel",
          "model_module_version": "1.2.0",
          "state": {
            "_model_module": "@jupyter-widgets/base",
            "_model_module_version": "1.2.0",
            "_model_name": "LayoutModel",
            "_view_count": null,
            "_view_module": "@jupyter-widgets/base",
            "_view_module_version": "1.2.0",
            "_view_name": "LayoutView",
            "align_content": null,
            "align_items": null,
            "align_self": null,
            "border": null,
            "bottom": null,
            "display": null,
            "flex": null,
            "flex_flow": null,
            "grid_area": null,
            "grid_auto_columns": null,
            "grid_auto_flow": null,
            "grid_auto_rows": null,
            "grid_column": null,
            "grid_gap": null,
            "grid_row": null,
            "grid_template_areas": null,
            "grid_template_columns": null,
            "grid_template_rows": null,
            "height": null,
            "justify_content": null,
            "justify_items": null,
            "left": null,
            "margin": null,
            "max_height": null,
            "max_width": null,
            "min_height": null,
            "min_width": null,
            "object_fit": null,
            "object_position": null,
            "order": null,
            "overflow": null,
            "overflow_x": null,
            "overflow_y": null,
            "padding": null,
            "right": null,
            "top": null,
            "visibility": null,
            "width": null
          }
        },
        "7309069957a1460eb582212d6c7e22ba": {
          "model_module": "@jupyter-widgets/controls",
          "model_name": "ProgressStyleModel",
          "model_module_version": "1.5.0",
          "state": {
            "_model_module": "@jupyter-widgets/controls",
            "_model_module_version": "1.5.0",
            "_model_name": "ProgressStyleModel",
            "_view_count": null,
            "_view_module": "@jupyter-widgets/base",
            "_view_module_version": "1.2.0",
            "_view_name": "StyleView",
            "bar_color": null,
            "description_width": ""
          }
        },
        "0f6e8a2ae3b64f96af8e3c69582f02bf": {
          "model_module": "@jupyter-widgets/controls",
          "model_name": "VBoxModel",
          "model_module_version": "1.5.0",
          "state": {
            "_dom_classes": [],
            "_model_module": "@jupyter-widgets/controls",
            "_model_module_version": "1.5.0",
            "_model_name": "VBoxModel",
            "_view_count": null,
            "_view_module": "@jupyter-widgets/controls",
            "_view_module_version": "1.5.0",
            "_view_name": "VBoxView",
            "box_style": "",
            "children": [
              "IPY_MODEL_9ed989e045264e0dab98fee1f5ddb8de",
              "IPY_MODEL_a94df7c7b4aa48ae9a0e9e72434146a6"
            ],
            "layout": "IPY_MODEL_55a57a274526474390a2e0f9a4017f8e"
          }
        },
        "9ed989e045264e0dab98fee1f5ddb8de": {
          "model_module": "@jupyter-widgets/controls",
          "model_name": "LabelModel",
          "model_module_version": "1.5.0",
          "state": {
            "_dom_classes": [],
            "_model_module": "@jupyter-widgets/controls",
            "_model_module_version": "1.5.0",
            "_model_name": "LabelModel",
            "_view_count": null,
            "_view_module": "@jupyter-widgets/controls",
            "_view_module_version": "1.5.0",
            "_view_name": "LabelView",
            "description": "",
            "description_tooltip": null,
            "layout": "IPY_MODEL_6ba8e7cecab741c8867ee92b1ea0dd01",
            "placeholder": "​",
            "style": "IPY_MODEL_0ce3382cdaa8460585315e4b2dd2f856",
            "value": "2.004 MB of 2.004 MB uploaded (0.000 MB deduped)\r"
          }
        },
        "a94df7c7b4aa48ae9a0e9e72434146a6": {
          "model_module": "@jupyter-widgets/controls",
          "model_name": "FloatProgressModel",
          "model_module_version": "1.5.0",
          "state": {
            "_dom_classes": [],
            "_model_module": "@jupyter-widgets/controls",
            "_model_module_version": "1.5.0",
            "_model_name": "FloatProgressModel",
            "_view_count": null,
            "_view_module": "@jupyter-widgets/controls",
            "_view_module_version": "1.5.0",
            "_view_name": "ProgressView",
            "bar_style": "",
            "description": "",
            "description_tooltip": null,
            "layout": "IPY_MODEL_39dfb43ac82e4b4ab394fb53419c905b",
            "max": 1,
            "min": 0,
            "orientation": "horizontal",
            "style": "IPY_MODEL_dc4a046e02ee48d5a47e555cb7d7291d",
            "value": 1
          }
        },
        "55a57a274526474390a2e0f9a4017f8e": {
          "model_module": "@jupyter-widgets/base",
          "model_name": "LayoutModel",
          "model_module_version": "1.2.0",
          "state": {
            "_model_module": "@jupyter-widgets/base",
            "_model_module_version": "1.2.0",
            "_model_name": "LayoutModel",
            "_view_count": null,
            "_view_module": "@jupyter-widgets/base",
            "_view_module_version": "1.2.0",
            "_view_name": "LayoutView",
            "align_content": null,
            "align_items": null,
            "align_self": null,
            "border": null,
            "bottom": null,
            "display": null,
            "flex": null,
            "flex_flow": null,
            "grid_area": null,
            "grid_auto_columns": null,
            "grid_auto_flow": null,
            "grid_auto_rows": null,
            "grid_column": null,
            "grid_gap": null,
            "grid_row": null,
            "grid_template_areas": null,
            "grid_template_columns": null,
            "grid_template_rows": null,
            "height": null,
            "justify_content": null,
            "justify_items": null,
            "left": null,
            "margin": null,
            "max_height": null,
            "max_width": null,
            "min_height": null,
            "min_width": null,
            "object_fit": null,
            "object_position": null,
            "order": null,
            "overflow": null,
            "overflow_x": null,
            "overflow_y": null,
            "padding": null,
            "right": null,
            "top": null,
            "visibility": null,
            "width": null
          }
        },
        "6ba8e7cecab741c8867ee92b1ea0dd01": {
          "model_module": "@jupyter-widgets/base",
          "model_name": "LayoutModel",
          "model_module_version": "1.2.0",
          "state": {
            "_model_module": "@jupyter-widgets/base",
            "_model_module_version": "1.2.0",
            "_model_name": "LayoutModel",
            "_view_count": null,
            "_view_module": "@jupyter-widgets/base",
            "_view_module_version": "1.2.0",
            "_view_name": "LayoutView",
            "align_content": null,
            "align_items": null,
            "align_self": null,
            "border": null,
            "bottom": null,
            "display": null,
            "flex": null,
            "flex_flow": null,
            "grid_area": null,
            "grid_auto_columns": null,
            "grid_auto_flow": null,
            "grid_auto_rows": null,
            "grid_column": null,
            "grid_gap": null,
            "grid_row": null,
            "grid_template_areas": null,
            "grid_template_columns": null,
            "grid_template_rows": null,
            "height": null,
            "justify_content": null,
            "justify_items": null,
            "left": null,
            "margin": null,
            "max_height": null,
            "max_width": null,
            "min_height": null,
            "min_width": null,
            "object_fit": null,
            "object_position": null,
            "order": null,
            "overflow": null,
            "overflow_x": null,
            "overflow_y": null,
            "padding": null,
            "right": null,
            "top": null,
            "visibility": null,
            "width": null
          }
        },
        "0ce3382cdaa8460585315e4b2dd2f856": {
          "model_module": "@jupyter-widgets/controls",
          "model_name": "DescriptionStyleModel",
          "model_module_version": "1.5.0",
          "state": {
            "_model_module": "@jupyter-widgets/controls",
            "_model_module_version": "1.5.0",
            "_model_name": "DescriptionStyleModel",
            "_view_count": null,
            "_view_module": "@jupyter-widgets/base",
            "_view_module_version": "1.2.0",
            "_view_name": "StyleView",
            "description_width": ""
          }
        },
        "39dfb43ac82e4b4ab394fb53419c905b": {
          "model_module": "@jupyter-widgets/base",
          "model_name": "LayoutModel",
          "model_module_version": "1.2.0",
          "state": {
            "_model_module": "@jupyter-widgets/base",
            "_model_module_version": "1.2.0",
            "_model_name": "LayoutModel",
            "_view_count": null,
            "_view_module": "@jupyter-widgets/base",
            "_view_module_version": "1.2.0",
            "_view_name": "LayoutView",
            "align_content": null,
            "align_items": null,
            "align_self": null,
            "border": null,
            "bottom": null,
            "display": null,
            "flex": null,
            "flex_flow": null,
            "grid_area": null,
            "grid_auto_columns": null,
            "grid_auto_flow": null,
            "grid_auto_rows": null,
            "grid_column": null,
            "grid_gap": null,
            "grid_row": null,
            "grid_template_areas": null,
            "grid_template_columns": null,
            "grid_template_rows": null,
            "height": null,
            "justify_content": null,
            "justify_items": null,
            "left": null,
            "margin": null,
            "max_height": null,
            "max_width": null,
            "min_height": null,
            "min_width": null,
            "object_fit": null,
            "object_position": null,
            "order": null,
            "overflow": null,
            "overflow_x": null,
            "overflow_y": null,
            "padding": null,
            "right": null,
            "top": null,
            "visibility": null,
            "width": null
          }
        },
        "dc4a046e02ee48d5a47e555cb7d7291d": {
          "model_module": "@jupyter-widgets/controls",
          "model_name": "ProgressStyleModel",
          "model_module_version": "1.5.0",
          "state": {
            "_model_module": "@jupyter-widgets/controls",
            "_model_module_version": "1.5.0",
            "_model_name": "ProgressStyleModel",
            "_view_count": null,
            "_view_module": "@jupyter-widgets/base",
            "_view_module_version": "1.2.0",
            "_view_name": "StyleView",
            "bar_color": null,
            "description_width": ""
          }
        },
        "e46c81f9b2354d2dbc152b96f44dcff8": {
          "model_module": "@jupyter-widgets/controls",
          "model_name": "VBoxModel",
          "model_module_version": "1.5.0",
          "state": {
            "_dom_classes": [],
            "_model_module": "@jupyter-widgets/controls",
            "_model_module_version": "1.5.0",
            "_model_name": "VBoxModel",
            "_view_count": null,
            "_view_module": "@jupyter-widgets/controls",
            "_view_module_version": "1.5.0",
            "_view_name": "VBoxView",
            "box_style": "",
            "children": [
              "IPY_MODEL_b4dc4ac234b849b0a9b81ee638086b0c",
              "IPY_MODEL_3978f1aa846140b3b7e248e5d4245380"
            ],
            "layout": "IPY_MODEL_bfcc4e3df3414e80b95babdc551523cb"
          }
        },
        "b4dc4ac234b849b0a9b81ee638086b0c": {
          "model_module": "@jupyter-widgets/controls",
          "model_name": "LabelModel",
          "model_module_version": "1.5.0",
          "state": {
            "_dom_classes": [],
            "_model_module": "@jupyter-widgets/controls",
            "_model_module_version": "1.5.0",
            "_model_name": "LabelModel",
            "_view_count": null,
            "_view_module": "@jupyter-widgets/controls",
            "_view_module_version": "1.5.0",
            "_view_name": "LabelView",
            "description": "",
            "description_tooltip": null,
            "layout": "IPY_MODEL_942d0eebbb1b4964ac753797a50d01d6",
            "placeholder": "​",
            "style": "IPY_MODEL_1964086ee30c484bbd89d0f25fc5d66a",
            "value": "2.006 MB of 2.006 MB uploaded (0.000 MB deduped)\r"
          }
        },
        "3978f1aa846140b3b7e248e5d4245380": {
          "model_module": "@jupyter-widgets/controls",
          "model_name": "FloatProgressModel",
          "model_module_version": "1.5.0",
          "state": {
            "_dom_classes": [],
            "_model_module": "@jupyter-widgets/controls",
            "_model_module_version": "1.5.0",
            "_model_name": "FloatProgressModel",
            "_view_count": null,
            "_view_module": "@jupyter-widgets/controls",
            "_view_module_version": "1.5.0",
            "_view_name": "ProgressView",
            "bar_style": "",
            "description": "",
            "description_tooltip": null,
            "layout": "IPY_MODEL_0dfc8b0bfd884f449cdd8ef55483f360",
            "max": 1,
            "min": 0,
            "orientation": "horizontal",
            "style": "IPY_MODEL_f56b3860ee9548b983d3c00c9f8ae1e8",
            "value": 1
          }
        },
        "bfcc4e3df3414e80b95babdc551523cb": {
          "model_module": "@jupyter-widgets/base",
          "model_name": "LayoutModel",
          "model_module_version": "1.2.0",
          "state": {
            "_model_module": "@jupyter-widgets/base",
            "_model_module_version": "1.2.0",
            "_model_name": "LayoutModel",
            "_view_count": null,
            "_view_module": "@jupyter-widgets/base",
            "_view_module_version": "1.2.0",
            "_view_name": "LayoutView",
            "align_content": null,
            "align_items": null,
            "align_self": null,
            "border": null,
            "bottom": null,
            "display": null,
            "flex": null,
            "flex_flow": null,
            "grid_area": null,
            "grid_auto_columns": null,
            "grid_auto_flow": null,
            "grid_auto_rows": null,
            "grid_column": null,
            "grid_gap": null,
            "grid_row": null,
            "grid_template_areas": null,
            "grid_template_columns": null,
            "grid_template_rows": null,
            "height": null,
            "justify_content": null,
            "justify_items": null,
            "left": null,
            "margin": null,
            "max_height": null,
            "max_width": null,
            "min_height": null,
            "min_width": null,
            "object_fit": null,
            "object_position": null,
            "order": null,
            "overflow": null,
            "overflow_x": null,
            "overflow_y": null,
            "padding": null,
            "right": null,
            "top": null,
            "visibility": null,
            "width": null
          }
        },
        "942d0eebbb1b4964ac753797a50d01d6": {
          "model_module": "@jupyter-widgets/base",
          "model_name": "LayoutModel",
          "model_module_version": "1.2.0",
          "state": {
            "_model_module": "@jupyter-widgets/base",
            "_model_module_version": "1.2.0",
            "_model_name": "LayoutModel",
            "_view_count": null,
            "_view_module": "@jupyter-widgets/base",
            "_view_module_version": "1.2.0",
            "_view_name": "LayoutView",
            "align_content": null,
            "align_items": null,
            "align_self": null,
            "border": null,
            "bottom": null,
            "display": null,
            "flex": null,
            "flex_flow": null,
            "grid_area": null,
            "grid_auto_columns": null,
            "grid_auto_flow": null,
            "grid_auto_rows": null,
            "grid_column": null,
            "grid_gap": null,
            "grid_row": null,
            "grid_template_areas": null,
            "grid_template_columns": null,
            "grid_template_rows": null,
            "height": null,
            "justify_content": null,
            "justify_items": null,
            "left": null,
            "margin": null,
            "max_height": null,
            "max_width": null,
            "min_height": null,
            "min_width": null,
            "object_fit": null,
            "object_position": null,
            "order": null,
            "overflow": null,
            "overflow_x": null,
            "overflow_y": null,
            "padding": null,
            "right": null,
            "top": null,
            "visibility": null,
            "width": null
          }
        },
        "1964086ee30c484bbd89d0f25fc5d66a": {
          "model_module": "@jupyter-widgets/controls",
          "model_name": "DescriptionStyleModel",
          "model_module_version": "1.5.0",
          "state": {
            "_model_module": "@jupyter-widgets/controls",
            "_model_module_version": "1.5.0",
            "_model_name": "DescriptionStyleModel",
            "_view_count": null,
            "_view_module": "@jupyter-widgets/base",
            "_view_module_version": "1.2.0",
            "_view_name": "StyleView",
            "description_width": ""
          }
        },
        "0dfc8b0bfd884f449cdd8ef55483f360": {
          "model_module": "@jupyter-widgets/base",
          "model_name": "LayoutModel",
          "model_module_version": "1.2.0",
          "state": {
            "_model_module": "@jupyter-widgets/base",
            "_model_module_version": "1.2.0",
            "_model_name": "LayoutModel",
            "_view_count": null,
            "_view_module": "@jupyter-widgets/base",
            "_view_module_version": "1.2.0",
            "_view_name": "LayoutView",
            "align_content": null,
            "align_items": null,
            "align_self": null,
            "border": null,
            "bottom": null,
            "display": null,
            "flex": null,
            "flex_flow": null,
            "grid_area": null,
            "grid_auto_columns": null,
            "grid_auto_flow": null,
            "grid_auto_rows": null,
            "grid_column": null,
            "grid_gap": null,
            "grid_row": null,
            "grid_template_areas": null,
            "grid_template_columns": null,
            "grid_template_rows": null,
            "height": null,
            "justify_content": null,
            "justify_items": null,
            "left": null,
            "margin": null,
            "max_height": null,
            "max_width": null,
            "min_height": null,
            "min_width": null,
            "object_fit": null,
            "object_position": null,
            "order": null,
            "overflow": null,
            "overflow_x": null,
            "overflow_y": null,
            "padding": null,
            "right": null,
            "top": null,
            "visibility": null,
            "width": null
          }
        },
        "f56b3860ee9548b983d3c00c9f8ae1e8": {
          "model_module": "@jupyter-widgets/controls",
          "model_name": "ProgressStyleModel",
          "model_module_version": "1.5.0",
          "state": {
            "_model_module": "@jupyter-widgets/controls",
            "_model_module_version": "1.5.0",
            "_model_name": "ProgressStyleModel",
            "_view_count": null,
            "_view_module": "@jupyter-widgets/base",
            "_view_module_version": "1.2.0",
            "_view_name": "StyleView",
            "bar_color": null,
            "description_width": ""
          }
        },
        "3ee164e40023487c9c6670646bb1f80c": {
          "model_module": "@jupyter-widgets/controls",
          "model_name": "VBoxModel",
          "model_module_version": "1.5.0",
          "state": {
            "_dom_classes": [],
            "_model_module": "@jupyter-widgets/controls",
            "_model_module_version": "1.5.0",
            "_model_name": "VBoxModel",
            "_view_count": null,
            "_view_module": "@jupyter-widgets/controls",
            "_view_module_version": "1.5.0",
            "_view_name": "VBoxView",
            "box_style": "",
            "children": [
              "IPY_MODEL_57ecaed70ad54288bda6677048f7e182",
              "IPY_MODEL_fed23f91604045ff9d01bbfa56ac49c0"
            ],
            "layout": "IPY_MODEL_f5e8dbfe2a78412794e2a796c839d0c1"
          }
        },
        "57ecaed70ad54288bda6677048f7e182": {
          "model_module": "@jupyter-widgets/controls",
          "model_name": "LabelModel",
          "model_module_version": "1.5.0",
          "state": {
            "_dom_classes": [],
            "_model_module": "@jupyter-widgets/controls",
            "_model_module_version": "1.5.0",
            "_model_name": "LabelModel",
            "_view_count": null,
            "_view_module": "@jupyter-widgets/controls",
            "_view_module_version": "1.5.0",
            "_view_name": "LabelView",
            "description": "",
            "description_tooltip": null,
            "layout": "IPY_MODEL_ab4376698ea74430a0858667fa9ab67f",
            "placeholder": "​",
            "style": "IPY_MODEL_ea2659e5970c4314bd39138ec89a2865",
            "value": "2.005 MB of 2.005 MB uploaded (0.000 MB deduped)\r"
          }
        },
        "fed23f91604045ff9d01bbfa56ac49c0": {
          "model_module": "@jupyter-widgets/controls",
          "model_name": "FloatProgressModel",
          "model_module_version": "1.5.0",
          "state": {
            "_dom_classes": [],
            "_model_module": "@jupyter-widgets/controls",
            "_model_module_version": "1.5.0",
            "_model_name": "FloatProgressModel",
            "_view_count": null,
            "_view_module": "@jupyter-widgets/controls",
            "_view_module_version": "1.5.0",
            "_view_name": "ProgressView",
            "bar_style": "",
            "description": "",
            "description_tooltip": null,
            "layout": "IPY_MODEL_a8da76a592cc41c98d0d46b149699888",
            "max": 1,
            "min": 0,
            "orientation": "horizontal",
            "style": "IPY_MODEL_2b98c63bab844ad9980fac4e6268ea5f",
            "value": 1
          }
        },
        "f5e8dbfe2a78412794e2a796c839d0c1": {
          "model_module": "@jupyter-widgets/base",
          "model_name": "LayoutModel",
          "model_module_version": "1.2.0",
          "state": {
            "_model_module": "@jupyter-widgets/base",
            "_model_module_version": "1.2.0",
            "_model_name": "LayoutModel",
            "_view_count": null,
            "_view_module": "@jupyter-widgets/base",
            "_view_module_version": "1.2.0",
            "_view_name": "LayoutView",
            "align_content": null,
            "align_items": null,
            "align_self": null,
            "border": null,
            "bottom": null,
            "display": null,
            "flex": null,
            "flex_flow": null,
            "grid_area": null,
            "grid_auto_columns": null,
            "grid_auto_flow": null,
            "grid_auto_rows": null,
            "grid_column": null,
            "grid_gap": null,
            "grid_row": null,
            "grid_template_areas": null,
            "grid_template_columns": null,
            "grid_template_rows": null,
            "height": null,
            "justify_content": null,
            "justify_items": null,
            "left": null,
            "margin": null,
            "max_height": null,
            "max_width": null,
            "min_height": null,
            "min_width": null,
            "object_fit": null,
            "object_position": null,
            "order": null,
            "overflow": null,
            "overflow_x": null,
            "overflow_y": null,
            "padding": null,
            "right": null,
            "top": null,
            "visibility": null,
            "width": null
          }
        },
        "ab4376698ea74430a0858667fa9ab67f": {
          "model_module": "@jupyter-widgets/base",
          "model_name": "LayoutModel",
          "model_module_version": "1.2.0",
          "state": {
            "_model_module": "@jupyter-widgets/base",
            "_model_module_version": "1.2.0",
            "_model_name": "LayoutModel",
            "_view_count": null,
            "_view_module": "@jupyter-widgets/base",
            "_view_module_version": "1.2.0",
            "_view_name": "LayoutView",
            "align_content": null,
            "align_items": null,
            "align_self": null,
            "border": null,
            "bottom": null,
            "display": null,
            "flex": null,
            "flex_flow": null,
            "grid_area": null,
            "grid_auto_columns": null,
            "grid_auto_flow": null,
            "grid_auto_rows": null,
            "grid_column": null,
            "grid_gap": null,
            "grid_row": null,
            "grid_template_areas": null,
            "grid_template_columns": null,
            "grid_template_rows": null,
            "height": null,
            "justify_content": null,
            "justify_items": null,
            "left": null,
            "margin": null,
            "max_height": null,
            "max_width": null,
            "min_height": null,
            "min_width": null,
            "object_fit": null,
            "object_position": null,
            "order": null,
            "overflow": null,
            "overflow_x": null,
            "overflow_y": null,
            "padding": null,
            "right": null,
            "top": null,
            "visibility": null,
            "width": null
          }
        },
        "ea2659e5970c4314bd39138ec89a2865": {
          "model_module": "@jupyter-widgets/controls",
          "model_name": "DescriptionStyleModel",
          "model_module_version": "1.5.0",
          "state": {
            "_model_module": "@jupyter-widgets/controls",
            "_model_module_version": "1.5.0",
            "_model_name": "DescriptionStyleModel",
            "_view_count": null,
            "_view_module": "@jupyter-widgets/base",
            "_view_module_version": "1.2.0",
            "_view_name": "StyleView",
            "description_width": ""
          }
        },
        "a8da76a592cc41c98d0d46b149699888": {
          "model_module": "@jupyter-widgets/base",
          "model_name": "LayoutModel",
          "model_module_version": "1.2.0",
          "state": {
            "_model_module": "@jupyter-widgets/base",
            "_model_module_version": "1.2.0",
            "_model_name": "LayoutModel",
            "_view_count": null,
            "_view_module": "@jupyter-widgets/base",
            "_view_module_version": "1.2.0",
            "_view_name": "LayoutView",
            "align_content": null,
            "align_items": null,
            "align_self": null,
            "border": null,
            "bottom": null,
            "display": null,
            "flex": null,
            "flex_flow": null,
            "grid_area": null,
            "grid_auto_columns": null,
            "grid_auto_flow": null,
            "grid_auto_rows": null,
            "grid_column": null,
            "grid_gap": null,
            "grid_row": null,
            "grid_template_areas": null,
            "grid_template_columns": null,
            "grid_template_rows": null,
            "height": null,
            "justify_content": null,
            "justify_items": null,
            "left": null,
            "margin": null,
            "max_height": null,
            "max_width": null,
            "min_height": null,
            "min_width": null,
            "object_fit": null,
            "object_position": null,
            "order": null,
            "overflow": null,
            "overflow_x": null,
            "overflow_y": null,
            "padding": null,
            "right": null,
            "top": null,
            "visibility": null,
            "width": null
          }
        },
        "2b98c63bab844ad9980fac4e6268ea5f": {
          "model_module": "@jupyter-widgets/controls",
          "model_name": "ProgressStyleModel",
          "model_module_version": "1.5.0",
          "state": {
            "_model_module": "@jupyter-widgets/controls",
            "_model_module_version": "1.5.0",
            "_model_name": "ProgressStyleModel",
            "_view_count": null,
            "_view_module": "@jupyter-widgets/base",
            "_view_module_version": "1.2.0",
            "_view_name": "StyleView",
            "bar_color": null,
            "description_width": ""
          }
        },
        "9820ebdea67c49788b14d85dce24ff25": {
          "model_module": "@jupyter-widgets/controls",
          "model_name": "VBoxModel",
          "model_module_version": "1.5.0",
          "state": {
            "_dom_classes": [],
            "_model_module": "@jupyter-widgets/controls",
            "_model_module_version": "1.5.0",
            "_model_name": "VBoxModel",
            "_view_count": null,
            "_view_module": "@jupyter-widgets/controls",
            "_view_module_version": "1.5.0",
            "_view_name": "VBoxView",
            "box_style": "",
            "children": [
              "IPY_MODEL_294b4ea9d4d248a48af05ac400d26b64",
              "IPY_MODEL_51a85ab24dd34751aa30a238311e7826"
            ],
            "layout": "IPY_MODEL_813da9e9608642b7953817b65e3320b8"
          }
        },
        "294b4ea9d4d248a48af05ac400d26b64": {
          "model_module": "@jupyter-widgets/controls",
          "model_name": "LabelModel",
          "model_module_version": "1.5.0",
          "state": {
            "_dom_classes": [],
            "_model_module": "@jupyter-widgets/controls",
            "_model_module_version": "1.5.0",
            "_model_name": "LabelModel",
            "_view_count": null,
            "_view_module": "@jupyter-widgets/controls",
            "_view_module_version": "1.5.0",
            "_view_name": "LabelView",
            "description": "",
            "description_tooltip": null,
            "layout": "IPY_MODEL_3a1f2beaf0024504b1623531613dd102",
            "placeholder": "​",
            "style": "IPY_MODEL_69872e24fe4646fcbb7ac9a9152ec221",
            "value": "2.006 MB of 2.006 MB uploaded (0.000 MB deduped)\r"
          }
        },
        "51a85ab24dd34751aa30a238311e7826": {
          "model_module": "@jupyter-widgets/controls",
          "model_name": "FloatProgressModel",
          "model_module_version": "1.5.0",
          "state": {
            "_dom_classes": [],
            "_model_module": "@jupyter-widgets/controls",
            "_model_module_version": "1.5.0",
            "_model_name": "FloatProgressModel",
            "_view_count": null,
            "_view_module": "@jupyter-widgets/controls",
            "_view_module_version": "1.5.0",
            "_view_name": "ProgressView",
            "bar_style": "",
            "description": "",
            "description_tooltip": null,
            "layout": "IPY_MODEL_a9e4f548ffaf4c6bae35732601b363ad",
            "max": 1,
            "min": 0,
            "orientation": "horizontal",
            "style": "IPY_MODEL_6f33ecd46c2342919e636f88dc543567",
            "value": 1
          }
        },
        "813da9e9608642b7953817b65e3320b8": {
          "model_module": "@jupyter-widgets/base",
          "model_name": "LayoutModel",
          "model_module_version": "1.2.0",
          "state": {
            "_model_module": "@jupyter-widgets/base",
            "_model_module_version": "1.2.0",
            "_model_name": "LayoutModel",
            "_view_count": null,
            "_view_module": "@jupyter-widgets/base",
            "_view_module_version": "1.2.0",
            "_view_name": "LayoutView",
            "align_content": null,
            "align_items": null,
            "align_self": null,
            "border": null,
            "bottom": null,
            "display": null,
            "flex": null,
            "flex_flow": null,
            "grid_area": null,
            "grid_auto_columns": null,
            "grid_auto_flow": null,
            "grid_auto_rows": null,
            "grid_column": null,
            "grid_gap": null,
            "grid_row": null,
            "grid_template_areas": null,
            "grid_template_columns": null,
            "grid_template_rows": null,
            "height": null,
            "justify_content": null,
            "justify_items": null,
            "left": null,
            "margin": null,
            "max_height": null,
            "max_width": null,
            "min_height": null,
            "min_width": null,
            "object_fit": null,
            "object_position": null,
            "order": null,
            "overflow": null,
            "overflow_x": null,
            "overflow_y": null,
            "padding": null,
            "right": null,
            "top": null,
            "visibility": null,
            "width": null
          }
        },
        "3a1f2beaf0024504b1623531613dd102": {
          "model_module": "@jupyter-widgets/base",
          "model_name": "LayoutModel",
          "model_module_version": "1.2.0",
          "state": {
            "_model_module": "@jupyter-widgets/base",
            "_model_module_version": "1.2.0",
            "_model_name": "LayoutModel",
            "_view_count": null,
            "_view_module": "@jupyter-widgets/base",
            "_view_module_version": "1.2.0",
            "_view_name": "LayoutView",
            "align_content": null,
            "align_items": null,
            "align_self": null,
            "border": null,
            "bottom": null,
            "display": null,
            "flex": null,
            "flex_flow": null,
            "grid_area": null,
            "grid_auto_columns": null,
            "grid_auto_flow": null,
            "grid_auto_rows": null,
            "grid_column": null,
            "grid_gap": null,
            "grid_row": null,
            "grid_template_areas": null,
            "grid_template_columns": null,
            "grid_template_rows": null,
            "height": null,
            "justify_content": null,
            "justify_items": null,
            "left": null,
            "margin": null,
            "max_height": null,
            "max_width": null,
            "min_height": null,
            "min_width": null,
            "object_fit": null,
            "object_position": null,
            "order": null,
            "overflow": null,
            "overflow_x": null,
            "overflow_y": null,
            "padding": null,
            "right": null,
            "top": null,
            "visibility": null,
            "width": null
          }
        },
        "69872e24fe4646fcbb7ac9a9152ec221": {
          "model_module": "@jupyter-widgets/controls",
          "model_name": "DescriptionStyleModel",
          "model_module_version": "1.5.0",
          "state": {
            "_model_module": "@jupyter-widgets/controls",
            "_model_module_version": "1.5.0",
            "_model_name": "DescriptionStyleModel",
            "_view_count": null,
            "_view_module": "@jupyter-widgets/base",
            "_view_module_version": "1.2.0",
            "_view_name": "StyleView",
            "description_width": ""
          }
        },
        "a9e4f548ffaf4c6bae35732601b363ad": {
          "model_module": "@jupyter-widgets/base",
          "model_name": "LayoutModel",
          "model_module_version": "1.2.0",
          "state": {
            "_model_module": "@jupyter-widgets/base",
            "_model_module_version": "1.2.0",
            "_model_name": "LayoutModel",
            "_view_count": null,
            "_view_module": "@jupyter-widgets/base",
            "_view_module_version": "1.2.0",
            "_view_name": "LayoutView",
            "align_content": null,
            "align_items": null,
            "align_self": null,
            "border": null,
            "bottom": null,
            "display": null,
            "flex": null,
            "flex_flow": null,
            "grid_area": null,
            "grid_auto_columns": null,
            "grid_auto_flow": null,
            "grid_auto_rows": null,
            "grid_column": null,
            "grid_gap": null,
            "grid_row": null,
            "grid_template_areas": null,
            "grid_template_columns": null,
            "grid_template_rows": null,
            "height": null,
            "justify_content": null,
            "justify_items": null,
            "left": null,
            "margin": null,
            "max_height": null,
            "max_width": null,
            "min_height": null,
            "min_width": null,
            "object_fit": null,
            "object_position": null,
            "order": null,
            "overflow": null,
            "overflow_x": null,
            "overflow_y": null,
            "padding": null,
            "right": null,
            "top": null,
            "visibility": null,
            "width": null
          }
        },
        "6f33ecd46c2342919e636f88dc543567": {
          "model_module": "@jupyter-widgets/controls",
          "model_name": "ProgressStyleModel",
          "model_module_version": "1.5.0",
          "state": {
            "_model_module": "@jupyter-widgets/controls",
            "_model_module_version": "1.5.0",
            "_model_name": "ProgressStyleModel",
            "_view_count": null,
            "_view_module": "@jupyter-widgets/base",
            "_view_module_version": "1.2.0",
            "_view_name": "StyleView",
            "bar_color": null,
            "description_width": ""
          }
        },
        "ab7b41ac3ce84a5aa31aa4751aa3719e": {
          "model_module": "@jupyter-widgets/controls",
          "model_name": "VBoxModel",
          "model_module_version": "1.5.0",
          "state": {
            "_dom_classes": [],
            "_model_module": "@jupyter-widgets/controls",
            "_model_module_version": "1.5.0",
            "_model_name": "VBoxModel",
            "_view_count": null,
            "_view_module": "@jupyter-widgets/controls",
            "_view_module_version": "1.5.0",
            "_view_name": "VBoxView",
            "box_style": "",
            "children": [
              "IPY_MODEL_535737086fcf46d9927ea5b218fa6ec4",
              "IPY_MODEL_7f204d560e294bdaae684d7d62d6b90f"
            ],
            "layout": "IPY_MODEL_97166a52b8164fcbaf2d65efe54cc2d4"
          }
        },
        "535737086fcf46d9927ea5b218fa6ec4": {
          "model_module": "@jupyter-widgets/controls",
          "model_name": "LabelModel",
          "model_module_version": "1.5.0",
          "state": {
            "_dom_classes": [],
            "_model_module": "@jupyter-widgets/controls",
            "_model_module_version": "1.5.0",
            "_model_name": "LabelModel",
            "_view_count": null,
            "_view_module": "@jupyter-widgets/controls",
            "_view_module_version": "1.5.0",
            "_view_name": "LabelView",
            "description": "",
            "description_tooltip": null,
            "layout": "IPY_MODEL_40efd24ac1a64734b162b3117b07a656",
            "placeholder": "​",
            "style": "IPY_MODEL_65f1a63a414647b9b75479b4b5920c43",
            "value": "2.005 MB of 2.005 MB uploaded (0.000 MB deduped)\r"
          }
        },
        "7f204d560e294bdaae684d7d62d6b90f": {
          "model_module": "@jupyter-widgets/controls",
          "model_name": "FloatProgressModel",
          "model_module_version": "1.5.0",
          "state": {
            "_dom_classes": [],
            "_model_module": "@jupyter-widgets/controls",
            "_model_module_version": "1.5.0",
            "_model_name": "FloatProgressModel",
            "_view_count": null,
            "_view_module": "@jupyter-widgets/controls",
            "_view_module_version": "1.5.0",
            "_view_name": "ProgressView",
            "bar_style": "",
            "description": "",
            "description_tooltip": null,
            "layout": "IPY_MODEL_4de3b658d0b64996be804bec10b600ef",
            "max": 1,
            "min": 0,
            "orientation": "horizontal",
            "style": "IPY_MODEL_62ba14aec9a84ab6abe0a1510b60d6e9",
            "value": 1
          }
        },
        "97166a52b8164fcbaf2d65efe54cc2d4": {
          "model_module": "@jupyter-widgets/base",
          "model_name": "LayoutModel",
          "model_module_version": "1.2.0",
          "state": {
            "_model_module": "@jupyter-widgets/base",
            "_model_module_version": "1.2.0",
            "_model_name": "LayoutModel",
            "_view_count": null,
            "_view_module": "@jupyter-widgets/base",
            "_view_module_version": "1.2.0",
            "_view_name": "LayoutView",
            "align_content": null,
            "align_items": null,
            "align_self": null,
            "border": null,
            "bottom": null,
            "display": null,
            "flex": null,
            "flex_flow": null,
            "grid_area": null,
            "grid_auto_columns": null,
            "grid_auto_flow": null,
            "grid_auto_rows": null,
            "grid_column": null,
            "grid_gap": null,
            "grid_row": null,
            "grid_template_areas": null,
            "grid_template_columns": null,
            "grid_template_rows": null,
            "height": null,
            "justify_content": null,
            "justify_items": null,
            "left": null,
            "margin": null,
            "max_height": null,
            "max_width": null,
            "min_height": null,
            "min_width": null,
            "object_fit": null,
            "object_position": null,
            "order": null,
            "overflow": null,
            "overflow_x": null,
            "overflow_y": null,
            "padding": null,
            "right": null,
            "top": null,
            "visibility": null,
            "width": null
          }
        },
        "40efd24ac1a64734b162b3117b07a656": {
          "model_module": "@jupyter-widgets/base",
          "model_name": "LayoutModel",
          "model_module_version": "1.2.0",
          "state": {
            "_model_module": "@jupyter-widgets/base",
            "_model_module_version": "1.2.0",
            "_model_name": "LayoutModel",
            "_view_count": null,
            "_view_module": "@jupyter-widgets/base",
            "_view_module_version": "1.2.0",
            "_view_name": "LayoutView",
            "align_content": null,
            "align_items": null,
            "align_self": null,
            "border": null,
            "bottom": null,
            "display": null,
            "flex": null,
            "flex_flow": null,
            "grid_area": null,
            "grid_auto_columns": null,
            "grid_auto_flow": null,
            "grid_auto_rows": null,
            "grid_column": null,
            "grid_gap": null,
            "grid_row": null,
            "grid_template_areas": null,
            "grid_template_columns": null,
            "grid_template_rows": null,
            "height": null,
            "justify_content": null,
            "justify_items": null,
            "left": null,
            "margin": null,
            "max_height": null,
            "max_width": null,
            "min_height": null,
            "min_width": null,
            "object_fit": null,
            "object_position": null,
            "order": null,
            "overflow": null,
            "overflow_x": null,
            "overflow_y": null,
            "padding": null,
            "right": null,
            "top": null,
            "visibility": null,
            "width": null
          }
        },
        "65f1a63a414647b9b75479b4b5920c43": {
          "model_module": "@jupyter-widgets/controls",
          "model_name": "DescriptionStyleModel",
          "model_module_version": "1.5.0",
          "state": {
            "_model_module": "@jupyter-widgets/controls",
            "_model_module_version": "1.5.0",
            "_model_name": "DescriptionStyleModel",
            "_view_count": null,
            "_view_module": "@jupyter-widgets/base",
            "_view_module_version": "1.2.0",
            "_view_name": "StyleView",
            "description_width": ""
          }
        },
        "4de3b658d0b64996be804bec10b600ef": {
          "model_module": "@jupyter-widgets/base",
          "model_name": "LayoutModel",
          "model_module_version": "1.2.0",
          "state": {
            "_model_module": "@jupyter-widgets/base",
            "_model_module_version": "1.2.0",
            "_model_name": "LayoutModel",
            "_view_count": null,
            "_view_module": "@jupyter-widgets/base",
            "_view_module_version": "1.2.0",
            "_view_name": "LayoutView",
            "align_content": null,
            "align_items": null,
            "align_self": null,
            "border": null,
            "bottom": null,
            "display": null,
            "flex": null,
            "flex_flow": null,
            "grid_area": null,
            "grid_auto_columns": null,
            "grid_auto_flow": null,
            "grid_auto_rows": null,
            "grid_column": null,
            "grid_gap": null,
            "grid_row": null,
            "grid_template_areas": null,
            "grid_template_columns": null,
            "grid_template_rows": null,
            "height": null,
            "justify_content": null,
            "justify_items": null,
            "left": null,
            "margin": null,
            "max_height": null,
            "max_width": null,
            "min_height": null,
            "min_width": null,
            "object_fit": null,
            "object_position": null,
            "order": null,
            "overflow": null,
            "overflow_x": null,
            "overflow_y": null,
            "padding": null,
            "right": null,
            "top": null,
            "visibility": null,
            "width": null
          }
        },
        "62ba14aec9a84ab6abe0a1510b60d6e9": {
          "model_module": "@jupyter-widgets/controls",
          "model_name": "ProgressStyleModel",
          "model_module_version": "1.5.0",
          "state": {
            "_model_module": "@jupyter-widgets/controls",
            "_model_module_version": "1.5.0",
            "_model_name": "ProgressStyleModel",
            "_view_count": null,
            "_view_module": "@jupyter-widgets/base",
            "_view_module_version": "1.2.0",
            "_view_name": "StyleView",
            "bar_color": null,
            "description_width": ""
          }
        },
        "f7bc54a469a048aeacd80c4699cfdd9d": {
          "model_module": "@jupyter-widgets/controls",
          "model_name": "VBoxModel",
          "model_module_version": "1.5.0",
          "state": {
            "_dom_classes": [],
            "_model_module": "@jupyter-widgets/controls",
            "_model_module_version": "1.5.0",
            "_model_name": "VBoxModel",
            "_view_count": null,
            "_view_module": "@jupyter-widgets/controls",
            "_view_module_version": "1.5.0",
            "_view_name": "VBoxView",
            "box_style": "",
            "children": [
              "IPY_MODEL_300e51237bb34df9a951e36666dfbdbf",
              "IPY_MODEL_1fe289d91bcf497c9a65b3427a4fb607"
            ],
            "layout": "IPY_MODEL_f16143fdfccd4b11bb4a385bd99ed7fc"
          }
        },
        "300e51237bb34df9a951e36666dfbdbf": {
          "model_module": "@jupyter-widgets/controls",
          "model_name": "LabelModel",
          "model_module_version": "1.5.0",
          "state": {
            "_dom_classes": [],
            "_model_module": "@jupyter-widgets/controls",
            "_model_module_version": "1.5.0",
            "_model_name": "LabelModel",
            "_view_count": null,
            "_view_module": "@jupyter-widgets/controls",
            "_view_module_version": "1.5.0",
            "_view_name": "LabelView",
            "description": "",
            "description_tooltip": null,
            "layout": "IPY_MODEL_312bcf384d9e45e29ff1937257784c1a",
            "placeholder": "​",
            "style": "IPY_MODEL_04511bdbe1344bf0a8721d9e3f8a7cdd",
            "value": "2.005 MB of 2.005 MB uploaded (0.000 MB deduped)\r"
          }
        },
        "1fe289d91bcf497c9a65b3427a4fb607": {
          "model_module": "@jupyter-widgets/controls",
          "model_name": "FloatProgressModel",
          "model_module_version": "1.5.0",
          "state": {
            "_dom_classes": [],
            "_model_module": "@jupyter-widgets/controls",
            "_model_module_version": "1.5.0",
            "_model_name": "FloatProgressModel",
            "_view_count": null,
            "_view_module": "@jupyter-widgets/controls",
            "_view_module_version": "1.5.0",
            "_view_name": "ProgressView",
            "bar_style": "",
            "description": "",
            "description_tooltip": null,
            "layout": "IPY_MODEL_f1b63c49b9994d589b962d12fd698440",
            "max": 1,
            "min": 0,
            "orientation": "horizontal",
            "style": "IPY_MODEL_c62c11c2578f4325b8f15a23dd3cdc59",
            "value": 1
          }
        },
        "f16143fdfccd4b11bb4a385bd99ed7fc": {
          "model_module": "@jupyter-widgets/base",
          "model_name": "LayoutModel",
          "model_module_version": "1.2.0",
          "state": {
            "_model_module": "@jupyter-widgets/base",
            "_model_module_version": "1.2.0",
            "_model_name": "LayoutModel",
            "_view_count": null,
            "_view_module": "@jupyter-widgets/base",
            "_view_module_version": "1.2.0",
            "_view_name": "LayoutView",
            "align_content": null,
            "align_items": null,
            "align_self": null,
            "border": null,
            "bottom": null,
            "display": null,
            "flex": null,
            "flex_flow": null,
            "grid_area": null,
            "grid_auto_columns": null,
            "grid_auto_flow": null,
            "grid_auto_rows": null,
            "grid_column": null,
            "grid_gap": null,
            "grid_row": null,
            "grid_template_areas": null,
            "grid_template_columns": null,
            "grid_template_rows": null,
            "height": null,
            "justify_content": null,
            "justify_items": null,
            "left": null,
            "margin": null,
            "max_height": null,
            "max_width": null,
            "min_height": null,
            "min_width": null,
            "object_fit": null,
            "object_position": null,
            "order": null,
            "overflow": null,
            "overflow_x": null,
            "overflow_y": null,
            "padding": null,
            "right": null,
            "top": null,
            "visibility": null,
            "width": null
          }
        },
        "312bcf384d9e45e29ff1937257784c1a": {
          "model_module": "@jupyter-widgets/base",
          "model_name": "LayoutModel",
          "model_module_version": "1.2.0",
          "state": {
            "_model_module": "@jupyter-widgets/base",
            "_model_module_version": "1.2.0",
            "_model_name": "LayoutModel",
            "_view_count": null,
            "_view_module": "@jupyter-widgets/base",
            "_view_module_version": "1.2.0",
            "_view_name": "LayoutView",
            "align_content": null,
            "align_items": null,
            "align_self": null,
            "border": null,
            "bottom": null,
            "display": null,
            "flex": null,
            "flex_flow": null,
            "grid_area": null,
            "grid_auto_columns": null,
            "grid_auto_flow": null,
            "grid_auto_rows": null,
            "grid_column": null,
            "grid_gap": null,
            "grid_row": null,
            "grid_template_areas": null,
            "grid_template_columns": null,
            "grid_template_rows": null,
            "height": null,
            "justify_content": null,
            "justify_items": null,
            "left": null,
            "margin": null,
            "max_height": null,
            "max_width": null,
            "min_height": null,
            "min_width": null,
            "object_fit": null,
            "object_position": null,
            "order": null,
            "overflow": null,
            "overflow_x": null,
            "overflow_y": null,
            "padding": null,
            "right": null,
            "top": null,
            "visibility": null,
            "width": null
          }
        },
        "04511bdbe1344bf0a8721d9e3f8a7cdd": {
          "model_module": "@jupyter-widgets/controls",
          "model_name": "DescriptionStyleModel",
          "model_module_version": "1.5.0",
          "state": {
            "_model_module": "@jupyter-widgets/controls",
            "_model_module_version": "1.5.0",
            "_model_name": "DescriptionStyleModel",
            "_view_count": null,
            "_view_module": "@jupyter-widgets/base",
            "_view_module_version": "1.2.0",
            "_view_name": "StyleView",
            "description_width": ""
          }
        },
        "f1b63c49b9994d589b962d12fd698440": {
          "model_module": "@jupyter-widgets/base",
          "model_name": "LayoutModel",
          "model_module_version": "1.2.0",
          "state": {
            "_model_module": "@jupyter-widgets/base",
            "_model_module_version": "1.2.0",
            "_model_name": "LayoutModel",
            "_view_count": null,
            "_view_module": "@jupyter-widgets/base",
            "_view_module_version": "1.2.0",
            "_view_name": "LayoutView",
            "align_content": null,
            "align_items": null,
            "align_self": null,
            "border": null,
            "bottom": null,
            "display": null,
            "flex": null,
            "flex_flow": null,
            "grid_area": null,
            "grid_auto_columns": null,
            "grid_auto_flow": null,
            "grid_auto_rows": null,
            "grid_column": null,
            "grid_gap": null,
            "grid_row": null,
            "grid_template_areas": null,
            "grid_template_columns": null,
            "grid_template_rows": null,
            "height": null,
            "justify_content": null,
            "justify_items": null,
            "left": null,
            "margin": null,
            "max_height": null,
            "max_width": null,
            "min_height": null,
            "min_width": null,
            "object_fit": null,
            "object_position": null,
            "order": null,
            "overflow": null,
            "overflow_x": null,
            "overflow_y": null,
            "padding": null,
            "right": null,
            "top": null,
            "visibility": null,
            "width": null
          }
        },
        "c62c11c2578f4325b8f15a23dd3cdc59": {
          "model_module": "@jupyter-widgets/controls",
          "model_name": "ProgressStyleModel",
          "model_module_version": "1.5.0",
          "state": {
            "_model_module": "@jupyter-widgets/controls",
            "_model_module_version": "1.5.0",
            "_model_name": "ProgressStyleModel",
            "_view_count": null,
            "_view_module": "@jupyter-widgets/base",
            "_view_module_version": "1.2.0",
            "_view_name": "StyleView",
            "bar_color": null,
            "description_width": ""
          }
        },
        "f8b90304fd8149d7a2d93774cf65f0b8": {
          "model_module": "@jupyter-widgets/controls",
          "model_name": "VBoxModel",
          "model_module_version": "1.5.0",
          "state": {
            "_dom_classes": [],
            "_model_module": "@jupyter-widgets/controls",
            "_model_module_version": "1.5.0",
            "_model_name": "VBoxModel",
            "_view_count": null,
            "_view_module": "@jupyter-widgets/controls",
            "_view_module_version": "1.5.0",
            "_view_name": "VBoxView",
            "box_style": "",
            "children": [
              "IPY_MODEL_20ef46b98240408da6b42b40b321ad44",
              "IPY_MODEL_b3261bcf383e4dc1889bd1dcceb1a152"
            ],
            "layout": "IPY_MODEL_5dc3bad5d91145afbdc245bf43e4bf46"
          }
        },
        "20ef46b98240408da6b42b40b321ad44": {
          "model_module": "@jupyter-widgets/controls",
          "model_name": "LabelModel",
          "model_module_version": "1.5.0",
          "state": {
            "_dom_classes": [],
            "_model_module": "@jupyter-widgets/controls",
            "_model_module_version": "1.5.0",
            "_model_name": "LabelModel",
            "_view_count": null,
            "_view_module": "@jupyter-widgets/controls",
            "_view_module_version": "1.5.0",
            "_view_name": "LabelView",
            "description": "",
            "description_tooltip": null,
            "layout": "IPY_MODEL_bc0de2e72eee45a5a92f64fb043551fd",
            "placeholder": "​",
            "style": "IPY_MODEL_1902d4b1d1f54ecfb11efa93216d5c16",
            "value": "2.005 MB of 2.005 MB uploaded (0.000 MB deduped)\r"
          }
        },
        "b3261bcf383e4dc1889bd1dcceb1a152": {
          "model_module": "@jupyter-widgets/controls",
          "model_name": "FloatProgressModel",
          "model_module_version": "1.5.0",
          "state": {
            "_dom_classes": [],
            "_model_module": "@jupyter-widgets/controls",
            "_model_module_version": "1.5.0",
            "_model_name": "FloatProgressModel",
            "_view_count": null,
            "_view_module": "@jupyter-widgets/controls",
            "_view_module_version": "1.5.0",
            "_view_name": "ProgressView",
            "bar_style": "",
            "description": "",
            "description_tooltip": null,
            "layout": "IPY_MODEL_9ffa921453fd4eaf845b3ac0d75f7ad9",
            "max": 1,
            "min": 0,
            "orientation": "horizontal",
            "style": "IPY_MODEL_f3facf8900e1426c95f7338a4cd104fa",
            "value": 1
          }
        },
        "5dc3bad5d91145afbdc245bf43e4bf46": {
          "model_module": "@jupyter-widgets/base",
          "model_name": "LayoutModel",
          "model_module_version": "1.2.0",
          "state": {
            "_model_module": "@jupyter-widgets/base",
            "_model_module_version": "1.2.0",
            "_model_name": "LayoutModel",
            "_view_count": null,
            "_view_module": "@jupyter-widgets/base",
            "_view_module_version": "1.2.0",
            "_view_name": "LayoutView",
            "align_content": null,
            "align_items": null,
            "align_self": null,
            "border": null,
            "bottom": null,
            "display": null,
            "flex": null,
            "flex_flow": null,
            "grid_area": null,
            "grid_auto_columns": null,
            "grid_auto_flow": null,
            "grid_auto_rows": null,
            "grid_column": null,
            "grid_gap": null,
            "grid_row": null,
            "grid_template_areas": null,
            "grid_template_columns": null,
            "grid_template_rows": null,
            "height": null,
            "justify_content": null,
            "justify_items": null,
            "left": null,
            "margin": null,
            "max_height": null,
            "max_width": null,
            "min_height": null,
            "min_width": null,
            "object_fit": null,
            "object_position": null,
            "order": null,
            "overflow": null,
            "overflow_x": null,
            "overflow_y": null,
            "padding": null,
            "right": null,
            "top": null,
            "visibility": null,
            "width": null
          }
        },
        "bc0de2e72eee45a5a92f64fb043551fd": {
          "model_module": "@jupyter-widgets/base",
          "model_name": "LayoutModel",
          "model_module_version": "1.2.0",
          "state": {
            "_model_module": "@jupyter-widgets/base",
            "_model_module_version": "1.2.0",
            "_model_name": "LayoutModel",
            "_view_count": null,
            "_view_module": "@jupyter-widgets/base",
            "_view_module_version": "1.2.0",
            "_view_name": "LayoutView",
            "align_content": null,
            "align_items": null,
            "align_self": null,
            "border": null,
            "bottom": null,
            "display": null,
            "flex": null,
            "flex_flow": null,
            "grid_area": null,
            "grid_auto_columns": null,
            "grid_auto_flow": null,
            "grid_auto_rows": null,
            "grid_column": null,
            "grid_gap": null,
            "grid_row": null,
            "grid_template_areas": null,
            "grid_template_columns": null,
            "grid_template_rows": null,
            "height": null,
            "justify_content": null,
            "justify_items": null,
            "left": null,
            "margin": null,
            "max_height": null,
            "max_width": null,
            "min_height": null,
            "min_width": null,
            "object_fit": null,
            "object_position": null,
            "order": null,
            "overflow": null,
            "overflow_x": null,
            "overflow_y": null,
            "padding": null,
            "right": null,
            "top": null,
            "visibility": null,
            "width": null
          }
        },
        "1902d4b1d1f54ecfb11efa93216d5c16": {
          "model_module": "@jupyter-widgets/controls",
          "model_name": "DescriptionStyleModel",
          "model_module_version": "1.5.0",
          "state": {
            "_model_module": "@jupyter-widgets/controls",
            "_model_module_version": "1.5.0",
            "_model_name": "DescriptionStyleModel",
            "_view_count": null,
            "_view_module": "@jupyter-widgets/base",
            "_view_module_version": "1.2.0",
            "_view_name": "StyleView",
            "description_width": ""
          }
        },
        "9ffa921453fd4eaf845b3ac0d75f7ad9": {
          "model_module": "@jupyter-widgets/base",
          "model_name": "LayoutModel",
          "model_module_version": "1.2.0",
          "state": {
            "_model_module": "@jupyter-widgets/base",
            "_model_module_version": "1.2.0",
            "_model_name": "LayoutModel",
            "_view_count": null,
            "_view_module": "@jupyter-widgets/base",
            "_view_module_version": "1.2.0",
            "_view_name": "LayoutView",
            "align_content": null,
            "align_items": null,
            "align_self": null,
            "border": null,
            "bottom": null,
            "display": null,
            "flex": null,
            "flex_flow": null,
            "grid_area": null,
            "grid_auto_columns": null,
            "grid_auto_flow": null,
            "grid_auto_rows": null,
            "grid_column": null,
            "grid_gap": null,
            "grid_row": null,
            "grid_template_areas": null,
            "grid_template_columns": null,
            "grid_template_rows": null,
            "height": null,
            "justify_content": null,
            "justify_items": null,
            "left": null,
            "margin": null,
            "max_height": null,
            "max_width": null,
            "min_height": null,
            "min_width": null,
            "object_fit": null,
            "object_position": null,
            "order": null,
            "overflow": null,
            "overflow_x": null,
            "overflow_y": null,
            "padding": null,
            "right": null,
            "top": null,
            "visibility": null,
            "width": null
          }
        },
        "f3facf8900e1426c95f7338a4cd104fa": {
          "model_module": "@jupyter-widgets/controls",
          "model_name": "ProgressStyleModel",
          "model_module_version": "1.5.0",
          "state": {
            "_model_module": "@jupyter-widgets/controls",
            "_model_module_version": "1.5.0",
            "_model_name": "ProgressStyleModel",
            "_view_count": null,
            "_view_module": "@jupyter-widgets/base",
            "_view_module_version": "1.2.0",
            "_view_name": "StyleView",
            "bar_color": null,
            "description_width": ""
          }
        }
      }
    }
  },
  "cells": [
    {
      "cell_type": "code",
      "execution_count": null,
      "metadata": {
        "colab": {
          "base_uri": "https://localhost:8080/"
        },
        "id": "KG1l5NQuKUrz",
        "outputId": "ec00de49-02b2-4e5c-83b0-64acea7f86ce"
      },
      "outputs": [
        {
          "output_type": "stream",
          "name": "stdout",
          "text": [
            "\u001b[K     |████████████████████████████████| 1.7 MB 6.9 MB/s \n",
            "\u001b[K     |████████████████████████████████| 181 kB 46.3 MB/s \n",
            "\u001b[K     |████████████████████████████████| 144 kB 10.2 MB/s \n",
            "\u001b[K     |████████████████████████████████| 63 kB 514 kB/s \n",
            "\u001b[?25h  Building wheel for pathtools (setup.py) ... \u001b[?25l\u001b[?25hdone\n"
          ]
        }
      ],
      "source": [
        "!pip install wandb -qqq\n",
        "import wandb"
      ]
    },
    {
      "cell_type": "code",
      "source": [
        "# Log in to your W&B account\n",
        "wandb.login()"
      ],
      "metadata": {
        "colab": {
          "base_uri": "https://localhost:8080/",
          "height": 69
        },
        "id": "2naztW2_Ka6S",
        "outputId": "22cf49ef-7890-4619-c08e-3cab4e577f29"
      },
      "execution_count": null,
      "outputs": [
        {
          "output_type": "display_data",
          "data": {
            "text/plain": [
              "<IPython.core.display.Javascript object>"
            ],
            "application/javascript": [
              "\n",
              "        window._wandbApiKey = new Promise((resolve, reject) => {\n",
              "            function loadScript(url) {\n",
              "            return new Promise(function(resolve, reject) {\n",
              "                let newScript = document.createElement(\"script\");\n",
              "                newScript.onerror = reject;\n",
              "                newScript.onload = resolve;\n",
              "                document.body.appendChild(newScript);\n",
              "                newScript.src = url;\n",
              "            });\n",
              "            }\n",
              "            loadScript(\"https://cdn.jsdelivr.net/npm/postmate/build/postmate.min.js\").then(() => {\n",
              "            const iframe = document.createElement('iframe')\n",
              "            iframe.style.cssText = \"width:0;height:0;border:none\"\n",
              "            document.body.appendChild(iframe)\n",
              "            const handshake = new Postmate({\n",
              "                container: iframe,\n",
              "                url: 'https://wandb.ai/authorize'\n",
              "            });\n",
              "            const timeout = setTimeout(() => reject(\"Couldn't auto authenticate\"), 5000)\n",
              "            handshake.then(function(child) {\n",
              "                child.on('authorize', data => {\n",
              "                    clearTimeout(timeout)\n",
              "                    resolve(data)\n",
              "                });\n",
              "            });\n",
              "            })\n",
              "        });\n",
              "    "
            ]
          },
          "metadata": {}
        },
        {
          "output_type": "stream",
          "name": "stderr",
          "text": [
            "\u001b[34m\u001b[1mwandb\u001b[0m: Appending key for api.wandb.ai to your netrc file: /root/.netrc\n"
          ]
        },
        {
          "output_type": "execute_result",
          "data": {
            "text/plain": [
              "True"
            ]
          },
          "metadata": {},
          "execution_count": 2
        }
      ]
    },
    {
      "cell_type": "code",
      "source": [
        "import random\n",
        "\n",
        "import numpy as np\n",
        "import tensorflow as tf\n",
        "from wandb.keras import WandbCallback\n",
        "\n",
        "# Launch 20 experiments, trying different dropout rates\n",
        "for run in range(20):\n",
        "  # Start a run, tracking hyperparameters\n",
        "  wandb.init(\n",
        "      project=\"Assignment-4-weights and biases\",\n",
        "      # Set entity to specify your username or team name\n",
        "      entity=\"nsp_team\",\n",
        "      config={\n",
        "          \"layer_1\": 512,\n",
        "          \"activation_1\": \"relu\",\n",
        "          \"dropout\": random.uniform(0.01, 0.80),\n",
        "          \"layer_2\": 10,\n",
        "          \"activation_2\": \"softmax\",\n",
        "          \"optimizer\": \"sgd\",\n",
        "          \"loss\": \"sparse_categorical_crossentropy\",\n",
        "          \"metric\": \"accuracy\",\n",
        "          \"epoch\": 6,\n",
        "          \"batch_size\": 256\n",
        "      })\n",
        "  config = wandb.config\n",
        "\n",
        "  # Get the data\n",
        "  mnist = tf.keras.datasets.mnist\n",
        "  (x_train, y_train), (x_test, y_test) = mnist.load_data()\n",
        "  x_train, x_test = x_train / 255.0, x_test / 255.0\n",
        "  x_train, y_train = x_train[::5], y_train[::5]  # Subset data for a faster demo\n",
        "  x_test, y_test = x_test[::20], y_test[::20]\n",
        "  labels = [str(digit) for digit in range(np.max(y_train) + 1)]\n",
        "\n",
        "  # Build a model\n",
        "  model = tf.keras.models.Sequential([\n",
        "      tf.keras.layers.Flatten(input_shape=(28, 28)),\n",
        "      tf.keras.layers.Dense(config.layer_1, activation=config.activation_1),\n",
        "      tf.keras.layers.Dropout(config.dropout),\n",
        "      tf.keras.layers.Dense(config.layer_2, activation=config.activation_2)\n",
        "      ])\n",
        "\n",
        "  model.compile(optimizer=config.optimizer,\n",
        "                loss=config.loss,\n",
        "                metrics=[config.metric]\n",
        "                )\n",
        "\n",
        "  # WandbCallback auto-saves all metrics from model.fit(), plus predictions on validation_data\n",
        "  logging_callback = WandbCallback(log_evaluation=True)\n",
        "\n",
        "  history = model.fit(x=x_train, y=y_train,\n",
        "                      epochs=config.epoch,\n",
        "                      batch_size=config.batch_size,\n",
        "                      validation_data=(x_test, y_test),\n",
        "                      callbacks=[logging_callback]\n",
        "                      )\n",
        "\n",
        "  # Mark the run as finished\n",
        "  wandb.finish()"
      ],
      "metadata": {
        "colab": {
          "base_uri": "https://localhost:8080/",
          "height": 1000,
          "referenced_widgets": [
            "57964a9a3aee4e00a38148db4ea1637e",
            "3e4880a3467d4b2eb719dbed1863194e",
            "06c432aa590145e5bcc41681bad84009",
            "cdc14de1ce3e4678b6243abc1194c07b",
            "b3aa6d86fe9a44fabe65f8541cacb415",
            "0fbb059c641e42328ba7b843799db835",
            "db0120ca19e0438e8b5b9ea60236be90",
            "14c6faeb6616414d89c0886fa76f8535",
            "307d3063ef46442a8145965771a39247",
            "b2618864061a42d5a81e8248f530f488",
            "a13278fed4a249a58750e23e22fc9347",
            "d1c7dd28a250457298376ac9566e51ae",
            "ecaa2fc401b8431bb20abbabe211f041",
            "2e75b860ed714887a02b67d6d8e7585f",
            "5de396b7436a4f6ab6cb316f9ee43bc6",
            "fb8ed4a1031848f2bdfe44fc0dc750bb",
            "ec981378815d4444a26b8bf440fbd92a",
            "00ce4f17b5854a7fb92d66778b82f1b7",
            "bdd2bdcd8c1442dcb00a6fbfdca9bb95",
            "aa5e756bf90448c5bf00e16e378233c8",
            "d5081a1b668e4fe1bb933c56a03ff57b",
            "e03db52e37424d9db59c46f66aa83a4a",
            "e523ba0407474ffea042941724087b8e",
            "df2c3a7e0a2047039ca86fd072b1a522",
            "29c2987cbc414895b4993ffc6604531d",
            "7e4c4d953b8c431da8a2ef7c0b8db8f0",
            "66a052eea4d9447ba520aff90a0a2146",
            "01b00d7916f140d8b13fa4fd2e0b9a44",
            "aa777012dce8475e8b597a6cf07a1119",
            "d6747fd9223248488599b71dce8402bd",
            "2080944ecad848e185b559625588b5de",
            "1a12f87f99a946b1bdcb8a4c840f0337",
            "0db9666f8a3843719bf59882cfc41df8",
            "e5a30c5126704290ab2528ff9ef1790a",
            "ec8f62e484e94e69861df91221a1270e",
            "0feb525bb75e482ea5da22ce7d158eb3",
            "05fa9ee5c1e24f2ab8fa7fbd3fa248ac",
            "4ef3e1fd099b4688aa5e1b9de478ae32",
            "f694b90c061341f39155fdde09ce4426",
            "75fd67867fc049db8f0301b64b13cc50",
            "d00dcf8514e94caa86f44369df4b6f32",
            "0defb8f62304449d98b9d2c44ccb1476",
            "4eef79960fe8489894e515695f9f8a90",
            "2eb8049b63c649a2b15af7ffd910d0be",
            "76286787438c4ee48b9b7a643fd5dbe0",
            "2c7ea1eca73d4ae7ba7352aa3b15a925",
            "6effd96e8ecd466599fa8324b2520daf",
            "cc198906e4e54c88b3ecc569af248451",
            "91fe6a0ccee442f3acab0f65bbdb918e",
            "3606a5e8b82d4273af4dd3f5ffcd03ed",
            "4375cfe36a1c41959dd572c609586412",
            "2f96cf68c24a467e9b9140510b89b5d8",
            "08ee175d2a7f40749891c94602f79c15",
            "a8f88e123ca0451eaf12ad4c0e0be8f1",
            "fbaf068358cd49d4b804d9df7d352dbf",
            "770b47d8d851471bb8b5854dcda878ef",
            "b1a6a9f6c81a4c40b65fc0710f4d2bc1",
            "2808fdf71c01402188505a2aff1ca114",
            "d10d70e8a29747d38b0f914b49454c1c",
            "51a6846f518c42c8b45ba47248adfd47",
            "eb1d128c39aa474d9cce34f1376b0918",
            "dfed15ae70b64a3c8807d42701c5a522",
            "152e9a27861842be9646a72a9aacb153",
            "fef720447d3a4e43afc2fbcf15a4ad6e",
            "d8851de8dba94c09adb376159dd6df08",
            "88ff47594f08433c802d7302a900bf6e",
            "f01d120f946543a1a86811b2c05abf20",
            "ab55edd7ce8e4a5ca3c480a2c440e598",
            "81a090d59fd94dca9c780ef7ac336a8b",
            "616e326ad9b34ed2bd30269be336778f",
            "f6326dfa44124590828e33448e8af1a6",
            "ff2eb1bd824c477aab8cbbfb54644852",
            "3b10790d4ce140f4a049c7aa7ecda659",
            "1a0a327d7df14608bd1ecd9a9cd84d1a",
            "9459f0f8d4e7413d8566cb3b757ec1dc",
            "17088173c57d48298a020329d980f1ef",
            "fe4b7f6a31794e07b904ae9990a0866b",
            "53daddff4495492392ad343f7d561226",
            "91d11f5717c047f6a4792c768de327e8",
            "9918c128db1f477595b9b1211f452c49",
            "c1a0c37de8b44e82b8b5259f68186907",
            "dabae5fbc1f8402293070197abffcb78",
            "fda5683c2cce40619cd6df1a5f430d54",
            "5e053ded9fab4be59846f44d62590606",
            "ab6b1ec9247b4befbf8b0b4d92956713",
            "6a09befda714447f8b2b94ee6e98f3f3",
            "c1900563903e4712bf903f03991fce84",
            "e633951eb9954fba8c5e4ae3622c3c90",
            "cb01be365bf7436b8f20debb779f099e",
            "bd7f2b06f783474983e33142cf121289",
            "e656e9cfb05a44e6a8b631404016cd79",
            "8a2c9b19f8bb4cc5a0cfa1646ea86135",
            "f355ce3fb2404b3ea56eb836c119daab",
            "8d48071b7e124624a97a31b0781a8f7e",
            "fff535bc8d264c9ca080b2fe22c300f4",
            "dfc9ed29ba574bde96b8ff256a4e80f3",
            "033e3af8e15d408b8e7d35aba59a2895",
            "eb556b48f21b40929014ac198bb368d4",
            "595b14064fb94777821db6a266e15c28",
            "7e98da93498643a4b5b00c1b1f2b308d",
            "099f5890ff454abf834212848c52ad3e",
            "13556acb1c6c40ffb600740d4201047d",
            "c4d8cbcaddef49bdb902884b75692ef2",
            "7309069957a1460eb582212d6c7e22ba",
            "0f6e8a2ae3b64f96af8e3c69582f02bf",
            "9ed989e045264e0dab98fee1f5ddb8de",
            "a94df7c7b4aa48ae9a0e9e72434146a6",
            "55a57a274526474390a2e0f9a4017f8e",
            "6ba8e7cecab741c8867ee92b1ea0dd01",
            "0ce3382cdaa8460585315e4b2dd2f856",
            "39dfb43ac82e4b4ab394fb53419c905b",
            "dc4a046e02ee48d5a47e555cb7d7291d",
            "e46c81f9b2354d2dbc152b96f44dcff8",
            "b4dc4ac234b849b0a9b81ee638086b0c",
            "3978f1aa846140b3b7e248e5d4245380",
            "bfcc4e3df3414e80b95babdc551523cb",
            "942d0eebbb1b4964ac753797a50d01d6",
            "1964086ee30c484bbd89d0f25fc5d66a",
            "0dfc8b0bfd884f449cdd8ef55483f360",
            "f56b3860ee9548b983d3c00c9f8ae1e8",
            "3ee164e40023487c9c6670646bb1f80c",
            "57ecaed70ad54288bda6677048f7e182",
            "fed23f91604045ff9d01bbfa56ac49c0",
            "f5e8dbfe2a78412794e2a796c839d0c1",
            "ab4376698ea74430a0858667fa9ab67f",
            "ea2659e5970c4314bd39138ec89a2865",
            "a8da76a592cc41c98d0d46b149699888",
            "2b98c63bab844ad9980fac4e6268ea5f",
            "9820ebdea67c49788b14d85dce24ff25",
            "294b4ea9d4d248a48af05ac400d26b64",
            "51a85ab24dd34751aa30a238311e7826",
            "813da9e9608642b7953817b65e3320b8",
            "3a1f2beaf0024504b1623531613dd102",
            "69872e24fe4646fcbb7ac9a9152ec221",
            "a9e4f548ffaf4c6bae35732601b363ad",
            "6f33ecd46c2342919e636f88dc543567",
            "ab7b41ac3ce84a5aa31aa4751aa3719e",
            "535737086fcf46d9927ea5b218fa6ec4",
            "7f204d560e294bdaae684d7d62d6b90f",
            "97166a52b8164fcbaf2d65efe54cc2d4",
            "40efd24ac1a64734b162b3117b07a656",
            "65f1a63a414647b9b75479b4b5920c43",
            "4de3b658d0b64996be804bec10b600ef",
            "62ba14aec9a84ab6abe0a1510b60d6e9",
            "f7bc54a469a048aeacd80c4699cfdd9d",
            "300e51237bb34df9a951e36666dfbdbf",
            "1fe289d91bcf497c9a65b3427a4fb607",
            "f16143fdfccd4b11bb4a385bd99ed7fc",
            "312bcf384d9e45e29ff1937257784c1a",
            "04511bdbe1344bf0a8721d9e3f8a7cdd",
            "f1b63c49b9994d589b962d12fd698440",
            "c62c11c2578f4325b8f15a23dd3cdc59",
            "f8b90304fd8149d7a2d93774cf65f0b8",
            "20ef46b98240408da6b42b40b321ad44",
            "b3261bcf383e4dc1889bd1dcceb1a152",
            "5dc3bad5d91145afbdc245bf43e4bf46",
            "bc0de2e72eee45a5a92f64fb043551fd",
            "1902d4b1d1f54ecfb11efa93216d5c16",
            "9ffa921453fd4eaf845b3ac0d75f7ad9",
            "f3facf8900e1426c95f7338a4cd104fa"
          ]
        },
        "id": "LlK_qNO-wMzI",
        "outputId": "ac5a4c7c-1057-4cd1-fb98-d1f64b2d32ce"
      },
      "execution_count": null,
      "outputs": [
        {
          "output_type": "stream",
          "name": "stderr",
          "text": [
            "\u001b[34m\u001b[1mwandb\u001b[0m: Currently logged in as: \u001b[33mnsp_team\u001b[0m (use `wandb login --relogin` to force relogin)\n"
          ]
        },
        {
          "output_type": "display_data",
          "data": {
            "text/plain": [
              "<IPython.core.display.HTML object>"
            ],
            "text/html": [
              "Tracking run with wandb version 0.12.11"
            ]
          },
          "metadata": {}
        },
        {
          "output_type": "display_data",
          "data": {
            "text/plain": [
              "<IPython.core.display.HTML object>"
            ],
            "text/html": [
              "Run data is saved locally in <code>/content/wandb/run-20220328_182827-1vepdzxj</code>"
            ]
          },
          "metadata": {}
        },
        {
          "output_type": "display_data",
          "data": {
            "text/plain": [
              "<IPython.core.display.HTML object>"
            ],
            "text/html": [
              "Syncing run <strong><a href=\"https://wandb.ai/nsp_team/Assignment-4-weights%20and%20biases/runs/1vepdzxj\" target=\"_blank\">giddy-terrain-1</a></strong> to <a href=\"https://wandb.ai/nsp_team/Assignment-4-weights%20and%20biases\" target=\"_blank\">Weights & Biases</a> (<a href=\"https://wandb.me/run\" target=\"_blank\">docs</a>)<br/>"
            ]
          },
          "metadata": {}
        },
        {
          "output_type": "stream",
          "name": "stdout",
          "text": [
            "Downloading data from https://storage.googleapis.com/tensorflow/tf-keras-datasets/mnist.npz\n",
            "11493376/11490434 [==============================] - 0s 0us/step\n",
            "11501568/11490434 [==============================] - 0s 0us/step\n",
            "Epoch 1/6\n",
            "47/47 [==============================] - 1s 18ms/step - loss: 2.1077 - accuracy: 0.2758 - val_loss: 1.8248 - val_accuracy: 0.5640 - _timestamp: 1648492129.0000 - _runtime: 22.0000\n",
            "Epoch 2/6\n",
            "47/47 [==============================] - 1s 14ms/step - loss: 1.7056 - accuracy: 0.5289 - val_loss: 1.4864 - val_accuracy: 0.7260 - _timestamp: 1648492129.0000 - _runtime: 22.0000\n",
            "Epoch 3/6\n",
            "47/47 [==============================] - 1s 14ms/step - loss: 1.4316 - accuracy: 0.6392 - val_loss: 1.2414 - val_accuracy: 0.7540 - _timestamp: 1648492130.0000 - _runtime: 23.0000\n",
            "Epoch 4/6\n",
            "47/47 [==============================] - 1s 14ms/step - loss: 1.2178 - accuracy: 0.7067 - val_loss: 1.0643 - val_accuracy: 0.7700 - _timestamp: 1648492131.0000 - _runtime: 24.0000\n",
            "Epoch 5/6\n",
            "47/47 [==============================] - 1s 14ms/step - loss: 1.0757 - accuracy: 0.7385 - val_loss: 0.9378 - val_accuracy: 0.7820 - _timestamp: 1648492132.0000 - _runtime: 25.0000\n",
            "Epoch 6/6\n",
            "47/47 [==============================] - 1s 14ms/step - loss: 0.9673 - accuracy: 0.7598 - val_loss: 0.8446 - val_accuracy: 0.8080 - _timestamp: 1648492132.0000 - _runtime: 25.0000\n",
            "\n"
          ]
        },
        {
          "output_type": "display_data",
          "data": {
            "text/plain": [
              "<IPython.core.display.HTML object>"
            ],
            "text/html": [
              "Waiting for W&B process to finish... <strong style=\"color:green\">(success).</strong>"
            ]
          },
          "metadata": {}
        },
        {
          "output_type": "display_data",
          "data": {
            "text/plain": [
              "VBox(children=(Label(value='2.375 MB of 2.375 MB uploaded (0.000 MB deduped)\\r'), FloatProgress(value=1.0, max…"
            ],
            "application/vnd.jupyter.widget-view+json": {
              "version_major": 2,
              "version_minor": 0,
              "model_id": "57964a9a3aee4e00a38148db4ea1637e"
            }
          },
          "metadata": {}
        },
        {
          "output_type": "display_data",
          "data": {
            "text/plain": [
              "<IPython.core.display.HTML object>"
            ],
            "text/html": [
              "<style>\n",
              "    table.wandb td:nth-child(1) { padding: 0 10px; text-align: right }\n",
              "    .wandb-row { display: flex; flex-direction: row; flex-wrap: wrap; width: 100% }\n",
              "    .wandb-col { display: flex; flex-direction: column; flex-basis: 100%; flex: 1; padding: 10px; }\n",
              "    </style>\n",
              "<div class=\"wandb-row\"><div class=\"wandb-col\"><h3>Run history:</h3><br/><table class=\"wandb\"><tr><td>accuracy</td><td>▁▅▆▇██</td></tr><tr><td>epoch</td><td>▁▂▄▅▇█</td></tr><tr><td>loss</td><td>█▆▄▃▂▁</td></tr><tr><td>val_accuracy</td><td>▁▆▆▇▇█</td></tr><tr><td>val_loss</td><td>█▆▄▃▂▁</td></tr></table><br/></div><div class=\"wandb-col\"><h3>Run summary:</h3><br/><table class=\"wandb\"><tr><td>accuracy</td><td>0.75975</td></tr><tr><td>best_epoch</td><td>5</td></tr><tr><td>best_val_loss</td><td>0.84459</td></tr><tr><td>epoch</td><td>5</td></tr><tr><td>loss</td><td>0.9673</td></tr><tr><td>val_accuracy</td><td>0.808</td></tr><tr><td>val_loss</td><td>0.84459</td></tr></table><br/></div></div>"
            ]
          },
          "metadata": {}
        },
        {
          "output_type": "display_data",
          "data": {
            "text/plain": [
              "<IPython.core.display.HTML object>"
            ],
            "text/html": [
              "Synced <strong style=\"color:#cdcd00\">giddy-terrain-1</strong>: <a href=\"https://wandb.ai/nsp_team/Assignment-4-weights%20and%20biases/runs/1vepdzxj\" target=\"_blank\">https://wandb.ai/nsp_team/Assignment-4-weights%20and%20biases/runs/1vepdzxj</a><br/>Synced 5 W&B file(s), 2 media file(s), 503 artifact file(s) and 1 other file(s)"
            ]
          },
          "metadata": {}
        },
        {
          "output_type": "display_data",
          "data": {
            "text/plain": [
              "<IPython.core.display.HTML object>"
            ],
            "text/html": [
              "Find logs at: <code>./wandb/run-20220328_182827-1vepdzxj/logs</code>"
            ]
          },
          "metadata": {}
        },
        {
          "output_type": "display_data",
          "data": {
            "text/plain": [
              "<IPython.core.display.HTML object>"
            ],
            "text/html": [
              "Tracking run with wandb version 0.12.11"
            ]
          },
          "metadata": {}
        },
        {
          "output_type": "display_data",
          "data": {
            "text/plain": [
              "<IPython.core.display.HTML object>"
            ],
            "text/html": [
              "Run data is saved locally in <code>/content/wandb/run-20220328_182902-35jh7qe4</code>"
            ]
          },
          "metadata": {}
        },
        {
          "output_type": "display_data",
          "data": {
            "text/plain": [
              "<IPython.core.display.HTML object>"
            ],
            "text/html": [
              "Syncing run <strong><a href=\"https://wandb.ai/nsp_team/Assignment-4-weights%20and%20biases/runs/35jh7qe4\" target=\"_blank\">helpful-shadow-2</a></strong> to <a href=\"https://wandb.ai/nsp_team/Assignment-4-weights%20and%20biases\" target=\"_blank\">Weights & Biases</a> (<a href=\"https://wandb.me/run\" target=\"_blank\">docs</a>)<br/>"
            ]
          },
          "metadata": {}
        },
        {
          "output_type": "stream",
          "name": "stdout",
          "text": [
            "Epoch 1/6\n",
            "47/47 [==============================] - 1s 18ms/step - loss: 2.1237 - accuracy: 0.2975 - val_loss: 1.8679 - val_accuracy: 0.5480 - _timestamp: 1648492149.0000 - _runtime: 7.0000\n",
            "Epoch 2/6\n",
            "47/47 [==============================] - 1s 15ms/step - loss: 1.6940 - accuracy: 0.5887 - val_loss: 1.5011 - val_accuracy: 0.6860 - _timestamp: 1648492150.0000 - _runtime: 8.0000\n",
            "Epoch 3/6\n",
            "47/47 [==============================] - 1s 14ms/step - loss: 1.3897 - accuracy: 0.6947 - val_loss: 1.2380 - val_accuracy: 0.7380 - _timestamp: 1648492150.0000 - _runtime: 8.0000\n",
            "Epoch 4/6\n",
            "47/47 [==============================] - 1s 14ms/step - loss: 1.1701 - accuracy: 0.7478 - val_loss: 1.0538 - val_accuracy: 0.7840 - _timestamp: 1648492151.0000 - _runtime: 9.0000\n",
            "Epoch 5/6\n",
            "47/47 [==============================] - 1s 14ms/step - loss: 1.0104 - accuracy: 0.7846 - val_loss: 0.9230 - val_accuracy: 0.7980 - _timestamp: 1648492152.0000 - _runtime: 10.0000\n",
            "Epoch 6/6\n",
            "47/47 [==============================] - 1s 14ms/step - loss: 0.9008 - accuracy: 0.8036 - val_loss: 0.8291 - val_accuracy: 0.8160 - _timestamp: 1648492152.0000 - _runtime: 10.0000\n",
            "\n"
          ]
        },
        {
          "output_type": "display_data",
          "data": {
            "text/plain": [
              "<IPython.core.display.HTML object>"
            ],
            "text/html": [
              "Waiting for W&B process to finish... <strong style=\"color:green\">(success).</strong>"
            ]
          },
          "metadata": {}
        },
        {
          "output_type": "display_data",
          "data": {
            "text/plain": [
              "VBox(children=(Label(value='1.785 MB of 1.785 MB uploaded (0.000 MB deduped)\\r'), FloatProgress(value=1.0, max…"
            ],
            "application/vnd.jupyter.widget-view+json": {
              "version_major": 2,
              "version_minor": 0,
              "model_id": "307d3063ef46442a8145965771a39247"
            }
          },
          "metadata": {}
        },
        {
          "output_type": "display_data",
          "data": {
            "text/plain": [
              "<IPython.core.display.HTML object>"
            ],
            "text/html": [
              "<style>\n",
              "    table.wandb td:nth-child(1) { padding: 0 10px; text-align: right }\n",
              "    .wandb-row { display: flex; flex-direction: row; flex-wrap: wrap; width: 100% }\n",
              "    .wandb-col { display: flex; flex-direction: column; flex-basis: 100%; flex: 1; padding: 10px; }\n",
              "    </style>\n",
              "<div class=\"wandb-row\"><div class=\"wandb-col\"><h3>Run history:</h3><br/><table class=\"wandb\"><tr><td>accuracy</td><td>▁▅▆▇██</td></tr><tr><td>epoch</td><td>▁▂▄▅▇█</td></tr><tr><td>loss</td><td>█▆▄▃▂▁</td></tr><tr><td>val_accuracy</td><td>▁▅▆▇██</td></tr><tr><td>val_loss</td><td>█▆▄▃▂▁</td></tr></table><br/></div><div class=\"wandb-col\"><h3>Run summary:</h3><br/><table class=\"wandb\"><tr><td>accuracy</td><td>0.80358</td></tr><tr><td>best_epoch</td><td>5</td></tr><tr><td>best_val_loss</td><td>0.82911</td></tr><tr><td>epoch</td><td>5</td></tr><tr><td>loss</td><td>0.90079</td></tr><tr><td>val_accuracy</td><td>0.816</td></tr><tr><td>val_loss</td><td>0.82911</td></tr></table><br/></div></div>"
            ]
          },
          "metadata": {}
        },
        {
          "output_type": "display_data",
          "data": {
            "text/plain": [
              "<IPython.core.display.HTML object>"
            ],
            "text/html": [
              "Synced <strong style=\"color:#cdcd00\">helpful-shadow-2</strong>: <a href=\"https://wandb.ai/nsp_team/Assignment-4-weights%20and%20biases/runs/35jh7qe4\" target=\"_blank\">https://wandb.ai/nsp_team/Assignment-4-weights%20and%20biases/runs/35jh7qe4</a><br/>Synced 5 W&B file(s), 2 media file(s), 1 artifact file(s) and 1 other file(s)"
            ]
          },
          "metadata": {}
        },
        {
          "output_type": "display_data",
          "data": {
            "text/plain": [
              "<IPython.core.display.HTML object>"
            ],
            "text/html": [
              "Find logs at: <code>./wandb/run-20220328_182902-35jh7qe4/logs</code>"
            ]
          },
          "metadata": {}
        },
        {
          "output_type": "display_data",
          "data": {
            "text/plain": [
              "<IPython.core.display.HTML object>"
            ],
            "text/html": [
              "Tracking run with wandb version 0.12.11"
            ]
          },
          "metadata": {}
        },
        {
          "output_type": "display_data",
          "data": {
            "text/plain": [
              "<IPython.core.display.HTML object>"
            ],
            "text/html": [
              "Run data is saved locally in <code>/content/wandb/run-20220328_182918-k4uttc44</code>"
            ]
          },
          "metadata": {}
        },
        {
          "output_type": "display_data",
          "data": {
            "text/plain": [
              "<IPython.core.display.HTML object>"
            ],
            "text/html": [
              "Syncing run <strong><a href=\"https://wandb.ai/nsp_team/Assignment-4-weights%20and%20biases/runs/k4uttc44\" target=\"_blank\">generous-flower-3</a></strong> to <a href=\"https://wandb.ai/nsp_team/Assignment-4-weights%20and%20biases\" target=\"_blank\">Weights & Biases</a> (<a href=\"https://wandb.me/run\" target=\"_blank\">docs</a>)<br/>"
            ]
          },
          "metadata": {}
        },
        {
          "output_type": "stream",
          "name": "stdout",
          "text": [
            "Epoch 1/6\n",
            "47/47 [==============================] - 1s 18ms/step - loss: 2.1227 - accuracy: 0.2594 - val_loss: 1.8723 - val_accuracy: 0.5380 - _timestamp: 1648492165.0000 - _runtime: 7.0000\n",
            "Epoch 2/6\n",
            "47/47 [==============================] - 1s 15ms/step - loss: 1.7003 - accuracy: 0.5831 - val_loss: 1.5109 - val_accuracy: 0.6920 - _timestamp: 1648492166.0000 - _runtime: 8.0000\n",
            "Epoch 3/6\n",
            "47/47 [==============================] - 1s 14ms/step - loss: 1.3949 - accuracy: 0.6998 - val_loss: 1.2469 - val_accuracy: 0.7540 - _timestamp: 1648492166.0000 - _runtime: 8.0000\n",
            "Epoch 4/6\n",
            "47/47 [==============================] - 1s 14ms/step - loss: 1.1782 - accuracy: 0.7492 - val_loss: 1.0599 - val_accuracy: 0.7880 - _timestamp: 1648492167.0000 - _runtime: 9.0000\n",
            "Epoch 5/6\n",
            "47/47 [==============================] - 1s 14ms/step - loss: 1.0171 - accuracy: 0.7817 - val_loss: 0.9266 - val_accuracy: 0.8120 - _timestamp: 1648492168.0000 - _runtime: 10.0000\n",
            "Epoch 6/6\n",
            "47/47 [==============================] - 1s 14ms/step - loss: 0.9084 - accuracy: 0.8018 - val_loss: 0.8306 - val_accuracy: 0.8180 - _timestamp: 1648492168.0000 - _runtime: 10.0000\n",
            "\n"
          ]
        },
        {
          "output_type": "display_data",
          "data": {
            "text/plain": [
              "<IPython.core.display.HTML object>"
            ],
            "text/html": [
              "Waiting for W&B process to finish... <strong style=\"color:green\">(success).</strong>"
            ]
          },
          "metadata": {}
        },
        {
          "output_type": "display_data",
          "data": {
            "text/plain": [
              "VBox(children=(Label(value='1.785 MB of 1.785 MB uploaded (0.000 MB deduped)\\r'), FloatProgress(value=1.0, max…"
            ],
            "application/vnd.jupyter.widget-view+json": {
              "version_major": 2,
              "version_minor": 0,
              "model_id": "ec981378815d4444a26b8bf440fbd92a"
            }
          },
          "metadata": {}
        },
        {
          "output_type": "display_data",
          "data": {
            "text/plain": [
              "<IPython.core.display.HTML object>"
            ],
            "text/html": [
              "<style>\n",
              "    table.wandb td:nth-child(1) { padding: 0 10px; text-align: right }\n",
              "    .wandb-row { display: flex; flex-direction: row; flex-wrap: wrap; width: 100% }\n",
              "    .wandb-col { display: flex; flex-direction: column; flex-basis: 100%; flex: 1; padding: 10px; }\n",
              "    </style>\n",
              "<div class=\"wandb-row\"><div class=\"wandb-col\"><h3>Run history:</h3><br/><table class=\"wandb\"><tr><td>accuracy</td><td>▁▅▇▇██</td></tr><tr><td>epoch</td><td>▁▂▄▅▇█</td></tr><tr><td>loss</td><td>█▆▄▃▂▁</td></tr><tr><td>val_accuracy</td><td>▁▅▆▇██</td></tr><tr><td>val_loss</td><td>█▆▄▃▂▁</td></tr></table><br/></div><div class=\"wandb-col\"><h3>Run summary:</h3><br/><table class=\"wandb\"><tr><td>accuracy</td><td>0.80183</td></tr><tr><td>best_epoch</td><td>5</td></tr><tr><td>best_val_loss</td><td>0.83056</td></tr><tr><td>epoch</td><td>5</td></tr><tr><td>loss</td><td>0.90841</td></tr><tr><td>val_accuracy</td><td>0.818</td></tr><tr><td>val_loss</td><td>0.83056</td></tr></table><br/></div></div>"
            ]
          },
          "metadata": {}
        },
        {
          "output_type": "display_data",
          "data": {
            "text/plain": [
              "<IPython.core.display.HTML object>"
            ],
            "text/html": [
              "Synced <strong style=\"color:#cdcd00\">generous-flower-3</strong>: <a href=\"https://wandb.ai/nsp_team/Assignment-4-weights%20and%20biases/runs/k4uttc44\" target=\"_blank\">https://wandb.ai/nsp_team/Assignment-4-weights%20and%20biases/runs/k4uttc44</a><br/>Synced 5 W&B file(s), 2 media file(s), 1 artifact file(s) and 1 other file(s)"
            ]
          },
          "metadata": {}
        },
        {
          "output_type": "display_data",
          "data": {
            "text/plain": [
              "<IPython.core.display.HTML object>"
            ],
            "text/html": [
              "Find logs at: <code>./wandb/run-20220328_182918-k4uttc44/logs</code>"
            ]
          },
          "metadata": {}
        },
        {
          "output_type": "display_data",
          "data": {
            "text/plain": [
              "<IPython.core.display.HTML object>"
            ],
            "text/html": [
              "Tracking run with wandb version 0.12.11"
            ]
          },
          "metadata": {}
        },
        {
          "output_type": "display_data",
          "data": {
            "text/plain": [
              "<IPython.core.display.HTML object>"
            ],
            "text/html": [
              "Run data is saved locally in <code>/content/wandb/run-20220328_182935-3n0ph14f</code>"
            ]
          },
          "metadata": {}
        },
        {
          "output_type": "display_data",
          "data": {
            "text/plain": [
              "<IPython.core.display.HTML object>"
            ],
            "text/html": [
              "Syncing run <strong><a href=\"https://wandb.ai/nsp_team/Assignment-4-weights%20and%20biases/runs/3n0ph14f\" target=\"_blank\">dry-glade-4</a></strong> to <a href=\"https://wandb.ai/nsp_team/Assignment-4-weights%20and%20biases\" target=\"_blank\">Weights & Biases</a> (<a href=\"https://wandb.me/run\" target=\"_blank\">docs</a>)<br/>"
            ]
          },
          "metadata": {}
        },
        {
          "output_type": "stream",
          "name": "stdout",
          "text": [
            "Epoch 1/6\n",
            "47/47 [==============================] - 1s 18ms/step - loss: 2.2471 - accuracy: 0.1920 - val_loss: 1.8745 - val_accuracy: 0.5780 - _timestamp: 1648492182.0000 - _runtime: 6.0000\n",
            "Epoch 2/6\n",
            "47/47 [==============================] - 1s 14ms/step - loss: 1.8218 - accuracy: 0.4220 - val_loss: 1.5424 - val_accuracy: 0.7160 - _timestamp: 1648492183.0000 - _runtime: 7.0000\n",
            "Epoch 3/6\n",
            "47/47 [==============================] - 1s 14ms/step - loss: 1.5435 - accuracy: 0.5530 - val_loss: 1.3001 - val_accuracy: 0.7580 - _timestamp: 1648492183.0000 - _runtime: 7.0000\n",
            "Epoch 4/6\n",
            "47/47 [==============================] - 1s 14ms/step - loss: 1.3576 - accuracy: 0.6154 - val_loss: 1.1254 - val_accuracy: 0.7700 - _timestamp: 1648492184.0000 - _runtime: 8.0000\n",
            "Epoch 5/6\n",
            "47/47 [==============================] - 1s 14ms/step - loss: 1.2089 - accuracy: 0.6588 - val_loss: 0.9947 - val_accuracy: 0.7820 - _timestamp: 1648492185.0000 - _runtime: 9.0000\n",
            "Epoch 6/6\n",
            "47/47 [==============================] - 1s 14ms/step - loss: 1.0999 - accuracy: 0.6883 - val_loss: 0.8959 - val_accuracy: 0.8060 - _timestamp: 1648492185.0000 - _runtime: 9.0000\n",
            "\n"
          ]
        },
        {
          "output_type": "display_data",
          "data": {
            "text/plain": [
              "<IPython.core.display.HTML object>"
            ],
            "text/html": [
              "Waiting for W&B process to finish... <strong style=\"color:green\">(success).</strong>"
            ]
          },
          "metadata": {}
        },
        {
          "output_type": "display_data",
          "data": {
            "text/plain": [
              "VBox(children=(Label(value='1.784 MB of 1.784 MB uploaded (0.000 MB deduped)\\r'), FloatProgress(value=1.0, max…"
            ],
            "application/vnd.jupyter.widget-view+json": {
              "version_major": 2,
              "version_minor": 0,
              "model_id": "29c2987cbc414895b4993ffc6604531d"
            }
          },
          "metadata": {}
        },
        {
          "output_type": "display_data",
          "data": {
            "text/plain": [
              "<IPython.core.display.HTML object>"
            ],
            "text/html": [
              "<style>\n",
              "    table.wandb td:nth-child(1) { padding: 0 10px; text-align: right }\n",
              "    .wandb-row { display: flex; flex-direction: row; flex-wrap: wrap; width: 100% }\n",
              "    .wandb-col { display: flex; flex-direction: column; flex-basis: 100%; flex: 1; padding: 10px; }\n",
              "    </style>\n",
              "<div class=\"wandb-row\"><div class=\"wandb-col\"><h3>Run history:</h3><br/><table class=\"wandb\"><tr><td>accuracy</td><td>▁▄▆▇██</td></tr><tr><td>epoch</td><td>▁▂▄▅▇█</td></tr><tr><td>loss</td><td>█▅▄▃▂▁</td></tr><tr><td>val_accuracy</td><td>▁▅▇▇▇█</td></tr><tr><td>val_loss</td><td>█▆▄▃▂▁</td></tr></table><br/></div><div class=\"wandb-col\"><h3>Run summary:</h3><br/><table class=\"wandb\"><tr><td>accuracy</td><td>0.68833</td></tr><tr><td>best_epoch</td><td>5</td></tr><tr><td>best_val_loss</td><td>0.89591</td></tr><tr><td>epoch</td><td>5</td></tr><tr><td>loss</td><td>1.09995</td></tr><tr><td>val_accuracy</td><td>0.806</td></tr><tr><td>val_loss</td><td>0.89591</td></tr></table><br/></div></div>"
            ]
          },
          "metadata": {}
        },
        {
          "output_type": "display_data",
          "data": {
            "text/plain": [
              "<IPython.core.display.HTML object>"
            ],
            "text/html": [
              "Synced <strong style=\"color:#cdcd00\">dry-glade-4</strong>: <a href=\"https://wandb.ai/nsp_team/Assignment-4-weights%20and%20biases/runs/3n0ph14f\" target=\"_blank\">https://wandb.ai/nsp_team/Assignment-4-weights%20and%20biases/runs/3n0ph14f</a><br/>Synced 5 W&B file(s), 2 media file(s), 1 artifact file(s) and 1 other file(s)"
            ]
          },
          "metadata": {}
        },
        {
          "output_type": "display_data",
          "data": {
            "text/plain": [
              "<IPython.core.display.HTML object>"
            ],
            "text/html": [
              "Find logs at: <code>./wandb/run-20220328_182935-3n0ph14f/logs</code>"
            ]
          },
          "metadata": {}
        },
        {
          "output_type": "display_data",
          "data": {
            "text/plain": [
              "<IPython.core.display.HTML object>"
            ],
            "text/html": [
              "Tracking run with wandb version 0.12.11"
            ]
          },
          "metadata": {}
        },
        {
          "output_type": "display_data",
          "data": {
            "text/plain": [
              "<IPython.core.display.HTML object>"
            ],
            "text/html": [
              "Run data is saved locally in <code>/content/wandb/run-20220328_182950-27cim5z5</code>"
            ]
          },
          "metadata": {}
        },
        {
          "output_type": "display_data",
          "data": {
            "text/plain": [
              "<IPython.core.display.HTML object>"
            ],
            "text/html": [
              "Syncing run <strong><a href=\"https://wandb.ai/nsp_team/Assignment-4-weights%20and%20biases/runs/27cim5z5\" target=\"_blank\">hopeful-durian-5</a></strong> to <a href=\"https://wandb.ai/nsp_team/Assignment-4-weights%20and%20biases\" target=\"_blank\">Weights & Biases</a> (<a href=\"https://wandb.me/run\" target=\"_blank\">docs</a>)<br/>"
            ]
          },
          "metadata": {}
        },
        {
          "output_type": "stream",
          "name": "stdout",
          "text": [
            "Epoch 1/6\n",
            "47/47 [==============================] - 1s 17ms/step - loss: 2.1388 - accuracy: 0.2545 - val_loss: 1.8707 - val_accuracy: 0.6080 - _timestamp: 1648492197.0000 - _runtime: 7.0000\n",
            "Epoch 2/6\n",
            "47/47 [==============================] - 1s 15ms/step - loss: 1.7355 - accuracy: 0.5404 - val_loss: 1.5240 - val_accuracy: 0.7260 - _timestamp: 1648492198.0000 - _runtime: 8.0000\n",
            "Epoch 3/6\n",
            "47/47 [==============================] - 1s 14ms/step - loss: 1.4441 - accuracy: 0.6649 - val_loss: 1.2654 - val_accuracy: 0.7640 - _timestamp: 1648492198.0000 - _runtime: 8.0000\n",
            "Epoch 4/6\n",
            "47/47 [==============================] - 1s 14ms/step - loss: 1.2286 - accuracy: 0.7185 - val_loss: 1.0787 - val_accuracy: 0.7920 - _timestamp: 1648492199.0000 - _runtime: 9.0000\n",
            "Epoch 5/6\n",
            "47/47 [==============================] - 1s 14ms/step - loss: 1.0702 - accuracy: 0.7545 - val_loss: 0.9442 - val_accuracy: 0.8040 - _timestamp: 1648492200.0000 - _runtime: 10.0000\n",
            "Epoch 6/6\n",
            "47/47 [==============================] - 1s 14ms/step - loss: 0.9587 - accuracy: 0.7741 - val_loss: 0.8472 - val_accuracy: 0.8100 - _timestamp: 1648492200.0000 - _runtime: 10.0000\n",
            "\n"
          ]
        },
        {
          "output_type": "display_data",
          "data": {
            "text/plain": [
              "<IPython.core.display.HTML object>"
            ],
            "text/html": [
              "Waiting for W&B process to finish... <strong style=\"color:green\">(success).</strong>"
            ]
          },
          "metadata": {}
        },
        {
          "output_type": "display_data",
          "data": {
            "text/plain": [
              "VBox(children=(Label(value='1.784 MB of 1.784 MB uploaded (0.000 MB deduped)\\r'), FloatProgress(value=1.0, max…"
            ],
            "application/vnd.jupyter.widget-view+json": {
              "version_major": 2,
              "version_minor": 0,
              "model_id": "0db9666f8a3843719bf59882cfc41df8"
            }
          },
          "metadata": {}
        },
        {
          "output_type": "display_data",
          "data": {
            "text/plain": [
              "<IPython.core.display.HTML object>"
            ],
            "text/html": [
              "<style>\n",
              "    table.wandb td:nth-child(1) { padding: 0 10px; text-align: right }\n",
              "    .wandb-row { display: flex; flex-direction: row; flex-wrap: wrap; width: 100% }\n",
              "    .wandb-col { display: flex; flex-direction: column; flex-basis: 100%; flex: 1; padding: 10px; }\n",
              "    </style>\n",
              "<div class=\"wandb-row\"><div class=\"wandb-col\"><h3>Run history:</h3><br/><table class=\"wandb\"><tr><td>accuracy</td><td>▁▅▇▇██</td></tr><tr><td>epoch</td><td>▁▂▄▅▇█</td></tr><tr><td>loss</td><td>█▆▄▃▂▁</td></tr><tr><td>val_accuracy</td><td>▁▅▆▇██</td></tr><tr><td>val_loss</td><td>█▆▄▃▂▁</td></tr></table><br/></div><div class=\"wandb-col\"><h3>Run summary:</h3><br/><table class=\"wandb\"><tr><td>accuracy</td><td>0.77408</td></tr><tr><td>best_epoch</td><td>5</td></tr><tr><td>best_val_loss</td><td>0.84718</td></tr><tr><td>epoch</td><td>5</td></tr><tr><td>loss</td><td>0.95872</td></tr><tr><td>val_accuracy</td><td>0.81</td></tr><tr><td>val_loss</td><td>0.84718</td></tr></table><br/></div></div>"
            ]
          },
          "metadata": {}
        },
        {
          "output_type": "display_data",
          "data": {
            "text/plain": [
              "<IPython.core.display.HTML object>"
            ],
            "text/html": [
              "Synced <strong style=\"color:#cdcd00\">hopeful-durian-5</strong>: <a href=\"https://wandb.ai/nsp_team/Assignment-4-weights%20and%20biases/runs/27cim5z5\" target=\"_blank\">https://wandb.ai/nsp_team/Assignment-4-weights%20and%20biases/runs/27cim5z5</a><br/>Synced 5 W&B file(s), 2 media file(s), 1 artifact file(s) and 1 other file(s)"
            ]
          },
          "metadata": {}
        },
        {
          "output_type": "display_data",
          "data": {
            "text/plain": [
              "<IPython.core.display.HTML object>"
            ],
            "text/html": [
              "Find logs at: <code>./wandb/run-20220328_182950-27cim5z5/logs</code>"
            ]
          },
          "metadata": {}
        },
        {
          "output_type": "display_data",
          "data": {
            "text/plain": [
              "<IPython.core.display.HTML object>"
            ],
            "text/html": [
              "Tracking run with wandb version 0.12.11"
            ]
          },
          "metadata": {}
        },
        {
          "output_type": "display_data",
          "data": {
            "text/plain": [
              "<IPython.core.display.HTML object>"
            ],
            "text/html": [
              "Run data is saved locally in <code>/content/wandb/run-20220328_183005-2bdohvls</code>"
            ]
          },
          "metadata": {}
        },
        {
          "output_type": "display_data",
          "data": {
            "text/plain": [
              "<IPython.core.display.HTML object>"
            ],
            "text/html": [
              "Syncing run <strong><a href=\"https://wandb.ai/nsp_team/Assignment-4-weights%20and%20biases/runs/2bdohvls\" target=\"_blank\">swept-voice-6</a></strong> to <a href=\"https://wandb.ai/nsp_team/Assignment-4-weights%20and%20biases\" target=\"_blank\">Weights & Biases</a> (<a href=\"https://wandb.me/run\" target=\"_blank\">docs</a>)<br/>"
            ]
          },
          "metadata": {}
        },
        {
          "output_type": "stream",
          "name": "stdout",
          "text": [
            "Epoch 1/6\n",
            "47/47 [==============================] - 1s 17ms/step - loss: 2.1769 - accuracy: 0.2066 - val_loss: 1.8644 - val_accuracy: 0.5840 - _timestamp: 1648492212.0000 - _runtime: 7.0000\n",
            "Epoch 2/6\n",
            "47/47 [==============================] - 1s 15ms/step - loss: 1.7697 - accuracy: 0.4550 - val_loss: 1.5228 - val_accuracy: 0.7520 - _timestamp: 1648492213.0000 - _runtime: 8.0000\n",
            "Epoch 3/6\n",
            "47/47 [==============================] - 1s 15ms/step - loss: 1.4865 - accuracy: 0.6046 - val_loss: 1.2723 - val_accuracy: 0.8000 - _timestamp: 1648492214.0000 - _runtime: 9.0000\n",
            "Epoch 4/6\n",
            "47/47 [==============================] - 1s 14ms/step - loss: 1.2846 - accuracy: 0.6677 - val_loss: 1.0921 - val_accuracy: 0.8060 - _timestamp: 1648492214.0000 - _runtime: 9.0000\n",
            "Epoch 5/6\n",
            "47/47 [==============================] - 1s 14ms/step - loss: 1.1335 - accuracy: 0.7057 - val_loss: 0.9599 - val_accuracy: 0.8240 - _timestamp: 1648492215.0000 - _runtime: 10.0000\n",
            "Epoch 6/6\n",
            "47/47 [==============================] - 1s 14ms/step - loss: 1.0221 - accuracy: 0.7343 - val_loss: 0.8623 - val_accuracy: 0.8300 - _timestamp: 1648492216.0000 - _runtime: 11.0000\n",
            "\n"
          ]
        },
        {
          "output_type": "display_data",
          "data": {
            "text/plain": [
              "<IPython.core.display.HTML object>"
            ],
            "text/html": [
              "Waiting for W&B process to finish... <strong style=\"color:green\">(success).</strong>"
            ]
          },
          "metadata": {}
        },
        {
          "output_type": "display_data",
          "data": {
            "text/plain": [
              "VBox(children=(Label(value='1.784 MB of 1.784 MB uploaded (0.000 MB deduped)\\r'), FloatProgress(value=1.0, max…"
            ],
            "application/vnd.jupyter.widget-view+json": {
              "version_major": 2,
              "version_minor": 0,
              "model_id": "d00dcf8514e94caa86f44369df4b6f32"
            }
          },
          "metadata": {}
        },
        {
          "output_type": "display_data",
          "data": {
            "text/plain": [
              "<IPython.core.display.HTML object>"
            ],
            "text/html": [
              "<style>\n",
              "    table.wandb td:nth-child(1) { padding: 0 10px; text-align: right }\n",
              "    .wandb-row { display: flex; flex-direction: row; flex-wrap: wrap; width: 100% }\n",
              "    .wandb-col { display: flex; flex-direction: column; flex-basis: 100%; flex: 1; padding: 10px; }\n",
              "    </style>\n",
              "<div class=\"wandb-row\"><div class=\"wandb-col\"><h3>Run history:</h3><br/><table class=\"wandb\"><tr><td>accuracy</td><td>▁▄▆▇██</td></tr><tr><td>epoch</td><td>▁▂▄▅▇█</td></tr><tr><td>loss</td><td>█▆▄▃▂▁</td></tr><tr><td>val_accuracy</td><td>▁▆▇▇██</td></tr><tr><td>val_loss</td><td>█▆▄▃▂▁</td></tr></table><br/></div><div class=\"wandb-col\"><h3>Run summary:</h3><br/><table class=\"wandb\"><tr><td>accuracy</td><td>0.73433</td></tr><tr><td>best_epoch</td><td>5</td></tr><tr><td>best_val_loss</td><td>0.86227</td></tr><tr><td>epoch</td><td>5</td></tr><tr><td>loss</td><td>1.02207</td></tr><tr><td>val_accuracy</td><td>0.83</td></tr><tr><td>val_loss</td><td>0.86227</td></tr></table><br/></div></div>"
            ]
          },
          "metadata": {}
        },
        {
          "output_type": "display_data",
          "data": {
            "text/plain": [
              "<IPython.core.display.HTML object>"
            ],
            "text/html": [
              "Synced <strong style=\"color:#cdcd00\">swept-voice-6</strong>: <a href=\"https://wandb.ai/nsp_team/Assignment-4-weights%20and%20biases/runs/2bdohvls\" target=\"_blank\">https://wandb.ai/nsp_team/Assignment-4-weights%20and%20biases/runs/2bdohvls</a><br/>Synced 5 W&B file(s), 2 media file(s), 1 artifact file(s) and 1 other file(s)"
            ]
          },
          "metadata": {}
        },
        {
          "output_type": "display_data",
          "data": {
            "text/plain": [
              "<IPython.core.display.HTML object>"
            ],
            "text/html": [
              "Find logs at: <code>./wandb/run-20220328_183005-2bdohvls/logs</code>"
            ]
          },
          "metadata": {}
        },
        {
          "output_type": "display_data",
          "data": {
            "text/plain": [
              "<IPython.core.display.HTML object>"
            ],
            "text/html": [
              "Tracking run with wandb version 0.12.11"
            ]
          },
          "metadata": {}
        },
        {
          "output_type": "display_data",
          "data": {
            "text/plain": [
              "<IPython.core.display.HTML object>"
            ],
            "text/html": [
              "Run data is saved locally in <code>/content/wandb/run-20220328_183027-1cd3jo5l</code>"
            ]
          },
          "metadata": {}
        },
        {
          "output_type": "display_data",
          "data": {
            "text/plain": [
              "<IPython.core.display.HTML object>"
            ],
            "text/html": [
              "Syncing run <strong><a href=\"https://wandb.ai/nsp_team/Assignment-4-weights%20and%20biases/runs/1cd3jo5l\" target=\"_blank\">lunar-planet-7</a></strong> to <a href=\"https://wandb.ai/nsp_team/Assignment-4-weights%20and%20biases\" target=\"_blank\">Weights & Biases</a> (<a href=\"https://wandb.me/run\" target=\"_blank\">docs</a>)<br/>"
            ]
          },
          "metadata": {}
        },
        {
          "output_type": "stream",
          "name": "stdout",
          "text": [
            "Epoch 1/6\n",
            "47/47 [==============================] - 1s 17ms/step - loss: 2.1096 - accuracy: 0.3025 - val_loss: 1.8303 - val_accuracy: 0.6100 - _timestamp: 1648492235.0000 - _runtime: 8.0000\n",
            "Epoch 2/6\n",
            "47/47 [==============================] - 1s 14ms/step - loss: 1.6750 - accuracy: 0.6104 - val_loss: 1.4666 - val_accuracy: 0.7160 - _timestamp: 1648492236.0000 - _runtime: 9.0000\n",
            "Epoch 3/6\n",
            "47/47 [==============================] - 1s 15ms/step - loss: 1.3698 - accuracy: 0.7163 - val_loss: 1.2099 - val_accuracy: 0.7700 - _timestamp: 1648492236.0000 - _runtime: 9.0000\n",
            "Epoch 4/6\n",
            "47/47 [==============================] - 1s 14ms/step - loss: 1.1535 - accuracy: 0.7603 - val_loss: 1.0317 - val_accuracy: 0.7920 - _timestamp: 1648492237.0000 - _runtime: 10.0000\n",
            "Epoch 5/6\n",
            "47/47 [==============================] - 1s 14ms/step - loss: 1.0007 - accuracy: 0.7848 - val_loss: 0.9064 - val_accuracy: 0.8060 - _timestamp: 1648492238.0000 - _runtime: 11.0000\n",
            "Epoch 6/6\n",
            "47/47 [==============================] - 1s 14ms/step - loss: 0.8924 - accuracy: 0.8037 - val_loss: 0.8148 - val_accuracy: 0.8180 - _timestamp: 1648492238.0000 - _runtime: 11.0000\n",
            "\n"
          ]
        },
        {
          "output_type": "display_data",
          "data": {
            "text/plain": [
              "<IPython.core.display.HTML object>"
            ],
            "text/html": [
              "Waiting for W&B process to finish... <strong style=\"color:green\">(success).</strong>"
            ]
          },
          "metadata": {}
        },
        {
          "output_type": "display_data",
          "data": {
            "text/plain": [
              "VBox(children=(Label(value='1.785 MB of 1.785 MB uploaded (0.000 MB deduped)\\r'), FloatProgress(value=1.0, max…"
            ],
            "application/vnd.jupyter.widget-view+json": {
              "version_major": 2,
              "version_minor": 0,
              "model_id": "91fe6a0ccee442f3acab0f65bbdb918e"
            }
          },
          "metadata": {}
        },
        {
          "output_type": "display_data",
          "data": {
            "text/plain": [
              "<IPython.core.display.HTML object>"
            ],
            "text/html": [
              "<style>\n",
              "    table.wandb td:nth-child(1) { padding: 0 10px; text-align: right }\n",
              "    .wandb-row { display: flex; flex-direction: row; flex-wrap: wrap; width: 100% }\n",
              "    .wandb-col { display: flex; flex-direction: column; flex-basis: 100%; flex: 1; padding: 10px; }\n",
              "    </style>\n",
              "<div class=\"wandb-row\"><div class=\"wandb-col\"><h3>Run history:</h3><br/><table class=\"wandb\"><tr><td>accuracy</td><td>▁▅▇▇██</td></tr><tr><td>epoch</td><td>▁▂▄▅▇█</td></tr><tr><td>loss</td><td>█▆▄▃▂▁</td></tr><tr><td>val_accuracy</td><td>▁▅▆▇██</td></tr><tr><td>val_loss</td><td>█▅▄▂▂▁</td></tr></table><br/></div><div class=\"wandb-col\"><h3>Run summary:</h3><br/><table class=\"wandb\"><tr><td>accuracy</td><td>0.80375</td></tr><tr><td>best_epoch</td><td>5</td></tr><tr><td>best_val_loss</td><td>0.81483</td></tr><tr><td>epoch</td><td>5</td></tr><tr><td>loss</td><td>0.89243</td></tr><tr><td>val_accuracy</td><td>0.818</td></tr><tr><td>val_loss</td><td>0.81483</td></tr></table><br/></div></div>"
            ]
          },
          "metadata": {}
        },
        {
          "output_type": "display_data",
          "data": {
            "text/plain": [
              "<IPython.core.display.HTML object>"
            ],
            "text/html": [
              "Synced <strong style=\"color:#cdcd00\">lunar-planet-7</strong>: <a href=\"https://wandb.ai/nsp_team/Assignment-4-weights%20and%20biases/runs/1cd3jo5l\" target=\"_blank\">https://wandb.ai/nsp_team/Assignment-4-weights%20and%20biases/runs/1cd3jo5l</a><br/>Synced 5 W&B file(s), 2 media file(s), 1 artifact file(s) and 1 other file(s)"
            ]
          },
          "metadata": {}
        },
        {
          "output_type": "display_data",
          "data": {
            "text/plain": [
              "<IPython.core.display.HTML object>"
            ],
            "text/html": [
              "Find logs at: <code>./wandb/run-20220328_183027-1cd3jo5l/logs</code>"
            ]
          },
          "metadata": {}
        },
        {
          "output_type": "display_data",
          "data": {
            "text/plain": [
              "<IPython.core.display.HTML object>"
            ],
            "text/html": [
              "Tracking run with wandb version 0.12.11"
            ]
          },
          "metadata": {}
        },
        {
          "output_type": "display_data",
          "data": {
            "text/plain": [
              "<IPython.core.display.HTML object>"
            ],
            "text/html": [
              "Run data is saved locally in <code>/content/wandb/run-20220328_183043-1762nk8c</code>"
            ]
          },
          "metadata": {}
        },
        {
          "output_type": "display_data",
          "data": {
            "text/plain": [
              "<IPython.core.display.HTML object>"
            ],
            "text/html": [
              "Syncing run <strong><a href=\"https://wandb.ai/nsp_team/Assignment-4-weights%20and%20biases/runs/1762nk8c\" target=\"_blank\">usual-water-8</a></strong> to <a href=\"https://wandb.ai/nsp_team/Assignment-4-weights%20and%20biases\" target=\"_blank\">Weights & Biases</a> (<a href=\"https://wandb.me/run\" target=\"_blank\">docs</a>)<br/>"
            ]
          },
          "metadata": {}
        },
        {
          "output_type": "stream",
          "name": "stdout",
          "text": [
            "Epoch 1/6\n",
            "47/47 [==============================] - 1s 17ms/step - loss: 2.1480 - accuracy: 0.2519 - val_loss: 1.8672 - val_accuracy: 0.5760 - _timestamp: 1648492250.0000 - _runtime: 7.0000\n",
            "Epoch 2/6\n",
            "47/47 [==============================] - 1s 15ms/step - loss: 1.7476 - accuracy: 0.5167 - val_loss: 1.5332 - val_accuracy: 0.6960 - _timestamp: 1648492251.0000 - _runtime: 8.0000\n",
            "Epoch 3/6\n",
            "47/47 [==============================] - 1s 14ms/step - loss: 1.4671 - accuracy: 0.6422 - val_loss: 1.2829 - val_accuracy: 0.7500 - _timestamp: 1648492251.0000 - _runtime: 8.0000\n",
            "Epoch 4/6\n",
            "47/47 [==============================] - 1s 14ms/step - loss: 1.2544 - accuracy: 0.6968 - val_loss: 1.0988 - val_accuracy: 0.7700 - _timestamp: 1648492252.0000 - _runtime: 9.0000\n",
            "Epoch 5/6\n",
            "47/47 [==============================] - 1s 14ms/step - loss: 1.1027 - accuracy: 0.7328 - val_loss: 0.9658 - val_accuracy: 0.7880 - _timestamp: 1648492253.0000 - _runtime: 10.0000\n",
            "Epoch 6/6\n",
            "47/47 [==============================] - 1s 14ms/step - loss: 0.9886 - accuracy: 0.7604 - val_loss: 0.8661 - val_accuracy: 0.7960 - _timestamp: 1648492253.0000 - _runtime: 10.0000\n",
            "\n"
          ]
        },
        {
          "output_type": "display_data",
          "data": {
            "text/plain": [
              "<IPython.core.display.HTML object>"
            ],
            "text/html": [
              "Waiting for W&B process to finish... <strong style=\"color:green\">(success).</strong>"
            ]
          },
          "metadata": {}
        },
        {
          "output_type": "display_data",
          "data": {
            "text/plain": [
              "VBox(children=(Label(value='1.784 MB of 1.784 MB uploaded (0.000 MB deduped)\\r'), FloatProgress(value=1.0, max…"
            ],
            "application/vnd.jupyter.widget-view+json": {
              "version_major": 2,
              "version_minor": 0,
              "model_id": "b1a6a9f6c81a4c40b65fc0710f4d2bc1"
            }
          },
          "metadata": {}
        },
        {
          "output_type": "display_data",
          "data": {
            "text/plain": [
              "<IPython.core.display.HTML object>"
            ],
            "text/html": [
              "<style>\n",
              "    table.wandb td:nth-child(1) { padding: 0 10px; text-align: right }\n",
              "    .wandb-row { display: flex; flex-direction: row; flex-wrap: wrap; width: 100% }\n",
              "    .wandb-col { display: flex; flex-direction: column; flex-basis: 100%; flex: 1; padding: 10px; }\n",
              "    </style>\n",
              "<div class=\"wandb-row\"><div class=\"wandb-col\"><h3>Run history:</h3><br/><table class=\"wandb\"><tr><td>accuracy</td><td>▁▅▆▇██</td></tr><tr><td>epoch</td><td>▁▂▄▅▇█</td></tr><tr><td>loss</td><td>█▆▄▃▂▁</td></tr><tr><td>val_accuracy</td><td>▁▅▇▇██</td></tr><tr><td>val_loss</td><td>█▆▄▃▂▁</td></tr></table><br/></div><div class=\"wandb-col\"><h3>Run summary:</h3><br/><table class=\"wandb\"><tr><td>accuracy</td><td>0.76042</td></tr><tr><td>best_epoch</td><td>5</td></tr><tr><td>best_val_loss</td><td>0.86606</td></tr><tr><td>epoch</td><td>5</td></tr><tr><td>loss</td><td>0.98857</td></tr><tr><td>val_accuracy</td><td>0.796</td></tr><tr><td>val_loss</td><td>0.86606</td></tr></table><br/></div></div>"
            ]
          },
          "metadata": {}
        },
        {
          "output_type": "display_data",
          "data": {
            "text/plain": [
              "<IPython.core.display.HTML object>"
            ],
            "text/html": [
              "Synced <strong style=\"color:#cdcd00\">usual-water-8</strong>: <a href=\"https://wandb.ai/nsp_team/Assignment-4-weights%20and%20biases/runs/1762nk8c\" target=\"_blank\">https://wandb.ai/nsp_team/Assignment-4-weights%20and%20biases/runs/1762nk8c</a><br/>Synced 5 W&B file(s), 2 media file(s), 1 artifact file(s) and 1 other file(s)"
            ]
          },
          "metadata": {}
        },
        {
          "output_type": "display_data",
          "data": {
            "text/plain": [
              "<IPython.core.display.HTML object>"
            ],
            "text/html": [
              "Find logs at: <code>./wandb/run-20220328_183043-1762nk8c/logs</code>"
            ]
          },
          "metadata": {}
        },
        {
          "output_type": "display_data",
          "data": {
            "text/plain": [
              "<IPython.core.display.HTML object>"
            ],
            "text/html": [
              "Tracking run with wandb version 0.12.11"
            ]
          },
          "metadata": {}
        },
        {
          "output_type": "display_data",
          "data": {
            "text/plain": [
              "<IPython.core.display.HTML object>"
            ],
            "text/html": [
              "Run data is saved locally in <code>/content/wandb/run-20220328_183059-3de8r361</code>"
            ]
          },
          "metadata": {}
        },
        {
          "output_type": "display_data",
          "data": {
            "text/plain": [
              "<IPython.core.display.HTML object>"
            ],
            "text/html": [
              "Syncing run <strong><a href=\"https://wandb.ai/nsp_team/Assignment-4-weights%20and%20biases/runs/3de8r361\" target=\"_blank\">youthful-pine-9</a></strong> to <a href=\"https://wandb.ai/nsp_team/Assignment-4-weights%20and%20biases\" target=\"_blank\">Weights & Biases</a> (<a href=\"https://wandb.me/run\" target=\"_blank\">docs</a>)<br/>"
            ]
          },
          "metadata": {}
        },
        {
          "output_type": "stream",
          "name": "stdout",
          "text": [
            "Epoch 1/6\n",
            "47/47 [==============================] - 1s 17ms/step - loss: 2.1954 - accuracy: 0.2054 - val_loss: 1.8935 - val_accuracy: 0.5560 - _timestamp: 1648492266.0000 - _runtime: 7.0000\n",
            "Epoch 2/6\n",
            "47/47 [==============================] - 1s 15ms/step - loss: 1.7848 - accuracy: 0.4690 - val_loss: 1.5457 - val_accuracy: 0.7360 - _timestamp: 1648492266.0000 - _runtime: 7.0000\n",
            "Epoch 3/6\n",
            "47/47 [==============================] - 1s 15ms/step - loss: 1.4965 - accuracy: 0.6118 - val_loss: 1.2847 - val_accuracy: 0.7780 - _timestamp: 1648492267.0000 - _runtime: 8.0000\n",
            "Epoch 4/6\n",
            "47/47 [==============================] - 1s 15ms/step - loss: 1.2828 - accuracy: 0.6796 - val_loss: 1.0977 - val_accuracy: 0.7920 - _timestamp: 1648492268.0000 - _runtime: 9.0000\n",
            "Epoch 5/6\n",
            "47/47 [==============================] - 1s 14ms/step - loss: 1.1183 - accuracy: 0.7220 - val_loss: 0.9604 - val_accuracy: 0.7940 - _timestamp: 1648492269.0000 - _runtime: 10.0000\n",
            "Epoch 6/6\n",
            "47/47 [==============================] - 1s 14ms/step - loss: 1.0064 - accuracy: 0.7454 - val_loss: 0.8624 - val_accuracy: 0.8040 - _timestamp: 1648492269.0000 - _runtime: 10.0000\n",
            "\n"
          ]
        },
        {
          "output_type": "display_data",
          "data": {
            "text/plain": [
              "<IPython.core.display.HTML object>"
            ],
            "text/html": [
              "Waiting for W&B process to finish... <strong style=\"color:green\">(success).</strong>"
            ]
          },
          "metadata": {}
        },
        {
          "output_type": "display_data",
          "data": {
            "text/plain": [
              "VBox(children=(Label(value='1.784 MB of 1.784 MB uploaded (0.000 MB deduped)\\r'), FloatProgress(value=1.0, max…"
            ],
            "application/vnd.jupyter.widget-view+json": {
              "version_major": 2,
              "version_minor": 0,
              "model_id": "d8851de8dba94c09adb376159dd6df08"
            }
          },
          "metadata": {}
        },
        {
          "output_type": "display_data",
          "data": {
            "text/plain": [
              "<IPython.core.display.HTML object>"
            ],
            "text/html": [
              "<style>\n",
              "    table.wandb td:nth-child(1) { padding: 0 10px; text-align: right }\n",
              "    .wandb-row { display: flex; flex-direction: row; flex-wrap: wrap; width: 100% }\n",
              "    .wandb-col { display: flex; flex-direction: column; flex-basis: 100%; flex: 1; padding: 10px; }\n",
              "    </style>\n",
              "<div class=\"wandb-row\"><div class=\"wandb-col\"><h3>Run history:</h3><br/><table class=\"wandb\"><tr><td>accuracy</td><td>▁▄▆▇██</td></tr><tr><td>epoch</td><td>▁▂▄▅▇█</td></tr><tr><td>loss</td><td>█▆▄▃▂▁</td></tr><tr><td>val_accuracy</td><td>▁▆▇███</td></tr><tr><td>val_loss</td><td>█▆▄▃▂▁</td></tr></table><br/></div><div class=\"wandb-col\"><h3>Run summary:</h3><br/><table class=\"wandb\"><tr><td>accuracy</td><td>0.74542</td></tr><tr><td>best_epoch</td><td>5</td></tr><tr><td>best_val_loss</td><td>0.8624</td></tr><tr><td>epoch</td><td>5</td></tr><tr><td>loss</td><td>1.00636</td></tr><tr><td>val_accuracy</td><td>0.804</td></tr><tr><td>val_loss</td><td>0.8624</td></tr></table><br/></div></div>"
            ]
          },
          "metadata": {}
        },
        {
          "output_type": "display_data",
          "data": {
            "text/plain": [
              "<IPython.core.display.HTML object>"
            ],
            "text/html": [
              "Synced <strong style=\"color:#cdcd00\">youthful-pine-9</strong>: <a href=\"https://wandb.ai/nsp_team/Assignment-4-weights%20and%20biases/runs/3de8r361\" target=\"_blank\">https://wandb.ai/nsp_team/Assignment-4-weights%20and%20biases/runs/3de8r361</a><br/>Synced 5 W&B file(s), 2 media file(s), 1 artifact file(s) and 1 other file(s)"
            ]
          },
          "metadata": {}
        },
        {
          "output_type": "display_data",
          "data": {
            "text/plain": [
              "<IPython.core.display.HTML object>"
            ],
            "text/html": [
              "Find logs at: <code>./wandb/run-20220328_183059-3de8r361/logs</code>"
            ]
          },
          "metadata": {}
        },
        {
          "output_type": "display_data",
          "data": {
            "text/plain": [
              "<IPython.core.display.HTML object>"
            ],
            "text/html": [
              "Tracking run with wandb version 0.12.11"
            ]
          },
          "metadata": {}
        },
        {
          "output_type": "display_data",
          "data": {
            "text/plain": [
              "<IPython.core.display.HTML object>"
            ],
            "text/html": [
              "Run data is saved locally in <code>/content/wandb/run-20220328_183116-u2h78hgc</code>"
            ]
          },
          "metadata": {}
        },
        {
          "output_type": "display_data",
          "data": {
            "text/plain": [
              "<IPython.core.display.HTML object>"
            ],
            "text/html": [
              "Syncing run <strong><a href=\"https://wandb.ai/nsp_team/Assignment-4-weights%20and%20biases/runs/u2h78hgc\" target=\"_blank\">efficient-plasma-10</a></strong> to <a href=\"https://wandb.ai/nsp_team/Assignment-4-weights%20and%20biases\" target=\"_blank\">Weights & Biases</a> (<a href=\"https://wandb.me/run\" target=\"_blank\">docs</a>)<br/>"
            ]
          },
          "metadata": {}
        },
        {
          "output_type": "stream",
          "name": "stdout",
          "text": [
            "Epoch 1/6\n",
            "47/47 [==============================] - 1s 17ms/step - loss: 2.1785 - accuracy: 0.2371 - val_loss: 1.9148 - val_accuracy: 0.5080 - _timestamp: 1648492283.0000 - _runtime: 7.0000\n",
            "Epoch 2/6\n",
            "47/47 [==============================] - 1s 14ms/step - loss: 1.7651 - accuracy: 0.5269 - val_loss: 1.5606 - val_accuracy: 0.6860 - _timestamp: 1648492284.0000 - _runtime: 8.0000\n",
            "Epoch 3/6\n",
            "47/47 [==============================] - 1s 15ms/step - loss: 1.4613 - accuracy: 0.6532 - val_loss: 1.2972 - val_accuracy: 0.7400 - _timestamp: 1648492285.0000 - _runtime: 9.0000\n",
            "Epoch 4/6\n",
            "47/47 [==============================] - 1s 15ms/step - loss: 1.2419 - accuracy: 0.7108 - val_loss: 1.1048 - val_accuracy: 0.7780 - _timestamp: 1648492285.0000 - _runtime: 9.0000\n",
            "Epoch 5/6\n",
            "47/47 [==============================] - 1s 14ms/step - loss: 1.0795 - accuracy: 0.7487 - val_loss: 0.9671 - val_accuracy: 0.7900 - _timestamp: 1648492286.0000 - _runtime: 10.0000\n",
            "Epoch 6/6\n",
            "47/47 [==============================] - 1s 14ms/step - loss: 0.9662 - accuracy: 0.7696 - val_loss: 0.8645 - val_accuracy: 0.8000 - _timestamp: 1648492287.0000 - _runtime: 11.0000\n",
            "\n"
          ]
        },
        {
          "output_type": "display_data",
          "data": {
            "text/plain": [
              "<IPython.core.display.HTML object>"
            ],
            "text/html": [
              "Waiting for W&B process to finish... <strong style=\"color:green\">(success).</strong>"
            ]
          },
          "metadata": {}
        },
        {
          "output_type": "display_data",
          "data": {
            "text/plain": [
              "VBox(children=(Label(value='1.784 MB of 1.784 MB uploaded (0.000 MB deduped)\\r'), FloatProgress(value=1.0, max…"
            ],
            "application/vnd.jupyter.widget-view+json": {
              "version_major": 2,
              "version_minor": 0,
              "model_id": "3b10790d4ce140f4a049c7aa7ecda659"
            }
          },
          "metadata": {}
        },
        {
          "output_type": "display_data",
          "data": {
            "text/plain": [
              "<IPython.core.display.HTML object>"
            ],
            "text/html": [
              "<style>\n",
              "    table.wandb td:nth-child(1) { padding: 0 10px; text-align: right }\n",
              "    .wandb-row { display: flex; flex-direction: row; flex-wrap: wrap; width: 100% }\n",
              "    .wandb-col { display: flex; flex-direction: column; flex-basis: 100%; flex: 1; padding: 10px; }\n",
              "    </style>\n",
              "<div class=\"wandb-row\"><div class=\"wandb-col\"><h3>Run history:</h3><br/><table class=\"wandb\"><tr><td>accuracy</td><td>▁▅▆▇██</td></tr><tr><td>epoch</td><td>▁▂▄▅▇█</td></tr><tr><td>loss</td><td>█▆▄▃▂▁</td></tr><tr><td>val_accuracy</td><td>▁▅▇▇██</td></tr><tr><td>val_loss</td><td>█▆▄▃▂▁</td></tr></table><br/></div><div class=\"wandb-col\"><h3>Run summary:</h3><br/><table class=\"wandb\"><tr><td>accuracy</td><td>0.76958</td></tr><tr><td>best_epoch</td><td>5</td></tr><tr><td>best_val_loss</td><td>0.86449</td></tr><tr><td>epoch</td><td>5</td></tr><tr><td>loss</td><td>0.96617</td></tr><tr><td>val_accuracy</td><td>0.8</td></tr><tr><td>val_loss</td><td>0.86449</td></tr></table><br/></div></div>"
            ]
          },
          "metadata": {}
        },
        {
          "output_type": "display_data",
          "data": {
            "text/plain": [
              "<IPython.core.display.HTML object>"
            ],
            "text/html": [
              "Synced <strong style=\"color:#cdcd00\">efficient-plasma-10</strong>: <a href=\"https://wandb.ai/nsp_team/Assignment-4-weights%20and%20biases/runs/u2h78hgc\" target=\"_blank\">https://wandb.ai/nsp_team/Assignment-4-weights%20and%20biases/runs/u2h78hgc</a><br/>Synced 5 W&B file(s), 2 media file(s), 1 artifact file(s) and 1 other file(s)"
            ]
          },
          "metadata": {}
        },
        {
          "output_type": "display_data",
          "data": {
            "text/plain": [
              "<IPython.core.display.HTML object>"
            ],
            "text/html": [
              "Find logs at: <code>./wandb/run-20220328_183116-u2h78hgc/logs</code>"
            ]
          },
          "metadata": {}
        },
        {
          "output_type": "display_data",
          "data": {
            "text/plain": [
              "<IPython.core.display.HTML object>"
            ],
            "text/html": [
              "Tracking run with wandb version 0.12.11"
            ]
          },
          "metadata": {}
        },
        {
          "output_type": "display_data",
          "data": {
            "text/plain": [
              "<IPython.core.display.HTML object>"
            ],
            "text/html": [
              "Run data is saved locally in <code>/content/wandb/run-20220328_183132-1u9kif4n</code>"
            ]
          },
          "metadata": {}
        },
        {
          "output_type": "display_data",
          "data": {
            "text/plain": [
              "<IPython.core.display.HTML object>"
            ],
            "text/html": [
              "Syncing run <strong><a href=\"https://wandb.ai/nsp_team/Assignment-4-weights%20and%20biases/runs/1u9kif4n\" target=\"_blank\">exalted-puddle-11</a></strong> to <a href=\"https://wandb.ai/nsp_team/Assignment-4-weights%20and%20biases\" target=\"_blank\">Weights & Biases</a> (<a href=\"https://wandb.me/run\" target=\"_blank\">docs</a>)<br/>"
            ]
          },
          "metadata": {}
        },
        {
          "output_type": "stream",
          "name": "stdout",
          "text": [
            "Epoch 1/6\n",
            "47/47 [==============================] - 1s 18ms/step - loss: 2.1064 - accuracy: 0.2882 - val_loss: 1.8730 - val_accuracy: 0.5600 - _timestamp: 1648492300.0000 - _runtime: 8.0000\n",
            "Epoch 2/6\n",
            "47/47 [==============================] - 1s 14ms/step - loss: 1.6831 - accuracy: 0.6135 - val_loss: 1.5125 - val_accuracy: 0.7100 - _timestamp: 1648492301.0000 - _runtime: 9.0000\n",
            "Epoch 3/6\n",
            "47/47 [==============================] - 1s 14ms/step - loss: 1.3804 - accuracy: 0.7189 - val_loss: 1.2501 - val_accuracy: 0.7640 - _timestamp: 1648492301.0000 - _runtime: 9.0000\n",
            "Epoch 4/6\n",
            "47/47 [==============================] - 1s 14ms/step - loss: 1.1629 - accuracy: 0.7623 - val_loss: 1.0625 - val_accuracy: 0.7900 - _timestamp: 1648492302.0000 - _runtime: 10.0000\n",
            "Epoch 5/6\n",
            "47/47 [==============================] - 1s 14ms/step - loss: 1.0029 - accuracy: 0.7942 - val_loss: 0.9297 - val_accuracy: 0.8020 - _timestamp: 1648492303.0000 - _runtime: 11.0000\n",
            "Epoch 6/6\n",
            "47/47 [==============================] - 1s 14ms/step - loss: 0.8911 - accuracy: 0.8103 - val_loss: 0.8320 - val_accuracy: 0.8120 - _timestamp: 1648492303.0000 - _runtime: 11.0000\n",
            "\n"
          ]
        },
        {
          "output_type": "display_data",
          "data": {
            "text/plain": [
              "<IPython.core.display.HTML object>"
            ],
            "text/html": [
              "Waiting for W&B process to finish... <strong style=\"color:green\">(success).</strong>"
            ]
          },
          "metadata": {}
        },
        {
          "output_type": "display_data",
          "data": {
            "text/plain": [
              "VBox(children=(Label(value='1.996 MB of 1.996 MB uploaded (0.000 MB deduped)\\r'), FloatProgress(value=1.0, max…"
            ],
            "application/vnd.jupyter.widget-view+json": {
              "version_major": 2,
              "version_minor": 0,
              "model_id": "c1a0c37de8b44e82b8b5259f68186907"
            }
          },
          "metadata": {}
        },
        {
          "output_type": "display_data",
          "data": {
            "text/plain": [
              "<IPython.core.display.HTML object>"
            ],
            "text/html": [
              "<style>\n",
              "    table.wandb td:nth-child(1) { padding: 0 10px; text-align: right }\n",
              "    .wandb-row { display: flex; flex-direction: row; flex-wrap: wrap; width: 100% }\n",
              "    .wandb-col { display: flex; flex-direction: column; flex-basis: 100%; flex: 1; padding: 10px; }\n",
              "    </style>\n",
              "<div class=\"wandb-row\"><div class=\"wandb-col\"><h3>Run history:</h3><br/><table class=\"wandb\"><tr><td>accuracy</td><td>▁▅▇▇██</td></tr><tr><td>epoch</td><td>▁▂▄▅▇█</td></tr><tr><td>loss</td><td>█▆▄▃▂▁</td></tr><tr><td>val_accuracy</td><td>▁▅▇▇██</td></tr><tr><td>val_loss</td><td>█▆▄▃▂▁</td></tr></table><br/></div><div class=\"wandb-col\"><h3>Run summary:</h3><br/><table class=\"wandb\"><tr><td>accuracy</td><td>0.81033</td></tr><tr><td>best_epoch</td><td>5</td></tr><tr><td>best_val_loss</td><td>0.83198</td></tr><tr><td>epoch</td><td>5</td></tr><tr><td>loss</td><td>0.89109</td></tr><tr><td>val_accuracy</td><td>0.812</td></tr><tr><td>val_loss</td><td>0.83198</td></tr></table><br/></div></div>"
            ]
          },
          "metadata": {}
        },
        {
          "output_type": "display_data",
          "data": {
            "text/plain": [
              "<IPython.core.display.HTML object>"
            ],
            "text/html": [
              "Synced <strong style=\"color:#cdcd00\">exalted-puddle-11</strong>: <a href=\"https://wandb.ai/nsp_team/Assignment-4-weights%20and%20biases/runs/1u9kif4n\" target=\"_blank\">https://wandb.ai/nsp_team/Assignment-4-weights%20and%20biases/runs/1u9kif4n</a><br/>Synced 5 W&B file(s), 2 media file(s), 1 artifact file(s) and 1 other file(s)"
            ]
          },
          "metadata": {}
        },
        {
          "output_type": "display_data",
          "data": {
            "text/plain": [
              "<IPython.core.display.HTML object>"
            ],
            "text/html": [
              "Find logs at: <code>./wandb/run-20220328_183132-1u9kif4n/logs</code>"
            ]
          },
          "metadata": {}
        },
        {
          "output_type": "display_data",
          "data": {
            "text/plain": [
              "<IPython.core.display.HTML object>"
            ],
            "text/html": [
              "Tracking run with wandb version 0.12.11"
            ]
          },
          "metadata": {}
        },
        {
          "output_type": "display_data",
          "data": {
            "text/plain": [
              "<IPython.core.display.HTML object>"
            ],
            "text/html": [
              "Run data is saved locally in <code>/content/wandb/run-20220328_183153-1teazid2</code>"
            ]
          },
          "metadata": {}
        },
        {
          "output_type": "display_data",
          "data": {
            "text/plain": [
              "<IPython.core.display.HTML object>"
            ],
            "text/html": [
              "Syncing run <strong><a href=\"https://wandb.ai/nsp_team/Assignment-4-weights%20and%20biases/runs/1teazid2\" target=\"_blank\">efficient-thunder-12</a></strong> to <a href=\"https://wandb.ai/nsp_team/Assignment-4-weights%20and%20biases\" target=\"_blank\">Weights & Biases</a> (<a href=\"https://wandb.me/run\" target=\"_blank\">docs</a>)<br/>"
            ]
          },
          "metadata": {}
        },
        {
          "output_type": "stream",
          "name": "stdout",
          "text": [
            "Epoch 1/6\n",
            "47/47 [==============================] - 1s 18ms/step - loss: 2.1927 - accuracy: 0.2160 - val_loss: 1.8965 - val_accuracy: 0.5580 - _timestamp: 1648492320.0000 - _runtime: 6.0000\n",
            "Epoch 2/6\n",
            "47/47 [==============================] - 1s 15ms/step - loss: 1.7845 - accuracy: 0.4754 - val_loss: 1.5535 - val_accuracy: 0.6860 - _timestamp: 1648492321.0000 - _runtime: 7.0000\n",
            "Epoch 3/6\n",
            "47/47 [==============================] - 1s 14ms/step - loss: 1.5058 - accuracy: 0.5979 - val_loss: 1.2979 - val_accuracy: 0.7680 - _timestamp: 1648492321.0000 - _runtime: 7.0000\n",
            "Epoch 4/6\n",
            "47/47 [==============================] - 1s 14ms/step - loss: 1.2930 - accuracy: 0.6664 - val_loss: 1.1105 - val_accuracy: 0.7880 - _timestamp: 1648492322.0000 - _runtime: 8.0000\n",
            "Epoch 5/6\n",
            "47/47 [==============================] - 1s 14ms/step - loss: 1.1359 - accuracy: 0.7054 - val_loss: 0.9737 - val_accuracy: 0.8000 - _timestamp: 1648492323.0000 - _runtime: 9.0000\n",
            "Epoch 6/6\n",
            "47/47 [==============================] - 1s 14ms/step - loss: 1.0193 - accuracy: 0.7356 - val_loss: 0.8734 - val_accuracy: 0.8100 - _timestamp: 1648492323.0000 - _runtime: 9.0000\n",
            "\n"
          ]
        },
        {
          "output_type": "display_data",
          "data": {
            "text/plain": [
              "<IPython.core.display.HTML object>"
            ],
            "text/html": [
              "Waiting for W&B process to finish... <strong style=\"color:green\">(success).</strong>"
            ]
          },
          "metadata": {}
        },
        {
          "output_type": "display_data",
          "data": {
            "text/plain": [
              "VBox(children=(Label(value='1.784 MB of 1.995 MB uploaded (0.000 MB deduped)\\r'), FloatProgress(value=0.894347…"
            ],
            "application/vnd.jupyter.widget-view+json": {
              "version_major": 2,
              "version_minor": 0,
              "model_id": "cb01be365bf7436b8f20debb779f099e"
            }
          },
          "metadata": {}
        },
        {
          "output_type": "display_data",
          "data": {
            "text/plain": [
              "<IPython.core.display.HTML object>"
            ],
            "text/html": [
              "<style>\n",
              "    table.wandb td:nth-child(1) { padding: 0 10px; text-align: right }\n",
              "    .wandb-row { display: flex; flex-direction: row; flex-wrap: wrap; width: 100% }\n",
              "    .wandb-col { display: flex; flex-direction: column; flex-basis: 100%; flex: 1; padding: 10px; }\n",
              "    </style>\n",
              "<div class=\"wandb-row\"><div class=\"wandb-col\"><h3>Run history:</h3><br/><table class=\"wandb\"><tr><td>accuracy</td><td>▁▄▆▇██</td></tr><tr><td>epoch</td><td>▁▂▄▅▇█</td></tr><tr><td>loss</td><td>█▆▄▃▂▁</td></tr><tr><td>val_accuracy</td><td>▁▅▇▇██</td></tr><tr><td>val_loss</td><td>█▆▄▃▂▁</td></tr></table><br/></div><div class=\"wandb-col\"><h3>Run summary:</h3><br/><table class=\"wandb\"><tr><td>accuracy</td><td>0.73558</td></tr><tr><td>best_epoch</td><td>5</td></tr><tr><td>best_val_loss</td><td>0.87344</td></tr><tr><td>epoch</td><td>5</td></tr><tr><td>loss</td><td>1.01932</td></tr><tr><td>val_accuracy</td><td>0.81</td></tr><tr><td>val_loss</td><td>0.87344</td></tr></table><br/></div></div>"
            ]
          },
          "metadata": {}
        },
        {
          "output_type": "display_data",
          "data": {
            "text/plain": [
              "<IPython.core.display.HTML object>"
            ],
            "text/html": [
              "Synced <strong style=\"color:#cdcd00\">efficient-thunder-12</strong>: <a href=\"https://wandb.ai/nsp_team/Assignment-4-weights%20and%20biases/runs/1teazid2\" target=\"_blank\">https://wandb.ai/nsp_team/Assignment-4-weights%20and%20biases/runs/1teazid2</a><br/>Synced 5 W&B file(s), 2 media file(s), 1 artifact file(s) and 1 other file(s)"
            ]
          },
          "metadata": {}
        },
        {
          "output_type": "display_data",
          "data": {
            "text/plain": [
              "<IPython.core.display.HTML object>"
            ],
            "text/html": [
              "Find logs at: <code>./wandb/run-20220328_183153-1teazid2/logs</code>"
            ]
          },
          "metadata": {}
        },
        {
          "output_type": "display_data",
          "data": {
            "text/plain": [
              "<IPython.core.display.HTML object>"
            ],
            "text/html": [
              "Tracking run with wandb version 0.12.11"
            ]
          },
          "metadata": {}
        },
        {
          "output_type": "display_data",
          "data": {
            "text/plain": [
              "<IPython.core.display.HTML object>"
            ],
            "text/html": [
              "Run data is saved locally in <code>/content/wandb/run-20220328_183214-172ywfbl</code>"
            ]
          },
          "metadata": {}
        },
        {
          "output_type": "display_data",
          "data": {
            "text/plain": [
              "<IPython.core.display.HTML object>"
            ],
            "text/html": [
              "Syncing run <strong><a href=\"https://wandb.ai/nsp_team/Assignment-4-weights%20and%20biases/runs/172ywfbl\" target=\"_blank\">rose-snowball-13</a></strong> to <a href=\"https://wandb.ai/nsp_team/Assignment-4-weights%20and%20biases\" target=\"_blank\">Weights & Biases</a> (<a href=\"https://wandb.me/run\" target=\"_blank\">docs</a>)<br/>"
            ]
          },
          "metadata": {}
        },
        {
          "output_type": "stream",
          "name": "stdout",
          "text": [
            "Epoch 1/6\n",
            "47/47 [==============================] - 1s 18ms/step - loss: 2.2380 - accuracy: 0.1971 - val_loss: 1.8322 - val_accuracy: 0.5900 - _timestamp: 1648492341.0000 - _runtime: 7.0000\n",
            "Epoch 2/6\n",
            "47/47 [==============================] - 1s 15ms/step - loss: 1.8176 - accuracy: 0.4027 - val_loss: 1.5096 - val_accuracy: 0.7000 - _timestamp: 1648492341.0000 - _runtime: 7.0000\n",
            "Epoch 3/6\n",
            "47/47 [==============================] - 1s 14ms/step - loss: 1.5547 - accuracy: 0.5296 - val_loss: 1.2790 - val_accuracy: 0.7560 - _timestamp: 1648492342.0000 - _runtime: 8.0000\n",
            "Epoch 4/6\n",
            "47/47 [==============================] - 1s 15ms/step - loss: 1.3624 - accuracy: 0.5962 - val_loss: 1.1112 - val_accuracy: 0.7740 - _timestamp: 1648492343.0000 - _runtime: 9.0000\n",
            "Epoch 5/6\n",
            "47/47 [==============================] - 1s 15ms/step - loss: 1.2190 - accuracy: 0.6488 - val_loss: 0.9862 - val_accuracy: 0.8000 - _timestamp: 1648492344.0000 - _runtime: 10.0000\n",
            "Epoch 6/6\n",
            "47/47 [==============================] - 1s 15ms/step - loss: 1.1206 - accuracy: 0.6723 - val_loss: 0.8937 - val_accuracy: 0.8100 - _timestamp: 1648492344.0000 - _runtime: 10.0000\n",
            "\n"
          ]
        },
        {
          "output_type": "display_data",
          "data": {
            "text/plain": [
              "<IPython.core.display.HTML object>"
            ],
            "text/html": [
              "Waiting for W&B process to finish... <strong style=\"color:green\">(success).</strong>"
            ]
          },
          "metadata": {}
        },
        {
          "output_type": "display_data",
          "data": {
            "text/plain": [
              "VBox(children=(Label(value='1.784 MB of 1.784 MB uploaded (0.000 MB deduped)\\r'), FloatProgress(value=1.0, max…"
            ],
            "application/vnd.jupyter.widget-view+json": {
              "version_major": 2,
              "version_minor": 0,
              "model_id": "033e3af8e15d408b8e7d35aba59a2895"
            }
          },
          "metadata": {}
        },
        {
          "output_type": "display_data",
          "data": {
            "text/plain": [
              "<IPython.core.display.HTML object>"
            ],
            "text/html": [
              "<style>\n",
              "    table.wandb td:nth-child(1) { padding: 0 10px; text-align: right }\n",
              "    .wandb-row { display: flex; flex-direction: row; flex-wrap: wrap; width: 100% }\n",
              "    .wandb-col { display: flex; flex-direction: column; flex-basis: 100%; flex: 1; padding: 10px; }\n",
              "    </style>\n",
              "<div class=\"wandb-row\"><div class=\"wandb-col\"><h3>Run history:</h3><br/><table class=\"wandb\"><tr><td>accuracy</td><td>▁▄▆▇██</td></tr><tr><td>epoch</td><td>▁▂▄▅▇█</td></tr><tr><td>loss</td><td>█▅▄▃▂▁</td></tr><tr><td>val_accuracy</td><td>▁▅▆▇██</td></tr><tr><td>val_loss</td><td>█▆▄▃▂▁</td></tr></table><br/></div><div class=\"wandb-col\"><h3>Run summary:</h3><br/><table class=\"wandb\"><tr><td>accuracy</td><td>0.67233</td></tr><tr><td>best_epoch</td><td>5</td></tr><tr><td>best_val_loss</td><td>0.89366</td></tr><tr><td>epoch</td><td>5</td></tr><tr><td>loss</td><td>1.12057</td></tr><tr><td>val_accuracy</td><td>0.81</td></tr><tr><td>val_loss</td><td>0.89366</td></tr></table><br/></div></div>"
            ]
          },
          "metadata": {}
        },
        {
          "output_type": "display_data",
          "data": {
            "text/plain": [
              "<IPython.core.display.HTML object>"
            ],
            "text/html": [
              "Synced <strong style=\"color:#cdcd00\">rose-snowball-13</strong>: <a href=\"https://wandb.ai/nsp_team/Assignment-4-weights%20and%20biases/runs/172ywfbl\" target=\"_blank\">https://wandb.ai/nsp_team/Assignment-4-weights%20and%20biases/runs/172ywfbl</a><br/>Synced 5 W&B file(s), 2 media file(s), 1 artifact file(s) and 1 other file(s)"
            ]
          },
          "metadata": {}
        },
        {
          "output_type": "display_data",
          "data": {
            "text/plain": [
              "<IPython.core.display.HTML object>"
            ],
            "text/html": [
              "Find logs at: <code>./wandb/run-20220328_183214-172ywfbl/logs</code>"
            ]
          },
          "metadata": {}
        },
        {
          "output_type": "display_data",
          "data": {
            "text/plain": [
              "<IPython.core.display.HTML object>"
            ],
            "text/html": [
              "Tracking run with wandb version 0.12.11"
            ]
          },
          "metadata": {}
        },
        {
          "output_type": "display_data",
          "data": {
            "text/plain": [
              "<IPython.core.display.HTML object>"
            ],
            "text/html": [
              "Run data is saved locally in <code>/content/wandb/run-20220328_183231-ptqba9d9</code>"
            ]
          },
          "metadata": {}
        },
        {
          "output_type": "display_data",
          "data": {
            "text/plain": [
              "<IPython.core.display.HTML object>"
            ],
            "text/html": [
              "Syncing run <strong><a href=\"https://wandb.ai/nsp_team/Assignment-4-weights%20and%20biases/runs/ptqba9d9\" target=\"_blank\">happy-sea-14</a></strong> to <a href=\"https://wandb.ai/nsp_team/Assignment-4-weights%20and%20biases\" target=\"_blank\">Weights & Biases</a> (<a href=\"https://wandb.me/run\" target=\"_blank\">docs</a>)<br/>"
            ]
          },
          "metadata": {}
        },
        {
          "output_type": "stream",
          "name": "stdout",
          "text": [
            "Epoch 1/6\n",
            "47/47 [==============================] - 1s 17ms/step - loss: 2.2100 - accuracy: 0.1986 - val_loss: 1.8779 - val_accuracy: 0.5880 - _timestamp: 1648492358.0000 - _runtime: 7.0000\n",
            "Epoch 2/6\n",
            "47/47 [==============================] - 1s 14ms/step - loss: 1.8069 - accuracy: 0.4298 - val_loss: 1.5527 - val_accuracy: 0.7180 - _timestamp: 1648492359.0000 - _runtime: 8.0000\n",
            "Epoch 3/6\n",
            "47/47 [==============================] - 1s 15ms/step - loss: 1.5398 - accuracy: 0.5594 - val_loss: 1.3099 - val_accuracy: 0.7660 - _timestamp: 1648492360.0000 - _runtime: 9.0000\n",
            "Epoch 4/6\n",
            "47/47 [==============================] - 1s 14ms/step - loss: 1.3334 - accuracy: 0.6319 - val_loss: 1.1295 - val_accuracy: 0.7900 - _timestamp: 1648492361.0000 - _runtime: 10.0000\n",
            "Epoch 5/6\n",
            "47/47 [==============================] - 1s 14ms/step - loss: 1.1927 - accuracy: 0.6712 - val_loss: 0.9970 - val_accuracy: 0.8080 - _timestamp: 1648492361.0000 - _runtime: 10.0000\n",
            "Epoch 6/6\n",
            "47/47 [==============================] - 1s 15ms/step - loss: 1.0740 - accuracy: 0.7048 - val_loss: 0.8966 - val_accuracy: 0.8080 - _timestamp: 1648492362.0000 - _runtime: 11.0000\n",
            "\n"
          ]
        },
        {
          "output_type": "display_data",
          "data": {
            "text/plain": [
              "<IPython.core.display.HTML object>"
            ],
            "text/html": [
              "Waiting for W&B process to finish... <strong style=\"color:green\">(success).</strong>"
            ]
          },
          "metadata": {}
        },
        {
          "output_type": "display_data",
          "data": {
            "text/plain": [
              "VBox(children=(Label(value='1.784 MB of 1.784 MB uploaded (0.000 MB deduped)\\r'), FloatProgress(value=1.0, max…"
            ],
            "application/vnd.jupyter.widget-view+json": {
              "version_major": 2,
              "version_minor": 0,
              "model_id": "0f6e8a2ae3b64f96af8e3c69582f02bf"
            }
          },
          "metadata": {}
        },
        {
          "output_type": "display_data",
          "data": {
            "text/plain": [
              "<IPython.core.display.HTML object>"
            ],
            "text/html": [
              "<style>\n",
              "    table.wandb td:nth-child(1) { padding: 0 10px; text-align: right }\n",
              "    .wandb-row { display: flex; flex-direction: row; flex-wrap: wrap; width: 100% }\n",
              "    .wandb-col { display: flex; flex-direction: column; flex-basis: 100%; flex: 1; padding: 10px; }\n",
              "    </style>\n",
              "<div class=\"wandb-row\"><div class=\"wandb-col\"><h3>Run history:</h3><br/><table class=\"wandb\"><tr><td>accuracy</td><td>▁▄▆▇██</td></tr><tr><td>epoch</td><td>▁▂▄▅▇█</td></tr><tr><td>loss</td><td>█▆▄▃▂▁</td></tr><tr><td>val_accuracy</td><td>▁▅▇▇██</td></tr><tr><td>val_loss</td><td>█▆▄▃▂▁</td></tr></table><br/></div><div class=\"wandb-col\"><h3>Run summary:</h3><br/><table class=\"wandb\"><tr><td>accuracy</td><td>0.70483</td></tr><tr><td>best_epoch</td><td>5</td></tr><tr><td>best_val_loss</td><td>0.89661</td></tr><tr><td>epoch</td><td>5</td></tr><tr><td>loss</td><td>1.07399</td></tr><tr><td>val_accuracy</td><td>0.808</td></tr><tr><td>val_loss</td><td>0.89661</td></tr></table><br/></div></div>"
            ]
          },
          "metadata": {}
        },
        {
          "output_type": "display_data",
          "data": {
            "text/plain": [
              "<IPython.core.display.HTML object>"
            ],
            "text/html": [
              "Synced <strong style=\"color:#cdcd00\">happy-sea-14</strong>: <a href=\"https://wandb.ai/nsp_team/Assignment-4-weights%20and%20biases/runs/ptqba9d9\" target=\"_blank\">https://wandb.ai/nsp_team/Assignment-4-weights%20and%20biases/runs/ptqba9d9</a><br/>Synced 5 W&B file(s), 2 media file(s), 1 artifact file(s) and 1 other file(s)"
            ]
          },
          "metadata": {}
        },
        {
          "output_type": "display_data",
          "data": {
            "text/plain": [
              "<IPython.core.display.HTML object>"
            ],
            "text/html": [
              "Find logs at: <code>./wandb/run-20220328_183231-ptqba9d9/logs</code>"
            ]
          },
          "metadata": {}
        },
        {
          "output_type": "display_data",
          "data": {
            "text/plain": [
              "<IPython.core.display.HTML object>"
            ],
            "text/html": [
              "Tracking run with wandb version 0.12.11"
            ]
          },
          "metadata": {}
        },
        {
          "output_type": "display_data",
          "data": {
            "text/plain": [
              "<IPython.core.display.HTML object>"
            ],
            "text/html": [
              "Run data is saved locally in <code>/content/wandb/run-20220328_183249-rtazrp4v</code>"
            ]
          },
          "metadata": {}
        },
        {
          "output_type": "display_data",
          "data": {
            "text/plain": [
              "<IPython.core.display.HTML object>"
            ],
            "text/html": [
              "Syncing run <strong><a href=\"https://wandb.ai/nsp_team/Assignment-4-weights%20and%20biases/runs/rtazrp4v\" target=\"_blank\">stellar-galaxy-15</a></strong> to <a href=\"https://wandb.ai/nsp_team/Assignment-4-weights%20and%20biases\" target=\"_blank\">Weights & Biases</a> (<a href=\"https://wandb.me/run\" target=\"_blank\">docs</a>)<br/>"
            ]
          },
          "metadata": {}
        },
        {
          "output_type": "stream",
          "name": "stdout",
          "text": [
            "Epoch 1/6\n",
            "47/47 [==============================] - 1s 18ms/step - loss: 2.1164 - accuracy: 0.2930 - val_loss: 1.8447 - val_accuracy: 0.5860 - _timestamp: 1648492376.0000 - _runtime: 7.0000\n",
            "Epoch 2/6\n",
            "47/47 [==============================] - 1s 14ms/step - loss: 1.6867 - accuracy: 0.6127 - val_loss: 1.4813 - val_accuracy: 0.7200 - _timestamp: 1648492377.0000 - _runtime: 8.0000\n",
            "Epoch 3/6\n",
            "47/47 [==============================] - 1s 14ms/step - loss: 1.3791 - accuracy: 0.7123 - val_loss: 1.2208 - val_accuracy: 0.7780 - _timestamp: 1648492377.0000 - _runtime: 8.0000\n",
            "Epoch 4/6\n",
            "47/47 [==============================] - 1s 14ms/step - loss: 1.1590 - accuracy: 0.7578 - val_loss: 1.0384 - val_accuracy: 0.8140 - _timestamp: 1648492378.0000 - _runtime: 9.0000\n",
            "Epoch 5/6\n",
            "47/47 [==============================] - 1s 14ms/step - loss: 1.0084 - accuracy: 0.7864 - val_loss: 0.9100 - val_accuracy: 0.8220 - _timestamp: 1648492379.0000 - _runtime: 10.0000\n",
            "Epoch 6/6\n",
            "47/47 [==============================] - 1s 14ms/step - loss: 0.8918 - accuracy: 0.8044 - val_loss: 0.8159 - val_accuracy: 0.8280 - _timestamp: 1648492379.0000 - _runtime: 10.0000\n",
            "\n"
          ]
        },
        {
          "output_type": "display_data",
          "data": {
            "text/plain": [
              "<IPython.core.display.HTML object>"
            ],
            "text/html": [
              "Waiting for W&B process to finish... <strong style=\"color:green\">(success).</strong>"
            ]
          },
          "metadata": {}
        },
        {
          "output_type": "display_data",
          "data": {
            "text/plain": [
              "VBox(children=(Label(value='1.785 MB of 1.996 MB uploaded (0.000 MB deduped)\\r'), FloatProgress(value=0.894146…"
            ],
            "application/vnd.jupyter.widget-view+json": {
              "version_major": 2,
              "version_minor": 0,
              "model_id": "e46c81f9b2354d2dbc152b96f44dcff8"
            }
          },
          "metadata": {}
        },
        {
          "output_type": "display_data",
          "data": {
            "text/plain": [
              "<IPython.core.display.HTML object>"
            ],
            "text/html": [
              "<style>\n",
              "    table.wandb td:nth-child(1) { padding: 0 10px; text-align: right }\n",
              "    .wandb-row { display: flex; flex-direction: row; flex-wrap: wrap; width: 100% }\n",
              "    .wandb-col { display: flex; flex-direction: column; flex-basis: 100%; flex: 1; padding: 10px; }\n",
              "    </style>\n",
              "<div class=\"wandb-row\"><div class=\"wandb-col\"><h3>Run history:</h3><br/><table class=\"wandb\"><tr><td>accuracy</td><td>▁▅▇▇██</td></tr><tr><td>epoch</td><td>▁▂▄▅▇█</td></tr><tr><td>loss</td><td>█▆▄▃▂▁</td></tr><tr><td>val_accuracy</td><td>▁▅▇███</td></tr><tr><td>val_loss</td><td>█▆▄▃▂▁</td></tr></table><br/></div><div class=\"wandb-col\"><h3>Run summary:</h3><br/><table class=\"wandb\"><tr><td>accuracy</td><td>0.80442</td></tr><tr><td>best_epoch</td><td>5</td></tr><tr><td>best_val_loss</td><td>0.81589</td></tr><tr><td>epoch</td><td>5</td></tr><tr><td>loss</td><td>0.89177</td></tr><tr><td>val_accuracy</td><td>0.828</td></tr><tr><td>val_loss</td><td>0.81589</td></tr></table><br/></div></div>"
            ]
          },
          "metadata": {}
        },
        {
          "output_type": "display_data",
          "data": {
            "text/plain": [
              "<IPython.core.display.HTML object>"
            ],
            "text/html": [
              "Synced <strong style=\"color:#cdcd00\">stellar-galaxy-15</strong>: <a href=\"https://wandb.ai/nsp_team/Assignment-4-weights%20and%20biases/runs/rtazrp4v\" target=\"_blank\">https://wandb.ai/nsp_team/Assignment-4-weights%20and%20biases/runs/rtazrp4v</a><br/>Synced 5 W&B file(s), 2 media file(s), 1 artifact file(s) and 1 other file(s)"
            ]
          },
          "metadata": {}
        },
        {
          "output_type": "display_data",
          "data": {
            "text/plain": [
              "<IPython.core.display.HTML object>"
            ],
            "text/html": [
              "Find logs at: <code>./wandb/run-20220328_183249-rtazrp4v/logs</code>"
            ]
          },
          "metadata": {}
        },
        {
          "output_type": "display_data",
          "data": {
            "text/plain": [
              "<IPython.core.display.HTML object>"
            ],
            "text/html": [
              "Tracking run with wandb version 0.12.11"
            ]
          },
          "metadata": {}
        },
        {
          "output_type": "display_data",
          "data": {
            "text/plain": [
              "<IPython.core.display.HTML object>"
            ],
            "text/html": [
              "Run data is saved locally in <code>/content/wandb/run-20220328_183304-ace3ci8v</code>"
            ]
          },
          "metadata": {}
        },
        {
          "output_type": "display_data",
          "data": {
            "text/plain": [
              "<IPython.core.display.HTML object>"
            ],
            "text/html": [
              "Syncing run <strong><a href=\"https://wandb.ai/nsp_team/Assignment-4-weights%20and%20biases/runs/ace3ci8v\" target=\"_blank\">denim-breeze-16</a></strong> to <a href=\"https://wandb.ai/nsp_team/Assignment-4-weights%20and%20biases\" target=\"_blank\">Weights & Biases</a> (<a href=\"https://wandb.me/run\" target=\"_blank\">docs</a>)<br/>"
            ]
          },
          "metadata": {}
        },
        {
          "output_type": "stream",
          "name": "stdout",
          "text": [
            "Epoch 1/6\n",
            "47/47 [==============================] - 1s 18ms/step - loss: 2.0928 - accuracy: 0.2868 - val_loss: 1.8301 - val_accuracy: 0.6040 - _timestamp: 1648492391.0000 - _runtime: 7.0000\n",
            "Epoch 2/6\n",
            "47/47 [==============================] - 1s 15ms/step - loss: 1.7040 - accuracy: 0.5432 - val_loss: 1.4910 - val_accuracy: 0.7240 - _timestamp: 1648492391.0000 - _runtime: 7.0000\n",
            "Epoch 3/6\n",
            "47/47 [==============================] - 1s 15ms/step - loss: 1.4219 - accuracy: 0.6572 - val_loss: 1.2415 - val_accuracy: 0.7700 - _timestamp: 1648492392.0000 - _runtime: 8.0000\n",
            "Epoch 4/6\n",
            "47/47 [==============================] - 1s 15ms/step - loss: 1.2109 - accuracy: 0.7142 - val_loss: 1.0619 - val_accuracy: 0.7900 - _timestamp: 1648492393.0000 - _runtime: 9.0000\n",
            "Epoch 5/6\n",
            "47/47 [==============================] - 1s 15ms/step - loss: 1.0589 - accuracy: 0.7436 - val_loss: 0.9312 - val_accuracy: 0.8060 - _timestamp: 1648492394.0000 - _runtime: 10.0000\n",
            "Epoch 6/6\n",
            "47/47 [==============================] - 1s 15ms/step - loss: 0.9555 - accuracy: 0.7707 - val_loss: 0.8361 - val_accuracy: 0.8100 - _timestamp: 1648492394.0000 - _runtime: 10.0000\n",
            "\n"
          ]
        },
        {
          "output_type": "display_data",
          "data": {
            "text/plain": [
              "<IPython.core.display.HTML object>"
            ],
            "text/html": [
              "Waiting for W&B process to finish... <strong style=\"color:green\">(success).</strong>"
            ]
          },
          "metadata": {}
        },
        {
          "output_type": "display_data",
          "data": {
            "text/plain": [
              "VBox(children=(Label(value='1.784 MB of 1.995 MB uploaded (0.000 MB deduped)\\r'), FloatProgress(value=0.894241…"
            ],
            "application/vnd.jupyter.widget-view+json": {
              "version_major": 2,
              "version_minor": 0,
              "model_id": "3ee164e40023487c9c6670646bb1f80c"
            }
          },
          "metadata": {}
        },
        {
          "output_type": "display_data",
          "data": {
            "text/plain": [
              "<IPython.core.display.HTML object>"
            ],
            "text/html": [
              "<style>\n",
              "    table.wandb td:nth-child(1) { padding: 0 10px; text-align: right }\n",
              "    .wandb-row { display: flex; flex-direction: row; flex-wrap: wrap; width: 100% }\n",
              "    .wandb-col { display: flex; flex-direction: column; flex-basis: 100%; flex: 1; padding: 10px; }\n",
              "    </style>\n",
              "<div class=\"wandb-row\"><div class=\"wandb-col\"><h3>Run history:</h3><br/><table class=\"wandb\"><tr><td>accuracy</td><td>▁▅▆▇██</td></tr><tr><td>epoch</td><td>▁▂▄▅▇█</td></tr><tr><td>loss</td><td>█▆▄▃▂▁</td></tr><tr><td>val_accuracy</td><td>▁▅▇▇██</td></tr><tr><td>val_loss</td><td>█▆▄▃▂▁</td></tr></table><br/></div><div class=\"wandb-col\"><h3>Run summary:</h3><br/><table class=\"wandb\"><tr><td>accuracy</td><td>0.77067</td></tr><tr><td>best_epoch</td><td>5</td></tr><tr><td>best_val_loss</td><td>0.83609</td></tr><tr><td>epoch</td><td>5</td></tr><tr><td>loss</td><td>0.95545</td></tr><tr><td>val_accuracy</td><td>0.81</td></tr><tr><td>val_loss</td><td>0.83609</td></tr></table><br/></div></div>"
            ]
          },
          "metadata": {}
        },
        {
          "output_type": "display_data",
          "data": {
            "text/plain": [
              "<IPython.core.display.HTML object>"
            ],
            "text/html": [
              "Synced <strong style=\"color:#cdcd00\">denim-breeze-16</strong>: <a href=\"https://wandb.ai/nsp_team/Assignment-4-weights%20and%20biases/runs/ace3ci8v\" target=\"_blank\">https://wandb.ai/nsp_team/Assignment-4-weights%20and%20biases/runs/ace3ci8v</a><br/>Synced 5 W&B file(s), 2 media file(s), 1 artifact file(s) and 1 other file(s)"
            ]
          },
          "metadata": {}
        },
        {
          "output_type": "display_data",
          "data": {
            "text/plain": [
              "<IPython.core.display.HTML object>"
            ],
            "text/html": [
              "Find logs at: <code>./wandb/run-20220328_183304-ace3ci8v/logs</code>"
            ]
          },
          "metadata": {}
        },
        {
          "output_type": "display_data",
          "data": {
            "text/plain": [
              "<IPython.core.display.HTML object>"
            ],
            "text/html": [
              "Tracking run with wandb version 0.12.11"
            ]
          },
          "metadata": {}
        },
        {
          "output_type": "display_data",
          "data": {
            "text/plain": [
              "<IPython.core.display.HTML object>"
            ],
            "text/html": [
              "Run data is saved locally in <code>/content/wandb/run-20220328_183320-1nxtlxbd</code>"
            ]
          },
          "metadata": {}
        },
        {
          "output_type": "display_data",
          "data": {
            "text/plain": [
              "<IPython.core.display.HTML object>"
            ],
            "text/html": [
              "Syncing run <strong><a href=\"https://wandb.ai/nsp_team/Assignment-4-weights%20and%20biases/runs/1nxtlxbd\" target=\"_blank\">daily-planet-17</a></strong> to <a href=\"https://wandb.ai/nsp_team/Assignment-4-weights%20and%20biases\" target=\"_blank\">Weights & Biases</a> (<a href=\"https://wandb.me/run\" target=\"_blank\">docs</a>)<br/>"
            ]
          },
          "metadata": {}
        },
        {
          "output_type": "stream",
          "name": "stdout",
          "text": [
            "Epoch 1/6\n",
            "47/47 [==============================] - 1s 18ms/step - loss: 2.1567 - accuracy: 0.2473 - val_loss: 1.8864 - val_accuracy: 0.5360 - _timestamp: 1648492408.0000 - _runtime: 8.0000\n",
            "Epoch 2/6\n",
            "47/47 [==============================] - 1s 15ms/step - loss: 1.7259 - accuracy: 0.5829 - val_loss: 1.5214 - val_accuracy: 0.7220 - _timestamp: 1648492409.0000 - _runtime: 9.0000\n",
            "Epoch 3/6\n",
            "47/47 [==============================] - 1s 15ms/step - loss: 1.4123 - accuracy: 0.6997 - val_loss: 1.2528 - val_accuracy: 0.7580 - _timestamp: 1648492409.0000 - _runtime: 9.0000\n",
            "Epoch 4/6\n",
            "47/47 [==============================] - 1s 15ms/step - loss: 1.1888 - accuracy: 0.7492 - val_loss: 1.0600 - val_accuracy: 0.7900 - _timestamp: 1648492410.0000 - _runtime: 10.0000\n",
            "Epoch 5/6\n",
            "47/47 [==============================] - 1s 15ms/step - loss: 1.0285 - accuracy: 0.7814 - val_loss: 0.9256 - val_accuracy: 0.8060 - _timestamp: 1648492411.0000 - _runtime: 11.0000\n",
            "Epoch 6/6\n",
            "47/47 [==============================] - 1s 15ms/step - loss: 0.9087 - accuracy: 0.7985 - val_loss: 0.8272 - val_accuracy: 0.8080 - _timestamp: 1648492411.0000 - _runtime: 11.0000\n",
            "\n"
          ]
        },
        {
          "output_type": "display_data",
          "data": {
            "text/plain": [
              "<IPython.core.display.HTML object>"
            ],
            "text/html": [
              "Waiting for W&B process to finish... <strong style=\"color:green\">(success).</strong>"
            ]
          },
          "metadata": {}
        },
        {
          "output_type": "display_data",
          "data": {
            "text/plain": [
              "VBox(children=(Label(value='1.785 MB of 1.785 MB uploaded (0.000 MB deduped)\\r'), FloatProgress(value=1.0, max…"
            ],
            "application/vnd.jupyter.widget-view+json": {
              "version_major": 2,
              "version_minor": 0,
              "model_id": "9820ebdea67c49788b14d85dce24ff25"
            }
          },
          "metadata": {}
        },
        {
          "output_type": "display_data",
          "data": {
            "text/plain": [
              "<IPython.core.display.HTML object>"
            ],
            "text/html": [
              "<style>\n",
              "    table.wandb td:nth-child(1) { padding: 0 10px; text-align: right }\n",
              "    .wandb-row { display: flex; flex-direction: row; flex-wrap: wrap; width: 100% }\n",
              "    .wandb-col { display: flex; flex-direction: column; flex-basis: 100%; flex: 1; padding: 10px; }\n",
              "    </style>\n",
              "<div class=\"wandb-row\"><div class=\"wandb-col\"><h3>Run history:</h3><br/><table class=\"wandb\"><tr><td>accuracy</td><td>▁▅▇▇██</td></tr><tr><td>epoch</td><td>▁▂▄▅▇█</td></tr><tr><td>loss</td><td>█▆▄▃▂▁</td></tr><tr><td>val_accuracy</td><td>▁▆▇███</td></tr><tr><td>val_loss</td><td>█▆▄▃▂▁</td></tr></table><br/></div><div class=\"wandb-col\"><h3>Run summary:</h3><br/><table class=\"wandb\"><tr><td>accuracy</td><td>0.7985</td></tr><tr><td>best_epoch</td><td>5</td></tr><tr><td>best_val_loss</td><td>0.82724</td></tr><tr><td>epoch</td><td>5</td></tr><tr><td>loss</td><td>0.90873</td></tr><tr><td>val_accuracy</td><td>0.808</td></tr><tr><td>val_loss</td><td>0.82724</td></tr></table><br/></div></div>"
            ]
          },
          "metadata": {}
        },
        {
          "output_type": "display_data",
          "data": {
            "text/plain": [
              "<IPython.core.display.HTML object>"
            ],
            "text/html": [
              "Synced <strong style=\"color:#cdcd00\">daily-planet-17</strong>: <a href=\"https://wandb.ai/nsp_team/Assignment-4-weights%20and%20biases/runs/1nxtlxbd\" target=\"_blank\">https://wandb.ai/nsp_team/Assignment-4-weights%20and%20biases/runs/1nxtlxbd</a><br/>Synced 5 W&B file(s), 2 media file(s), 1 artifact file(s) and 1 other file(s)"
            ]
          },
          "metadata": {}
        },
        {
          "output_type": "display_data",
          "data": {
            "text/plain": [
              "<IPython.core.display.HTML object>"
            ],
            "text/html": [
              "Find logs at: <code>./wandb/run-20220328_183320-1nxtlxbd/logs</code>"
            ]
          },
          "metadata": {}
        },
        {
          "output_type": "display_data",
          "data": {
            "text/plain": [
              "<IPython.core.display.HTML object>"
            ],
            "text/html": [
              "Tracking run with wandb version 0.12.11"
            ]
          },
          "metadata": {}
        },
        {
          "output_type": "display_data",
          "data": {
            "text/plain": [
              "<IPython.core.display.HTML object>"
            ],
            "text/html": [
              "Run data is saved locally in <code>/content/wandb/run-20220328_183338-2sihzrrm</code>"
            ]
          },
          "metadata": {}
        },
        {
          "output_type": "display_data",
          "data": {
            "text/plain": [
              "<IPython.core.display.HTML object>"
            ],
            "text/html": [
              "Syncing run <strong><a href=\"https://wandb.ai/nsp_team/Assignment-4-weights%20and%20biases/runs/2sihzrrm\" target=\"_blank\">skilled-vortex-18</a></strong> to <a href=\"https://wandb.ai/nsp_team/Assignment-4-weights%20and%20biases\" target=\"_blank\">Weights & Biases</a> (<a href=\"https://wandb.me/run\" target=\"_blank\">docs</a>)<br/>"
            ]
          },
          "metadata": {}
        },
        {
          "output_type": "stream",
          "name": "stdout",
          "text": [
            "Epoch 1/6\n",
            "47/47 [==============================] - 1s 18ms/step - loss: 2.1110 - accuracy: 0.2739 - val_loss: 1.8395 - val_accuracy: 0.5560 - _timestamp: 1648492425.0000 - _runtime: 7.0000\n",
            "Epoch 2/6\n",
            "47/47 [==============================] - 1s 14ms/step - loss: 1.6989 - accuracy: 0.5544 - val_loss: 1.4895 - val_accuracy: 0.7140 - _timestamp: 1648492425.0000 - _runtime: 7.0000\n",
            "Epoch 3/6\n",
            "47/47 [==============================] - 1s 14ms/step - loss: 1.4027 - accuracy: 0.6695 - val_loss: 1.2348 - val_accuracy: 0.7780 - _timestamp: 1648492426.0000 - _runtime: 8.0000\n",
            "Epoch 4/6\n",
            "47/47 [==============================] - 1s 15ms/step - loss: 1.1937 - accuracy: 0.7214 - val_loss: 1.0535 - val_accuracy: 0.8000 - _timestamp: 1648492427.0000 - _runtime: 9.0000\n",
            "Epoch 5/6\n",
            "47/47 [==============================] - 1s 15ms/step - loss: 1.0406 - accuracy: 0.7599 - val_loss: 0.9247 - val_accuracy: 0.8080 - _timestamp: 1648492428.0000 - _runtime: 10.0000\n",
            "Epoch 6/6\n",
            "47/47 [==============================] - 1s 15ms/step - loss: 0.9367 - accuracy: 0.7768 - val_loss: 0.8315 - val_accuracy: 0.8160 - _timestamp: 1648492428.0000 - _runtime: 10.0000\n",
            "\n"
          ]
        },
        {
          "output_type": "display_data",
          "data": {
            "text/plain": [
              "<IPython.core.display.HTML object>"
            ],
            "text/html": [
              "Waiting for W&B process to finish... <strong style=\"color:green\">(success).</strong>"
            ]
          },
          "metadata": {}
        },
        {
          "output_type": "display_data",
          "data": {
            "text/plain": [
              "VBox(children=(Label(value='1.784 MB of 1.784 MB uploaded (0.000 MB deduped)\\r'), FloatProgress(value=1.0, max…"
            ],
            "application/vnd.jupyter.widget-view+json": {
              "version_major": 2,
              "version_minor": 0,
              "model_id": "ab7b41ac3ce84a5aa31aa4751aa3719e"
            }
          },
          "metadata": {}
        },
        {
          "output_type": "display_data",
          "data": {
            "text/plain": [
              "<IPython.core.display.HTML object>"
            ],
            "text/html": [
              "<style>\n",
              "    table.wandb td:nth-child(1) { padding: 0 10px; text-align: right }\n",
              "    .wandb-row { display: flex; flex-direction: row; flex-wrap: wrap; width: 100% }\n",
              "    .wandb-col { display: flex; flex-direction: column; flex-basis: 100%; flex: 1; padding: 10px; }\n",
              "    </style>\n",
              "<div class=\"wandb-row\"><div class=\"wandb-col\"><h3>Run history:</h3><br/><table class=\"wandb\"><tr><td>accuracy</td><td>▁▅▇▇██</td></tr><tr><td>epoch</td><td>▁▂▄▅▇█</td></tr><tr><td>loss</td><td>█▆▄▃▂▁</td></tr><tr><td>val_accuracy</td><td>▁▅▇███</td></tr><tr><td>val_loss</td><td>█▆▄▃▂▁</td></tr></table><br/></div><div class=\"wandb-col\"><h3>Run summary:</h3><br/><table class=\"wandb\"><tr><td>accuracy</td><td>0.77683</td></tr><tr><td>best_epoch</td><td>5</td></tr><tr><td>best_val_loss</td><td>0.83147</td></tr><tr><td>epoch</td><td>5</td></tr><tr><td>loss</td><td>0.93666</td></tr><tr><td>val_accuracy</td><td>0.816</td></tr><tr><td>val_loss</td><td>0.83147</td></tr></table><br/></div></div>"
            ]
          },
          "metadata": {}
        },
        {
          "output_type": "display_data",
          "data": {
            "text/plain": [
              "<IPython.core.display.HTML object>"
            ],
            "text/html": [
              "Synced <strong style=\"color:#cdcd00\">skilled-vortex-18</strong>: <a href=\"https://wandb.ai/nsp_team/Assignment-4-weights%20and%20biases/runs/2sihzrrm\" target=\"_blank\">https://wandb.ai/nsp_team/Assignment-4-weights%20and%20biases/runs/2sihzrrm</a><br/>Synced 5 W&B file(s), 2 media file(s), 1 artifact file(s) and 1 other file(s)"
            ]
          },
          "metadata": {}
        },
        {
          "output_type": "display_data",
          "data": {
            "text/plain": [
              "<IPython.core.display.HTML object>"
            ],
            "text/html": [
              "Find logs at: <code>./wandb/run-20220328_183338-2sihzrrm/logs</code>"
            ]
          },
          "metadata": {}
        },
        {
          "output_type": "display_data",
          "data": {
            "text/plain": [
              "<IPython.core.display.HTML object>"
            ],
            "text/html": [
              "Tracking run with wandb version 0.12.11"
            ]
          },
          "metadata": {}
        },
        {
          "output_type": "display_data",
          "data": {
            "text/plain": [
              "<IPython.core.display.HTML object>"
            ],
            "text/html": [
              "Run data is saved locally in <code>/content/wandb/run-20220328_183354-16cwuluz</code>"
            ]
          },
          "metadata": {}
        },
        {
          "output_type": "display_data",
          "data": {
            "text/plain": [
              "<IPython.core.display.HTML object>"
            ],
            "text/html": [
              "Syncing run <strong><a href=\"https://wandb.ai/nsp_team/Assignment-4-weights%20and%20biases/runs/16cwuluz\" target=\"_blank\">glad-plasma-19</a></strong> to <a href=\"https://wandb.ai/nsp_team/Assignment-4-weights%20and%20biases\" target=\"_blank\">Weights & Biases</a> (<a href=\"https://wandb.me/run\" target=\"_blank\">docs</a>)<br/>"
            ]
          },
          "metadata": {}
        },
        {
          "output_type": "stream",
          "name": "stdout",
          "text": [
            "Epoch 1/6\n",
            "47/47 [==============================] - 1s 18ms/step - loss: 2.1049 - accuracy: 0.3056 - val_loss: 1.8637 - val_accuracy: 0.5600 - _timestamp: 1648492442.0000 - _runtime: 8.0000\n",
            "Epoch 2/6\n",
            "47/47 [==============================] - 1s 15ms/step - loss: 1.6933 - accuracy: 0.6195 - val_loss: 1.5076 - val_accuracy: 0.7580 - _timestamp: 1648492442.0000 - _runtime: 8.0000\n",
            "Epoch 3/6\n",
            "47/47 [==============================] - 1s 15ms/step - loss: 1.3922 - accuracy: 0.7270 - val_loss: 1.2390 - val_accuracy: 0.7920 - _timestamp: 1648492443.0000 - _runtime: 9.0000\n",
            "Epoch 4/6\n",
            "47/47 [==============================] - 1s 15ms/step - loss: 1.1675 - accuracy: 0.7712 - val_loss: 1.0475 - val_accuracy: 0.8200 - _timestamp: 1648492444.0000 - _runtime: 10.0000\n",
            "Epoch 5/6\n",
            "47/47 [==============================] - 1s 15ms/step - loss: 1.0081 - accuracy: 0.7993 - val_loss: 0.9124 - val_accuracy: 0.8300 - _timestamp: 1648492444.0000 - _runtime: 10.0000\n",
            "Epoch 6/6\n",
            "47/47 [==============================] - 1s 15ms/step - loss: 0.8960 - accuracy: 0.8114 - val_loss: 0.8148 - val_accuracy: 0.8360 - _timestamp: 1648492445.0000 - _runtime: 11.0000\n",
            "\n"
          ]
        },
        {
          "output_type": "display_data",
          "data": {
            "text/plain": [
              "<IPython.core.display.HTML object>"
            ],
            "text/html": [
              "Waiting for W&B process to finish... <strong style=\"color:green\">(success).</strong>"
            ]
          },
          "metadata": {}
        },
        {
          "output_type": "display_data",
          "data": {
            "text/plain": [
              "VBox(children=(Label(value='1.784 MB of 1.784 MB uploaded (0.000 MB deduped)\\r'), FloatProgress(value=1.0, max…"
            ],
            "application/vnd.jupyter.widget-view+json": {
              "version_major": 2,
              "version_minor": 0,
              "model_id": "f7bc54a469a048aeacd80c4699cfdd9d"
            }
          },
          "metadata": {}
        },
        {
          "output_type": "display_data",
          "data": {
            "text/plain": [
              "<IPython.core.display.HTML object>"
            ],
            "text/html": [
              "<style>\n",
              "    table.wandb td:nth-child(1) { padding: 0 10px; text-align: right }\n",
              "    .wandb-row { display: flex; flex-direction: row; flex-wrap: wrap; width: 100% }\n",
              "    .wandb-col { display: flex; flex-direction: column; flex-basis: 100%; flex: 1; padding: 10px; }\n",
              "    </style>\n",
              "<div class=\"wandb-row\"><div class=\"wandb-col\"><h3>Run history:</h3><br/><table class=\"wandb\"><tr><td>accuracy</td><td>▁▅▇▇██</td></tr><tr><td>epoch</td><td>▁▂▄▅▇█</td></tr><tr><td>loss</td><td>█▆▄▃▂▁</td></tr><tr><td>val_accuracy</td><td>▁▆▇███</td></tr><tr><td>val_loss</td><td>█▆▄▃▂▁</td></tr></table><br/></div><div class=\"wandb-col\"><h3>Run summary:</h3><br/><table class=\"wandb\"><tr><td>accuracy</td><td>0.81142</td></tr><tr><td>best_epoch</td><td>5</td></tr><tr><td>best_val_loss</td><td>0.81481</td></tr><tr><td>epoch</td><td>5</td></tr><tr><td>loss</td><td>0.89597</td></tr><tr><td>val_accuracy</td><td>0.836</td></tr><tr><td>val_loss</td><td>0.81481</td></tr></table><br/></div></div>"
            ]
          },
          "metadata": {}
        },
        {
          "output_type": "display_data",
          "data": {
            "text/plain": [
              "<IPython.core.display.HTML object>"
            ],
            "text/html": [
              "Synced <strong style=\"color:#cdcd00\">glad-plasma-19</strong>: <a href=\"https://wandb.ai/nsp_team/Assignment-4-weights%20and%20biases/runs/16cwuluz\" target=\"_blank\">https://wandb.ai/nsp_team/Assignment-4-weights%20and%20biases/runs/16cwuluz</a><br/>Synced 5 W&B file(s), 2 media file(s), 1 artifact file(s) and 1 other file(s)"
            ]
          },
          "metadata": {}
        },
        {
          "output_type": "display_data",
          "data": {
            "text/plain": [
              "<IPython.core.display.HTML object>"
            ],
            "text/html": [
              "Find logs at: <code>./wandb/run-20220328_183354-16cwuluz/logs</code>"
            ]
          },
          "metadata": {}
        },
        {
          "output_type": "display_data",
          "data": {
            "text/plain": [
              "<IPython.core.display.HTML object>"
            ],
            "text/html": [
              "Tracking run with wandb version 0.12.11"
            ]
          },
          "metadata": {}
        },
        {
          "output_type": "display_data",
          "data": {
            "text/plain": [
              "<IPython.core.display.HTML object>"
            ],
            "text/html": [
              "Run data is saved locally in <code>/content/wandb/run-20220328_183411-3vaprm9p</code>"
            ]
          },
          "metadata": {}
        },
        {
          "output_type": "display_data",
          "data": {
            "text/plain": [
              "<IPython.core.display.HTML object>"
            ],
            "text/html": [
              "Syncing run <strong><a href=\"https://wandb.ai/nsp_team/Assignment-4-weights%20and%20biases/runs/3vaprm9p\" target=\"_blank\">cerulean-blaze-20</a></strong> to <a href=\"https://wandb.ai/nsp_team/Assignment-4-weights%20and%20biases\" target=\"_blank\">Weights & Biases</a> (<a href=\"https://wandb.me/run\" target=\"_blank\">docs</a>)<br/>"
            ]
          },
          "metadata": {}
        },
        {
          "output_type": "stream",
          "name": "stdout",
          "text": [
            "Epoch 1/6\n",
            "47/47 [==============================] - 1s 18ms/step - loss: 2.1249 - accuracy: 0.2856 - val_loss: 1.8766 - val_accuracy: 0.5620 - _timestamp: 1648492459.0000 - _runtime: 7.0000\n",
            "Epoch 2/6\n",
            "47/47 [==============================] - 1s 15ms/step - loss: 1.7097 - accuracy: 0.6122 - val_loss: 1.5250 - val_accuracy: 0.7380 - _timestamp: 1648492459.0000 - _runtime: 7.0000\n",
            "Epoch 3/6\n",
            "47/47 [==============================] - 1s 16ms/step - loss: 1.4109 - accuracy: 0.7143 - val_loss: 1.2606 - val_accuracy: 0.7780 - _timestamp: 1648492460.0000 - _runtime: 8.0000\n",
            "Epoch 4/6\n",
            "47/47 [==============================] - 1s 15ms/step - loss: 1.1883 - accuracy: 0.7574 - val_loss: 1.0702 - val_accuracy: 0.7980 - _timestamp: 1648492461.0000 - _runtime: 9.0000\n",
            "Epoch 5/6\n",
            "47/47 [==============================] - 1s 15ms/step - loss: 1.0279 - accuracy: 0.7883 - val_loss: 0.9332 - val_accuracy: 0.8060 - _timestamp: 1648492462.0000 - _runtime: 10.0000\n",
            "Epoch 6/6\n",
            "47/47 [==============================] - 1s 15ms/step - loss: 0.9103 - accuracy: 0.8058 - val_loss: 0.8345 - val_accuracy: 0.8180 - _timestamp: 1648492462.0000 - _runtime: 10.0000\n",
            "\n"
          ]
        },
        {
          "output_type": "display_data",
          "data": {
            "text/plain": [
              "<IPython.core.display.HTML object>"
            ],
            "text/html": [
              "Waiting for W&B process to finish... <strong style=\"color:green\">(success).</strong>"
            ]
          },
          "metadata": {}
        },
        {
          "output_type": "display_data",
          "data": {
            "text/plain": [
              "VBox(children=(Label(value='1.784 MB of 1.784 MB uploaded (0.000 MB deduped)\\r'), FloatProgress(value=1.0, max…"
            ],
            "application/vnd.jupyter.widget-view+json": {
              "version_major": 2,
              "version_minor": 0,
              "model_id": "f8b90304fd8149d7a2d93774cf65f0b8"
            }
          },
          "metadata": {}
        },
        {
          "output_type": "display_data",
          "data": {
            "text/plain": [
              "<IPython.core.display.HTML object>"
            ],
            "text/html": [
              "<style>\n",
              "    table.wandb td:nth-child(1) { padding: 0 10px; text-align: right }\n",
              "    .wandb-row { display: flex; flex-direction: row; flex-wrap: wrap; width: 100% }\n",
              "    .wandb-col { display: flex; flex-direction: column; flex-basis: 100%; flex: 1; padding: 10px; }\n",
              "    </style>\n",
              "<div class=\"wandb-row\"><div class=\"wandb-col\"><h3>Run history:</h3><br/><table class=\"wandb\"><tr><td>accuracy</td><td>▁▅▇▇██</td></tr><tr><td>epoch</td><td>▁▂▄▅▇█</td></tr><tr><td>loss</td><td>█▆▄▃▂▁</td></tr><tr><td>val_accuracy</td><td>▁▆▇▇██</td></tr><tr><td>val_loss</td><td>█▆▄▃▂▁</td></tr></table><br/></div><div class=\"wandb-col\"><h3>Run summary:</h3><br/><table class=\"wandb\"><tr><td>accuracy</td><td>0.80583</td></tr><tr><td>best_epoch</td><td>5</td></tr><tr><td>best_val_loss</td><td>0.83448</td></tr><tr><td>epoch</td><td>5</td></tr><tr><td>loss</td><td>0.91033</td></tr><tr><td>val_accuracy</td><td>0.818</td></tr><tr><td>val_loss</td><td>0.83448</td></tr></table><br/></div></div>"
            ]
          },
          "metadata": {}
        },
        {
          "output_type": "display_data",
          "data": {
            "text/plain": [
              "<IPython.core.display.HTML object>"
            ],
            "text/html": [
              "Synced <strong style=\"color:#cdcd00\">cerulean-blaze-20</strong>: <a href=\"https://wandb.ai/nsp_team/Assignment-4-weights%20and%20biases/runs/3vaprm9p\" target=\"_blank\">https://wandb.ai/nsp_team/Assignment-4-weights%20and%20biases/runs/3vaprm9p</a><br/>Synced 5 W&B file(s), 2 media file(s), 1 artifact file(s) and 1 other file(s)"
            ]
          },
          "metadata": {}
        },
        {
          "output_type": "display_data",
          "data": {
            "text/plain": [
              "<IPython.core.display.HTML object>"
            ],
            "text/html": [
              "Find logs at: <code>./wandb/run-20220328_183411-3vaprm9p/logs</code>"
            ]
          },
          "metadata": {}
        }
      ]
    },
    {
      "cell_type": "markdown",
      "source": [
        "![Screenshot 2022-03-28 120859.png](data:image/png;base64,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)"
      ],
      "metadata": {
        "id": "tBSDnuz27vO6"
      }
    },
    {
      "cell_type": "markdown",
      "source": [
        "![Screenshot 2022-03-28 121022.png](data:image/png;base64,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)"
      ],
      "metadata": {
        "id": "9aHcak2y7zxQ"
      }
    }
  ]
}